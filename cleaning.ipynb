{
 "cells": [
  {
   "cell_type": "code",
   "execution_count": 78,
   "id": "initial_id",
   "metadata": {
    "collapsed": true,
    "ExecuteTime": {
     "end_time": "2024-02-17T23:03:08.341267600Z",
     "start_time": "2024-02-17T23:03:08.284841Z"
    }
   },
   "outputs": [],
   "source": [
    "import pandas as pd\n",
    "import numpy as np"
   ]
  },
  {
   "cell_type": "code",
   "outputs": [
    {
     "data": {
      "text/plain": "      ID_ZLECENIA_PALONA                  DTZAPIS ILOSC_PALONA  NUMERZASYPU  \\\n0                1206810  2024-01-10 09:06:00.880            0            8   \n1                1206809  2024-01-10 08:59:02.527            0            9   \n2                1206808  2024-01-10 08:57:40.677            0            7   \n3                1206807  2024-01-10 08:49:11.593            0            6   \n4                1206806  2024-01-10 08:48:14.330            0            8   \n...                  ...                      ...          ...          ...   \n9995             1196814  2023-11-20 03:12:48.087          251           12   \n9996             1196813  2023-11-20 03:09:00.397        505,1            7   \n9997             1196812  2023-11-20 03:04:52.260        251,9           11   \n9998             1196811  2023-11-20 03:00:06.253        505,9            6   \n9999             1196810  2023-11-20 02:51:39.743        508,1            5   \n\n      IDZLECENIE  NUMERPIECA  Anulowany  Zagubiona SUMA_ZIELONEJ  \\\n0         138624        4000          0        NaN             0   \n1         138623        3000          0        NaN             0   \n2         138624        4000          0        NaN             0   \n3         138624        4000          0        NaN         600,1   \n4         138623        3000          0        NaN         400,3   \n...          ...         ...        ...        ...           ...   \n9995      137655        3000          0        NaN           300   \n9996      137656        4000          0        NaN         600,1   \n9997      137655        3000          0        NaN         291,1   \n9998      137656        4000          0        NaN           600   \n9999      137656        4000          0        NaN         600,2   \n\n      QuantityError  ... im3_unit_name  ikWh_consumption  im3_consumption  \\\n0                 1  ...           NaN               NaN              NaN   \n1                 1  ...           NaN               NaN              NaN   \n2                 1  ...           NaN               NaN              NaN   \n3                 1  ...            m3               4.0            474.0   \n4                 1  ...            m3              23.0              8.0   \n...             ...  ...           ...               ...              ...   \n9995              0  ...            m3              13.0              9.0   \n9996              0  ...            m3              11.0           1301.0   \n9997              0  ...            m3              12.0              9.0   \n9998              0  ...            m3              11.0           1307.0   \n9999              0  ...            m3              12.0           1292.0   \n\n      ikWh_counter1_start ikWh_counter1_finish  ikWh_multiplier1  \\\n0                     NaN                  NaN               NaN   \n1                     NaN                  NaN               NaN   \n2                     NaN                  NaN               NaN   \n3              10921971.0           10922040.0              0,01   \n4                     NaN                  NaN               NaN   \n...                   ...                  ...               ...   \n9995                  NaN                  NaN               NaN   \n9996            9740934.0            9741095.0              0,01   \n9997                  NaN                  NaN               NaN   \n9998            9740751.0            9740900.0              0,01   \n9999            9740431.0            9740653.0              0,01   \n\n      ikWh_unit_name1  ikWh_consumption1  ikWh_total_consumption  \\\n0                 NaN                NaN                       0   \n1                 NaN                NaN                       0   \n2                 NaN                NaN                       0   \n3                 kWh               0,69                    4,69   \n4                 NaN                NaN                      23   \n...               ...                ...                     ...   \n9995              NaN                NaN                      13   \n9996              kWh               1,61                   12,61   \n9997              NaN                NaN                      12   \n9998              kWh               1,49                   12,49   \n9999              kWh               2,22                   14,22   \n\n     lTriggerCounter  \n0                NaN  \n1                NaN  \n2                NaN  \n3                NaN  \n4                NaN  \n...              ...  \n9995           765.0  \n9996          7144.0  \n9997           763.0  \n9998          7143.0  \n9999          7142.0  \n\n[10000 rows x 38 columns]",
      "text/html": "<div>\n<style scoped>\n    .dataframe tbody tr th:only-of-type {\n        vertical-align: middle;\n    }\n\n    .dataframe tbody tr th {\n        vertical-align: top;\n    }\n\n    .dataframe thead th {\n        text-align: right;\n    }\n</style>\n<table border=\"1\" class=\"dataframe\">\n  <thead>\n    <tr style=\"text-align: right;\">\n      <th></th>\n      <th>ID_ZLECENIA_PALONA</th>\n      <th>DTZAPIS</th>\n      <th>ILOSC_PALONA</th>\n      <th>NUMERZASYPU</th>\n      <th>IDZLECENIE</th>\n      <th>NUMERPIECA</th>\n      <th>Anulowany</th>\n      <th>Zagubiona</th>\n      <th>SUMA_ZIELONEJ</th>\n      <th>QuantityError</th>\n      <th>...</th>\n      <th>im3_unit_name</th>\n      <th>ikWh_consumption</th>\n      <th>im3_consumption</th>\n      <th>ikWh_counter1_start</th>\n      <th>ikWh_counter1_finish</th>\n      <th>ikWh_multiplier1</th>\n      <th>ikWh_unit_name1</th>\n      <th>ikWh_consumption1</th>\n      <th>ikWh_total_consumption</th>\n      <th>lTriggerCounter</th>\n    </tr>\n  </thead>\n  <tbody>\n    <tr>\n      <th>0</th>\n      <td>1206810</td>\n      <td>2024-01-10 09:06:00.880</td>\n      <td>0</td>\n      <td>8</td>\n      <td>138624</td>\n      <td>4000</td>\n      <td>0</td>\n      <td>NaN</td>\n      <td>0</td>\n      <td>1</td>\n      <td>...</td>\n      <td>NaN</td>\n      <td>NaN</td>\n      <td>NaN</td>\n      <td>NaN</td>\n      <td>NaN</td>\n      <td>NaN</td>\n      <td>NaN</td>\n      <td>NaN</td>\n      <td>0</td>\n      <td>NaN</td>\n    </tr>\n    <tr>\n      <th>1</th>\n      <td>1206809</td>\n      <td>2024-01-10 08:59:02.527</td>\n      <td>0</td>\n      <td>9</td>\n      <td>138623</td>\n      <td>3000</td>\n      <td>0</td>\n      <td>NaN</td>\n      <td>0</td>\n      <td>1</td>\n      <td>...</td>\n      <td>NaN</td>\n      <td>NaN</td>\n      <td>NaN</td>\n      <td>NaN</td>\n      <td>NaN</td>\n      <td>NaN</td>\n      <td>NaN</td>\n      <td>NaN</td>\n      <td>0</td>\n      <td>NaN</td>\n    </tr>\n    <tr>\n      <th>2</th>\n      <td>1206808</td>\n      <td>2024-01-10 08:57:40.677</td>\n      <td>0</td>\n      <td>7</td>\n      <td>138624</td>\n      <td>4000</td>\n      <td>0</td>\n      <td>NaN</td>\n      <td>0</td>\n      <td>1</td>\n      <td>...</td>\n      <td>NaN</td>\n      <td>NaN</td>\n      <td>NaN</td>\n      <td>NaN</td>\n      <td>NaN</td>\n      <td>NaN</td>\n      <td>NaN</td>\n      <td>NaN</td>\n      <td>0</td>\n      <td>NaN</td>\n    </tr>\n    <tr>\n      <th>3</th>\n      <td>1206807</td>\n      <td>2024-01-10 08:49:11.593</td>\n      <td>0</td>\n      <td>6</td>\n      <td>138624</td>\n      <td>4000</td>\n      <td>0</td>\n      <td>NaN</td>\n      <td>600,1</td>\n      <td>1</td>\n      <td>...</td>\n      <td>m3</td>\n      <td>4.0</td>\n      <td>474.0</td>\n      <td>10921971.0</td>\n      <td>10922040.0</td>\n      <td>0,01</td>\n      <td>kWh</td>\n      <td>0,69</td>\n      <td>4,69</td>\n      <td>NaN</td>\n    </tr>\n    <tr>\n      <th>4</th>\n      <td>1206806</td>\n      <td>2024-01-10 08:48:14.330</td>\n      <td>0</td>\n      <td>8</td>\n      <td>138623</td>\n      <td>3000</td>\n      <td>0</td>\n      <td>NaN</td>\n      <td>400,3</td>\n      <td>1</td>\n      <td>...</td>\n      <td>m3</td>\n      <td>23.0</td>\n      <td>8.0</td>\n      <td>NaN</td>\n      <td>NaN</td>\n      <td>NaN</td>\n      <td>NaN</td>\n      <td>NaN</td>\n      <td>23</td>\n      <td>NaN</td>\n    </tr>\n    <tr>\n      <th>...</th>\n      <td>...</td>\n      <td>...</td>\n      <td>...</td>\n      <td>...</td>\n      <td>...</td>\n      <td>...</td>\n      <td>...</td>\n      <td>...</td>\n      <td>...</td>\n      <td>...</td>\n      <td>...</td>\n      <td>...</td>\n      <td>...</td>\n      <td>...</td>\n      <td>...</td>\n      <td>...</td>\n      <td>...</td>\n      <td>...</td>\n      <td>...</td>\n      <td>...</td>\n      <td>...</td>\n    </tr>\n    <tr>\n      <th>9995</th>\n      <td>1196814</td>\n      <td>2023-11-20 03:12:48.087</td>\n      <td>251</td>\n      <td>12</td>\n      <td>137655</td>\n      <td>3000</td>\n      <td>0</td>\n      <td>NaN</td>\n      <td>300</td>\n      <td>0</td>\n      <td>...</td>\n      <td>m3</td>\n      <td>13.0</td>\n      <td>9.0</td>\n      <td>NaN</td>\n      <td>NaN</td>\n      <td>NaN</td>\n      <td>NaN</td>\n      <td>NaN</td>\n      <td>13</td>\n      <td>765.0</td>\n    </tr>\n    <tr>\n      <th>9996</th>\n      <td>1196813</td>\n      <td>2023-11-20 03:09:00.397</td>\n      <td>505,1</td>\n      <td>7</td>\n      <td>137656</td>\n      <td>4000</td>\n      <td>0</td>\n      <td>NaN</td>\n      <td>600,1</td>\n      <td>0</td>\n      <td>...</td>\n      <td>m3</td>\n      <td>11.0</td>\n      <td>1301.0</td>\n      <td>9740934.0</td>\n      <td>9741095.0</td>\n      <td>0,01</td>\n      <td>kWh</td>\n      <td>1,61</td>\n      <td>12,61</td>\n      <td>7144.0</td>\n    </tr>\n    <tr>\n      <th>9997</th>\n      <td>1196812</td>\n      <td>2023-11-20 03:04:52.260</td>\n      <td>251,9</td>\n      <td>11</td>\n      <td>137655</td>\n      <td>3000</td>\n      <td>0</td>\n      <td>NaN</td>\n      <td>291,1</td>\n      <td>0</td>\n      <td>...</td>\n      <td>m3</td>\n      <td>12.0</td>\n      <td>9.0</td>\n      <td>NaN</td>\n      <td>NaN</td>\n      <td>NaN</td>\n      <td>NaN</td>\n      <td>NaN</td>\n      <td>12</td>\n      <td>763.0</td>\n    </tr>\n    <tr>\n      <th>9998</th>\n      <td>1196811</td>\n      <td>2023-11-20 03:00:06.253</td>\n      <td>505,9</td>\n      <td>6</td>\n      <td>137656</td>\n      <td>4000</td>\n      <td>0</td>\n      <td>NaN</td>\n      <td>600</td>\n      <td>0</td>\n      <td>...</td>\n      <td>m3</td>\n      <td>11.0</td>\n      <td>1307.0</td>\n      <td>9740751.0</td>\n      <td>9740900.0</td>\n      <td>0,01</td>\n      <td>kWh</td>\n      <td>1,49</td>\n      <td>12,49</td>\n      <td>7143.0</td>\n    </tr>\n    <tr>\n      <th>9999</th>\n      <td>1196810</td>\n      <td>2023-11-20 02:51:39.743</td>\n      <td>508,1</td>\n      <td>5</td>\n      <td>137656</td>\n      <td>4000</td>\n      <td>0</td>\n      <td>NaN</td>\n      <td>600,2</td>\n      <td>0</td>\n      <td>...</td>\n      <td>m3</td>\n      <td>12.0</td>\n      <td>1292.0</td>\n      <td>9740431.0</td>\n      <td>9740653.0</td>\n      <td>0,01</td>\n      <td>kWh</td>\n      <td>2,22</td>\n      <td>14,22</td>\n      <td>7142.0</td>\n    </tr>\n  </tbody>\n</table>\n<p>10000 rows × 38 columns</p>\n</div>"
     },
     "execution_count": 79,
     "metadata": {},
     "output_type": "execute_result"
    }
   ],
   "source": [
    "jde_data = pd.read_csv('jde_data-part1_raw.csv', sep=';', parse_dates=True)\n",
    "jde_data"
   ],
   "metadata": {
    "collapsed": false,
    "ExecuteTime": {
     "end_time": "2024-02-17T23:03:08.915943900Z",
     "start_time": "2024-02-17T23:03:08.798330400Z"
    }
   },
   "id": "4cbeb550f3337268",
   "execution_count": 79
  },
  {
   "cell_type": "code",
   "outputs": [],
   "source": [
    "columns_to_drop = []"
   ],
   "metadata": {
    "collapsed": false,
    "ExecuteTime": {
     "end_time": "2024-02-17T23:03:09.470408500Z",
     "start_time": "2024-02-17T23:03:09.450460600Z"
    }
   },
   "id": "431dce3d24747f53",
   "execution_count": 80
  },
  {
   "cell_type": "code",
   "outputs": [
    {
     "data": {
      "text/plain": "   ID_ZLECENIA_PALONA                  DTZAPIS ILOSC_PALONA  NUMERZASYPU  \\\n0             1206810  2024-01-10 09:06:00.880            0            8   \n1             1206809  2024-01-10 08:59:02.527            0            9   \n2             1206808  2024-01-10 08:57:40.677            0            7   \n3             1206807  2024-01-10 08:49:11.593            0            6   \n4             1206806  2024-01-10 08:48:14.330            0            8   \n\n   IDZLECENIE  NUMERPIECA  Anulowany  Zagubiona SUMA_ZIELONEJ  QuantityError  \\\n0      138624        4000          0        NaN             0              1   \n1      138623        3000          0        NaN             0              1   \n2      138624        4000          0        NaN             0              1   \n3      138624        4000          0        NaN         600,1              1   \n4      138623        3000          0        NaN         400,3              1   \n\n   ... im3_unit_name  ikWh_consumption  im3_consumption  ikWh_counter1_start  \\\n0  ...           NaN               NaN              NaN                  NaN   \n1  ...           NaN               NaN              NaN                  NaN   \n2  ...           NaN               NaN              NaN                  NaN   \n3  ...            m3               4.0            474.0           10921971.0   \n4  ...            m3              23.0              8.0                  NaN   \n\n  ikWh_counter1_finish  ikWh_multiplier1  ikWh_unit_name1  ikWh_consumption1  \\\n0                  NaN               NaN              NaN                NaN   \n1                  NaN               NaN              NaN                NaN   \n2                  NaN               NaN              NaN                NaN   \n3           10922040.0              0,01              kWh               0,69   \n4                  NaN               NaN              NaN                NaN   \n\n   ikWh_total_consumption lTriggerCounter  \n0                       0             NaN  \n1                       0             NaN  \n2                       0             NaN  \n3                    4,69             NaN  \n4                      23             NaN  \n\n[5 rows x 38 columns]",
      "text/html": "<div>\n<style scoped>\n    .dataframe tbody tr th:only-of-type {\n        vertical-align: middle;\n    }\n\n    .dataframe tbody tr th {\n        vertical-align: top;\n    }\n\n    .dataframe thead th {\n        text-align: right;\n    }\n</style>\n<table border=\"1\" class=\"dataframe\">\n  <thead>\n    <tr style=\"text-align: right;\">\n      <th></th>\n      <th>ID_ZLECENIA_PALONA</th>\n      <th>DTZAPIS</th>\n      <th>ILOSC_PALONA</th>\n      <th>NUMERZASYPU</th>\n      <th>IDZLECENIE</th>\n      <th>NUMERPIECA</th>\n      <th>Anulowany</th>\n      <th>Zagubiona</th>\n      <th>SUMA_ZIELONEJ</th>\n      <th>QuantityError</th>\n      <th>...</th>\n      <th>im3_unit_name</th>\n      <th>ikWh_consumption</th>\n      <th>im3_consumption</th>\n      <th>ikWh_counter1_start</th>\n      <th>ikWh_counter1_finish</th>\n      <th>ikWh_multiplier1</th>\n      <th>ikWh_unit_name1</th>\n      <th>ikWh_consumption1</th>\n      <th>ikWh_total_consumption</th>\n      <th>lTriggerCounter</th>\n    </tr>\n  </thead>\n  <tbody>\n    <tr>\n      <th>0</th>\n      <td>1206810</td>\n      <td>2024-01-10 09:06:00.880</td>\n      <td>0</td>\n      <td>8</td>\n      <td>138624</td>\n      <td>4000</td>\n      <td>0</td>\n      <td>NaN</td>\n      <td>0</td>\n      <td>1</td>\n      <td>...</td>\n      <td>NaN</td>\n      <td>NaN</td>\n      <td>NaN</td>\n      <td>NaN</td>\n      <td>NaN</td>\n      <td>NaN</td>\n      <td>NaN</td>\n      <td>NaN</td>\n      <td>0</td>\n      <td>NaN</td>\n    </tr>\n    <tr>\n      <th>1</th>\n      <td>1206809</td>\n      <td>2024-01-10 08:59:02.527</td>\n      <td>0</td>\n      <td>9</td>\n      <td>138623</td>\n      <td>3000</td>\n      <td>0</td>\n      <td>NaN</td>\n      <td>0</td>\n      <td>1</td>\n      <td>...</td>\n      <td>NaN</td>\n      <td>NaN</td>\n      <td>NaN</td>\n      <td>NaN</td>\n      <td>NaN</td>\n      <td>NaN</td>\n      <td>NaN</td>\n      <td>NaN</td>\n      <td>0</td>\n      <td>NaN</td>\n    </tr>\n    <tr>\n      <th>2</th>\n      <td>1206808</td>\n      <td>2024-01-10 08:57:40.677</td>\n      <td>0</td>\n      <td>7</td>\n      <td>138624</td>\n      <td>4000</td>\n      <td>0</td>\n      <td>NaN</td>\n      <td>0</td>\n      <td>1</td>\n      <td>...</td>\n      <td>NaN</td>\n      <td>NaN</td>\n      <td>NaN</td>\n      <td>NaN</td>\n      <td>NaN</td>\n      <td>NaN</td>\n      <td>NaN</td>\n      <td>NaN</td>\n      <td>0</td>\n      <td>NaN</td>\n    </tr>\n    <tr>\n      <th>3</th>\n      <td>1206807</td>\n      <td>2024-01-10 08:49:11.593</td>\n      <td>0</td>\n      <td>6</td>\n      <td>138624</td>\n      <td>4000</td>\n      <td>0</td>\n      <td>NaN</td>\n      <td>600,1</td>\n      <td>1</td>\n      <td>...</td>\n      <td>m3</td>\n      <td>4.0</td>\n      <td>474.0</td>\n      <td>10921971.0</td>\n      <td>10922040.0</td>\n      <td>0,01</td>\n      <td>kWh</td>\n      <td>0,69</td>\n      <td>4,69</td>\n      <td>NaN</td>\n    </tr>\n    <tr>\n      <th>4</th>\n      <td>1206806</td>\n      <td>2024-01-10 08:48:14.330</td>\n      <td>0</td>\n      <td>8</td>\n      <td>138623</td>\n      <td>3000</td>\n      <td>0</td>\n      <td>NaN</td>\n      <td>400,3</td>\n      <td>1</td>\n      <td>...</td>\n      <td>m3</td>\n      <td>23.0</td>\n      <td>8.0</td>\n      <td>NaN</td>\n      <td>NaN</td>\n      <td>NaN</td>\n      <td>NaN</td>\n      <td>NaN</td>\n      <td>23</td>\n      <td>NaN</td>\n    </tr>\n  </tbody>\n</table>\n<p>5 rows × 38 columns</p>\n</div>"
     },
     "execution_count": 81,
     "metadata": {},
     "output_type": "execute_result"
    }
   ],
   "source": [
    "jde_data.head()"
   ],
   "metadata": {
    "collapsed": false,
    "ExecuteTime": {
     "end_time": "2024-02-17T23:03:09.528518500Z",
     "start_time": "2024-02-17T23:03:09.473401Z"
    }
   },
   "id": "db6ec86e664192a",
   "execution_count": 81
  },
  {
   "cell_type": "code",
   "outputs": [
    {
     "data": {
      "text/plain": "array([ 8,  9,  7,  6,  5,  4,  3,  2,  1, 11, 10, 17, 16, 15, 14, 13, 12,\n       32, 31, 30, 29, 28, 27, 26, 25, 24, 23, 22, 21, 20, 19, 18, 51, 50,\n       49, 48, 47, 46, 45, 44, 43, 42, 41, 40, 39, 38, 37, 36, 35, 34, 33,\n       52, 56, 55, 54, 53], dtype=int64)"
     },
     "execution_count": 82,
     "metadata": {},
     "output_type": "execute_result"
    }
   ],
   "source": [
    "jde_data['NUMERZASYPU'].unique()"
   ],
   "metadata": {
    "collapsed": false,
    "ExecuteTime": {
     "end_time": "2024-02-17T23:03:09.719539300Z",
     "start_time": "2024-02-17T23:03:09.646713300Z"
    }
   },
   "id": "a11bc7d2b3a36f97",
   "execution_count": 82
  },
  {
   "cell_type": "code",
   "outputs": [
    {
     "data": {
      "text/plain": "array([4000, 3000, 2000], dtype=int64)"
     },
     "execution_count": 83,
     "metadata": {},
     "output_type": "execute_result"
    }
   ],
   "source": [
    "jde_data['NUMERPIECA'].unique()"
   ],
   "metadata": {
    "collapsed": false,
    "ExecuteTime": {
     "end_time": "2024-02-17T23:03:10.058846500Z",
     "start_time": "2024-02-17T23:03:09.907545900Z"
    }
   },
   "id": "d12ca9e4c995af83",
   "execution_count": 83
  },
  {
   "cell_type": "code",
   "outputs": [
    {
     "data": {
      "text/plain": "array([0], dtype=int64)"
     },
     "execution_count": 84,
     "metadata": {},
     "output_type": "execute_result"
    }
   ],
   "source": [
    "jde_data['Anulowany'].unique()"
   ],
   "metadata": {
    "collapsed": false,
    "ExecuteTime": {
     "end_time": "2024-02-17T23:03:10.239475100Z",
     "start_time": "2024-02-17T23:03:10.132742900Z"
    }
   },
   "id": "a058031dee2d7e8",
   "execution_count": 84
  },
  {
   "cell_type": "code",
   "outputs": [],
   "source": [
    "columns_to_drop.append('Anulowany')"
   ],
   "metadata": {
    "collapsed": false,
    "ExecuteTime": {
     "end_time": "2024-02-17T23:03:10.398888200Z",
     "start_time": "2024-02-17T23:03:10.298320Z"
    }
   },
   "id": "9ca0d6180de68497",
   "execution_count": 85
  },
  {
   "cell_type": "code",
   "outputs": [
    {
     "data": {
      "text/plain": "array([nan])"
     },
     "execution_count": 86,
     "metadata": {},
     "output_type": "execute_result"
    }
   ],
   "source": [
    "jde_data['Zagubiona'].unique()"
   ],
   "metadata": {
    "collapsed": false,
    "ExecuteTime": {
     "end_time": "2024-02-17T23:03:10.634976100Z",
     "start_time": "2024-02-17T23:03:10.484637500Z"
    }
   },
   "id": "2b551bfc029b415c",
   "execution_count": 86
  },
  {
   "cell_type": "code",
   "outputs": [],
   "source": [
    "columns_to_drop.append('Zagubiona')"
   ],
   "metadata": {
    "collapsed": false,
    "ExecuteTime": {
     "end_time": "2024-02-17T23:03:10.699173200Z",
     "start_time": "2024-02-17T23:03:10.642954600Z"
    }
   },
   "id": "66034a54051c4c9a",
   "execution_count": 87
  },
  {
   "cell_type": "code",
   "outputs": [
    {
     "data": {
      "text/plain": "      ID_ZLECENIA_PALONA                  DTZAPIS ILOSC_PALONA  NUMERZASYPU  \\\n0                1206810  2024-01-10 09:06:00.880            0            8   \n1                1206809  2024-01-10 08:59:02.527            0            9   \n2                1206808  2024-01-10 08:57:40.677            0            7   \n3                1206807  2024-01-10 08:49:11.593            0            6   \n4                1206806  2024-01-10 08:48:14.330            0            8   \n...                  ...                      ...          ...          ...   \n9995             1196814  2023-11-20 03:12:48.087          251           12   \n9996             1196813  2023-11-20 03:09:00.397        505,1            7   \n9997             1196812  2023-11-20 03:04:52.260        251,9           11   \n9998             1196811  2023-11-20 03:00:06.253        505,9            6   \n9999             1196810  2023-11-20 02:51:39.743        508,1            5   \n\n      IDZLECENIE  NUMERPIECA  Anulowany  Zagubiona SUMA_ZIELONEJ  \\\n0         138624        4000          0        NaN             0   \n1         138623        3000          0        NaN             0   \n2         138624        4000          0        NaN             0   \n3         138624        4000          0        NaN         600,1   \n4         138623        3000          0        NaN         400,3   \n...          ...         ...        ...        ...           ...   \n9995      137655        3000          0        NaN           300   \n9996      137656        4000          0        NaN         600,1   \n9997      137655        3000          0        NaN         291,1   \n9998      137656        4000          0        NaN           600   \n9999      137656        4000          0        NaN         600,2   \n\n      QuantityError  ... im3_unit_name  ikWh_consumption  im3_consumption  \\\n0                 1  ...           NaN               NaN              NaN   \n1                 1  ...           NaN               NaN              NaN   \n2                 1  ...           NaN               NaN              NaN   \n3                 1  ...            m3               4.0            474.0   \n4                 1  ...            m3              23.0              8.0   \n...             ...  ...           ...               ...              ...   \n9995              0  ...            m3              13.0              9.0   \n9996              0  ...            m3              11.0           1301.0   \n9997              0  ...            m3              12.0              9.0   \n9998              0  ...            m3              11.0           1307.0   \n9999              0  ...            m3              12.0           1292.0   \n\n      ikWh_counter1_start ikWh_counter1_finish  ikWh_multiplier1  \\\n0                     NaN                  NaN               NaN   \n1                     NaN                  NaN               NaN   \n2                     NaN                  NaN               NaN   \n3              10921971.0           10922040.0              0,01   \n4                     NaN                  NaN               NaN   \n...                   ...                  ...               ...   \n9995                  NaN                  NaN               NaN   \n9996            9740934.0            9741095.0              0,01   \n9997                  NaN                  NaN               NaN   \n9998            9740751.0            9740900.0              0,01   \n9999            9740431.0            9740653.0              0,01   \n\n      ikWh_unit_name1  ikWh_consumption1  ikWh_total_consumption  \\\n0                 NaN                NaN                       0   \n1                 NaN                NaN                       0   \n2                 NaN                NaN                       0   \n3                 kWh               0,69                    4,69   \n4                 NaN                NaN                      23   \n...               ...                ...                     ...   \n9995              NaN                NaN                      13   \n9996              kWh               1,61                   12,61   \n9997              NaN                NaN                      12   \n9998              kWh               1,49                   12,49   \n9999              kWh               2,22                   14,22   \n\n     lTriggerCounter  \n0                NaN  \n1                NaN  \n2                NaN  \n3                NaN  \n4                NaN  \n...              ...  \n9995           765.0  \n9996          7144.0  \n9997           763.0  \n9998          7143.0  \n9999          7142.0  \n\n[10000 rows x 38 columns]",
      "text/html": "<div>\n<style scoped>\n    .dataframe tbody tr th:only-of-type {\n        vertical-align: middle;\n    }\n\n    .dataframe tbody tr th {\n        vertical-align: top;\n    }\n\n    .dataframe thead th {\n        text-align: right;\n    }\n</style>\n<table border=\"1\" class=\"dataframe\">\n  <thead>\n    <tr style=\"text-align: right;\">\n      <th></th>\n      <th>ID_ZLECENIA_PALONA</th>\n      <th>DTZAPIS</th>\n      <th>ILOSC_PALONA</th>\n      <th>NUMERZASYPU</th>\n      <th>IDZLECENIE</th>\n      <th>NUMERPIECA</th>\n      <th>Anulowany</th>\n      <th>Zagubiona</th>\n      <th>SUMA_ZIELONEJ</th>\n      <th>QuantityError</th>\n      <th>...</th>\n      <th>im3_unit_name</th>\n      <th>ikWh_consumption</th>\n      <th>im3_consumption</th>\n      <th>ikWh_counter1_start</th>\n      <th>ikWh_counter1_finish</th>\n      <th>ikWh_multiplier1</th>\n      <th>ikWh_unit_name1</th>\n      <th>ikWh_consumption1</th>\n      <th>ikWh_total_consumption</th>\n      <th>lTriggerCounter</th>\n    </tr>\n  </thead>\n  <tbody>\n    <tr>\n      <th>0</th>\n      <td>1206810</td>\n      <td>2024-01-10 09:06:00.880</td>\n      <td>0</td>\n      <td>8</td>\n      <td>138624</td>\n      <td>4000</td>\n      <td>0</td>\n      <td>NaN</td>\n      <td>0</td>\n      <td>1</td>\n      <td>...</td>\n      <td>NaN</td>\n      <td>NaN</td>\n      <td>NaN</td>\n      <td>NaN</td>\n      <td>NaN</td>\n      <td>NaN</td>\n      <td>NaN</td>\n      <td>NaN</td>\n      <td>0</td>\n      <td>NaN</td>\n    </tr>\n    <tr>\n      <th>1</th>\n      <td>1206809</td>\n      <td>2024-01-10 08:59:02.527</td>\n      <td>0</td>\n      <td>9</td>\n      <td>138623</td>\n      <td>3000</td>\n      <td>0</td>\n      <td>NaN</td>\n      <td>0</td>\n      <td>1</td>\n      <td>...</td>\n      <td>NaN</td>\n      <td>NaN</td>\n      <td>NaN</td>\n      <td>NaN</td>\n      <td>NaN</td>\n      <td>NaN</td>\n      <td>NaN</td>\n      <td>NaN</td>\n      <td>0</td>\n      <td>NaN</td>\n    </tr>\n    <tr>\n      <th>2</th>\n      <td>1206808</td>\n      <td>2024-01-10 08:57:40.677</td>\n      <td>0</td>\n      <td>7</td>\n      <td>138624</td>\n      <td>4000</td>\n      <td>0</td>\n      <td>NaN</td>\n      <td>0</td>\n      <td>1</td>\n      <td>...</td>\n      <td>NaN</td>\n      <td>NaN</td>\n      <td>NaN</td>\n      <td>NaN</td>\n      <td>NaN</td>\n      <td>NaN</td>\n      <td>NaN</td>\n      <td>NaN</td>\n      <td>0</td>\n      <td>NaN</td>\n    </tr>\n    <tr>\n      <th>3</th>\n      <td>1206807</td>\n      <td>2024-01-10 08:49:11.593</td>\n      <td>0</td>\n      <td>6</td>\n      <td>138624</td>\n      <td>4000</td>\n      <td>0</td>\n      <td>NaN</td>\n      <td>600,1</td>\n      <td>1</td>\n      <td>...</td>\n      <td>m3</td>\n      <td>4.0</td>\n      <td>474.0</td>\n      <td>10921971.0</td>\n      <td>10922040.0</td>\n      <td>0,01</td>\n      <td>kWh</td>\n      <td>0,69</td>\n      <td>4,69</td>\n      <td>NaN</td>\n    </tr>\n    <tr>\n      <th>4</th>\n      <td>1206806</td>\n      <td>2024-01-10 08:48:14.330</td>\n      <td>0</td>\n      <td>8</td>\n      <td>138623</td>\n      <td>3000</td>\n      <td>0</td>\n      <td>NaN</td>\n      <td>400,3</td>\n      <td>1</td>\n      <td>...</td>\n      <td>m3</td>\n      <td>23.0</td>\n      <td>8.0</td>\n      <td>NaN</td>\n      <td>NaN</td>\n      <td>NaN</td>\n      <td>NaN</td>\n      <td>NaN</td>\n      <td>23</td>\n      <td>NaN</td>\n    </tr>\n    <tr>\n      <th>...</th>\n      <td>...</td>\n      <td>...</td>\n      <td>...</td>\n      <td>...</td>\n      <td>...</td>\n      <td>...</td>\n      <td>...</td>\n      <td>...</td>\n      <td>...</td>\n      <td>...</td>\n      <td>...</td>\n      <td>...</td>\n      <td>...</td>\n      <td>...</td>\n      <td>...</td>\n      <td>...</td>\n      <td>...</td>\n      <td>...</td>\n      <td>...</td>\n      <td>...</td>\n      <td>...</td>\n    </tr>\n    <tr>\n      <th>9995</th>\n      <td>1196814</td>\n      <td>2023-11-20 03:12:48.087</td>\n      <td>251</td>\n      <td>12</td>\n      <td>137655</td>\n      <td>3000</td>\n      <td>0</td>\n      <td>NaN</td>\n      <td>300</td>\n      <td>0</td>\n      <td>...</td>\n      <td>m3</td>\n      <td>13.0</td>\n      <td>9.0</td>\n      <td>NaN</td>\n      <td>NaN</td>\n      <td>NaN</td>\n      <td>NaN</td>\n      <td>NaN</td>\n      <td>13</td>\n      <td>765.0</td>\n    </tr>\n    <tr>\n      <th>9996</th>\n      <td>1196813</td>\n      <td>2023-11-20 03:09:00.397</td>\n      <td>505,1</td>\n      <td>7</td>\n      <td>137656</td>\n      <td>4000</td>\n      <td>0</td>\n      <td>NaN</td>\n      <td>600,1</td>\n      <td>0</td>\n      <td>...</td>\n      <td>m3</td>\n      <td>11.0</td>\n      <td>1301.0</td>\n      <td>9740934.0</td>\n      <td>9741095.0</td>\n      <td>0,01</td>\n      <td>kWh</td>\n      <td>1,61</td>\n      <td>12,61</td>\n      <td>7144.0</td>\n    </tr>\n    <tr>\n      <th>9997</th>\n      <td>1196812</td>\n      <td>2023-11-20 03:04:52.260</td>\n      <td>251,9</td>\n      <td>11</td>\n      <td>137655</td>\n      <td>3000</td>\n      <td>0</td>\n      <td>NaN</td>\n      <td>291,1</td>\n      <td>0</td>\n      <td>...</td>\n      <td>m3</td>\n      <td>12.0</td>\n      <td>9.0</td>\n      <td>NaN</td>\n      <td>NaN</td>\n      <td>NaN</td>\n      <td>NaN</td>\n      <td>NaN</td>\n      <td>12</td>\n      <td>763.0</td>\n    </tr>\n    <tr>\n      <th>9998</th>\n      <td>1196811</td>\n      <td>2023-11-20 03:00:06.253</td>\n      <td>505,9</td>\n      <td>6</td>\n      <td>137656</td>\n      <td>4000</td>\n      <td>0</td>\n      <td>NaN</td>\n      <td>600</td>\n      <td>0</td>\n      <td>...</td>\n      <td>m3</td>\n      <td>11.0</td>\n      <td>1307.0</td>\n      <td>9740751.0</td>\n      <td>9740900.0</td>\n      <td>0,01</td>\n      <td>kWh</td>\n      <td>1,49</td>\n      <td>12,49</td>\n      <td>7143.0</td>\n    </tr>\n    <tr>\n      <th>9999</th>\n      <td>1196810</td>\n      <td>2023-11-20 02:51:39.743</td>\n      <td>508,1</td>\n      <td>5</td>\n      <td>137656</td>\n      <td>4000</td>\n      <td>0</td>\n      <td>NaN</td>\n      <td>600,2</td>\n      <td>0</td>\n      <td>...</td>\n      <td>m3</td>\n      <td>12.0</td>\n      <td>1292.0</td>\n      <td>9740431.0</td>\n      <td>9740653.0</td>\n      <td>0,01</td>\n      <td>kWh</td>\n      <td>2,22</td>\n      <td>14,22</td>\n      <td>7142.0</td>\n    </tr>\n  </tbody>\n</table>\n<p>10000 rows × 38 columns</p>\n</div>"
     },
     "execution_count": 88,
     "metadata": {},
     "output_type": "execute_result"
    }
   ],
   "source": [
    "jde_data"
   ],
   "metadata": {
    "collapsed": false,
    "ExecuteTime": {
     "end_time": "2024-02-17T23:03:10.974326500Z",
     "start_time": "2024-02-17T23:03:10.837141900Z"
    }
   },
   "id": "1334d3821c209be1",
   "execution_count": 88
  },
  {
   "cell_type": "code",
   "outputs": [
    {
     "data": {
      "text/plain": "False"
     },
     "execution_count": 89,
     "metadata": {},
     "output_type": "execute_result"
    }
   ],
   "source": [
    "jde_data['ILOSC_PALONA'].equals(jde_data['PREV_ILOSC_PALONA'])"
   ],
   "metadata": {
    "collapsed": false,
    "ExecuteTime": {
     "end_time": "2024-02-17T23:03:11.142185100Z",
     "start_time": "2024-02-17T23:03:10.998262700Z"
    }
   },
   "id": "bfd10ad0fb27b333",
   "execution_count": 89
  },
  {
   "cell_type": "code",
   "outputs": [
    {
     "data": {
      "text/plain": "0       True\n1       True\n2       True\n3       True\n4       True\n        ... \n9995    True\n9996    True\n9997    True\n9998    True\n9999    True\nLength: 10000, dtype: bool"
     },
     "execution_count": 90,
     "metadata": {},
     "output_type": "execute_result"
    }
   ],
   "source": [
    "jde_data['ILOSC_PALONA'].eq(jde_data['PREV_ILOSC_PALONA'])"
   ],
   "metadata": {
    "collapsed": false,
    "ExecuteTime": {
     "end_time": "2024-02-17T23:03:11.326120800Z",
     "start_time": "2024-02-17T23:03:11.173102100Z"
    }
   },
   "id": "45527ab0fcd0ea14",
   "execution_count": 90
  },
  {
   "cell_type": "code",
   "outputs": [
    {
     "data": {
      "text/plain": "      ID_ZLECENIA_PALONA                  DTZAPIS ILOSC_PALONA  NUMERZASYPU  \\\n27               1206783  2024-01-10 05:48:18.430        342,1           11   \n28               1206782  2024-01-10 05:39:07.180          343           10   \n29               1206781  2024-01-10 05:31:45.677          343            9   \n48               1206762  2024-01-10 03:49:24.690        347,8            9   \n54               1206756  2024-01-10 03:23:50.053        348,8            6   \n...                  ...                      ...          ...          ...   \n9628             1197181  2023-11-21 20:05:44.993          338           11   \n9702             1197107  2023-11-21 13:35:07.000          305            1   \n9802             1197007  2023-11-21 02:28:07.180          300           16   \n9886             1196923  2023-11-20 18:08:35.720          299            7   \n9943             1196866  2023-11-20 07:55:31.313          501            5   \n\n      IDZLECENIE  NUMERPIECA  Anulowany  Zagubiona SUMA_ZIELONEJ  \\\n27        138620        3000          0        NaN         400,4   \n28        138620        3000          0        NaN           401   \n29        138620        3000          0        NaN         401,3   \n48        138618        3000          0        NaN         400,9   \n54        138618        3000          0        NaN         402,9   \n...          ...         ...        ...        ...           ...   \n9628      137692        3000          0        NaN         399,8   \n9702      137684        3000          0        NaN         356,4   \n9802      137673        3000          0        NaN         349,2   \n9886      137667        3000          0        NaN         348,9   \n9943      137660        4000          0        NaN      600,7001   \n\n      QuantityError  ... im3_unit_name  ikWh_consumption  im3_consumption  \\\n27                0  ...            m3              15.0              8.0   \n28                0  ...            m3              11.0              8.0   \n29                0  ...            m3              15.0              9.0   \n48                0  ...            m3              19.0              9.0   \n54                0  ...            m3              17.0              8.0   \n...             ...  ...           ...               ...              ...   \n9628              0  ...            m3              18.0              9.0   \n9702              0  ...            m3              10.0             10.0   \n9802              0  ...            m3              13.0             10.0   \n9886              0  ...            m3              14.0             10.0   \n9943              0  ...            m3              11.0           1305.0   \n\n      ikWh_counter1_start ikWh_counter1_finish  ikWh_multiplier1  \\\n27                    NaN                  NaN               NaN   \n28                    NaN                  NaN               NaN   \n29                    NaN                  NaN               NaN   \n48                    NaN                  NaN               NaN   \n54                    NaN                  NaN               NaN   \n...                   ...                  ...               ...   \n9628                  NaN                  NaN               NaN   \n9702                  NaN                  NaN               NaN   \n9802                  NaN                  NaN               NaN   \n9886                  NaN                  NaN               NaN   \n9943            9749195.0            9749343.0              0,01   \n\n      ikWh_unit_name1  ikWh_consumption1  ikWh_total_consumption  \\\n27                NaN                NaN                      15   \n28                NaN                NaN                      11   \n29                NaN                NaN                      15   \n48                NaN                NaN                      19   \n54                NaN                NaN                      17   \n...               ...                ...                     ...   \n9628              NaN                NaN                      18   \n9702              NaN                NaN                      10   \n9802              NaN                NaN                      13   \n9886              NaN                NaN                      14   \n9943              kWh               1,48                   12,48   \n\n     lTriggerCounter  \n27             285.0  \n28             283.0  \n29             281.0  \n48             260.0  \n54             254.0  \n...              ...  \n9628           335.0  \n9702           260.0  \n9802           153.0  \n9886            82.0  \n9943          7173.0  \n\n[139 rows x 38 columns]",
      "text/html": "<div>\n<style scoped>\n    .dataframe tbody tr th:only-of-type {\n        vertical-align: middle;\n    }\n\n    .dataframe tbody tr th {\n        vertical-align: top;\n    }\n\n    .dataframe thead th {\n        text-align: right;\n    }\n</style>\n<table border=\"1\" class=\"dataframe\">\n  <thead>\n    <tr style=\"text-align: right;\">\n      <th></th>\n      <th>ID_ZLECENIA_PALONA</th>\n      <th>DTZAPIS</th>\n      <th>ILOSC_PALONA</th>\n      <th>NUMERZASYPU</th>\n      <th>IDZLECENIE</th>\n      <th>NUMERPIECA</th>\n      <th>Anulowany</th>\n      <th>Zagubiona</th>\n      <th>SUMA_ZIELONEJ</th>\n      <th>QuantityError</th>\n      <th>...</th>\n      <th>im3_unit_name</th>\n      <th>ikWh_consumption</th>\n      <th>im3_consumption</th>\n      <th>ikWh_counter1_start</th>\n      <th>ikWh_counter1_finish</th>\n      <th>ikWh_multiplier1</th>\n      <th>ikWh_unit_name1</th>\n      <th>ikWh_consumption1</th>\n      <th>ikWh_total_consumption</th>\n      <th>lTriggerCounter</th>\n    </tr>\n  </thead>\n  <tbody>\n    <tr>\n      <th>27</th>\n      <td>1206783</td>\n      <td>2024-01-10 05:48:18.430</td>\n      <td>342,1</td>\n      <td>11</td>\n      <td>138620</td>\n      <td>3000</td>\n      <td>0</td>\n      <td>NaN</td>\n      <td>400,4</td>\n      <td>0</td>\n      <td>...</td>\n      <td>m3</td>\n      <td>15.0</td>\n      <td>8.0</td>\n      <td>NaN</td>\n      <td>NaN</td>\n      <td>NaN</td>\n      <td>NaN</td>\n      <td>NaN</td>\n      <td>15</td>\n      <td>285.0</td>\n    </tr>\n    <tr>\n      <th>28</th>\n      <td>1206782</td>\n      <td>2024-01-10 05:39:07.180</td>\n      <td>343</td>\n      <td>10</td>\n      <td>138620</td>\n      <td>3000</td>\n      <td>0</td>\n      <td>NaN</td>\n      <td>401</td>\n      <td>0</td>\n      <td>...</td>\n      <td>m3</td>\n      <td>11.0</td>\n      <td>8.0</td>\n      <td>NaN</td>\n      <td>NaN</td>\n      <td>NaN</td>\n      <td>NaN</td>\n      <td>NaN</td>\n      <td>11</td>\n      <td>283.0</td>\n    </tr>\n    <tr>\n      <th>29</th>\n      <td>1206781</td>\n      <td>2024-01-10 05:31:45.677</td>\n      <td>343</td>\n      <td>9</td>\n      <td>138620</td>\n      <td>3000</td>\n      <td>0</td>\n      <td>NaN</td>\n      <td>401,3</td>\n      <td>0</td>\n      <td>...</td>\n      <td>m3</td>\n      <td>15.0</td>\n      <td>9.0</td>\n      <td>NaN</td>\n      <td>NaN</td>\n      <td>NaN</td>\n      <td>NaN</td>\n      <td>NaN</td>\n      <td>15</td>\n      <td>281.0</td>\n    </tr>\n    <tr>\n      <th>48</th>\n      <td>1206762</td>\n      <td>2024-01-10 03:49:24.690</td>\n      <td>347,8</td>\n      <td>9</td>\n      <td>138618</td>\n      <td>3000</td>\n      <td>0</td>\n      <td>NaN</td>\n      <td>400,9</td>\n      <td>0</td>\n      <td>...</td>\n      <td>m3</td>\n      <td>19.0</td>\n      <td>9.0</td>\n      <td>NaN</td>\n      <td>NaN</td>\n      <td>NaN</td>\n      <td>NaN</td>\n      <td>NaN</td>\n      <td>19</td>\n      <td>260.0</td>\n    </tr>\n    <tr>\n      <th>54</th>\n      <td>1206756</td>\n      <td>2024-01-10 03:23:50.053</td>\n      <td>348,8</td>\n      <td>6</td>\n      <td>138618</td>\n      <td>3000</td>\n      <td>0</td>\n      <td>NaN</td>\n      <td>402,9</td>\n      <td>0</td>\n      <td>...</td>\n      <td>m3</td>\n      <td>17.0</td>\n      <td>8.0</td>\n      <td>NaN</td>\n      <td>NaN</td>\n      <td>NaN</td>\n      <td>NaN</td>\n      <td>NaN</td>\n      <td>17</td>\n      <td>254.0</td>\n    </tr>\n    <tr>\n      <th>...</th>\n      <td>...</td>\n      <td>...</td>\n      <td>...</td>\n      <td>...</td>\n      <td>...</td>\n      <td>...</td>\n      <td>...</td>\n      <td>...</td>\n      <td>...</td>\n      <td>...</td>\n      <td>...</td>\n      <td>...</td>\n      <td>...</td>\n      <td>...</td>\n      <td>...</td>\n      <td>...</td>\n      <td>...</td>\n      <td>...</td>\n      <td>...</td>\n      <td>...</td>\n      <td>...</td>\n    </tr>\n    <tr>\n      <th>9628</th>\n      <td>1197181</td>\n      <td>2023-11-21 20:05:44.993</td>\n      <td>338</td>\n      <td>11</td>\n      <td>137692</td>\n      <td>3000</td>\n      <td>0</td>\n      <td>NaN</td>\n      <td>399,8</td>\n      <td>0</td>\n      <td>...</td>\n      <td>m3</td>\n      <td>18.0</td>\n      <td>9.0</td>\n      <td>NaN</td>\n      <td>NaN</td>\n      <td>NaN</td>\n      <td>NaN</td>\n      <td>NaN</td>\n      <td>18</td>\n      <td>335.0</td>\n    </tr>\n    <tr>\n      <th>9702</th>\n      <td>1197107</td>\n      <td>2023-11-21 13:35:07.000</td>\n      <td>305</td>\n      <td>1</td>\n      <td>137684</td>\n      <td>3000</td>\n      <td>0</td>\n      <td>NaN</td>\n      <td>356,4</td>\n      <td>0</td>\n      <td>...</td>\n      <td>m3</td>\n      <td>10.0</td>\n      <td>10.0</td>\n      <td>NaN</td>\n      <td>NaN</td>\n      <td>NaN</td>\n      <td>NaN</td>\n      <td>NaN</td>\n      <td>10</td>\n      <td>260.0</td>\n    </tr>\n    <tr>\n      <th>9802</th>\n      <td>1197007</td>\n      <td>2023-11-21 02:28:07.180</td>\n      <td>300</td>\n      <td>16</td>\n      <td>137673</td>\n      <td>3000</td>\n      <td>0</td>\n      <td>NaN</td>\n      <td>349,2</td>\n      <td>0</td>\n      <td>...</td>\n      <td>m3</td>\n      <td>13.0</td>\n      <td>10.0</td>\n      <td>NaN</td>\n      <td>NaN</td>\n      <td>NaN</td>\n      <td>NaN</td>\n      <td>NaN</td>\n      <td>13</td>\n      <td>153.0</td>\n    </tr>\n    <tr>\n      <th>9886</th>\n      <td>1196923</td>\n      <td>2023-11-20 18:08:35.720</td>\n      <td>299</td>\n      <td>7</td>\n      <td>137667</td>\n      <td>3000</td>\n      <td>0</td>\n      <td>NaN</td>\n      <td>348,9</td>\n      <td>0</td>\n      <td>...</td>\n      <td>m3</td>\n      <td>14.0</td>\n      <td>10.0</td>\n      <td>NaN</td>\n      <td>NaN</td>\n      <td>NaN</td>\n      <td>NaN</td>\n      <td>NaN</td>\n      <td>14</td>\n      <td>82.0</td>\n    </tr>\n    <tr>\n      <th>9943</th>\n      <td>1196866</td>\n      <td>2023-11-20 07:55:31.313</td>\n      <td>501</td>\n      <td>5</td>\n      <td>137660</td>\n      <td>4000</td>\n      <td>0</td>\n      <td>NaN</td>\n      <td>600,7001</td>\n      <td>0</td>\n      <td>...</td>\n      <td>m3</td>\n      <td>11.0</td>\n      <td>1305.0</td>\n      <td>9749195.0</td>\n      <td>9749343.0</td>\n      <td>0,01</td>\n      <td>kWh</td>\n      <td>1,48</td>\n      <td>12,48</td>\n      <td>7173.0</td>\n    </tr>\n  </tbody>\n</table>\n<p>139 rows × 38 columns</p>\n</div>"
     },
     "execution_count": 91,
     "metadata": {},
     "output_type": "execute_result"
    }
   ],
   "source": [
    "jde_data[jde_data['ILOSC_PALONA'] != jde_data['PREV_ILOSC_PALONA']]"
   ],
   "metadata": {
    "collapsed": false,
    "ExecuteTime": {
     "end_time": "2024-02-17T23:03:11.612178900Z",
     "start_time": "2024-02-17T23:03:11.408900100Z"
    }
   },
   "id": "59b6fe51ae2a7279",
   "execution_count": 91
  },
  {
   "cell_type": "code",
   "outputs": [
    {
     "data": {
      "text/plain": "   ID_ZLECENIA_PALONA                  DTZAPIS ILOSC_PALONA  NUMERZASYPU  \\\n0             1206810  2024-01-10 09:06:00.880            0            8   \n1             1206809  2024-01-10 08:59:02.527            0            9   \n2             1206808  2024-01-10 08:57:40.677            0            7   \n3             1206807  2024-01-10 08:49:11.593            0            6   \n4             1206806  2024-01-10 08:48:14.330            0            8   \n\n   IDZLECENIE  NUMERPIECA  Anulowany  Zagubiona SUMA_ZIELONEJ  QuantityError  \\\n0      138624        4000          0        NaN             0              1   \n1      138623        3000          0        NaN             0              1   \n2      138624        4000          0        NaN             0              1   \n3      138624        4000          0        NaN         600,1              1   \n4      138623        3000          0        NaN         400,3              1   \n\n   ... im3_unit_name  ikWh_consumption  im3_consumption  ikWh_counter1_start  \\\n0  ...           NaN               NaN              NaN                  NaN   \n1  ...           NaN               NaN              NaN                  NaN   \n2  ...           NaN               NaN              NaN                  NaN   \n3  ...            m3               4.0            474.0           10921971.0   \n4  ...            m3              23.0              8.0                  NaN   \n\n  ikWh_counter1_finish  ikWh_multiplier1  ikWh_unit_name1  ikWh_consumption1  \\\n0                  NaN               NaN              NaN                NaN   \n1                  NaN               NaN              NaN                NaN   \n2                  NaN               NaN              NaN                NaN   \n3           10922040.0              0,01              kWh               0,69   \n4                  NaN               NaN              NaN                NaN   \n\n   ikWh_total_consumption lTriggerCounter  \n0                       0             NaN  \n1                       0             NaN  \n2                       0             NaN  \n3                    4,69             NaN  \n4                      23             NaN  \n\n[5 rows x 38 columns]",
      "text/html": "<div>\n<style scoped>\n    .dataframe tbody tr th:only-of-type {\n        vertical-align: middle;\n    }\n\n    .dataframe tbody tr th {\n        vertical-align: top;\n    }\n\n    .dataframe thead th {\n        text-align: right;\n    }\n</style>\n<table border=\"1\" class=\"dataframe\">\n  <thead>\n    <tr style=\"text-align: right;\">\n      <th></th>\n      <th>ID_ZLECENIA_PALONA</th>\n      <th>DTZAPIS</th>\n      <th>ILOSC_PALONA</th>\n      <th>NUMERZASYPU</th>\n      <th>IDZLECENIE</th>\n      <th>NUMERPIECA</th>\n      <th>Anulowany</th>\n      <th>Zagubiona</th>\n      <th>SUMA_ZIELONEJ</th>\n      <th>QuantityError</th>\n      <th>...</th>\n      <th>im3_unit_name</th>\n      <th>ikWh_consumption</th>\n      <th>im3_consumption</th>\n      <th>ikWh_counter1_start</th>\n      <th>ikWh_counter1_finish</th>\n      <th>ikWh_multiplier1</th>\n      <th>ikWh_unit_name1</th>\n      <th>ikWh_consumption1</th>\n      <th>ikWh_total_consumption</th>\n      <th>lTriggerCounter</th>\n    </tr>\n  </thead>\n  <tbody>\n    <tr>\n      <th>0</th>\n      <td>1206810</td>\n      <td>2024-01-10 09:06:00.880</td>\n      <td>0</td>\n      <td>8</td>\n      <td>138624</td>\n      <td>4000</td>\n      <td>0</td>\n      <td>NaN</td>\n      <td>0</td>\n      <td>1</td>\n      <td>...</td>\n      <td>NaN</td>\n      <td>NaN</td>\n      <td>NaN</td>\n      <td>NaN</td>\n      <td>NaN</td>\n      <td>NaN</td>\n      <td>NaN</td>\n      <td>NaN</td>\n      <td>0</td>\n      <td>NaN</td>\n    </tr>\n    <tr>\n      <th>1</th>\n      <td>1206809</td>\n      <td>2024-01-10 08:59:02.527</td>\n      <td>0</td>\n      <td>9</td>\n      <td>138623</td>\n      <td>3000</td>\n      <td>0</td>\n      <td>NaN</td>\n      <td>0</td>\n      <td>1</td>\n      <td>...</td>\n      <td>NaN</td>\n      <td>NaN</td>\n      <td>NaN</td>\n      <td>NaN</td>\n      <td>NaN</td>\n      <td>NaN</td>\n      <td>NaN</td>\n      <td>NaN</td>\n      <td>0</td>\n      <td>NaN</td>\n    </tr>\n    <tr>\n      <th>2</th>\n      <td>1206808</td>\n      <td>2024-01-10 08:57:40.677</td>\n      <td>0</td>\n      <td>7</td>\n      <td>138624</td>\n      <td>4000</td>\n      <td>0</td>\n      <td>NaN</td>\n      <td>0</td>\n      <td>1</td>\n      <td>...</td>\n      <td>NaN</td>\n      <td>NaN</td>\n      <td>NaN</td>\n      <td>NaN</td>\n      <td>NaN</td>\n      <td>NaN</td>\n      <td>NaN</td>\n      <td>NaN</td>\n      <td>0</td>\n      <td>NaN</td>\n    </tr>\n    <tr>\n      <th>3</th>\n      <td>1206807</td>\n      <td>2024-01-10 08:49:11.593</td>\n      <td>0</td>\n      <td>6</td>\n      <td>138624</td>\n      <td>4000</td>\n      <td>0</td>\n      <td>NaN</td>\n      <td>600,1</td>\n      <td>1</td>\n      <td>...</td>\n      <td>m3</td>\n      <td>4.0</td>\n      <td>474.0</td>\n      <td>10921971.0</td>\n      <td>10922040.0</td>\n      <td>0,01</td>\n      <td>kWh</td>\n      <td>0,69</td>\n      <td>4,69</td>\n      <td>NaN</td>\n    </tr>\n    <tr>\n      <th>4</th>\n      <td>1206806</td>\n      <td>2024-01-10 08:48:14.330</td>\n      <td>0</td>\n      <td>8</td>\n      <td>138623</td>\n      <td>3000</td>\n      <td>0</td>\n      <td>NaN</td>\n      <td>400,3</td>\n      <td>1</td>\n      <td>...</td>\n      <td>m3</td>\n      <td>23.0</td>\n      <td>8.0</td>\n      <td>NaN</td>\n      <td>NaN</td>\n      <td>NaN</td>\n      <td>NaN</td>\n      <td>NaN</td>\n      <td>23</td>\n      <td>NaN</td>\n    </tr>\n  </tbody>\n</table>\n<p>5 rows × 38 columns</p>\n</div>"
     },
     "execution_count": 92,
     "metadata": {},
     "output_type": "execute_result"
    }
   ],
   "source": [
    "jde_data.head()"
   ],
   "metadata": {
    "collapsed": false,
    "ExecuteTime": {
     "end_time": "2024-02-17T23:03:11.908527700Z",
     "start_time": "2024-02-17T23:03:11.674519600Z"
    }
   },
   "id": "58454b5e6fcc2b08",
   "execution_count": 92
  },
  {
   "cell_type": "code",
   "outputs": [
    {
     "data": {
      "text/plain": "array([nan,  0.])"
     },
     "execution_count": 93,
     "metadata": {},
     "output_type": "execute_result"
    }
   ],
   "source": [
    "jde_data['LockedByEditor'].unique()"
   ],
   "metadata": {
    "collapsed": false,
    "ExecuteTime": {
     "end_time": "2024-02-17T23:03:12.056132500Z",
     "start_time": "2024-02-17T23:03:11.882342500Z"
    }
   },
   "id": "270ee2beca1dd0ab",
   "execution_count": 93
  },
  {
   "cell_type": "code",
   "outputs": [
    {
     "data": {
      "text/plain": "      ID_ZLECENIA_PALONA                  DTZAPIS ILOSC_PALONA  NUMERZASYPU  \\\n7612             1199197  2023-11-30 06:28:11.693        306,8           19   \n\n      IDZLECENIE  NUMERPIECA  Anulowany  Zagubiona SUMA_ZIELONEJ  \\\n7612      137892        3000          0        NaN         352,6   \n\n      QuantityError  ... im3_unit_name  ikWh_consumption  im3_consumption  \\\n7612              0  ...            m3              13.0              8.0   \n\n      ikWh_counter1_start ikWh_counter1_finish  ikWh_multiplier1  \\\n7612                  NaN                  NaN               NaN   \n\n      ikWh_unit_name1  ikWh_consumption1  ikWh_total_consumption  \\\n7612              NaN                NaN                      13   \n\n     lTriggerCounter  \n7612             NaN  \n\n[1 rows x 38 columns]",
      "text/html": "<div>\n<style scoped>\n    .dataframe tbody tr th:only-of-type {\n        vertical-align: middle;\n    }\n\n    .dataframe tbody tr th {\n        vertical-align: top;\n    }\n\n    .dataframe thead th {\n        text-align: right;\n    }\n</style>\n<table border=\"1\" class=\"dataframe\">\n  <thead>\n    <tr style=\"text-align: right;\">\n      <th></th>\n      <th>ID_ZLECENIA_PALONA</th>\n      <th>DTZAPIS</th>\n      <th>ILOSC_PALONA</th>\n      <th>NUMERZASYPU</th>\n      <th>IDZLECENIE</th>\n      <th>NUMERPIECA</th>\n      <th>Anulowany</th>\n      <th>Zagubiona</th>\n      <th>SUMA_ZIELONEJ</th>\n      <th>QuantityError</th>\n      <th>...</th>\n      <th>im3_unit_name</th>\n      <th>ikWh_consumption</th>\n      <th>im3_consumption</th>\n      <th>ikWh_counter1_start</th>\n      <th>ikWh_counter1_finish</th>\n      <th>ikWh_multiplier1</th>\n      <th>ikWh_unit_name1</th>\n      <th>ikWh_consumption1</th>\n      <th>ikWh_total_consumption</th>\n      <th>lTriggerCounter</th>\n    </tr>\n  </thead>\n  <tbody>\n    <tr>\n      <th>7612</th>\n      <td>1199197</td>\n      <td>2023-11-30 06:28:11.693</td>\n      <td>306,8</td>\n      <td>19</td>\n      <td>137892</td>\n      <td>3000</td>\n      <td>0</td>\n      <td>NaN</td>\n      <td>352,6</td>\n      <td>0</td>\n      <td>...</td>\n      <td>m3</td>\n      <td>13.0</td>\n      <td>8.0</td>\n      <td>NaN</td>\n      <td>NaN</td>\n      <td>NaN</td>\n      <td>NaN</td>\n      <td>NaN</td>\n      <td>13</td>\n      <td>NaN</td>\n    </tr>\n  </tbody>\n</table>\n<p>1 rows × 38 columns</p>\n</div>"
     },
     "execution_count": 94,
     "metadata": {},
     "output_type": "execute_result"
    }
   ],
   "source": [
    "jde_data[jde_data['LockedByEditor'] == 0.0]"
   ],
   "metadata": {
    "collapsed": false,
    "ExecuteTime": {
     "end_time": "2024-02-17T23:03:12.357644700Z",
     "start_time": "2024-02-17T23:03:12.213183400Z"
    }
   },
   "id": "2d056061a89206cc",
   "execution_count": 94
  },
  {
   "cell_type": "code",
   "outputs": [],
   "source": [
    "columns_to_drop.append('LockedByEditor')"
   ],
   "metadata": {
    "collapsed": false,
    "ExecuteTime": {
     "end_time": "2024-02-17T23:03:12.406607Z",
     "start_time": "2024-02-17T23:03:12.233975Z"
    }
   },
   "id": "d77d3b219c4e636d",
   "execution_count": 95
  },
  {
   "cell_type": "code",
   "outputs": [
    {
     "data": {
      "text/plain": "array([1, 0], dtype=int64)"
     },
     "execution_count": 96,
     "metadata": {},
     "output_type": "execute_result"
    }
   ],
   "source": [
    "jde_data['QuantityError'].unique()"
   ],
   "metadata": {
    "collapsed": false,
    "ExecuteTime": {
     "end_time": "2024-02-17T23:03:12.458467400Z",
     "start_time": "2024-02-17T23:03:12.360636900Z"
    }
   },
   "id": "93aa84851e5618e5",
   "execution_count": 96
  },
  {
   "cell_type": "code",
   "outputs": [
    {
     "data": {
      "text/plain": "   ID_ZLECENIA_PALONA                  DTZAPIS ILOSC_PALONA  NUMERZASYPU  \\\n0             1206810  2024-01-10 09:06:00.880            0            8   \n1             1206809  2024-01-10 08:59:02.527            0            9   \n2             1206808  2024-01-10 08:57:40.677            0            7   \n3             1206807  2024-01-10 08:49:11.593            0            6   \n4             1206806  2024-01-10 08:48:14.330            0            8   \n6             1206804  2024-01-10 08:35:09.410            0            5   \n\n   IDZLECENIE  NUMERPIECA  Anulowany  Zagubiona SUMA_ZIELONEJ  QuantityError  \\\n0      138624        4000          0        NaN             0              1   \n1      138623        3000          0        NaN             0              1   \n2      138624        4000          0        NaN             0              1   \n3      138624        4000          0        NaN         600,1              1   \n4      138623        3000          0        NaN         400,3              1   \n6      138624        4000          0        NaN         600,2              1   \n\n   ... im3_unit_name  ikWh_consumption  im3_consumption  ikWh_counter1_start  \\\n0  ...           NaN               NaN              NaN                  NaN   \n1  ...           NaN               NaN              NaN                  NaN   \n2  ...           NaN               NaN              NaN                  NaN   \n3  ...            m3               4.0            474.0           10921971.0   \n4  ...            m3              23.0              8.0                  NaN   \n6  ...            m3              11.0           1306.0           10921766.0   \n\n  ikWh_counter1_finish  ikWh_multiplier1  ikWh_unit_name1  ikWh_consumption1  \\\n0                  NaN               NaN              NaN                NaN   \n1                  NaN               NaN              NaN                NaN   \n2                  NaN               NaN              NaN                NaN   \n3           10922040.0              0,01              kWh               0,69   \n4                  NaN               NaN              NaN                NaN   \n6           10921965.0              0,01              kWh               1,99   \n\n   ikWh_total_consumption lTriggerCounter  \n0                       0             NaN  \n1                       0             NaN  \n2                       0             NaN  \n3                    4,69             NaN  \n4                      23             NaN  \n6                   12,99             NaN  \n\n[6 rows x 38 columns]",
      "text/html": "<div>\n<style scoped>\n    .dataframe tbody tr th:only-of-type {\n        vertical-align: middle;\n    }\n\n    .dataframe tbody tr th {\n        vertical-align: top;\n    }\n\n    .dataframe thead th {\n        text-align: right;\n    }\n</style>\n<table border=\"1\" class=\"dataframe\">\n  <thead>\n    <tr style=\"text-align: right;\">\n      <th></th>\n      <th>ID_ZLECENIA_PALONA</th>\n      <th>DTZAPIS</th>\n      <th>ILOSC_PALONA</th>\n      <th>NUMERZASYPU</th>\n      <th>IDZLECENIE</th>\n      <th>NUMERPIECA</th>\n      <th>Anulowany</th>\n      <th>Zagubiona</th>\n      <th>SUMA_ZIELONEJ</th>\n      <th>QuantityError</th>\n      <th>...</th>\n      <th>im3_unit_name</th>\n      <th>ikWh_consumption</th>\n      <th>im3_consumption</th>\n      <th>ikWh_counter1_start</th>\n      <th>ikWh_counter1_finish</th>\n      <th>ikWh_multiplier1</th>\n      <th>ikWh_unit_name1</th>\n      <th>ikWh_consumption1</th>\n      <th>ikWh_total_consumption</th>\n      <th>lTriggerCounter</th>\n    </tr>\n  </thead>\n  <tbody>\n    <tr>\n      <th>0</th>\n      <td>1206810</td>\n      <td>2024-01-10 09:06:00.880</td>\n      <td>0</td>\n      <td>8</td>\n      <td>138624</td>\n      <td>4000</td>\n      <td>0</td>\n      <td>NaN</td>\n      <td>0</td>\n      <td>1</td>\n      <td>...</td>\n      <td>NaN</td>\n      <td>NaN</td>\n      <td>NaN</td>\n      <td>NaN</td>\n      <td>NaN</td>\n      <td>NaN</td>\n      <td>NaN</td>\n      <td>NaN</td>\n      <td>0</td>\n      <td>NaN</td>\n    </tr>\n    <tr>\n      <th>1</th>\n      <td>1206809</td>\n      <td>2024-01-10 08:59:02.527</td>\n      <td>0</td>\n      <td>9</td>\n      <td>138623</td>\n      <td>3000</td>\n      <td>0</td>\n      <td>NaN</td>\n      <td>0</td>\n      <td>1</td>\n      <td>...</td>\n      <td>NaN</td>\n      <td>NaN</td>\n      <td>NaN</td>\n      <td>NaN</td>\n      <td>NaN</td>\n      <td>NaN</td>\n      <td>NaN</td>\n      <td>NaN</td>\n      <td>0</td>\n      <td>NaN</td>\n    </tr>\n    <tr>\n      <th>2</th>\n      <td>1206808</td>\n      <td>2024-01-10 08:57:40.677</td>\n      <td>0</td>\n      <td>7</td>\n      <td>138624</td>\n      <td>4000</td>\n      <td>0</td>\n      <td>NaN</td>\n      <td>0</td>\n      <td>1</td>\n      <td>...</td>\n      <td>NaN</td>\n      <td>NaN</td>\n      <td>NaN</td>\n      <td>NaN</td>\n      <td>NaN</td>\n      <td>NaN</td>\n      <td>NaN</td>\n      <td>NaN</td>\n      <td>0</td>\n      <td>NaN</td>\n    </tr>\n    <tr>\n      <th>3</th>\n      <td>1206807</td>\n      <td>2024-01-10 08:49:11.593</td>\n      <td>0</td>\n      <td>6</td>\n      <td>138624</td>\n      <td>4000</td>\n      <td>0</td>\n      <td>NaN</td>\n      <td>600,1</td>\n      <td>1</td>\n      <td>...</td>\n      <td>m3</td>\n      <td>4.0</td>\n      <td>474.0</td>\n      <td>10921971.0</td>\n      <td>10922040.0</td>\n      <td>0,01</td>\n      <td>kWh</td>\n      <td>0,69</td>\n      <td>4,69</td>\n      <td>NaN</td>\n    </tr>\n    <tr>\n      <th>4</th>\n      <td>1206806</td>\n      <td>2024-01-10 08:48:14.330</td>\n      <td>0</td>\n      <td>8</td>\n      <td>138623</td>\n      <td>3000</td>\n      <td>0</td>\n      <td>NaN</td>\n      <td>400,3</td>\n      <td>1</td>\n      <td>...</td>\n      <td>m3</td>\n      <td>23.0</td>\n      <td>8.0</td>\n      <td>NaN</td>\n      <td>NaN</td>\n      <td>NaN</td>\n      <td>NaN</td>\n      <td>NaN</td>\n      <td>23</td>\n      <td>NaN</td>\n    </tr>\n    <tr>\n      <th>6</th>\n      <td>1206804</td>\n      <td>2024-01-10 08:35:09.410</td>\n      <td>0</td>\n      <td>5</td>\n      <td>138624</td>\n      <td>4000</td>\n      <td>0</td>\n      <td>NaN</td>\n      <td>600,2</td>\n      <td>1</td>\n      <td>...</td>\n      <td>m3</td>\n      <td>11.0</td>\n      <td>1306.0</td>\n      <td>10921766.0</td>\n      <td>10921965.0</td>\n      <td>0,01</td>\n      <td>kWh</td>\n      <td>1,99</td>\n      <td>12,99</td>\n      <td>NaN</td>\n    </tr>\n  </tbody>\n</table>\n<p>6 rows × 38 columns</p>\n</div>"
     },
     "execution_count": 97,
     "metadata": {},
     "output_type": "execute_result"
    }
   ],
   "source": [
    "jde_data[jde_data['QuantityError'] == 1]"
   ],
   "metadata": {
    "collapsed": false,
    "ExecuteTime": {
     "end_time": "2024-02-17T23:03:12.659560200Z",
     "start_time": "2024-02-17T23:03:12.504345800Z"
    }
   },
   "id": "ca42c4b7f43ff75d",
   "execution_count": 97
  },
  {
   "cell_type": "code",
   "outputs": [],
   "source": [
    "columns_to_drop.append('QuantityError')"
   ],
   "metadata": {
    "collapsed": false,
    "ExecuteTime": {
     "end_time": "2024-02-17T23:03:13.062706200Z",
     "start_time": "2024-02-17T23:03:12.785778300Z"
    }
   },
   "id": "e02e2c3950014a66",
   "execution_count": 98
  },
  {
   "cell_type": "code",
   "outputs": [
    {
     "data": {
      "text/plain": "array([0, 1], dtype=int64)"
     },
     "execution_count": 99,
     "metadata": {},
     "output_type": "execute_result"
    }
   ],
   "source": [
    "jde_data['Posted'].unique()"
   ],
   "metadata": {
    "collapsed": false,
    "ExecuteTime": {
     "end_time": "2024-02-17T23:03:13.478550700Z",
     "start_time": "2024-02-17T23:03:13.172413800Z"
    }
   },
   "id": "cd9ccd74fc02d89f",
   "execution_count": 99
  },
  {
   "cell_type": "code",
   "outputs": [
    {
     "data": {
      "text/plain": "      ID_ZLECENIA_PALONA                  DTZAPIS ILOSC_PALONA  NUMERZASYPU  \\\n0                1206810  2024-01-10 09:06:00.880            0            8   \n1                1206809  2024-01-10 08:59:02.527            0            9   \n2                1206808  2024-01-10 08:57:40.677            0            7   \n3                1206807  2024-01-10 08:49:11.593            0            6   \n4                1206806  2024-01-10 08:48:14.330            0            8   \n...                  ...                      ...          ...          ...   \n9769             1197040  2023-11-21 05:11:49.350        511,5            4   \n9771             1197038  2023-11-21 05:05:09.273        511,9            3   \n9802             1197007  2023-11-21 02:28:07.180          300           16   \n9886             1196923  2023-11-20 18:08:35.720          299            7   \n9943             1196866  2023-11-20 07:55:31.313          501            5   \n\n      IDZLECENIE  NUMERPIECA  Anulowany  Zagubiona SUMA_ZIELONEJ  \\\n0         138624        4000          0        NaN             0   \n1         138623        3000          0        NaN             0   \n2         138624        4000          0        NaN             0   \n3         138624        4000          0        NaN         600,1   \n4         138623        3000          0        NaN         400,3   \n...          ...         ...        ...        ...           ...   \n9769      137677        4000          0        NaN         600,4   \n9771      137677        4000          0        NaN         600,3   \n9802      137673        3000          0        NaN         349,2   \n9886      137667        3000          0        NaN         348,9   \n9943      137660        4000          0        NaN      600,7001   \n\n      QuantityError  ... im3_unit_name  ikWh_consumption  im3_consumption  \\\n0                 1  ...           NaN               NaN              NaN   \n1                 1  ...           NaN               NaN              NaN   \n2                 1  ...           NaN               NaN              NaN   \n3                 1  ...            m3               4.0            474.0   \n4                 1  ...            m3              23.0              8.0   \n...             ...  ...           ...               ...              ...   \n9769              0  ...            m3              10.0           1311.0   \n9771              0  ...            m3               9.0           1322.0   \n9802              0  ...            m3              13.0             10.0   \n9886              0  ...            m3              14.0             10.0   \n9943              0  ...            m3              11.0           1305.0   \n\n      ikWh_counter1_start ikWh_counter1_finish  ikWh_multiplier1  \\\n0                     NaN                  NaN               NaN   \n1                     NaN                  NaN               NaN   \n2                     NaN                  NaN               NaN   \n3              10921971.0           10922040.0              0,01   \n4                     NaN                  NaN               NaN   \n...                   ...                  ...               ...   \n9769            9773132.0            9773362.0              0,01   \n9771            9772900.0            9773073.0              0,01   \n9802                  NaN                  NaN               NaN   \n9886                  NaN                  NaN               NaN   \n9943            9749195.0            9749343.0              0,01   \n\n      ikWh_unit_name1  ikWh_consumption1  ikWh_total_consumption  \\\n0                 NaN                NaN                       0   \n1                 NaN                NaN                       0   \n2                 NaN                NaN                       0   \n3                 kWh               0,69                    4,69   \n4                 NaN                NaN                      23   \n...               ...                ...                     ...   \n9769              kWh                2,3                    12,3   \n9771              kWh               1,73                   10,73   \n9802              NaN                NaN                      13   \n9886              NaN                NaN                      14   \n9943              kWh               1,48                   12,48   \n\n     lTriggerCounter  \n0                NaN  \n1                NaN  \n2                NaN  \n3                NaN  \n4                NaN  \n...              ...  \n9769          7262.0  \n9771          7260.0  \n9802           153.0  \n9886            82.0  \n9943          7173.0  \n\n[774 rows x 38 columns]",
      "text/html": "<div>\n<style scoped>\n    .dataframe tbody tr th:only-of-type {\n        vertical-align: middle;\n    }\n\n    .dataframe tbody tr th {\n        vertical-align: top;\n    }\n\n    .dataframe thead th {\n        text-align: right;\n    }\n</style>\n<table border=\"1\" class=\"dataframe\">\n  <thead>\n    <tr style=\"text-align: right;\">\n      <th></th>\n      <th>ID_ZLECENIA_PALONA</th>\n      <th>DTZAPIS</th>\n      <th>ILOSC_PALONA</th>\n      <th>NUMERZASYPU</th>\n      <th>IDZLECENIE</th>\n      <th>NUMERPIECA</th>\n      <th>Anulowany</th>\n      <th>Zagubiona</th>\n      <th>SUMA_ZIELONEJ</th>\n      <th>QuantityError</th>\n      <th>...</th>\n      <th>im3_unit_name</th>\n      <th>ikWh_consumption</th>\n      <th>im3_consumption</th>\n      <th>ikWh_counter1_start</th>\n      <th>ikWh_counter1_finish</th>\n      <th>ikWh_multiplier1</th>\n      <th>ikWh_unit_name1</th>\n      <th>ikWh_consumption1</th>\n      <th>ikWh_total_consumption</th>\n      <th>lTriggerCounter</th>\n    </tr>\n  </thead>\n  <tbody>\n    <tr>\n      <th>0</th>\n      <td>1206810</td>\n      <td>2024-01-10 09:06:00.880</td>\n      <td>0</td>\n      <td>8</td>\n      <td>138624</td>\n      <td>4000</td>\n      <td>0</td>\n      <td>NaN</td>\n      <td>0</td>\n      <td>1</td>\n      <td>...</td>\n      <td>NaN</td>\n      <td>NaN</td>\n      <td>NaN</td>\n      <td>NaN</td>\n      <td>NaN</td>\n      <td>NaN</td>\n      <td>NaN</td>\n      <td>NaN</td>\n      <td>0</td>\n      <td>NaN</td>\n    </tr>\n    <tr>\n      <th>1</th>\n      <td>1206809</td>\n      <td>2024-01-10 08:59:02.527</td>\n      <td>0</td>\n      <td>9</td>\n      <td>138623</td>\n      <td>3000</td>\n      <td>0</td>\n      <td>NaN</td>\n      <td>0</td>\n      <td>1</td>\n      <td>...</td>\n      <td>NaN</td>\n      <td>NaN</td>\n      <td>NaN</td>\n      <td>NaN</td>\n      <td>NaN</td>\n      <td>NaN</td>\n      <td>NaN</td>\n      <td>NaN</td>\n      <td>0</td>\n      <td>NaN</td>\n    </tr>\n    <tr>\n      <th>2</th>\n      <td>1206808</td>\n      <td>2024-01-10 08:57:40.677</td>\n      <td>0</td>\n      <td>7</td>\n      <td>138624</td>\n      <td>4000</td>\n      <td>0</td>\n      <td>NaN</td>\n      <td>0</td>\n      <td>1</td>\n      <td>...</td>\n      <td>NaN</td>\n      <td>NaN</td>\n      <td>NaN</td>\n      <td>NaN</td>\n      <td>NaN</td>\n      <td>NaN</td>\n      <td>NaN</td>\n      <td>NaN</td>\n      <td>0</td>\n      <td>NaN</td>\n    </tr>\n    <tr>\n      <th>3</th>\n      <td>1206807</td>\n      <td>2024-01-10 08:49:11.593</td>\n      <td>0</td>\n      <td>6</td>\n      <td>138624</td>\n      <td>4000</td>\n      <td>0</td>\n      <td>NaN</td>\n      <td>600,1</td>\n      <td>1</td>\n      <td>...</td>\n      <td>m3</td>\n      <td>4.0</td>\n      <td>474.0</td>\n      <td>10921971.0</td>\n      <td>10922040.0</td>\n      <td>0,01</td>\n      <td>kWh</td>\n      <td>0,69</td>\n      <td>4,69</td>\n      <td>NaN</td>\n    </tr>\n    <tr>\n      <th>4</th>\n      <td>1206806</td>\n      <td>2024-01-10 08:48:14.330</td>\n      <td>0</td>\n      <td>8</td>\n      <td>138623</td>\n      <td>3000</td>\n      <td>0</td>\n      <td>NaN</td>\n      <td>400,3</td>\n      <td>1</td>\n      <td>...</td>\n      <td>m3</td>\n      <td>23.0</td>\n      <td>8.0</td>\n      <td>NaN</td>\n      <td>NaN</td>\n      <td>NaN</td>\n      <td>NaN</td>\n      <td>NaN</td>\n      <td>23</td>\n      <td>NaN</td>\n    </tr>\n    <tr>\n      <th>...</th>\n      <td>...</td>\n      <td>...</td>\n      <td>...</td>\n      <td>...</td>\n      <td>...</td>\n      <td>...</td>\n      <td>...</td>\n      <td>...</td>\n      <td>...</td>\n      <td>...</td>\n      <td>...</td>\n      <td>...</td>\n      <td>...</td>\n      <td>...</td>\n      <td>...</td>\n      <td>...</td>\n      <td>...</td>\n      <td>...</td>\n      <td>...</td>\n      <td>...</td>\n      <td>...</td>\n    </tr>\n    <tr>\n      <th>9769</th>\n      <td>1197040</td>\n      <td>2023-11-21 05:11:49.350</td>\n      <td>511,5</td>\n      <td>4</td>\n      <td>137677</td>\n      <td>4000</td>\n      <td>0</td>\n      <td>NaN</td>\n      <td>600,4</td>\n      <td>0</td>\n      <td>...</td>\n      <td>m3</td>\n      <td>10.0</td>\n      <td>1311.0</td>\n      <td>9773132.0</td>\n      <td>9773362.0</td>\n      <td>0,01</td>\n      <td>kWh</td>\n      <td>2,3</td>\n      <td>12,3</td>\n      <td>7262.0</td>\n    </tr>\n    <tr>\n      <th>9771</th>\n      <td>1197038</td>\n      <td>2023-11-21 05:05:09.273</td>\n      <td>511,9</td>\n      <td>3</td>\n      <td>137677</td>\n      <td>4000</td>\n      <td>0</td>\n      <td>NaN</td>\n      <td>600,3</td>\n      <td>0</td>\n      <td>...</td>\n      <td>m3</td>\n      <td>9.0</td>\n      <td>1322.0</td>\n      <td>9772900.0</td>\n      <td>9773073.0</td>\n      <td>0,01</td>\n      <td>kWh</td>\n      <td>1,73</td>\n      <td>10,73</td>\n      <td>7260.0</td>\n    </tr>\n    <tr>\n      <th>9802</th>\n      <td>1197007</td>\n      <td>2023-11-21 02:28:07.180</td>\n      <td>300</td>\n      <td>16</td>\n      <td>137673</td>\n      <td>3000</td>\n      <td>0</td>\n      <td>NaN</td>\n      <td>349,2</td>\n      <td>0</td>\n      <td>...</td>\n      <td>m3</td>\n      <td>13.0</td>\n      <td>10.0</td>\n      <td>NaN</td>\n      <td>NaN</td>\n      <td>NaN</td>\n      <td>NaN</td>\n      <td>NaN</td>\n      <td>13</td>\n      <td>153.0</td>\n    </tr>\n    <tr>\n      <th>9886</th>\n      <td>1196923</td>\n      <td>2023-11-20 18:08:35.720</td>\n      <td>299</td>\n      <td>7</td>\n      <td>137667</td>\n      <td>3000</td>\n      <td>0</td>\n      <td>NaN</td>\n      <td>348,9</td>\n      <td>0</td>\n      <td>...</td>\n      <td>m3</td>\n      <td>14.0</td>\n      <td>10.0</td>\n      <td>NaN</td>\n      <td>NaN</td>\n      <td>NaN</td>\n      <td>NaN</td>\n      <td>NaN</td>\n      <td>14</td>\n      <td>82.0</td>\n    </tr>\n    <tr>\n      <th>9943</th>\n      <td>1196866</td>\n      <td>2023-11-20 07:55:31.313</td>\n      <td>501</td>\n      <td>5</td>\n      <td>137660</td>\n      <td>4000</td>\n      <td>0</td>\n      <td>NaN</td>\n      <td>600,7001</td>\n      <td>0</td>\n      <td>...</td>\n      <td>m3</td>\n      <td>11.0</td>\n      <td>1305.0</td>\n      <td>9749195.0</td>\n      <td>9749343.0</td>\n      <td>0,01</td>\n      <td>kWh</td>\n      <td>1,48</td>\n      <td>12,48</td>\n      <td>7173.0</td>\n    </tr>\n  </tbody>\n</table>\n<p>774 rows × 38 columns</p>\n</div>"
     },
     "execution_count": 100,
     "metadata": {},
     "output_type": "execute_result"
    }
   ],
   "source": [
    "jde_data[jde_data['Posted'] == 0]"
   ],
   "metadata": {
    "collapsed": false,
    "ExecuteTime": {
     "end_time": "2024-02-17T23:03:13.678868600Z",
     "start_time": "2024-02-17T23:03:13.448892700Z"
    }
   },
   "id": "37194407599a47e3",
   "execution_count": 100
  },
  {
   "cell_type": "code",
   "outputs": [],
   "source": [
    "columns_to_drop.append('Posted')"
   ],
   "metadata": {
    "collapsed": false,
    "ExecuteTime": {
     "end_time": "2024-02-17T23:03:13.819811Z",
     "start_time": "2024-02-17T23:03:13.660092300Z"
    }
   },
   "id": "c8f3f08aa0f6c497",
   "execution_count": 101
  },
  {
   "cell_type": "code",
   "outputs": [],
   "source": [
    "columns_to_drop.append('dtLastEdited')"
   ],
   "metadata": {
    "collapsed": false,
    "ExecuteTime": {
     "end_time": "2024-02-17T23:03:13.971883200Z",
     "start_time": "2024-02-17T23:03:13.816173900Z"
    }
   },
   "id": "eb9f9f2fbca48923",
   "execution_count": 102
  },
  {
   "cell_type": "code",
   "outputs": [
    {
     "data": {
      "text/plain": "   ID_ZLECENIA_PALONA                  DTZAPIS ILOSC_PALONA  NUMERZASYPU  \\\n0             1206810  2024-01-10 09:06:00.880            0            8   \n1             1206809  2024-01-10 08:59:02.527            0            9   \n2             1206808  2024-01-10 08:57:40.677            0            7   \n3             1206807  2024-01-10 08:49:11.593            0            6   \n4             1206806  2024-01-10 08:48:14.330            0            8   \n\n   IDZLECENIE  NUMERPIECA  Anulowany  Zagubiona SUMA_ZIELONEJ  QuantityError  \\\n0      138624        4000          0        NaN             0              1   \n1      138623        3000          0        NaN             0              1   \n2      138624        4000          0        NaN             0              1   \n3      138624        4000          0        NaN         600,1              1   \n4      138623        3000          0        NaN         400,3              1   \n\n   ... im3_unit_name  ikWh_consumption  im3_consumption  ikWh_counter1_start  \\\n0  ...           NaN               NaN              NaN                  NaN   \n1  ...           NaN               NaN              NaN                  NaN   \n2  ...           NaN               NaN              NaN                  NaN   \n3  ...            m3               4.0            474.0           10921971.0   \n4  ...            m3              23.0              8.0                  NaN   \n\n  ikWh_counter1_finish  ikWh_multiplier1  ikWh_unit_name1  ikWh_consumption1  \\\n0                  NaN               NaN              NaN                NaN   \n1                  NaN               NaN              NaN                NaN   \n2                  NaN               NaN              NaN                NaN   \n3           10922040.0              0,01              kWh               0,69   \n4                  NaN               NaN              NaN                NaN   \n\n   ikWh_total_consumption lTriggerCounter  \n0                       0             NaN  \n1                       0             NaN  \n2                       0             NaN  \n3                    4,69             NaN  \n4                      23             NaN  \n\n[5 rows x 38 columns]",
      "text/html": "<div>\n<style scoped>\n    .dataframe tbody tr th:only-of-type {\n        vertical-align: middle;\n    }\n\n    .dataframe tbody tr th {\n        vertical-align: top;\n    }\n\n    .dataframe thead th {\n        text-align: right;\n    }\n</style>\n<table border=\"1\" class=\"dataframe\">\n  <thead>\n    <tr style=\"text-align: right;\">\n      <th></th>\n      <th>ID_ZLECENIA_PALONA</th>\n      <th>DTZAPIS</th>\n      <th>ILOSC_PALONA</th>\n      <th>NUMERZASYPU</th>\n      <th>IDZLECENIE</th>\n      <th>NUMERPIECA</th>\n      <th>Anulowany</th>\n      <th>Zagubiona</th>\n      <th>SUMA_ZIELONEJ</th>\n      <th>QuantityError</th>\n      <th>...</th>\n      <th>im3_unit_name</th>\n      <th>ikWh_consumption</th>\n      <th>im3_consumption</th>\n      <th>ikWh_counter1_start</th>\n      <th>ikWh_counter1_finish</th>\n      <th>ikWh_multiplier1</th>\n      <th>ikWh_unit_name1</th>\n      <th>ikWh_consumption1</th>\n      <th>ikWh_total_consumption</th>\n      <th>lTriggerCounter</th>\n    </tr>\n  </thead>\n  <tbody>\n    <tr>\n      <th>0</th>\n      <td>1206810</td>\n      <td>2024-01-10 09:06:00.880</td>\n      <td>0</td>\n      <td>8</td>\n      <td>138624</td>\n      <td>4000</td>\n      <td>0</td>\n      <td>NaN</td>\n      <td>0</td>\n      <td>1</td>\n      <td>...</td>\n      <td>NaN</td>\n      <td>NaN</td>\n      <td>NaN</td>\n      <td>NaN</td>\n      <td>NaN</td>\n      <td>NaN</td>\n      <td>NaN</td>\n      <td>NaN</td>\n      <td>0</td>\n      <td>NaN</td>\n    </tr>\n    <tr>\n      <th>1</th>\n      <td>1206809</td>\n      <td>2024-01-10 08:59:02.527</td>\n      <td>0</td>\n      <td>9</td>\n      <td>138623</td>\n      <td>3000</td>\n      <td>0</td>\n      <td>NaN</td>\n      <td>0</td>\n      <td>1</td>\n      <td>...</td>\n      <td>NaN</td>\n      <td>NaN</td>\n      <td>NaN</td>\n      <td>NaN</td>\n      <td>NaN</td>\n      <td>NaN</td>\n      <td>NaN</td>\n      <td>NaN</td>\n      <td>0</td>\n      <td>NaN</td>\n    </tr>\n    <tr>\n      <th>2</th>\n      <td>1206808</td>\n      <td>2024-01-10 08:57:40.677</td>\n      <td>0</td>\n      <td>7</td>\n      <td>138624</td>\n      <td>4000</td>\n      <td>0</td>\n      <td>NaN</td>\n      <td>0</td>\n      <td>1</td>\n      <td>...</td>\n      <td>NaN</td>\n      <td>NaN</td>\n      <td>NaN</td>\n      <td>NaN</td>\n      <td>NaN</td>\n      <td>NaN</td>\n      <td>NaN</td>\n      <td>NaN</td>\n      <td>0</td>\n      <td>NaN</td>\n    </tr>\n    <tr>\n      <th>3</th>\n      <td>1206807</td>\n      <td>2024-01-10 08:49:11.593</td>\n      <td>0</td>\n      <td>6</td>\n      <td>138624</td>\n      <td>4000</td>\n      <td>0</td>\n      <td>NaN</td>\n      <td>600,1</td>\n      <td>1</td>\n      <td>...</td>\n      <td>m3</td>\n      <td>4.0</td>\n      <td>474.0</td>\n      <td>10921971.0</td>\n      <td>10922040.0</td>\n      <td>0,01</td>\n      <td>kWh</td>\n      <td>0,69</td>\n      <td>4,69</td>\n      <td>NaN</td>\n    </tr>\n    <tr>\n      <th>4</th>\n      <td>1206806</td>\n      <td>2024-01-10 08:48:14.330</td>\n      <td>0</td>\n      <td>8</td>\n      <td>138623</td>\n      <td>3000</td>\n      <td>0</td>\n      <td>NaN</td>\n      <td>400,3</td>\n      <td>1</td>\n      <td>...</td>\n      <td>m3</td>\n      <td>23.0</td>\n      <td>8.0</td>\n      <td>NaN</td>\n      <td>NaN</td>\n      <td>NaN</td>\n      <td>NaN</td>\n      <td>NaN</td>\n      <td>23</td>\n      <td>NaN</td>\n    </tr>\n  </tbody>\n</table>\n<p>5 rows × 38 columns</p>\n</div>"
     },
     "execution_count": 103,
     "metadata": {},
     "output_type": "execute_result"
    }
   ],
   "source": [
    "jde_data.head()"
   ],
   "metadata": {
    "collapsed": false,
    "ExecuteTime": {
     "end_time": "2024-02-17T23:03:14.242541800Z",
     "start_time": "2024-02-17T23:03:14.109679800Z"
    }
   },
   "id": "a611f8b1fc01fcc5",
   "execution_count": 103
  },
  {
   "cell_type": "code",
   "outputs": [
    {
     "data": {
      "text/plain": "array([nan,  1.])"
     },
     "execution_count": 104,
     "metadata": {},
     "output_type": "execute_result"
    }
   ],
   "source": [
    "jde_data['ExternalErrorCleaner'].unique()"
   ],
   "metadata": {
    "collapsed": false,
    "ExecuteTime": {
     "end_time": "2024-02-17T23:03:14.244539200Z",
     "start_time": "2024-02-17T23:03:14.134506800Z"
    }
   },
   "id": "87d077e2b6fcdef4",
   "execution_count": 104
  },
  {
   "cell_type": "code",
   "outputs": [
    {
     "data": {
      "text/plain": "      ID_ZLECENIA_PALONA                  DTZAPIS ILOSC_PALONA  NUMERZASYPU  \\\n47               1206763  2024-01-10 03:51:05.300        519,3           10   \n80               1206730  2024-01-10 01:00:30.273          345           32   \n94               1206716  2024-01-09 23:55:07.663        504,6            5   \n112              1206698  2024-01-09 22:37:56.997          346           13   \n120              1206690  2024-01-09 22:03:15.270          348            9   \n...                  ...                      ...          ...          ...   \n9888             1196921  2023-11-20 18:01:44.660          310            6   \n9890             1196919  2023-11-20 17:51:45.303          310            5   \n9917             1196892  2023-11-20 11:20:35.740        427,3            3   \n9977             1196832  2023-11-20 04:42:50.003          343            4   \n9981             1196828  2023-11-20 04:25:17.787        342,7            2   \n\n      IDZLECENIE  NUMERPIECA  Anulowany  Zagubiona SUMA_ZIELONEJ  \\\n47        138619        4000          0        NaN         599,7   \n80        138612        3000          0        NaN         400,1   \n94        138615        4000          0        NaN         598,6   \n112       138612        3000          0        NaN         400,2   \n120       138612        3000          0        NaN         400,8   \n...          ...         ...        ...        ...           ...   \n9888      137667        3000          0        NaN         348,9   \n9890      137667        3000          0        NaN         349,9   \n9917      137662        4000          0        NaN         498,2   \n9977      137658        3000          0        NaN         400,2   \n9981      137658        3000          0        NaN         399,6   \n\n      QuantityError  ... im3_unit_name  ikWh_consumption  im3_consumption  \\\n47                0  ...            m3              10.0           1247.0   \n80                0  ...            m3              16.0              8.0   \n94                0  ...            m3              12.0           1237.0   \n112               0  ...            m3              14.0              8.0   \n120               0  ...            m3              17.0              9.0   \n...             ...  ...           ...               ...              ...   \n9888              0  ...            m3              12.0              9.0   \n9890              0  ...            m3              12.0              9.0   \n9917              0  ...            m3              10.0           1133.0   \n9977              0  ...            m3              16.0             10.0   \n9981              0  ...            m3              15.0             11.0   \n\n      ikWh_counter1_start ikWh_counter1_finish  ikWh_multiplier1  \\\n47             10915660.0           10915792.0              0,01   \n80                    NaN                  NaN               NaN   \n94             10911737.0           10912046.0              0,01   \n112                   NaN                  NaN               NaN   \n120                   NaN                  NaN               NaN   \n...                   ...                  ...               ...   \n9888                  NaN                  NaN               NaN   \n9890                  NaN                  NaN               NaN   \n9917            9752768.0            9752894.0              0,01   \n9977                  NaN                  NaN               NaN   \n9981                  NaN                  NaN               NaN   \n\n      ikWh_unit_name1  ikWh_consumption1  ikWh_total_consumption  \\\n47                kWh               1,32                   11,32   \n80                NaN                NaN                      16   \n94                kWh               3,09                   15,09   \n112               NaN                NaN                      14   \n120               NaN                NaN                      17   \n...               ...                ...                     ...   \n9888              NaN                NaN                      12   \n9890              NaN                NaN                      12   \n9917              kWh               1,26                   11,26   \n9977              NaN                NaN                      16   \n9981              NaN                NaN                      15   \n\n     lTriggerCounter  \n47               NaN  \n80             222.0  \n94            2011.0  \n112            184.0  \n120            176.0  \n...              ...  \n9888            80.0  \n9890            78.0  \n9917          7183.0  \n9977           785.0  \n9981           781.0  \n\n[402 rows x 38 columns]",
      "text/html": "<div>\n<style scoped>\n    .dataframe tbody tr th:only-of-type {\n        vertical-align: middle;\n    }\n\n    .dataframe tbody tr th {\n        vertical-align: top;\n    }\n\n    .dataframe thead th {\n        text-align: right;\n    }\n</style>\n<table border=\"1\" class=\"dataframe\">\n  <thead>\n    <tr style=\"text-align: right;\">\n      <th></th>\n      <th>ID_ZLECENIA_PALONA</th>\n      <th>DTZAPIS</th>\n      <th>ILOSC_PALONA</th>\n      <th>NUMERZASYPU</th>\n      <th>IDZLECENIE</th>\n      <th>NUMERPIECA</th>\n      <th>Anulowany</th>\n      <th>Zagubiona</th>\n      <th>SUMA_ZIELONEJ</th>\n      <th>QuantityError</th>\n      <th>...</th>\n      <th>im3_unit_name</th>\n      <th>ikWh_consumption</th>\n      <th>im3_consumption</th>\n      <th>ikWh_counter1_start</th>\n      <th>ikWh_counter1_finish</th>\n      <th>ikWh_multiplier1</th>\n      <th>ikWh_unit_name1</th>\n      <th>ikWh_consumption1</th>\n      <th>ikWh_total_consumption</th>\n      <th>lTriggerCounter</th>\n    </tr>\n  </thead>\n  <tbody>\n    <tr>\n      <th>47</th>\n      <td>1206763</td>\n      <td>2024-01-10 03:51:05.300</td>\n      <td>519,3</td>\n      <td>10</td>\n      <td>138619</td>\n      <td>4000</td>\n      <td>0</td>\n      <td>NaN</td>\n      <td>599,7</td>\n      <td>0</td>\n      <td>...</td>\n      <td>m3</td>\n      <td>10.0</td>\n      <td>1247.0</td>\n      <td>10915660.0</td>\n      <td>10915792.0</td>\n      <td>0,01</td>\n      <td>kWh</td>\n      <td>1,32</td>\n      <td>11,32</td>\n      <td>NaN</td>\n    </tr>\n    <tr>\n      <th>80</th>\n      <td>1206730</td>\n      <td>2024-01-10 01:00:30.273</td>\n      <td>345</td>\n      <td>32</td>\n      <td>138612</td>\n      <td>3000</td>\n      <td>0</td>\n      <td>NaN</td>\n      <td>400,1</td>\n      <td>0</td>\n      <td>...</td>\n      <td>m3</td>\n      <td>16.0</td>\n      <td>8.0</td>\n      <td>NaN</td>\n      <td>NaN</td>\n      <td>NaN</td>\n      <td>NaN</td>\n      <td>NaN</td>\n      <td>16</td>\n      <td>222.0</td>\n    </tr>\n    <tr>\n      <th>94</th>\n      <td>1206716</td>\n      <td>2024-01-09 23:55:07.663</td>\n      <td>504,6</td>\n      <td>5</td>\n      <td>138615</td>\n      <td>4000</td>\n      <td>0</td>\n      <td>NaN</td>\n      <td>598,6</td>\n      <td>0</td>\n      <td>...</td>\n      <td>m3</td>\n      <td>12.0</td>\n      <td>1237.0</td>\n      <td>10911737.0</td>\n      <td>10912046.0</td>\n      <td>0,01</td>\n      <td>kWh</td>\n      <td>3,09</td>\n      <td>15,09</td>\n      <td>2011.0</td>\n    </tr>\n    <tr>\n      <th>112</th>\n      <td>1206698</td>\n      <td>2024-01-09 22:37:56.997</td>\n      <td>346</td>\n      <td>13</td>\n      <td>138612</td>\n      <td>3000</td>\n      <td>0</td>\n      <td>NaN</td>\n      <td>400,2</td>\n      <td>0</td>\n      <td>...</td>\n      <td>m3</td>\n      <td>14.0</td>\n      <td>8.0</td>\n      <td>NaN</td>\n      <td>NaN</td>\n      <td>NaN</td>\n      <td>NaN</td>\n      <td>NaN</td>\n      <td>14</td>\n      <td>184.0</td>\n    </tr>\n    <tr>\n      <th>120</th>\n      <td>1206690</td>\n      <td>2024-01-09 22:03:15.270</td>\n      <td>348</td>\n      <td>9</td>\n      <td>138612</td>\n      <td>3000</td>\n      <td>0</td>\n      <td>NaN</td>\n      <td>400,8</td>\n      <td>0</td>\n      <td>...</td>\n      <td>m3</td>\n      <td>17.0</td>\n      <td>9.0</td>\n      <td>NaN</td>\n      <td>NaN</td>\n      <td>NaN</td>\n      <td>NaN</td>\n      <td>NaN</td>\n      <td>17</td>\n      <td>176.0</td>\n    </tr>\n    <tr>\n      <th>...</th>\n      <td>...</td>\n      <td>...</td>\n      <td>...</td>\n      <td>...</td>\n      <td>...</td>\n      <td>...</td>\n      <td>...</td>\n      <td>...</td>\n      <td>...</td>\n      <td>...</td>\n      <td>...</td>\n      <td>...</td>\n      <td>...</td>\n      <td>...</td>\n      <td>...</td>\n      <td>...</td>\n      <td>...</td>\n      <td>...</td>\n      <td>...</td>\n      <td>...</td>\n      <td>...</td>\n    </tr>\n    <tr>\n      <th>9888</th>\n      <td>1196921</td>\n      <td>2023-11-20 18:01:44.660</td>\n      <td>310</td>\n      <td>6</td>\n      <td>137667</td>\n      <td>3000</td>\n      <td>0</td>\n      <td>NaN</td>\n      <td>348,9</td>\n      <td>0</td>\n      <td>...</td>\n      <td>m3</td>\n      <td>12.0</td>\n      <td>9.0</td>\n      <td>NaN</td>\n      <td>NaN</td>\n      <td>NaN</td>\n      <td>NaN</td>\n      <td>NaN</td>\n      <td>12</td>\n      <td>80.0</td>\n    </tr>\n    <tr>\n      <th>9890</th>\n      <td>1196919</td>\n      <td>2023-11-20 17:51:45.303</td>\n      <td>310</td>\n      <td>5</td>\n      <td>137667</td>\n      <td>3000</td>\n      <td>0</td>\n      <td>NaN</td>\n      <td>349,9</td>\n      <td>0</td>\n      <td>...</td>\n      <td>m3</td>\n      <td>12.0</td>\n      <td>9.0</td>\n      <td>NaN</td>\n      <td>NaN</td>\n      <td>NaN</td>\n      <td>NaN</td>\n      <td>NaN</td>\n      <td>12</td>\n      <td>78.0</td>\n    </tr>\n    <tr>\n      <th>9917</th>\n      <td>1196892</td>\n      <td>2023-11-20 11:20:35.740</td>\n      <td>427,3</td>\n      <td>3</td>\n      <td>137662</td>\n      <td>4000</td>\n      <td>0</td>\n      <td>NaN</td>\n      <td>498,2</td>\n      <td>0</td>\n      <td>...</td>\n      <td>m3</td>\n      <td>10.0</td>\n      <td>1133.0</td>\n      <td>9752768.0</td>\n      <td>9752894.0</td>\n      <td>0,01</td>\n      <td>kWh</td>\n      <td>1,26</td>\n      <td>11,26</td>\n      <td>7183.0</td>\n    </tr>\n    <tr>\n      <th>9977</th>\n      <td>1196832</td>\n      <td>2023-11-20 04:42:50.003</td>\n      <td>343</td>\n      <td>4</td>\n      <td>137658</td>\n      <td>3000</td>\n      <td>0</td>\n      <td>NaN</td>\n      <td>400,2</td>\n      <td>0</td>\n      <td>...</td>\n      <td>m3</td>\n      <td>16.0</td>\n      <td>10.0</td>\n      <td>NaN</td>\n      <td>NaN</td>\n      <td>NaN</td>\n      <td>NaN</td>\n      <td>NaN</td>\n      <td>16</td>\n      <td>785.0</td>\n    </tr>\n    <tr>\n      <th>9981</th>\n      <td>1196828</td>\n      <td>2023-11-20 04:25:17.787</td>\n      <td>342,7</td>\n      <td>2</td>\n      <td>137658</td>\n      <td>3000</td>\n      <td>0</td>\n      <td>NaN</td>\n      <td>399,6</td>\n      <td>0</td>\n      <td>...</td>\n      <td>m3</td>\n      <td>15.0</td>\n      <td>11.0</td>\n      <td>NaN</td>\n      <td>NaN</td>\n      <td>NaN</td>\n      <td>NaN</td>\n      <td>NaN</td>\n      <td>15</td>\n      <td>781.0</td>\n    </tr>\n  </tbody>\n</table>\n<p>402 rows × 38 columns</p>\n</div>"
     },
     "execution_count": 105,
     "metadata": {},
     "output_type": "execute_result"
    }
   ],
   "source": [
    "jde_data[jde_data['ExternalErrorCleaner'] == 1]"
   ],
   "metadata": {
    "collapsed": false,
    "ExecuteTime": {
     "end_time": "2024-02-17T23:03:14.352759600Z",
     "start_time": "2024-02-17T23:03:14.219280500Z"
    }
   },
   "id": "ea69fc8c868bf338",
   "execution_count": 105
  },
  {
   "cell_type": "code",
   "outputs": [],
   "source": [
    "columns_to_drop.append('ExternalErrorCleaner')"
   ],
   "metadata": {
    "collapsed": false,
    "ExecuteTime": {
     "end_time": "2024-02-17T23:03:14.480418600Z",
     "start_time": "2024-02-17T23:03:14.262491100Z"
    }
   },
   "id": "78a505d2d65e22ca",
   "execution_count": 106
  },
  {
   "cell_type": "code",
   "outputs": [
    {
     "data": {
      "text/plain": "   ID_ZLECENIA_PALONA                  DTZAPIS ILOSC_PALONA  NUMERZASYPU  \\\n0             1206810  2024-01-10 09:06:00.880            0            8   \n1             1206809  2024-01-10 08:59:02.527            0            9   \n2             1206808  2024-01-10 08:57:40.677            0            7   \n3             1206807  2024-01-10 08:49:11.593            0            6   \n4             1206806  2024-01-10 08:48:14.330            0            8   \n\n   IDZLECENIE  NUMERPIECA  Anulowany  Zagubiona SUMA_ZIELONEJ  QuantityError  \\\n0      138624        4000          0        NaN             0              1   \n1      138623        3000          0        NaN             0              1   \n2      138624        4000          0        NaN             0              1   \n3      138624        4000          0        NaN         600,1              1   \n4      138623        3000          0        NaN         400,3              1   \n\n   ... im3_unit_name  ikWh_consumption  im3_consumption  ikWh_counter1_start  \\\n0  ...           NaN               NaN              NaN                  NaN   \n1  ...           NaN               NaN              NaN                  NaN   \n2  ...           NaN               NaN              NaN                  NaN   \n3  ...            m3               4.0            474.0           10921971.0   \n4  ...            m3              23.0              8.0                  NaN   \n\n  ikWh_counter1_finish  ikWh_multiplier1  ikWh_unit_name1  ikWh_consumption1  \\\n0                  NaN               NaN              NaN                NaN   \n1                  NaN               NaN              NaN                NaN   \n2                  NaN               NaN              NaN                NaN   \n3           10922040.0              0,01              kWh               0,69   \n4                  NaN               NaN              NaN                NaN   \n\n   ikWh_total_consumption lTriggerCounter  \n0                       0             NaN  \n1                       0             NaN  \n2                       0             NaN  \n3                    4,69             NaN  \n4                      23             NaN  \n\n[5 rows x 38 columns]",
      "text/html": "<div>\n<style scoped>\n    .dataframe tbody tr th:only-of-type {\n        vertical-align: middle;\n    }\n\n    .dataframe tbody tr th {\n        vertical-align: top;\n    }\n\n    .dataframe thead th {\n        text-align: right;\n    }\n</style>\n<table border=\"1\" class=\"dataframe\">\n  <thead>\n    <tr style=\"text-align: right;\">\n      <th></th>\n      <th>ID_ZLECENIA_PALONA</th>\n      <th>DTZAPIS</th>\n      <th>ILOSC_PALONA</th>\n      <th>NUMERZASYPU</th>\n      <th>IDZLECENIE</th>\n      <th>NUMERPIECA</th>\n      <th>Anulowany</th>\n      <th>Zagubiona</th>\n      <th>SUMA_ZIELONEJ</th>\n      <th>QuantityError</th>\n      <th>...</th>\n      <th>im3_unit_name</th>\n      <th>ikWh_consumption</th>\n      <th>im3_consumption</th>\n      <th>ikWh_counter1_start</th>\n      <th>ikWh_counter1_finish</th>\n      <th>ikWh_multiplier1</th>\n      <th>ikWh_unit_name1</th>\n      <th>ikWh_consumption1</th>\n      <th>ikWh_total_consumption</th>\n      <th>lTriggerCounter</th>\n    </tr>\n  </thead>\n  <tbody>\n    <tr>\n      <th>0</th>\n      <td>1206810</td>\n      <td>2024-01-10 09:06:00.880</td>\n      <td>0</td>\n      <td>8</td>\n      <td>138624</td>\n      <td>4000</td>\n      <td>0</td>\n      <td>NaN</td>\n      <td>0</td>\n      <td>1</td>\n      <td>...</td>\n      <td>NaN</td>\n      <td>NaN</td>\n      <td>NaN</td>\n      <td>NaN</td>\n      <td>NaN</td>\n      <td>NaN</td>\n      <td>NaN</td>\n      <td>NaN</td>\n      <td>0</td>\n      <td>NaN</td>\n    </tr>\n    <tr>\n      <th>1</th>\n      <td>1206809</td>\n      <td>2024-01-10 08:59:02.527</td>\n      <td>0</td>\n      <td>9</td>\n      <td>138623</td>\n      <td>3000</td>\n      <td>0</td>\n      <td>NaN</td>\n      <td>0</td>\n      <td>1</td>\n      <td>...</td>\n      <td>NaN</td>\n      <td>NaN</td>\n      <td>NaN</td>\n      <td>NaN</td>\n      <td>NaN</td>\n      <td>NaN</td>\n      <td>NaN</td>\n      <td>NaN</td>\n      <td>0</td>\n      <td>NaN</td>\n    </tr>\n    <tr>\n      <th>2</th>\n      <td>1206808</td>\n      <td>2024-01-10 08:57:40.677</td>\n      <td>0</td>\n      <td>7</td>\n      <td>138624</td>\n      <td>4000</td>\n      <td>0</td>\n      <td>NaN</td>\n      <td>0</td>\n      <td>1</td>\n      <td>...</td>\n      <td>NaN</td>\n      <td>NaN</td>\n      <td>NaN</td>\n      <td>NaN</td>\n      <td>NaN</td>\n      <td>NaN</td>\n      <td>NaN</td>\n      <td>NaN</td>\n      <td>0</td>\n      <td>NaN</td>\n    </tr>\n    <tr>\n      <th>3</th>\n      <td>1206807</td>\n      <td>2024-01-10 08:49:11.593</td>\n      <td>0</td>\n      <td>6</td>\n      <td>138624</td>\n      <td>4000</td>\n      <td>0</td>\n      <td>NaN</td>\n      <td>600,1</td>\n      <td>1</td>\n      <td>...</td>\n      <td>m3</td>\n      <td>4.0</td>\n      <td>474.0</td>\n      <td>10921971.0</td>\n      <td>10922040.0</td>\n      <td>0,01</td>\n      <td>kWh</td>\n      <td>0,69</td>\n      <td>4,69</td>\n      <td>NaN</td>\n    </tr>\n    <tr>\n      <th>4</th>\n      <td>1206806</td>\n      <td>2024-01-10 08:48:14.330</td>\n      <td>0</td>\n      <td>8</td>\n      <td>138623</td>\n      <td>3000</td>\n      <td>0</td>\n      <td>NaN</td>\n      <td>400,3</td>\n      <td>1</td>\n      <td>...</td>\n      <td>m3</td>\n      <td>23.0</td>\n      <td>8.0</td>\n      <td>NaN</td>\n      <td>NaN</td>\n      <td>NaN</td>\n      <td>NaN</td>\n      <td>NaN</td>\n      <td>23</td>\n      <td>NaN</td>\n    </tr>\n  </tbody>\n</table>\n<p>5 rows × 38 columns</p>\n</div>"
     },
     "execution_count": 107,
     "metadata": {},
     "output_type": "execute_result"
    }
   ],
   "source": [
    "jde_data.head()"
   ],
   "metadata": {
    "collapsed": false,
    "ExecuteTime": {
     "end_time": "2024-02-17T23:03:14.883748Z",
     "start_time": "2024-02-17T23:03:14.543251600Z"
    }
   },
   "id": "f89b7cfe42812b78",
   "execution_count": 107
  },
  {
   "cell_type": "code",
   "outputs": [
    {
     "data": {
      "text/plain": "array([nan, 24., 32., 40.,  6., 18., 10.])"
     },
     "execution_count": 108,
     "metadata": {},
     "output_type": "execute_result"
    }
   ],
   "source": [
    "jde_data['READJUSTED_BY'].unique()"
   ],
   "metadata": {
    "collapsed": false,
    "ExecuteTime": {
     "end_time": "2024-02-17T23:03:14.942590600Z",
     "start_time": "2024-02-17T23:03:14.824692100Z"
    }
   },
   "id": "f0f178255c4c06ab",
   "execution_count": 108
  },
  {
   "cell_type": "code",
   "outputs": [],
   "source": [
    "columns_to_drop.append('READJUSTED_BY')"
   ],
   "metadata": {
    "collapsed": false,
    "ExecuteTime": {
     "end_time": "2024-02-17T23:03:15.068731300Z",
     "start_time": "2024-02-17T23:03:14.945730200Z"
    }
   },
   "id": "5384bc515c97edd7",
   "execution_count": 109
  },
  {
   "cell_type": "code",
   "outputs": [
    {
     "data": {
      "text/plain": "   ID_ZLECENIA_PALONA                  DTZAPIS ILOSC_PALONA  NUMERZASYPU  \\\n0             1206810  2024-01-10 09:06:00.880            0            8   \n1             1206809  2024-01-10 08:59:02.527            0            9   \n2             1206808  2024-01-10 08:57:40.677            0            7   \n3             1206807  2024-01-10 08:49:11.593            0            6   \n4             1206806  2024-01-10 08:48:14.330            0            8   \n\n   IDZLECENIE  NUMERPIECA  Anulowany  Zagubiona SUMA_ZIELONEJ  QuantityError  \\\n0      138624        4000          0        NaN             0              1   \n1      138623        3000          0        NaN             0              1   \n2      138624        4000          0        NaN             0              1   \n3      138624        4000          0        NaN         600,1              1   \n4      138623        3000          0        NaN         400,3              1   \n\n   ... im3_unit_name  ikWh_consumption  im3_consumption  ikWh_counter1_start  \\\n0  ...           NaN               NaN              NaN                  NaN   \n1  ...           NaN               NaN              NaN                  NaN   \n2  ...           NaN               NaN              NaN                  NaN   \n3  ...            m3               4.0            474.0           10921971.0   \n4  ...            m3              23.0              8.0                  NaN   \n\n  ikWh_counter1_finish  ikWh_multiplier1  ikWh_unit_name1  ikWh_consumption1  \\\n0                  NaN               NaN              NaN                NaN   \n1                  NaN               NaN              NaN                NaN   \n2                  NaN               NaN              NaN                NaN   \n3           10922040.0              0,01              kWh               0,69   \n4                  NaN               NaN              NaN                NaN   \n\n   ikWh_total_consumption lTriggerCounter  \n0                       0             NaN  \n1                       0             NaN  \n2                       0             NaN  \n3                    4,69             NaN  \n4                      23             NaN  \n\n[5 rows x 38 columns]",
      "text/html": "<div>\n<style scoped>\n    .dataframe tbody tr th:only-of-type {\n        vertical-align: middle;\n    }\n\n    .dataframe tbody tr th {\n        vertical-align: top;\n    }\n\n    .dataframe thead th {\n        text-align: right;\n    }\n</style>\n<table border=\"1\" class=\"dataframe\">\n  <thead>\n    <tr style=\"text-align: right;\">\n      <th></th>\n      <th>ID_ZLECENIA_PALONA</th>\n      <th>DTZAPIS</th>\n      <th>ILOSC_PALONA</th>\n      <th>NUMERZASYPU</th>\n      <th>IDZLECENIE</th>\n      <th>NUMERPIECA</th>\n      <th>Anulowany</th>\n      <th>Zagubiona</th>\n      <th>SUMA_ZIELONEJ</th>\n      <th>QuantityError</th>\n      <th>...</th>\n      <th>im3_unit_name</th>\n      <th>ikWh_consumption</th>\n      <th>im3_consumption</th>\n      <th>ikWh_counter1_start</th>\n      <th>ikWh_counter1_finish</th>\n      <th>ikWh_multiplier1</th>\n      <th>ikWh_unit_name1</th>\n      <th>ikWh_consumption1</th>\n      <th>ikWh_total_consumption</th>\n      <th>lTriggerCounter</th>\n    </tr>\n  </thead>\n  <tbody>\n    <tr>\n      <th>0</th>\n      <td>1206810</td>\n      <td>2024-01-10 09:06:00.880</td>\n      <td>0</td>\n      <td>8</td>\n      <td>138624</td>\n      <td>4000</td>\n      <td>0</td>\n      <td>NaN</td>\n      <td>0</td>\n      <td>1</td>\n      <td>...</td>\n      <td>NaN</td>\n      <td>NaN</td>\n      <td>NaN</td>\n      <td>NaN</td>\n      <td>NaN</td>\n      <td>NaN</td>\n      <td>NaN</td>\n      <td>NaN</td>\n      <td>0</td>\n      <td>NaN</td>\n    </tr>\n    <tr>\n      <th>1</th>\n      <td>1206809</td>\n      <td>2024-01-10 08:59:02.527</td>\n      <td>0</td>\n      <td>9</td>\n      <td>138623</td>\n      <td>3000</td>\n      <td>0</td>\n      <td>NaN</td>\n      <td>0</td>\n      <td>1</td>\n      <td>...</td>\n      <td>NaN</td>\n      <td>NaN</td>\n      <td>NaN</td>\n      <td>NaN</td>\n      <td>NaN</td>\n      <td>NaN</td>\n      <td>NaN</td>\n      <td>NaN</td>\n      <td>0</td>\n      <td>NaN</td>\n    </tr>\n    <tr>\n      <th>2</th>\n      <td>1206808</td>\n      <td>2024-01-10 08:57:40.677</td>\n      <td>0</td>\n      <td>7</td>\n      <td>138624</td>\n      <td>4000</td>\n      <td>0</td>\n      <td>NaN</td>\n      <td>0</td>\n      <td>1</td>\n      <td>...</td>\n      <td>NaN</td>\n      <td>NaN</td>\n      <td>NaN</td>\n      <td>NaN</td>\n      <td>NaN</td>\n      <td>NaN</td>\n      <td>NaN</td>\n      <td>NaN</td>\n      <td>0</td>\n      <td>NaN</td>\n    </tr>\n    <tr>\n      <th>3</th>\n      <td>1206807</td>\n      <td>2024-01-10 08:49:11.593</td>\n      <td>0</td>\n      <td>6</td>\n      <td>138624</td>\n      <td>4000</td>\n      <td>0</td>\n      <td>NaN</td>\n      <td>600,1</td>\n      <td>1</td>\n      <td>...</td>\n      <td>m3</td>\n      <td>4.0</td>\n      <td>474.0</td>\n      <td>10921971.0</td>\n      <td>10922040.0</td>\n      <td>0,01</td>\n      <td>kWh</td>\n      <td>0,69</td>\n      <td>4,69</td>\n      <td>NaN</td>\n    </tr>\n    <tr>\n      <th>4</th>\n      <td>1206806</td>\n      <td>2024-01-10 08:48:14.330</td>\n      <td>0</td>\n      <td>8</td>\n      <td>138623</td>\n      <td>3000</td>\n      <td>0</td>\n      <td>NaN</td>\n      <td>400,3</td>\n      <td>1</td>\n      <td>...</td>\n      <td>m3</td>\n      <td>23.0</td>\n      <td>8.0</td>\n      <td>NaN</td>\n      <td>NaN</td>\n      <td>NaN</td>\n      <td>NaN</td>\n      <td>NaN</td>\n      <td>23</td>\n      <td>NaN</td>\n    </tr>\n  </tbody>\n</table>\n<p>5 rows × 38 columns</p>\n</div>"
     },
     "execution_count": 110,
     "metadata": {},
     "output_type": "execute_result"
    }
   ],
   "source": [
    "jde_data.head()"
   ],
   "metadata": {
    "collapsed": false,
    "ExecuteTime": {
     "end_time": "2024-02-17T23:03:15.703043300Z",
     "start_time": "2024-02-17T23:03:15.353050800Z"
    }
   },
   "id": "d051bd2b79bd096e",
   "execution_count": 110
  },
  {
   "cell_type": "code",
   "outputs": [
    {
     "data": {
      "text/plain": "array([ nan,   3., 204.,   5.,   7.,   1.,   9.,   8.,   6.,   4.,  10.,\n        99., 202., 205.,   2.,  55.,  44.,  88.,  77.,  22., 200.])"
     },
     "execution_count": 111,
     "metadata": {},
     "output_type": "execute_result"
    }
   ],
   "source": [
    "jde_data['TruckNo1'].unique()"
   ],
   "metadata": {
    "collapsed": false,
    "ExecuteTime": {
     "end_time": "2024-02-17T23:03:15.745929300Z",
     "start_time": "2024-02-17T23:03:15.395367800Z"
    }
   },
   "id": "a08b5f8191849600",
   "execution_count": 111
  },
  {
   "cell_type": "code",
   "outputs": [],
   "source": [
    "columns_to_drop.append('TruckNo1')"
   ],
   "metadata": {
    "collapsed": false,
    "ExecuteTime": {
     "end_time": "2024-02-17T23:03:16.028708Z",
     "start_time": "2024-02-17T23:03:15.747923400Z"
    }
   },
   "id": "ede08cd8a96d2cc5",
   "execution_count": 112
  },
  {
   "cell_type": "code",
   "outputs": [
    {
     "data": {
      "text/plain": "array([nan])"
     },
     "execution_count": 113,
     "metadata": {},
     "output_type": "execute_result"
    }
   ],
   "source": [
    "jde_data['TruckNo2'].unique()"
   ],
   "metadata": {
    "collapsed": false,
    "ExecuteTime": {
     "end_time": "2024-02-17T23:03:16.241100300Z",
     "start_time": "2024-02-17T23:03:15.992625400Z"
    }
   },
   "id": "40ab75c7d434bd5a",
   "execution_count": 113
  },
  {
   "cell_type": "code",
   "outputs": [],
   "source": [
    "columns_to_drop.append('TruckNo2')"
   ],
   "metadata": {
    "collapsed": false,
    "ExecuteTime": {
     "end_time": "2024-02-17T23:03:17.721920700Z",
     "start_time": "2024-02-17T23:03:17.704907100Z"
    }
   },
   "id": "68180e92acb4f6c7",
   "execution_count": 114
  },
  {
   "cell_type": "code",
   "outputs": [
    {
     "data": {
      "text/plain": "   ID_ZLECENIA_PALONA                  DTZAPIS ILOSC_PALONA  NUMERZASYPU  \\\n0             1206810  2024-01-10 09:06:00.880            0            8   \n1             1206809  2024-01-10 08:59:02.527            0            9   \n2             1206808  2024-01-10 08:57:40.677            0            7   \n3             1206807  2024-01-10 08:49:11.593            0            6   \n4             1206806  2024-01-10 08:48:14.330            0            8   \n\n   IDZLECENIE  NUMERPIECA  Anulowany  Zagubiona SUMA_ZIELONEJ  QuantityError  \\\n0      138624        4000          0        NaN             0              1   \n1      138623        3000          0        NaN             0              1   \n2      138624        4000          0        NaN             0              1   \n3      138624        4000          0        NaN         600,1              1   \n4      138623        3000          0        NaN         400,3              1   \n\n   ... im3_unit_name  ikWh_consumption  im3_consumption  ikWh_counter1_start  \\\n0  ...           NaN               NaN              NaN                  NaN   \n1  ...           NaN               NaN              NaN                  NaN   \n2  ...           NaN               NaN              NaN                  NaN   \n3  ...            m3               4.0            474.0           10921971.0   \n4  ...            m3              23.0              8.0                  NaN   \n\n  ikWh_counter1_finish  ikWh_multiplier1  ikWh_unit_name1  ikWh_consumption1  \\\n0                  NaN               NaN              NaN                NaN   \n1                  NaN               NaN              NaN                NaN   \n2                  NaN               NaN              NaN                NaN   \n3           10922040.0              0,01              kWh               0,69   \n4                  NaN               NaN              NaN                NaN   \n\n   ikWh_total_consumption lTriggerCounter  \n0                       0             NaN  \n1                       0             NaN  \n2                       0             NaN  \n3                    4,69             NaN  \n4                      23             NaN  \n\n[5 rows x 38 columns]",
      "text/html": "<div>\n<style scoped>\n    .dataframe tbody tr th:only-of-type {\n        vertical-align: middle;\n    }\n\n    .dataframe tbody tr th {\n        vertical-align: top;\n    }\n\n    .dataframe thead th {\n        text-align: right;\n    }\n</style>\n<table border=\"1\" class=\"dataframe\">\n  <thead>\n    <tr style=\"text-align: right;\">\n      <th></th>\n      <th>ID_ZLECENIA_PALONA</th>\n      <th>DTZAPIS</th>\n      <th>ILOSC_PALONA</th>\n      <th>NUMERZASYPU</th>\n      <th>IDZLECENIE</th>\n      <th>NUMERPIECA</th>\n      <th>Anulowany</th>\n      <th>Zagubiona</th>\n      <th>SUMA_ZIELONEJ</th>\n      <th>QuantityError</th>\n      <th>...</th>\n      <th>im3_unit_name</th>\n      <th>ikWh_consumption</th>\n      <th>im3_consumption</th>\n      <th>ikWh_counter1_start</th>\n      <th>ikWh_counter1_finish</th>\n      <th>ikWh_multiplier1</th>\n      <th>ikWh_unit_name1</th>\n      <th>ikWh_consumption1</th>\n      <th>ikWh_total_consumption</th>\n      <th>lTriggerCounter</th>\n    </tr>\n  </thead>\n  <tbody>\n    <tr>\n      <th>0</th>\n      <td>1206810</td>\n      <td>2024-01-10 09:06:00.880</td>\n      <td>0</td>\n      <td>8</td>\n      <td>138624</td>\n      <td>4000</td>\n      <td>0</td>\n      <td>NaN</td>\n      <td>0</td>\n      <td>1</td>\n      <td>...</td>\n      <td>NaN</td>\n      <td>NaN</td>\n      <td>NaN</td>\n      <td>NaN</td>\n      <td>NaN</td>\n      <td>NaN</td>\n      <td>NaN</td>\n      <td>NaN</td>\n      <td>0</td>\n      <td>NaN</td>\n    </tr>\n    <tr>\n      <th>1</th>\n      <td>1206809</td>\n      <td>2024-01-10 08:59:02.527</td>\n      <td>0</td>\n      <td>9</td>\n      <td>138623</td>\n      <td>3000</td>\n      <td>0</td>\n      <td>NaN</td>\n      <td>0</td>\n      <td>1</td>\n      <td>...</td>\n      <td>NaN</td>\n      <td>NaN</td>\n      <td>NaN</td>\n      <td>NaN</td>\n      <td>NaN</td>\n      <td>NaN</td>\n      <td>NaN</td>\n      <td>NaN</td>\n      <td>0</td>\n      <td>NaN</td>\n    </tr>\n    <tr>\n      <th>2</th>\n      <td>1206808</td>\n      <td>2024-01-10 08:57:40.677</td>\n      <td>0</td>\n      <td>7</td>\n      <td>138624</td>\n      <td>4000</td>\n      <td>0</td>\n      <td>NaN</td>\n      <td>0</td>\n      <td>1</td>\n      <td>...</td>\n      <td>NaN</td>\n      <td>NaN</td>\n      <td>NaN</td>\n      <td>NaN</td>\n      <td>NaN</td>\n      <td>NaN</td>\n      <td>NaN</td>\n      <td>NaN</td>\n      <td>0</td>\n      <td>NaN</td>\n    </tr>\n    <tr>\n      <th>3</th>\n      <td>1206807</td>\n      <td>2024-01-10 08:49:11.593</td>\n      <td>0</td>\n      <td>6</td>\n      <td>138624</td>\n      <td>4000</td>\n      <td>0</td>\n      <td>NaN</td>\n      <td>600,1</td>\n      <td>1</td>\n      <td>...</td>\n      <td>m3</td>\n      <td>4.0</td>\n      <td>474.0</td>\n      <td>10921971.0</td>\n      <td>10922040.0</td>\n      <td>0,01</td>\n      <td>kWh</td>\n      <td>0,69</td>\n      <td>4,69</td>\n      <td>NaN</td>\n    </tr>\n    <tr>\n      <th>4</th>\n      <td>1206806</td>\n      <td>2024-01-10 08:48:14.330</td>\n      <td>0</td>\n      <td>8</td>\n      <td>138623</td>\n      <td>3000</td>\n      <td>0</td>\n      <td>NaN</td>\n      <td>400,3</td>\n      <td>1</td>\n      <td>...</td>\n      <td>m3</td>\n      <td>23.0</td>\n      <td>8.0</td>\n      <td>NaN</td>\n      <td>NaN</td>\n      <td>NaN</td>\n      <td>NaN</td>\n      <td>NaN</td>\n      <td>23</td>\n      <td>NaN</td>\n    </tr>\n  </tbody>\n</table>\n<p>5 rows × 38 columns</p>\n</div>"
     },
     "execution_count": 115,
     "metadata": {},
     "output_type": "execute_result"
    }
   ],
   "source": [
    "jde_data.head()"
   ],
   "metadata": {
    "collapsed": false,
    "ExecuteTime": {
     "end_time": "2024-02-17T23:03:18.071208700Z",
     "start_time": "2024-02-17T23:03:18.031317100Z"
    }
   },
   "id": "2a3bb3e0669bdbb7",
   "execution_count": 115
  },
  {
   "cell_type": "code",
   "outputs": [
    {
     "data": {
      "text/plain": "array([  nan,  313.,  311., ..., 7144., 7143., 7142.])"
     },
     "execution_count": 116,
     "metadata": {},
     "output_type": "execute_result"
    }
   ],
   "source": [
    "jde_data['lTriggerCounter'].unique()"
   ],
   "metadata": {
    "collapsed": false,
    "ExecuteTime": {
     "end_time": "2024-02-17T23:03:18.468710500Z",
     "start_time": "2024-02-17T23:03:18.444977100Z"
    }
   },
   "id": "ece316e2cefc3dab",
   "execution_count": 116
  },
  {
   "cell_type": "code",
   "outputs": [],
   "source": [
    "columns_to_drop.append('lTriggerCounter')"
   ],
   "metadata": {
    "collapsed": false,
    "ExecuteTime": {
     "end_time": "2024-02-17T23:03:19.066868800Z",
     "start_time": "2024-02-17T23:03:19.010420600Z"
    }
   },
   "id": "e06d7cdad2ae4364",
   "execution_count": 117
  },
  {
   "cell_type": "code",
   "outputs": [
    {
     "data": {
      "text/plain": "array([nan,  1.])"
     },
     "execution_count": 118,
     "metadata": {},
     "output_type": "execute_result"
    }
   ],
   "source": [
    "jde_data['im3_multiplier'].unique()"
   ],
   "metadata": {
    "collapsed": false,
    "ExecuteTime": {
     "end_time": "2024-02-17T23:03:20.302041900Z",
     "start_time": "2024-02-17T23:03:20.278815Z"
    }
   },
   "id": "d41089796c15d6ac",
   "execution_count": 118
  },
  {
   "cell_type": "code",
   "outputs": [],
   "source": [
    "columns_to_drop.append('im3_multiplier')"
   ],
   "metadata": {
    "collapsed": false,
    "ExecuteTime": {
     "end_time": "2024-02-17T23:03:23.947886Z",
     "start_time": "2024-02-17T23:03:23.926756800Z"
    }
   },
   "id": "e6af67632f52fd37",
   "execution_count": 119
  },
  {
   "cell_type": "code",
   "outputs": [
    {
     "data": {
      "text/plain": "array([nan,  1.])"
     },
     "execution_count": 120,
     "metadata": {},
     "output_type": "execute_result"
    }
   ],
   "source": [
    "jde_data['ikWh_multiplier'].unique()"
   ],
   "metadata": {
    "collapsed": false,
    "ExecuteTime": {
     "end_time": "2024-02-17T23:03:24.859090700Z",
     "start_time": "2024-02-17T23:03:24.810160600Z"
    }
   },
   "id": "4e653c3449a81167",
   "execution_count": 120
  },
  {
   "cell_type": "code",
   "outputs": [],
   "source": [
    "columns_to_drop.append('ikWh_multiplier')"
   ],
   "metadata": {
    "collapsed": false,
    "ExecuteTime": {
     "end_time": "2024-02-17T23:03:25.114625600Z",
     "start_time": "2024-02-17T23:03:25.053281200Z"
    }
   },
   "id": "79fea8473fd837bd",
   "execution_count": 121
  },
  {
   "cell_type": "code",
   "outputs": [
    {
     "data": {
      "text/plain": "array([nan, 'kWh'], dtype=object)"
     },
     "execution_count": 122,
     "metadata": {},
     "output_type": "execute_result"
    }
   ],
   "source": [
    "jde_data['ikWh_unit_name'].unique()"
   ],
   "metadata": {
    "collapsed": false,
    "ExecuteTime": {
     "end_time": "2024-02-17T23:03:25.341105200Z",
     "start_time": "2024-02-17T23:03:25.279298600Z"
    }
   },
   "id": "4de17f962940e939",
   "execution_count": 122
  },
  {
   "cell_type": "code",
   "outputs": [],
   "source": [
    "columns_to_drop.append('ikWh_unit_name')"
   ],
   "metadata": {
    "collapsed": false,
    "ExecuteTime": {
     "end_time": "2024-02-17T23:03:25.590616900Z",
     "start_time": "2024-02-17T23:03:25.514415300Z"
    }
   },
   "id": "e5dc828079fc1bd2",
   "execution_count": 123
  },
  {
   "cell_type": "code",
   "outputs": [
    {
     "data": {
      "text/plain": "array([nan, 'm3'], dtype=object)"
     },
     "execution_count": 124,
     "metadata": {},
     "output_type": "execute_result"
    }
   ],
   "source": [
    "jde_data['im3_unit_name'].unique()"
   ],
   "metadata": {
    "collapsed": false,
    "ExecuteTime": {
     "end_time": "2024-02-17T23:03:25.778612Z",
     "start_time": "2024-02-17T23:03:25.723433200Z"
    }
   },
   "id": "2dc152c5704d4bf7",
   "execution_count": 124
  },
  {
   "cell_type": "code",
   "outputs": [],
   "source": [
    "columns_to_drop.append('im3_unit_name')"
   ],
   "metadata": {
    "collapsed": false,
    "ExecuteTime": {
     "end_time": "2024-02-17T23:03:25.968188Z",
     "start_time": "2024-02-17T23:03:25.915756100Z"
    }
   },
   "id": "4416305e24b73e68",
   "execution_count": 125
  },
  {
   "cell_type": "code",
   "outputs": [
    {
     "data": {
      "text/plain": "array([nan, '0,01'], dtype=object)"
     },
     "execution_count": 126,
     "metadata": {},
     "output_type": "execute_result"
    }
   ],
   "source": [
    "jde_data['ikWh_multiplier1'].unique()"
   ],
   "metadata": {
    "collapsed": false,
    "ExecuteTime": {
     "end_time": "2024-02-17T23:03:26.170265300Z",
     "start_time": "2024-02-17T23:03:26.072822700Z"
    }
   },
   "id": "afb5aeace3eabc39",
   "execution_count": 126
  },
  {
   "cell_type": "code",
   "outputs": [],
   "source": [
    "columns_to_drop.append('ikWh_multiplier1')  # wrong value in some series"
   ],
   "metadata": {
    "collapsed": false,
    "ExecuteTime": {
     "end_time": "2024-02-17T23:03:26.291452100Z",
     "start_time": "2024-02-17T23:03:26.233097600Z"
    }
   },
   "id": "e03f9a0c984a8375",
   "execution_count": 127
  },
  {
   "cell_type": "code",
   "outputs": [
    {
     "data": {
      "text/plain": "array([nan, 'kWh'], dtype=object)"
     },
     "execution_count": 128,
     "metadata": {},
     "output_type": "execute_result"
    }
   ],
   "source": [
    "jde_data['ikWh_unit_name1'].unique()"
   ],
   "metadata": {
    "collapsed": false,
    "ExecuteTime": {
     "end_time": "2024-02-17T23:03:26.542019400Z",
     "start_time": "2024-02-17T23:03:26.434280600Z"
    }
   },
   "id": "f01b512e317892f",
   "execution_count": 128
  },
  {
   "cell_type": "code",
   "outputs": [],
   "source": [
    "columns_to_drop.append('ikWh_unit_name1')"
   ],
   "metadata": {
    "collapsed": false,
    "ExecuteTime": {
     "end_time": "2024-02-17T23:03:26.662055200Z",
     "start_time": "2024-02-17T23:03:26.634771400Z"
    }
   },
   "id": "a9e7b2e083352fe7",
   "execution_count": 129
  },
  {
   "cell_type": "code",
   "outputs": [
    {
     "data": {
      "text/plain": "array(['0', '4,69', '23', ..., '8,47', '5,72', '9,88'], dtype=object)"
     },
     "execution_count": 130,
     "metadata": {},
     "output_type": "execute_result"
    }
   ],
   "source": [
    "jde_data['ikWh_total_consumption'].unique()"
   ],
   "metadata": {
    "collapsed": false,
    "ExecuteTime": {
     "end_time": "2024-02-17T23:03:26.928364400Z",
     "start_time": "2024-02-17T23:03:26.792052600Z"
    }
   },
   "id": "8aaede916a948063",
   "execution_count": 130
  },
  {
   "cell_type": "code",
   "outputs": [],
   "source": [
    "jde_data['ikWh_total_consumption'] = jde_data['ikWh_total_consumption'].str.replace(',', '.').astype(float)"
   ],
   "metadata": {
    "collapsed": false,
    "ExecuteTime": {
     "end_time": "2024-02-17T23:03:27.072982Z",
     "start_time": "2024-02-17T23:03:27.032087900Z"
    }
   },
   "id": "2f4351815ce8209b",
   "execution_count": 131
  },
  {
   "cell_type": "code",
   "outputs": [
    {
     "data": {
      "text/plain": "      ID_ZLECENIA_PALONA                  DTZAPIS ILOSC_PALONA  NUMERZASYPU  \\\n0                1206810  2024-01-10 09:06:00.880            0            8   \n1                1206809  2024-01-10 08:59:02.527            0            9   \n2                1206808  2024-01-10 08:57:40.677            0            7   \n469              1206341  2024-01-08 08:19:50.917            0            5   \n1265             1205545  2024-01-03 16:37:02.000            0            1   \n2161             1204648  2023-12-27 07:15:29.790          345            4   \n2296             1204513  2023-12-22 12:02:09.280          343            3   \n2533             1204276  2023-12-21 08:32:02.000            0            1   \n3531             1203277  2023-12-17 10:32:50.000            0            1   \n3902             1202907  2023-12-15 20:27:59.223          345           23   \n8361             1198448  2023-11-26 10:47:31.000            0            1   \n8362             1198447  2023-11-26 10:47:17.000            0            1   \n\n      IDZLECENIE  NUMERPIECA  Anulowany  Zagubiona SUMA_ZIELONEJ  \\\n0         138624        4000          0        NaN             0   \n1         138623        3000          0        NaN             0   \n2         138624        4000          0        NaN             0   \n469       138574        3000          0        NaN             0   \n1265      138492        2000          0        NaN           NaN   \n2161      138408        3000          0        NaN         400,3   \n2296      138395        3000          0        NaN         400,3   \n2533      138371        4000          0        NaN           NaN   \n3531      138267        4000          0        NaN           NaN   \n3902      138229        3000          0        NaN         401,4   \n8361      137820        4000          0        NaN           NaN   \n8362      137819        4000          0        NaN           NaN   \n\n      QuantityError  ... im3_unit_name  ikWh_consumption  im3_consumption  \\\n0                 1  ...           NaN               NaN              NaN   \n1                 1  ...           NaN               NaN              NaN   \n2                 1  ...           NaN               NaN              NaN   \n469               0  ...           NaN               NaN              NaN   \n1265              0  ...           NaN               NaN              NaN   \n2161              0  ...           NaN               NaN              NaN   \n2296              0  ...           NaN               NaN              NaN   \n2533              0  ...           NaN               NaN              NaN   \n3531              0  ...           NaN               NaN              NaN   \n3902              0  ...           NaN               NaN              NaN   \n8361              0  ...           NaN               NaN              NaN   \n8362              0  ...           NaN               NaN              NaN   \n\n      ikWh_counter1_start ikWh_counter1_finish  ikWh_multiplier1  \\\n0                     NaN                  NaN               NaN   \n1                     NaN                  NaN               NaN   \n2                     NaN                  NaN               NaN   \n469                   NaN                  NaN               NaN   \n1265                  NaN                  NaN               NaN   \n2161                  NaN                  NaN               NaN   \n2296                  NaN                  NaN               NaN   \n2533                  NaN                  NaN               NaN   \n3531                  NaN                  NaN               NaN   \n3902                  NaN                  NaN               NaN   \n8361                  NaN                  NaN               NaN   \n8362                  NaN                  NaN               NaN   \n\n      ikWh_unit_name1  ikWh_consumption1  ikWh_total_consumption  \\\n0                 NaN                NaN                     0.0   \n1                 NaN                NaN                     0.0   \n2                 NaN                NaN                     0.0   \n469               NaN                NaN                     0.0   \n1265              NaN                NaN                     0.0   \n2161              NaN                NaN                     0.0   \n2296              NaN                NaN                     0.0   \n2533              NaN                NaN                     0.0   \n3531              NaN                NaN                     0.0   \n3902              NaN                NaN                     0.0   \n8361              NaN                NaN                     0.0   \n8362              NaN                NaN                     0.0   \n\n     lTriggerCounter  \n0                NaN  \n1                NaN  \n2                NaN  \n469              NaN  \n1265             NaN  \n2161             NaN  \n2296             NaN  \n2533             NaN  \n3531             NaN  \n3902             NaN  \n8361             NaN  \n8362             NaN  \n\n[12 rows x 38 columns]",
      "text/html": "<div>\n<style scoped>\n    .dataframe tbody tr th:only-of-type {\n        vertical-align: middle;\n    }\n\n    .dataframe tbody tr th {\n        vertical-align: top;\n    }\n\n    .dataframe thead th {\n        text-align: right;\n    }\n</style>\n<table border=\"1\" class=\"dataframe\">\n  <thead>\n    <tr style=\"text-align: right;\">\n      <th></th>\n      <th>ID_ZLECENIA_PALONA</th>\n      <th>DTZAPIS</th>\n      <th>ILOSC_PALONA</th>\n      <th>NUMERZASYPU</th>\n      <th>IDZLECENIE</th>\n      <th>NUMERPIECA</th>\n      <th>Anulowany</th>\n      <th>Zagubiona</th>\n      <th>SUMA_ZIELONEJ</th>\n      <th>QuantityError</th>\n      <th>...</th>\n      <th>im3_unit_name</th>\n      <th>ikWh_consumption</th>\n      <th>im3_consumption</th>\n      <th>ikWh_counter1_start</th>\n      <th>ikWh_counter1_finish</th>\n      <th>ikWh_multiplier1</th>\n      <th>ikWh_unit_name1</th>\n      <th>ikWh_consumption1</th>\n      <th>ikWh_total_consumption</th>\n      <th>lTriggerCounter</th>\n    </tr>\n  </thead>\n  <tbody>\n    <tr>\n      <th>0</th>\n      <td>1206810</td>\n      <td>2024-01-10 09:06:00.880</td>\n      <td>0</td>\n      <td>8</td>\n      <td>138624</td>\n      <td>4000</td>\n      <td>0</td>\n      <td>NaN</td>\n      <td>0</td>\n      <td>1</td>\n      <td>...</td>\n      <td>NaN</td>\n      <td>NaN</td>\n      <td>NaN</td>\n      <td>NaN</td>\n      <td>NaN</td>\n      <td>NaN</td>\n      <td>NaN</td>\n      <td>NaN</td>\n      <td>0.0</td>\n      <td>NaN</td>\n    </tr>\n    <tr>\n      <th>1</th>\n      <td>1206809</td>\n      <td>2024-01-10 08:59:02.527</td>\n      <td>0</td>\n      <td>9</td>\n      <td>138623</td>\n      <td>3000</td>\n      <td>0</td>\n      <td>NaN</td>\n      <td>0</td>\n      <td>1</td>\n      <td>...</td>\n      <td>NaN</td>\n      <td>NaN</td>\n      <td>NaN</td>\n      <td>NaN</td>\n      <td>NaN</td>\n      <td>NaN</td>\n      <td>NaN</td>\n      <td>NaN</td>\n      <td>0.0</td>\n      <td>NaN</td>\n    </tr>\n    <tr>\n      <th>2</th>\n      <td>1206808</td>\n      <td>2024-01-10 08:57:40.677</td>\n      <td>0</td>\n      <td>7</td>\n      <td>138624</td>\n      <td>4000</td>\n      <td>0</td>\n      <td>NaN</td>\n      <td>0</td>\n      <td>1</td>\n      <td>...</td>\n      <td>NaN</td>\n      <td>NaN</td>\n      <td>NaN</td>\n      <td>NaN</td>\n      <td>NaN</td>\n      <td>NaN</td>\n      <td>NaN</td>\n      <td>NaN</td>\n      <td>0.0</td>\n      <td>NaN</td>\n    </tr>\n    <tr>\n      <th>469</th>\n      <td>1206341</td>\n      <td>2024-01-08 08:19:50.917</td>\n      <td>0</td>\n      <td>5</td>\n      <td>138574</td>\n      <td>3000</td>\n      <td>0</td>\n      <td>NaN</td>\n      <td>0</td>\n      <td>0</td>\n      <td>...</td>\n      <td>NaN</td>\n      <td>NaN</td>\n      <td>NaN</td>\n      <td>NaN</td>\n      <td>NaN</td>\n      <td>NaN</td>\n      <td>NaN</td>\n      <td>NaN</td>\n      <td>0.0</td>\n      <td>NaN</td>\n    </tr>\n    <tr>\n      <th>1265</th>\n      <td>1205545</td>\n      <td>2024-01-03 16:37:02.000</td>\n      <td>0</td>\n      <td>1</td>\n      <td>138492</td>\n      <td>2000</td>\n      <td>0</td>\n      <td>NaN</td>\n      <td>NaN</td>\n      <td>0</td>\n      <td>...</td>\n      <td>NaN</td>\n      <td>NaN</td>\n      <td>NaN</td>\n      <td>NaN</td>\n      <td>NaN</td>\n      <td>NaN</td>\n      <td>NaN</td>\n      <td>NaN</td>\n      <td>0.0</td>\n      <td>NaN</td>\n    </tr>\n    <tr>\n      <th>2161</th>\n      <td>1204648</td>\n      <td>2023-12-27 07:15:29.790</td>\n      <td>345</td>\n      <td>4</td>\n      <td>138408</td>\n      <td>3000</td>\n      <td>0</td>\n      <td>NaN</td>\n      <td>400,3</td>\n      <td>0</td>\n      <td>...</td>\n      <td>NaN</td>\n      <td>NaN</td>\n      <td>NaN</td>\n      <td>NaN</td>\n      <td>NaN</td>\n      <td>NaN</td>\n      <td>NaN</td>\n      <td>NaN</td>\n      <td>0.0</td>\n      <td>NaN</td>\n    </tr>\n    <tr>\n      <th>2296</th>\n      <td>1204513</td>\n      <td>2023-12-22 12:02:09.280</td>\n      <td>343</td>\n      <td>3</td>\n      <td>138395</td>\n      <td>3000</td>\n      <td>0</td>\n      <td>NaN</td>\n      <td>400,3</td>\n      <td>0</td>\n      <td>...</td>\n      <td>NaN</td>\n      <td>NaN</td>\n      <td>NaN</td>\n      <td>NaN</td>\n      <td>NaN</td>\n      <td>NaN</td>\n      <td>NaN</td>\n      <td>NaN</td>\n      <td>0.0</td>\n      <td>NaN</td>\n    </tr>\n    <tr>\n      <th>2533</th>\n      <td>1204276</td>\n      <td>2023-12-21 08:32:02.000</td>\n      <td>0</td>\n      <td>1</td>\n      <td>138371</td>\n      <td>4000</td>\n      <td>0</td>\n      <td>NaN</td>\n      <td>NaN</td>\n      <td>0</td>\n      <td>...</td>\n      <td>NaN</td>\n      <td>NaN</td>\n      <td>NaN</td>\n      <td>NaN</td>\n      <td>NaN</td>\n      <td>NaN</td>\n      <td>NaN</td>\n      <td>NaN</td>\n      <td>0.0</td>\n      <td>NaN</td>\n    </tr>\n    <tr>\n      <th>3531</th>\n      <td>1203277</td>\n      <td>2023-12-17 10:32:50.000</td>\n      <td>0</td>\n      <td>1</td>\n      <td>138267</td>\n      <td>4000</td>\n      <td>0</td>\n      <td>NaN</td>\n      <td>NaN</td>\n      <td>0</td>\n      <td>...</td>\n      <td>NaN</td>\n      <td>NaN</td>\n      <td>NaN</td>\n      <td>NaN</td>\n      <td>NaN</td>\n      <td>NaN</td>\n      <td>NaN</td>\n      <td>NaN</td>\n      <td>0.0</td>\n      <td>NaN</td>\n    </tr>\n    <tr>\n      <th>3902</th>\n      <td>1202907</td>\n      <td>2023-12-15 20:27:59.223</td>\n      <td>345</td>\n      <td>23</td>\n      <td>138229</td>\n      <td>3000</td>\n      <td>0</td>\n      <td>NaN</td>\n      <td>401,4</td>\n      <td>0</td>\n      <td>...</td>\n      <td>NaN</td>\n      <td>NaN</td>\n      <td>NaN</td>\n      <td>NaN</td>\n      <td>NaN</td>\n      <td>NaN</td>\n      <td>NaN</td>\n      <td>NaN</td>\n      <td>0.0</td>\n      <td>NaN</td>\n    </tr>\n    <tr>\n      <th>8361</th>\n      <td>1198448</td>\n      <td>2023-11-26 10:47:31.000</td>\n      <td>0</td>\n      <td>1</td>\n      <td>137820</td>\n      <td>4000</td>\n      <td>0</td>\n      <td>NaN</td>\n      <td>NaN</td>\n      <td>0</td>\n      <td>...</td>\n      <td>NaN</td>\n      <td>NaN</td>\n      <td>NaN</td>\n      <td>NaN</td>\n      <td>NaN</td>\n      <td>NaN</td>\n      <td>NaN</td>\n      <td>NaN</td>\n      <td>0.0</td>\n      <td>NaN</td>\n    </tr>\n    <tr>\n      <th>8362</th>\n      <td>1198447</td>\n      <td>2023-11-26 10:47:17.000</td>\n      <td>0</td>\n      <td>1</td>\n      <td>137819</td>\n      <td>4000</td>\n      <td>0</td>\n      <td>NaN</td>\n      <td>NaN</td>\n      <td>0</td>\n      <td>...</td>\n      <td>NaN</td>\n      <td>NaN</td>\n      <td>NaN</td>\n      <td>NaN</td>\n      <td>NaN</td>\n      <td>NaN</td>\n      <td>NaN</td>\n      <td>NaN</td>\n      <td>0.0</td>\n      <td>NaN</td>\n    </tr>\n  </tbody>\n</table>\n<p>12 rows × 38 columns</p>\n</div>"
     },
     "execution_count": 132,
     "metadata": {},
     "output_type": "execute_result"
    }
   ],
   "source": [
    "jde_data[jde_data['ikWh_total_consumption'] == 0]"
   ],
   "metadata": {
    "collapsed": false,
    "ExecuteTime": {
     "end_time": "2024-02-17T23:03:27.334513900Z",
     "start_time": "2024-02-17T23:03:27.261551500Z"
    }
   },
   "id": "e04464a0eedb2ffc",
   "execution_count": 132
  },
  {
   "cell_type": "code",
   "outputs": [
    {
     "data": {
      "text/plain": "   ID_ZLECENIA_PALONA                  DTZAPIS ILOSC_PALONA  NUMERZASYPU  \\\n0             1206810  2024-01-10 09:06:00.880            0            8   \n1             1206809  2024-01-10 08:59:02.527            0            9   \n2             1206808  2024-01-10 08:57:40.677            0            7   \n3             1206807  2024-01-10 08:49:11.593            0            6   \n4             1206806  2024-01-10 08:48:14.330            0            8   \n\n   IDZLECENIE  NUMERPIECA  Anulowany  Zagubiona SUMA_ZIELONEJ  QuantityError  \\\n0      138624        4000          0        NaN             0              1   \n1      138623        3000          0        NaN             0              1   \n2      138624        4000          0        NaN             0              1   \n3      138624        4000          0        NaN         600,1              1   \n4      138623        3000          0        NaN         400,3              1   \n\n   ... im3_unit_name  ikWh_consumption  im3_consumption  ikWh_counter1_start  \\\n0  ...           NaN               NaN              NaN                  NaN   \n1  ...           NaN               NaN              NaN                  NaN   \n2  ...           NaN               NaN              NaN                  NaN   \n3  ...            m3               4.0            474.0           10921971.0   \n4  ...            m3              23.0              8.0                  NaN   \n\n  ikWh_counter1_finish  ikWh_multiplier1  ikWh_unit_name1  ikWh_consumption1  \\\n0                  NaN               NaN              NaN                NaN   \n1                  NaN               NaN              NaN                NaN   \n2                  NaN               NaN              NaN                NaN   \n3           10922040.0              0,01              kWh               0,69   \n4                  NaN               NaN              NaN                NaN   \n\n   ikWh_total_consumption lTriggerCounter  \n0                    0.00             NaN  \n1                    0.00             NaN  \n2                    0.00             NaN  \n3                    4.69             NaN  \n4                   23.00             NaN  \n\n[5 rows x 38 columns]",
      "text/html": "<div>\n<style scoped>\n    .dataframe tbody tr th:only-of-type {\n        vertical-align: middle;\n    }\n\n    .dataframe tbody tr th {\n        vertical-align: top;\n    }\n\n    .dataframe thead th {\n        text-align: right;\n    }\n</style>\n<table border=\"1\" class=\"dataframe\">\n  <thead>\n    <tr style=\"text-align: right;\">\n      <th></th>\n      <th>ID_ZLECENIA_PALONA</th>\n      <th>DTZAPIS</th>\n      <th>ILOSC_PALONA</th>\n      <th>NUMERZASYPU</th>\n      <th>IDZLECENIE</th>\n      <th>NUMERPIECA</th>\n      <th>Anulowany</th>\n      <th>Zagubiona</th>\n      <th>SUMA_ZIELONEJ</th>\n      <th>QuantityError</th>\n      <th>...</th>\n      <th>im3_unit_name</th>\n      <th>ikWh_consumption</th>\n      <th>im3_consumption</th>\n      <th>ikWh_counter1_start</th>\n      <th>ikWh_counter1_finish</th>\n      <th>ikWh_multiplier1</th>\n      <th>ikWh_unit_name1</th>\n      <th>ikWh_consumption1</th>\n      <th>ikWh_total_consumption</th>\n      <th>lTriggerCounter</th>\n    </tr>\n  </thead>\n  <tbody>\n    <tr>\n      <th>0</th>\n      <td>1206810</td>\n      <td>2024-01-10 09:06:00.880</td>\n      <td>0</td>\n      <td>8</td>\n      <td>138624</td>\n      <td>4000</td>\n      <td>0</td>\n      <td>NaN</td>\n      <td>0</td>\n      <td>1</td>\n      <td>...</td>\n      <td>NaN</td>\n      <td>NaN</td>\n      <td>NaN</td>\n      <td>NaN</td>\n      <td>NaN</td>\n      <td>NaN</td>\n      <td>NaN</td>\n      <td>NaN</td>\n      <td>0.00</td>\n      <td>NaN</td>\n    </tr>\n    <tr>\n      <th>1</th>\n      <td>1206809</td>\n      <td>2024-01-10 08:59:02.527</td>\n      <td>0</td>\n      <td>9</td>\n      <td>138623</td>\n      <td>3000</td>\n      <td>0</td>\n      <td>NaN</td>\n      <td>0</td>\n      <td>1</td>\n      <td>...</td>\n      <td>NaN</td>\n      <td>NaN</td>\n      <td>NaN</td>\n      <td>NaN</td>\n      <td>NaN</td>\n      <td>NaN</td>\n      <td>NaN</td>\n      <td>NaN</td>\n      <td>0.00</td>\n      <td>NaN</td>\n    </tr>\n    <tr>\n      <th>2</th>\n      <td>1206808</td>\n      <td>2024-01-10 08:57:40.677</td>\n      <td>0</td>\n      <td>7</td>\n      <td>138624</td>\n      <td>4000</td>\n      <td>0</td>\n      <td>NaN</td>\n      <td>0</td>\n      <td>1</td>\n      <td>...</td>\n      <td>NaN</td>\n      <td>NaN</td>\n      <td>NaN</td>\n      <td>NaN</td>\n      <td>NaN</td>\n      <td>NaN</td>\n      <td>NaN</td>\n      <td>NaN</td>\n      <td>0.00</td>\n      <td>NaN</td>\n    </tr>\n    <tr>\n      <th>3</th>\n      <td>1206807</td>\n      <td>2024-01-10 08:49:11.593</td>\n      <td>0</td>\n      <td>6</td>\n      <td>138624</td>\n      <td>4000</td>\n      <td>0</td>\n      <td>NaN</td>\n      <td>600,1</td>\n      <td>1</td>\n      <td>...</td>\n      <td>m3</td>\n      <td>4.0</td>\n      <td>474.0</td>\n      <td>10921971.0</td>\n      <td>10922040.0</td>\n      <td>0,01</td>\n      <td>kWh</td>\n      <td>0,69</td>\n      <td>4.69</td>\n      <td>NaN</td>\n    </tr>\n    <tr>\n      <th>4</th>\n      <td>1206806</td>\n      <td>2024-01-10 08:48:14.330</td>\n      <td>0</td>\n      <td>8</td>\n      <td>138623</td>\n      <td>3000</td>\n      <td>0</td>\n      <td>NaN</td>\n      <td>400,3</td>\n      <td>1</td>\n      <td>...</td>\n      <td>m3</td>\n      <td>23.0</td>\n      <td>8.0</td>\n      <td>NaN</td>\n      <td>NaN</td>\n      <td>NaN</td>\n      <td>NaN</td>\n      <td>NaN</td>\n      <td>23.00</td>\n      <td>NaN</td>\n    </tr>\n  </tbody>\n</table>\n<p>5 rows × 38 columns</p>\n</div>"
     },
     "execution_count": 133,
     "metadata": {},
     "output_type": "execute_result"
    }
   ],
   "source": [
    "jde_data.head()"
   ],
   "metadata": {
    "collapsed": false,
    "ExecuteTime": {
     "end_time": "2024-02-17T23:03:27.714266300Z",
     "start_time": "2024-02-17T23:03:27.662341200Z"
    }
   },
   "id": "50ac8ab2bcfadca8",
   "execution_count": 133
  },
  {
   "cell_type": "code",
   "outputs": [],
   "source": [
    "jde_data['ikWh_consumption1'] = jde_data['ikWh_consumption1'].str.replace(',', '.').astype(float)"
   ],
   "metadata": {
    "collapsed": false,
    "ExecuteTime": {
     "end_time": "2024-02-17T23:03:28.034836600Z",
     "start_time": "2024-02-17T23:03:27.993378Z"
    }
   },
   "id": "643a6bf210fa3f1c",
   "execution_count": 134
  },
  {
   "cell_type": "code",
   "outputs": [],
   "source": [
    "jde_data['DTZAPIS'] = pd.to_datetime(jde_data['DTZAPIS'])"
   ],
   "metadata": {
    "collapsed": false,
    "ExecuteTime": {
     "end_time": "2024-02-17T23:03:28.276831600Z",
     "start_time": "2024-02-17T23:03:28.203403800Z"
    }
   },
   "id": "bd91d654c44ac5ab",
   "execution_count": 135
  },
  {
   "cell_type": "code",
   "outputs": [],
   "source": [
    "jde_data['ILOSC_PALONA'] = jde_data['ILOSC_PALONA'].str.replace(',', '.').astype(float)"
   ],
   "metadata": {
    "collapsed": false,
    "ExecuteTime": {
     "end_time": "2024-02-17T23:03:28.410858900Z",
     "start_time": "2024-02-17T23:03:28.381951100Z"
    }
   },
   "id": "6bd4b6c293960a3c",
   "execution_count": 136
  },
  {
   "cell_type": "code",
   "outputs": [],
   "source": [
    "jde_data['SUMA_ZIELONEJ'] = jde_data['SUMA_ZIELONEJ'].str.replace(',', '.').astype(float)"
   ],
   "metadata": {
    "collapsed": false,
    "ExecuteTime": {
     "end_time": "2024-02-17T23:03:28.613661500Z",
     "start_time": "2024-02-17T23:03:28.588732100Z"
    }
   },
   "id": "57bcaf7765fb9f08",
   "execution_count": 137
  },
  {
   "cell_type": "code",
   "outputs": [],
   "source": [
    "jde_data['PREV_ILOSC_PALONA'] = jde_data['PREV_ILOSC_PALONA'].str.replace(',', '.').astype(float)"
   ],
   "metadata": {
    "collapsed": false,
    "ExecuteTime": {
     "end_time": "2024-02-17T23:03:28.822976100Z",
     "start_time": "2024-02-17T23:03:28.781758200Z"
    }
   },
   "id": "a3eb6e6a20186c5f",
   "execution_count": 138
  },
  {
   "cell_type": "code",
   "outputs": [],
   "source": [
    "jde_data['dtRoastingStart'] = pd.to_datetime(jde_data['dtRoastingStart'])"
   ],
   "metadata": {
    "collapsed": false,
    "ExecuteTime": {
     "end_time": "2024-02-17T23:03:29.013978100Z",
     "start_time": "2024-02-17T23:03:28.974081700Z"
    }
   },
   "id": "7f13f4f89713fe5a",
   "execution_count": 139
  },
  {
   "cell_type": "code",
   "outputs": [],
   "source": [
    "jde_data['dtRoastingFinish'] = pd.to_datetime(jde_data['dtRoastingFinish'])"
   ],
   "metadata": {
    "collapsed": false,
    "ExecuteTime": {
     "end_time": "2024-02-17T23:03:29.235507400Z",
     "start_time": "2024-02-17T23:03:29.197118Z"
    }
   },
   "id": "9f1973b5805f9af3",
   "execution_count": 140
  },
  {
   "cell_type": "code",
   "outputs": [
    {
     "data": {
      "text/plain": "      ID_ZLECENIA_PALONA             DTZAPIS  ILOSC_PALONA  NUMERZASYPU  \\\n1265             1205545 2024-01-03 16:37:02           0.0            1   \n2533             1204276 2023-12-21 08:32:02           0.0            1   \n3531             1203277 2023-12-17 10:32:50           0.0            1   \n8361             1198448 2023-11-26 10:47:31           0.0            1   \n8362             1198447 2023-11-26 10:47:17           0.0            1   \n\n      IDZLECENIE  NUMERPIECA  Anulowany  Zagubiona  SUMA_ZIELONEJ  \\\n1265      138492        2000          0        NaN            NaN   \n2533      138371        4000          0        NaN            NaN   \n3531      138267        4000          0        NaN            NaN   \n8361      137820        4000          0        NaN            NaN   \n8362      137819        4000          0        NaN            NaN   \n\n      QuantityError  ...  im3_unit_name  ikWh_consumption  im3_consumption  \\\n1265              0  ...            NaN               NaN              NaN   \n2533              0  ...            NaN               NaN              NaN   \n3531              0  ...            NaN               NaN              NaN   \n8361              0  ...            NaN               NaN              NaN   \n8362              0  ...            NaN               NaN              NaN   \n\n      ikWh_counter1_start ikWh_counter1_finish  ikWh_multiplier1  \\\n1265                  NaN                  NaN               NaN   \n2533                  NaN                  NaN               NaN   \n3531                  NaN                  NaN               NaN   \n8361                  NaN                  NaN               NaN   \n8362                  NaN                  NaN               NaN   \n\n      ikWh_unit_name1  ikWh_consumption1  ikWh_total_consumption  \\\n1265              NaN                NaN                     0.0   \n2533              NaN                NaN                     0.0   \n3531              NaN                NaN                     0.0   \n8361              NaN                NaN                     0.0   \n8362              NaN                NaN                     0.0   \n\n     lTriggerCounter  \n1265             NaN  \n2533             NaN  \n3531             NaN  \n8361             NaN  \n8362             NaN  \n\n[5 rows x 38 columns]",
      "text/html": "<div>\n<style scoped>\n    .dataframe tbody tr th:only-of-type {\n        vertical-align: middle;\n    }\n\n    .dataframe tbody tr th {\n        vertical-align: top;\n    }\n\n    .dataframe thead th {\n        text-align: right;\n    }\n</style>\n<table border=\"1\" class=\"dataframe\">\n  <thead>\n    <tr style=\"text-align: right;\">\n      <th></th>\n      <th>ID_ZLECENIA_PALONA</th>\n      <th>DTZAPIS</th>\n      <th>ILOSC_PALONA</th>\n      <th>NUMERZASYPU</th>\n      <th>IDZLECENIE</th>\n      <th>NUMERPIECA</th>\n      <th>Anulowany</th>\n      <th>Zagubiona</th>\n      <th>SUMA_ZIELONEJ</th>\n      <th>QuantityError</th>\n      <th>...</th>\n      <th>im3_unit_name</th>\n      <th>ikWh_consumption</th>\n      <th>im3_consumption</th>\n      <th>ikWh_counter1_start</th>\n      <th>ikWh_counter1_finish</th>\n      <th>ikWh_multiplier1</th>\n      <th>ikWh_unit_name1</th>\n      <th>ikWh_consumption1</th>\n      <th>ikWh_total_consumption</th>\n      <th>lTriggerCounter</th>\n    </tr>\n  </thead>\n  <tbody>\n    <tr>\n      <th>1265</th>\n      <td>1205545</td>\n      <td>2024-01-03 16:37:02</td>\n      <td>0.0</td>\n      <td>1</td>\n      <td>138492</td>\n      <td>2000</td>\n      <td>0</td>\n      <td>NaN</td>\n      <td>NaN</td>\n      <td>0</td>\n      <td>...</td>\n      <td>NaN</td>\n      <td>NaN</td>\n      <td>NaN</td>\n      <td>NaN</td>\n      <td>NaN</td>\n      <td>NaN</td>\n      <td>NaN</td>\n      <td>NaN</td>\n      <td>0.0</td>\n      <td>NaN</td>\n    </tr>\n    <tr>\n      <th>2533</th>\n      <td>1204276</td>\n      <td>2023-12-21 08:32:02</td>\n      <td>0.0</td>\n      <td>1</td>\n      <td>138371</td>\n      <td>4000</td>\n      <td>0</td>\n      <td>NaN</td>\n      <td>NaN</td>\n      <td>0</td>\n      <td>...</td>\n      <td>NaN</td>\n      <td>NaN</td>\n      <td>NaN</td>\n      <td>NaN</td>\n      <td>NaN</td>\n      <td>NaN</td>\n      <td>NaN</td>\n      <td>NaN</td>\n      <td>0.0</td>\n      <td>NaN</td>\n    </tr>\n    <tr>\n      <th>3531</th>\n      <td>1203277</td>\n      <td>2023-12-17 10:32:50</td>\n      <td>0.0</td>\n      <td>1</td>\n      <td>138267</td>\n      <td>4000</td>\n      <td>0</td>\n      <td>NaN</td>\n      <td>NaN</td>\n      <td>0</td>\n      <td>...</td>\n      <td>NaN</td>\n      <td>NaN</td>\n      <td>NaN</td>\n      <td>NaN</td>\n      <td>NaN</td>\n      <td>NaN</td>\n      <td>NaN</td>\n      <td>NaN</td>\n      <td>0.0</td>\n      <td>NaN</td>\n    </tr>\n    <tr>\n      <th>8361</th>\n      <td>1198448</td>\n      <td>2023-11-26 10:47:31</td>\n      <td>0.0</td>\n      <td>1</td>\n      <td>137820</td>\n      <td>4000</td>\n      <td>0</td>\n      <td>NaN</td>\n      <td>NaN</td>\n      <td>0</td>\n      <td>...</td>\n      <td>NaN</td>\n      <td>NaN</td>\n      <td>NaN</td>\n      <td>NaN</td>\n      <td>NaN</td>\n      <td>NaN</td>\n      <td>NaN</td>\n      <td>NaN</td>\n      <td>0.0</td>\n      <td>NaN</td>\n    </tr>\n    <tr>\n      <th>8362</th>\n      <td>1198447</td>\n      <td>2023-11-26 10:47:17</td>\n      <td>0.0</td>\n      <td>1</td>\n      <td>137819</td>\n      <td>4000</td>\n      <td>0</td>\n      <td>NaN</td>\n      <td>NaN</td>\n      <td>0</td>\n      <td>...</td>\n      <td>NaN</td>\n      <td>NaN</td>\n      <td>NaN</td>\n      <td>NaN</td>\n      <td>NaN</td>\n      <td>NaN</td>\n      <td>NaN</td>\n      <td>NaN</td>\n      <td>0.0</td>\n      <td>NaN</td>\n    </tr>\n  </tbody>\n</table>\n<p>5 rows × 38 columns</p>\n</div>"
     },
     "execution_count": 141,
     "metadata": {},
     "output_type": "execute_result"
    }
   ],
   "source": [
    "jde_data[jde_data['SUMA_ZIELONEJ'].isna()]"
   ],
   "metadata": {
    "collapsed": false,
    "ExecuteTime": {
     "end_time": "2024-02-17T23:03:30.057826400Z",
     "start_time": "2024-02-17T23:03:30.015618500Z"
    }
   },
   "id": "7b8cbea5927251d7",
   "execution_count": 141
  },
  {
   "cell_type": "code",
   "outputs": [
    {
     "data": {
      "text/plain": "      ID_ZLECENIA_PALONA                 DTZAPIS  ILOSC_PALONA  NUMERZASYPU  \\\n0                1206810 2024-01-10 09:06:00.880           0.0            8   \n1                1206809 2024-01-10 08:59:02.527           0.0            9   \n2                1206808 2024-01-10 08:57:40.677           0.0            7   \n469              1206341 2024-01-08 08:19:50.917           0.0            5   \n1265             1205545 2024-01-03 16:37:02.000           0.0            1   \n2161             1204648 2023-12-27 07:15:29.790         345.0            4   \n2296             1204513 2023-12-22 12:02:09.280         343.0            3   \n2533             1204276 2023-12-21 08:32:02.000           0.0            1   \n3531             1203277 2023-12-17 10:32:50.000           0.0            1   \n3902             1202907 2023-12-15 20:27:59.223         345.0           23   \n8361             1198448 2023-11-26 10:47:31.000           0.0            1   \n8362             1198447 2023-11-26 10:47:17.000           0.0            1   \n\n      IDZLECENIE  NUMERPIECA  Anulowany  Zagubiona  SUMA_ZIELONEJ  \\\n0         138624        4000          0        NaN            0.0   \n1         138623        3000          0        NaN            0.0   \n2         138624        4000          0        NaN            0.0   \n469       138574        3000          0        NaN            0.0   \n1265      138492        2000          0        NaN            NaN   \n2161      138408        3000          0        NaN          400.3   \n2296      138395        3000          0        NaN          400.3   \n2533      138371        4000          0        NaN            NaN   \n3531      138267        4000          0        NaN            NaN   \n3902      138229        3000          0        NaN          401.4   \n8361      137820        4000          0        NaN            NaN   \n8362      137819        4000          0        NaN            NaN   \n\n      QuantityError  ...  im3_unit_name  ikWh_consumption  im3_consumption  \\\n0                 1  ...            NaN               NaN              NaN   \n1                 1  ...            NaN               NaN              NaN   \n2                 1  ...            NaN               NaN              NaN   \n469               0  ...            NaN               NaN              NaN   \n1265              0  ...            NaN               NaN              NaN   \n2161              0  ...            NaN               NaN              NaN   \n2296              0  ...            NaN               NaN              NaN   \n2533              0  ...            NaN               NaN              NaN   \n3531              0  ...            NaN               NaN              NaN   \n3902              0  ...            NaN               NaN              NaN   \n8361              0  ...            NaN               NaN              NaN   \n8362              0  ...            NaN               NaN              NaN   \n\n      ikWh_counter1_start ikWh_counter1_finish  ikWh_multiplier1  \\\n0                     NaN                  NaN               NaN   \n1                     NaN                  NaN               NaN   \n2                     NaN                  NaN               NaN   \n469                   NaN                  NaN               NaN   \n1265                  NaN                  NaN               NaN   \n2161                  NaN                  NaN               NaN   \n2296                  NaN                  NaN               NaN   \n2533                  NaN                  NaN               NaN   \n3531                  NaN                  NaN               NaN   \n3902                  NaN                  NaN               NaN   \n8361                  NaN                  NaN               NaN   \n8362                  NaN                  NaN               NaN   \n\n      ikWh_unit_name1  ikWh_consumption1  ikWh_total_consumption  \\\n0                 NaN                NaN                     0.0   \n1                 NaN                NaN                     0.0   \n2                 NaN                NaN                     0.0   \n469               NaN                NaN                     0.0   \n1265              NaN                NaN                     0.0   \n2161              NaN                NaN                     0.0   \n2296              NaN                NaN                     0.0   \n2533              NaN                NaN                     0.0   \n3531              NaN                NaN                     0.0   \n3902              NaN                NaN                     0.0   \n8361              NaN                NaN                     0.0   \n8362              NaN                NaN                     0.0   \n\n     lTriggerCounter  \n0                NaN  \n1                NaN  \n2                NaN  \n469              NaN  \n1265             NaN  \n2161             NaN  \n2296             NaN  \n2533             NaN  \n3531             NaN  \n3902             NaN  \n8361             NaN  \n8362             NaN  \n\n[12 rows x 38 columns]",
      "text/html": "<div>\n<style scoped>\n    .dataframe tbody tr th:only-of-type {\n        vertical-align: middle;\n    }\n\n    .dataframe tbody tr th {\n        vertical-align: top;\n    }\n\n    .dataframe thead th {\n        text-align: right;\n    }\n</style>\n<table border=\"1\" class=\"dataframe\">\n  <thead>\n    <tr style=\"text-align: right;\">\n      <th></th>\n      <th>ID_ZLECENIA_PALONA</th>\n      <th>DTZAPIS</th>\n      <th>ILOSC_PALONA</th>\n      <th>NUMERZASYPU</th>\n      <th>IDZLECENIE</th>\n      <th>NUMERPIECA</th>\n      <th>Anulowany</th>\n      <th>Zagubiona</th>\n      <th>SUMA_ZIELONEJ</th>\n      <th>QuantityError</th>\n      <th>...</th>\n      <th>im3_unit_name</th>\n      <th>ikWh_consumption</th>\n      <th>im3_consumption</th>\n      <th>ikWh_counter1_start</th>\n      <th>ikWh_counter1_finish</th>\n      <th>ikWh_multiplier1</th>\n      <th>ikWh_unit_name1</th>\n      <th>ikWh_consumption1</th>\n      <th>ikWh_total_consumption</th>\n      <th>lTriggerCounter</th>\n    </tr>\n  </thead>\n  <tbody>\n    <tr>\n      <th>0</th>\n      <td>1206810</td>\n      <td>2024-01-10 09:06:00.880</td>\n      <td>0.0</td>\n      <td>8</td>\n      <td>138624</td>\n      <td>4000</td>\n      <td>0</td>\n      <td>NaN</td>\n      <td>0.0</td>\n      <td>1</td>\n      <td>...</td>\n      <td>NaN</td>\n      <td>NaN</td>\n      <td>NaN</td>\n      <td>NaN</td>\n      <td>NaN</td>\n      <td>NaN</td>\n      <td>NaN</td>\n      <td>NaN</td>\n      <td>0.0</td>\n      <td>NaN</td>\n    </tr>\n    <tr>\n      <th>1</th>\n      <td>1206809</td>\n      <td>2024-01-10 08:59:02.527</td>\n      <td>0.0</td>\n      <td>9</td>\n      <td>138623</td>\n      <td>3000</td>\n      <td>0</td>\n      <td>NaN</td>\n      <td>0.0</td>\n      <td>1</td>\n      <td>...</td>\n      <td>NaN</td>\n      <td>NaN</td>\n      <td>NaN</td>\n      <td>NaN</td>\n      <td>NaN</td>\n      <td>NaN</td>\n      <td>NaN</td>\n      <td>NaN</td>\n      <td>0.0</td>\n      <td>NaN</td>\n    </tr>\n    <tr>\n      <th>2</th>\n      <td>1206808</td>\n      <td>2024-01-10 08:57:40.677</td>\n      <td>0.0</td>\n      <td>7</td>\n      <td>138624</td>\n      <td>4000</td>\n      <td>0</td>\n      <td>NaN</td>\n      <td>0.0</td>\n      <td>1</td>\n      <td>...</td>\n      <td>NaN</td>\n      <td>NaN</td>\n      <td>NaN</td>\n      <td>NaN</td>\n      <td>NaN</td>\n      <td>NaN</td>\n      <td>NaN</td>\n      <td>NaN</td>\n      <td>0.0</td>\n      <td>NaN</td>\n    </tr>\n    <tr>\n      <th>469</th>\n      <td>1206341</td>\n      <td>2024-01-08 08:19:50.917</td>\n      <td>0.0</td>\n      <td>5</td>\n      <td>138574</td>\n      <td>3000</td>\n      <td>0</td>\n      <td>NaN</td>\n      <td>0.0</td>\n      <td>0</td>\n      <td>...</td>\n      <td>NaN</td>\n      <td>NaN</td>\n      <td>NaN</td>\n      <td>NaN</td>\n      <td>NaN</td>\n      <td>NaN</td>\n      <td>NaN</td>\n      <td>NaN</td>\n      <td>0.0</td>\n      <td>NaN</td>\n    </tr>\n    <tr>\n      <th>1265</th>\n      <td>1205545</td>\n      <td>2024-01-03 16:37:02.000</td>\n      <td>0.0</td>\n      <td>1</td>\n      <td>138492</td>\n      <td>2000</td>\n      <td>0</td>\n      <td>NaN</td>\n      <td>NaN</td>\n      <td>0</td>\n      <td>...</td>\n      <td>NaN</td>\n      <td>NaN</td>\n      <td>NaN</td>\n      <td>NaN</td>\n      <td>NaN</td>\n      <td>NaN</td>\n      <td>NaN</td>\n      <td>NaN</td>\n      <td>0.0</td>\n      <td>NaN</td>\n    </tr>\n    <tr>\n      <th>2161</th>\n      <td>1204648</td>\n      <td>2023-12-27 07:15:29.790</td>\n      <td>345.0</td>\n      <td>4</td>\n      <td>138408</td>\n      <td>3000</td>\n      <td>0</td>\n      <td>NaN</td>\n      <td>400.3</td>\n      <td>0</td>\n      <td>...</td>\n      <td>NaN</td>\n      <td>NaN</td>\n      <td>NaN</td>\n      <td>NaN</td>\n      <td>NaN</td>\n      <td>NaN</td>\n      <td>NaN</td>\n      <td>NaN</td>\n      <td>0.0</td>\n      <td>NaN</td>\n    </tr>\n    <tr>\n      <th>2296</th>\n      <td>1204513</td>\n      <td>2023-12-22 12:02:09.280</td>\n      <td>343.0</td>\n      <td>3</td>\n      <td>138395</td>\n      <td>3000</td>\n      <td>0</td>\n      <td>NaN</td>\n      <td>400.3</td>\n      <td>0</td>\n      <td>...</td>\n      <td>NaN</td>\n      <td>NaN</td>\n      <td>NaN</td>\n      <td>NaN</td>\n      <td>NaN</td>\n      <td>NaN</td>\n      <td>NaN</td>\n      <td>NaN</td>\n      <td>0.0</td>\n      <td>NaN</td>\n    </tr>\n    <tr>\n      <th>2533</th>\n      <td>1204276</td>\n      <td>2023-12-21 08:32:02.000</td>\n      <td>0.0</td>\n      <td>1</td>\n      <td>138371</td>\n      <td>4000</td>\n      <td>0</td>\n      <td>NaN</td>\n      <td>NaN</td>\n      <td>0</td>\n      <td>...</td>\n      <td>NaN</td>\n      <td>NaN</td>\n      <td>NaN</td>\n      <td>NaN</td>\n      <td>NaN</td>\n      <td>NaN</td>\n      <td>NaN</td>\n      <td>NaN</td>\n      <td>0.0</td>\n      <td>NaN</td>\n    </tr>\n    <tr>\n      <th>3531</th>\n      <td>1203277</td>\n      <td>2023-12-17 10:32:50.000</td>\n      <td>0.0</td>\n      <td>1</td>\n      <td>138267</td>\n      <td>4000</td>\n      <td>0</td>\n      <td>NaN</td>\n      <td>NaN</td>\n      <td>0</td>\n      <td>...</td>\n      <td>NaN</td>\n      <td>NaN</td>\n      <td>NaN</td>\n      <td>NaN</td>\n      <td>NaN</td>\n      <td>NaN</td>\n      <td>NaN</td>\n      <td>NaN</td>\n      <td>0.0</td>\n      <td>NaN</td>\n    </tr>\n    <tr>\n      <th>3902</th>\n      <td>1202907</td>\n      <td>2023-12-15 20:27:59.223</td>\n      <td>345.0</td>\n      <td>23</td>\n      <td>138229</td>\n      <td>3000</td>\n      <td>0</td>\n      <td>NaN</td>\n      <td>401.4</td>\n      <td>0</td>\n      <td>...</td>\n      <td>NaN</td>\n      <td>NaN</td>\n      <td>NaN</td>\n      <td>NaN</td>\n      <td>NaN</td>\n      <td>NaN</td>\n      <td>NaN</td>\n      <td>NaN</td>\n      <td>0.0</td>\n      <td>NaN</td>\n    </tr>\n    <tr>\n      <th>8361</th>\n      <td>1198448</td>\n      <td>2023-11-26 10:47:31.000</td>\n      <td>0.0</td>\n      <td>1</td>\n      <td>137820</td>\n      <td>4000</td>\n      <td>0</td>\n      <td>NaN</td>\n      <td>NaN</td>\n      <td>0</td>\n      <td>...</td>\n      <td>NaN</td>\n      <td>NaN</td>\n      <td>NaN</td>\n      <td>NaN</td>\n      <td>NaN</td>\n      <td>NaN</td>\n      <td>NaN</td>\n      <td>NaN</td>\n      <td>0.0</td>\n      <td>NaN</td>\n    </tr>\n    <tr>\n      <th>8362</th>\n      <td>1198447</td>\n      <td>2023-11-26 10:47:17.000</td>\n      <td>0.0</td>\n      <td>1</td>\n      <td>137819</td>\n      <td>4000</td>\n      <td>0</td>\n      <td>NaN</td>\n      <td>NaN</td>\n      <td>0</td>\n      <td>...</td>\n      <td>NaN</td>\n      <td>NaN</td>\n      <td>NaN</td>\n      <td>NaN</td>\n      <td>NaN</td>\n      <td>NaN</td>\n      <td>NaN</td>\n      <td>NaN</td>\n      <td>0.0</td>\n      <td>NaN</td>\n    </tr>\n  </tbody>\n</table>\n<p>12 rows × 38 columns</p>\n</div>"
     },
     "execution_count": 142,
     "metadata": {},
     "output_type": "execute_result"
    }
   ],
   "source": [
    "jde_data[jde_data['dtRoastingStart'].isna()]"
   ],
   "metadata": {
    "collapsed": false,
    "ExecuteTime": {
     "end_time": "2024-02-17T23:03:30.877112100Z",
     "start_time": "2024-02-17T23:03:30.797288700Z"
    }
   },
   "id": "a5e34f2e523f0266",
   "execution_count": 142
  },
  {
   "cell_type": "code",
   "outputs": [
    {
     "data": {
      "text/plain": "      ID_ZLECENIA_PALONA                 DTZAPIS  ILOSC_PALONA  NUMERZASYPU  \\\n0                1206810 2024-01-10 09:06:00.880           0.0            8   \n1                1206809 2024-01-10 08:59:02.527           0.0            9   \n2                1206808 2024-01-10 08:57:40.677           0.0            7   \n3                1206807 2024-01-10 08:49:11.593           0.0            6   \n4                1206806 2024-01-10 08:48:14.330           0.0            8   \n...                  ...                     ...           ...          ...   \n9995             1196814 2023-11-20 03:12:48.087         251.0           12   \n9996             1196813 2023-11-20 03:09:00.397         505.1            7   \n9997             1196812 2023-11-20 03:04:52.260         251.9           11   \n9998             1196811 2023-11-20 03:00:06.253         505.9            6   \n9999             1196810 2023-11-20 02:51:39.743         508.1            5   \n\n      IDZLECENIE  NUMERPIECA  Anulowany  Zagubiona  SUMA_ZIELONEJ  \\\n0         138624        4000          0        NaN            0.0   \n1         138623        3000          0        NaN            0.0   \n2         138624        4000          0        NaN            0.0   \n3         138624        4000          0        NaN          600.1   \n4         138623        3000          0        NaN          400.3   \n...          ...         ...        ...        ...            ...   \n9995      137655        3000          0        NaN          300.0   \n9996      137656        4000          0        NaN          600.1   \n9997      137655        3000          0        NaN          291.1   \n9998      137656        4000          0        NaN          600.0   \n9999      137656        4000          0        NaN          600.2   \n\n      QuantityError  ...  im3_unit_name  ikWh_consumption  im3_consumption  \\\n0                 1  ...            NaN               NaN              NaN   \n1                 1  ...            NaN               NaN              NaN   \n2                 1  ...            NaN               NaN              NaN   \n3                 1  ...             m3               4.0            474.0   \n4                 1  ...             m3              23.0              8.0   \n...             ...  ...            ...               ...              ...   \n9995              0  ...             m3              13.0              9.0   \n9996              0  ...             m3              11.0           1301.0   \n9997              0  ...             m3              12.0              9.0   \n9998              0  ...             m3              11.0           1307.0   \n9999              0  ...             m3              12.0           1292.0   \n\n      ikWh_counter1_start ikWh_counter1_finish  ikWh_multiplier1  \\\n0                     NaN                  NaN               NaN   \n1                     NaN                  NaN               NaN   \n2                     NaN                  NaN               NaN   \n3              10921971.0           10922040.0              0,01   \n4                     NaN                  NaN               NaN   \n...                   ...                  ...               ...   \n9995                  NaN                  NaN               NaN   \n9996            9740934.0            9741095.0              0,01   \n9997                  NaN                  NaN               NaN   \n9998            9740751.0            9740900.0              0,01   \n9999            9740431.0            9740653.0              0,01   \n\n      ikWh_unit_name1  ikWh_consumption1  ikWh_total_consumption  \\\n0                 NaN                NaN                    0.00   \n1                 NaN                NaN                    0.00   \n2                 NaN                NaN                    0.00   \n3                 kWh               0.69                    4.69   \n4                 NaN                NaN                   23.00   \n...               ...                ...                     ...   \n9995              NaN                NaN                   13.00   \n9996              kWh               1.61                   12.61   \n9997              NaN                NaN                   12.00   \n9998              kWh               1.49                   12.49   \n9999              kWh               2.22                   14.22   \n\n     lTriggerCounter  \n0                NaN  \n1                NaN  \n2                NaN  \n3                NaN  \n4                NaN  \n...              ...  \n9995           765.0  \n9996          7144.0  \n9997           763.0  \n9998          7143.0  \n9999          7142.0  \n\n[10000 rows x 38 columns]",
      "text/html": "<div>\n<style scoped>\n    .dataframe tbody tr th:only-of-type {\n        vertical-align: middle;\n    }\n\n    .dataframe tbody tr th {\n        vertical-align: top;\n    }\n\n    .dataframe thead th {\n        text-align: right;\n    }\n</style>\n<table border=\"1\" class=\"dataframe\">\n  <thead>\n    <tr style=\"text-align: right;\">\n      <th></th>\n      <th>ID_ZLECENIA_PALONA</th>\n      <th>DTZAPIS</th>\n      <th>ILOSC_PALONA</th>\n      <th>NUMERZASYPU</th>\n      <th>IDZLECENIE</th>\n      <th>NUMERPIECA</th>\n      <th>Anulowany</th>\n      <th>Zagubiona</th>\n      <th>SUMA_ZIELONEJ</th>\n      <th>QuantityError</th>\n      <th>...</th>\n      <th>im3_unit_name</th>\n      <th>ikWh_consumption</th>\n      <th>im3_consumption</th>\n      <th>ikWh_counter1_start</th>\n      <th>ikWh_counter1_finish</th>\n      <th>ikWh_multiplier1</th>\n      <th>ikWh_unit_name1</th>\n      <th>ikWh_consumption1</th>\n      <th>ikWh_total_consumption</th>\n      <th>lTriggerCounter</th>\n    </tr>\n  </thead>\n  <tbody>\n    <tr>\n      <th>0</th>\n      <td>1206810</td>\n      <td>2024-01-10 09:06:00.880</td>\n      <td>0.0</td>\n      <td>8</td>\n      <td>138624</td>\n      <td>4000</td>\n      <td>0</td>\n      <td>NaN</td>\n      <td>0.0</td>\n      <td>1</td>\n      <td>...</td>\n      <td>NaN</td>\n      <td>NaN</td>\n      <td>NaN</td>\n      <td>NaN</td>\n      <td>NaN</td>\n      <td>NaN</td>\n      <td>NaN</td>\n      <td>NaN</td>\n      <td>0.00</td>\n      <td>NaN</td>\n    </tr>\n    <tr>\n      <th>1</th>\n      <td>1206809</td>\n      <td>2024-01-10 08:59:02.527</td>\n      <td>0.0</td>\n      <td>9</td>\n      <td>138623</td>\n      <td>3000</td>\n      <td>0</td>\n      <td>NaN</td>\n      <td>0.0</td>\n      <td>1</td>\n      <td>...</td>\n      <td>NaN</td>\n      <td>NaN</td>\n      <td>NaN</td>\n      <td>NaN</td>\n      <td>NaN</td>\n      <td>NaN</td>\n      <td>NaN</td>\n      <td>NaN</td>\n      <td>0.00</td>\n      <td>NaN</td>\n    </tr>\n    <tr>\n      <th>2</th>\n      <td>1206808</td>\n      <td>2024-01-10 08:57:40.677</td>\n      <td>0.0</td>\n      <td>7</td>\n      <td>138624</td>\n      <td>4000</td>\n      <td>0</td>\n      <td>NaN</td>\n      <td>0.0</td>\n      <td>1</td>\n      <td>...</td>\n      <td>NaN</td>\n      <td>NaN</td>\n      <td>NaN</td>\n      <td>NaN</td>\n      <td>NaN</td>\n      <td>NaN</td>\n      <td>NaN</td>\n      <td>NaN</td>\n      <td>0.00</td>\n      <td>NaN</td>\n    </tr>\n    <tr>\n      <th>3</th>\n      <td>1206807</td>\n      <td>2024-01-10 08:49:11.593</td>\n      <td>0.0</td>\n      <td>6</td>\n      <td>138624</td>\n      <td>4000</td>\n      <td>0</td>\n      <td>NaN</td>\n      <td>600.1</td>\n      <td>1</td>\n      <td>...</td>\n      <td>m3</td>\n      <td>4.0</td>\n      <td>474.0</td>\n      <td>10921971.0</td>\n      <td>10922040.0</td>\n      <td>0,01</td>\n      <td>kWh</td>\n      <td>0.69</td>\n      <td>4.69</td>\n      <td>NaN</td>\n    </tr>\n    <tr>\n      <th>4</th>\n      <td>1206806</td>\n      <td>2024-01-10 08:48:14.330</td>\n      <td>0.0</td>\n      <td>8</td>\n      <td>138623</td>\n      <td>3000</td>\n      <td>0</td>\n      <td>NaN</td>\n      <td>400.3</td>\n      <td>1</td>\n      <td>...</td>\n      <td>m3</td>\n      <td>23.0</td>\n      <td>8.0</td>\n      <td>NaN</td>\n      <td>NaN</td>\n      <td>NaN</td>\n      <td>NaN</td>\n      <td>NaN</td>\n      <td>23.00</td>\n      <td>NaN</td>\n    </tr>\n    <tr>\n      <th>...</th>\n      <td>...</td>\n      <td>...</td>\n      <td>...</td>\n      <td>...</td>\n      <td>...</td>\n      <td>...</td>\n      <td>...</td>\n      <td>...</td>\n      <td>...</td>\n      <td>...</td>\n      <td>...</td>\n      <td>...</td>\n      <td>...</td>\n      <td>...</td>\n      <td>...</td>\n      <td>...</td>\n      <td>...</td>\n      <td>...</td>\n      <td>...</td>\n      <td>...</td>\n      <td>...</td>\n    </tr>\n    <tr>\n      <th>9995</th>\n      <td>1196814</td>\n      <td>2023-11-20 03:12:48.087</td>\n      <td>251.0</td>\n      <td>12</td>\n      <td>137655</td>\n      <td>3000</td>\n      <td>0</td>\n      <td>NaN</td>\n      <td>300.0</td>\n      <td>0</td>\n      <td>...</td>\n      <td>m3</td>\n      <td>13.0</td>\n      <td>9.0</td>\n      <td>NaN</td>\n      <td>NaN</td>\n      <td>NaN</td>\n      <td>NaN</td>\n      <td>NaN</td>\n      <td>13.00</td>\n      <td>765.0</td>\n    </tr>\n    <tr>\n      <th>9996</th>\n      <td>1196813</td>\n      <td>2023-11-20 03:09:00.397</td>\n      <td>505.1</td>\n      <td>7</td>\n      <td>137656</td>\n      <td>4000</td>\n      <td>0</td>\n      <td>NaN</td>\n      <td>600.1</td>\n      <td>0</td>\n      <td>...</td>\n      <td>m3</td>\n      <td>11.0</td>\n      <td>1301.0</td>\n      <td>9740934.0</td>\n      <td>9741095.0</td>\n      <td>0,01</td>\n      <td>kWh</td>\n      <td>1.61</td>\n      <td>12.61</td>\n      <td>7144.0</td>\n    </tr>\n    <tr>\n      <th>9997</th>\n      <td>1196812</td>\n      <td>2023-11-20 03:04:52.260</td>\n      <td>251.9</td>\n      <td>11</td>\n      <td>137655</td>\n      <td>3000</td>\n      <td>0</td>\n      <td>NaN</td>\n      <td>291.1</td>\n      <td>0</td>\n      <td>...</td>\n      <td>m3</td>\n      <td>12.0</td>\n      <td>9.0</td>\n      <td>NaN</td>\n      <td>NaN</td>\n      <td>NaN</td>\n      <td>NaN</td>\n      <td>NaN</td>\n      <td>12.00</td>\n      <td>763.0</td>\n    </tr>\n    <tr>\n      <th>9998</th>\n      <td>1196811</td>\n      <td>2023-11-20 03:00:06.253</td>\n      <td>505.9</td>\n      <td>6</td>\n      <td>137656</td>\n      <td>4000</td>\n      <td>0</td>\n      <td>NaN</td>\n      <td>600.0</td>\n      <td>0</td>\n      <td>...</td>\n      <td>m3</td>\n      <td>11.0</td>\n      <td>1307.0</td>\n      <td>9740751.0</td>\n      <td>9740900.0</td>\n      <td>0,01</td>\n      <td>kWh</td>\n      <td>1.49</td>\n      <td>12.49</td>\n      <td>7143.0</td>\n    </tr>\n    <tr>\n      <th>9999</th>\n      <td>1196810</td>\n      <td>2023-11-20 02:51:39.743</td>\n      <td>508.1</td>\n      <td>5</td>\n      <td>137656</td>\n      <td>4000</td>\n      <td>0</td>\n      <td>NaN</td>\n      <td>600.2</td>\n      <td>0</td>\n      <td>...</td>\n      <td>m3</td>\n      <td>12.0</td>\n      <td>1292.0</td>\n      <td>9740431.0</td>\n      <td>9740653.0</td>\n      <td>0,01</td>\n      <td>kWh</td>\n      <td>2.22</td>\n      <td>14.22</td>\n      <td>7142.0</td>\n    </tr>\n  </tbody>\n</table>\n<p>10000 rows × 38 columns</p>\n</div>"
     },
     "execution_count": 143,
     "metadata": {},
     "output_type": "execute_result"
    }
   ],
   "source": [
    "jde_data"
   ],
   "metadata": {
    "collapsed": false,
    "ExecuteTime": {
     "end_time": "2024-02-17T23:03:32.513429900Z",
     "start_time": "2024-02-17T23:03:32.452532300Z"
    }
   },
   "id": "9df72514be876a8f",
   "execution_count": 143
  },
  {
   "cell_type": "code",
   "outputs": [],
   "source": [
    "jde_data = jde_data.dropna(subset=['SUMA_ZIELONEJ'])"
   ],
   "metadata": {
    "collapsed": false,
    "ExecuteTime": {
     "end_time": "2024-02-17T23:03:33.122463300Z",
     "start_time": "2024-02-17T23:03:33.102600800Z"
    }
   },
   "id": "8219a344a9a2691f",
   "execution_count": 144
  },
  {
   "cell_type": "code",
   "outputs": [
    {
     "data": {
      "text/plain": "      ID_ZLECENIA_PALONA                 DTZAPIS  ILOSC_PALONA  NUMERZASYPU  \\\n0                1206810 2024-01-10 09:06:00.880           0.0            8   \n1                1206809 2024-01-10 08:59:02.527           0.0            9   \n2                1206808 2024-01-10 08:57:40.677           0.0            7   \n469              1206341 2024-01-08 08:19:50.917           0.0            5   \n2161             1204648 2023-12-27 07:15:29.790         345.0            4   \n2296             1204513 2023-12-22 12:02:09.280         343.0            3   \n3902             1202907 2023-12-15 20:27:59.223         345.0           23   \n\n      IDZLECENIE  NUMERPIECA  Anulowany  Zagubiona  SUMA_ZIELONEJ  \\\n0         138624        4000          0        NaN            0.0   \n1         138623        3000          0        NaN            0.0   \n2         138624        4000          0        NaN            0.0   \n469       138574        3000          0        NaN            0.0   \n2161      138408        3000          0        NaN          400.3   \n2296      138395        3000          0        NaN          400.3   \n3902      138229        3000          0        NaN          401.4   \n\n      QuantityError  ...  im3_unit_name  ikWh_consumption  im3_consumption  \\\n0                 1  ...            NaN               NaN              NaN   \n1                 1  ...            NaN               NaN              NaN   \n2                 1  ...            NaN               NaN              NaN   \n469               0  ...            NaN               NaN              NaN   \n2161              0  ...            NaN               NaN              NaN   \n2296              0  ...            NaN               NaN              NaN   \n3902              0  ...            NaN               NaN              NaN   \n\n      ikWh_counter1_start ikWh_counter1_finish  ikWh_multiplier1  \\\n0                     NaN                  NaN               NaN   \n1                     NaN                  NaN               NaN   \n2                     NaN                  NaN               NaN   \n469                   NaN                  NaN               NaN   \n2161                  NaN                  NaN               NaN   \n2296                  NaN                  NaN               NaN   \n3902                  NaN                  NaN               NaN   \n\n      ikWh_unit_name1  ikWh_consumption1  ikWh_total_consumption  \\\n0                 NaN                NaN                     0.0   \n1                 NaN                NaN                     0.0   \n2                 NaN                NaN                     0.0   \n469               NaN                NaN                     0.0   \n2161              NaN                NaN                     0.0   \n2296              NaN                NaN                     0.0   \n3902              NaN                NaN                     0.0   \n\n     lTriggerCounter  \n0                NaN  \n1                NaN  \n2                NaN  \n469              NaN  \n2161             NaN  \n2296             NaN  \n3902             NaN  \n\n[7 rows x 38 columns]",
      "text/html": "<div>\n<style scoped>\n    .dataframe tbody tr th:only-of-type {\n        vertical-align: middle;\n    }\n\n    .dataframe tbody tr th {\n        vertical-align: top;\n    }\n\n    .dataframe thead th {\n        text-align: right;\n    }\n</style>\n<table border=\"1\" class=\"dataframe\">\n  <thead>\n    <tr style=\"text-align: right;\">\n      <th></th>\n      <th>ID_ZLECENIA_PALONA</th>\n      <th>DTZAPIS</th>\n      <th>ILOSC_PALONA</th>\n      <th>NUMERZASYPU</th>\n      <th>IDZLECENIE</th>\n      <th>NUMERPIECA</th>\n      <th>Anulowany</th>\n      <th>Zagubiona</th>\n      <th>SUMA_ZIELONEJ</th>\n      <th>QuantityError</th>\n      <th>...</th>\n      <th>im3_unit_name</th>\n      <th>ikWh_consumption</th>\n      <th>im3_consumption</th>\n      <th>ikWh_counter1_start</th>\n      <th>ikWh_counter1_finish</th>\n      <th>ikWh_multiplier1</th>\n      <th>ikWh_unit_name1</th>\n      <th>ikWh_consumption1</th>\n      <th>ikWh_total_consumption</th>\n      <th>lTriggerCounter</th>\n    </tr>\n  </thead>\n  <tbody>\n    <tr>\n      <th>0</th>\n      <td>1206810</td>\n      <td>2024-01-10 09:06:00.880</td>\n      <td>0.0</td>\n      <td>8</td>\n      <td>138624</td>\n      <td>4000</td>\n      <td>0</td>\n      <td>NaN</td>\n      <td>0.0</td>\n      <td>1</td>\n      <td>...</td>\n      <td>NaN</td>\n      <td>NaN</td>\n      <td>NaN</td>\n      <td>NaN</td>\n      <td>NaN</td>\n      <td>NaN</td>\n      <td>NaN</td>\n      <td>NaN</td>\n      <td>0.0</td>\n      <td>NaN</td>\n    </tr>\n    <tr>\n      <th>1</th>\n      <td>1206809</td>\n      <td>2024-01-10 08:59:02.527</td>\n      <td>0.0</td>\n      <td>9</td>\n      <td>138623</td>\n      <td>3000</td>\n      <td>0</td>\n      <td>NaN</td>\n      <td>0.0</td>\n      <td>1</td>\n      <td>...</td>\n      <td>NaN</td>\n      <td>NaN</td>\n      <td>NaN</td>\n      <td>NaN</td>\n      <td>NaN</td>\n      <td>NaN</td>\n      <td>NaN</td>\n      <td>NaN</td>\n      <td>0.0</td>\n      <td>NaN</td>\n    </tr>\n    <tr>\n      <th>2</th>\n      <td>1206808</td>\n      <td>2024-01-10 08:57:40.677</td>\n      <td>0.0</td>\n      <td>7</td>\n      <td>138624</td>\n      <td>4000</td>\n      <td>0</td>\n      <td>NaN</td>\n      <td>0.0</td>\n      <td>1</td>\n      <td>...</td>\n      <td>NaN</td>\n      <td>NaN</td>\n      <td>NaN</td>\n      <td>NaN</td>\n      <td>NaN</td>\n      <td>NaN</td>\n      <td>NaN</td>\n      <td>NaN</td>\n      <td>0.0</td>\n      <td>NaN</td>\n    </tr>\n    <tr>\n      <th>469</th>\n      <td>1206341</td>\n      <td>2024-01-08 08:19:50.917</td>\n      <td>0.0</td>\n      <td>5</td>\n      <td>138574</td>\n      <td>3000</td>\n      <td>0</td>\n      <td>NaN</td>\n      <td>0.0</td>\n      <td>0</td>\n      <td>...</td>\n      <td>NaN</td>\n      <td>NaN</td>\n      <td>NaN</td>\n      <td>NaN</td>\n      <td>NaN</td>\n      <td>NaN</td>\n      <td>NaN</td>\n      <td>NaN</td>\n      <td>0.0</td>\n      <td>NaN</td>\n    </tr>\n    <tr>\n      <th>2161</th>\n      <td>1204648</td>\n      <td>2023-12-27 07:15:29.790</td>\n      <td>345.0</td>\n      <td>4</td>\n      <td>138408</td>\n      <td>3000</td>\n      <td>0</td>\n      <td>NaN</td>\n      <td>400.3</td>\n      <td>0</td>\n      <td>...</td>\n      <td>NaN</td>\n      <td>NaN</td>\n      <td>NaN</td>\n      <td>NaN</td>\n      <td>NaN</td>\n      <td>NaN</td>\n      <td>NaN</td>\n      <td>NaN</td>\n      <td>0.0</td>\n      <td>NaN</td>\n    </tr>\n    <tr>\n      <th>2296</th>\n      <td>1204513</td>\n      <td>2023-12-22 12:02:09.280</td>\n      <td>343.0</td>\n      <td>3</td>\n      <td>138395</td>\n      <td>3000</td>\n      <td>0</td>\n      <td>NaN</td>\n      <td>400.3</td>\n      <td>0</td>\n      <td>...</td>\n      <td>NaN</td>\n      <td>NaN</td>\n      <td>NaN</td>\n      <td>NaN</td>\n      <td>NaN</td>\n      <td>NaN</td>\n      <td>NaN</td>\n      <td>NaN</td>\n      <td>0.0</td>\n      <td>NaN</td>\n    </tr>\n    <tr>\n      <th>3902</th>\n      <td>1202907</td>\n      <td>2023-12-15 20:27:59.223</td>\n      <td>345.0</td>\n      <td>23</td>\n      <td>138229</td>\n      <td>3000</td>\n      <td>0</td>\n      <td>NaN</td>\n      <td>401.4</td>\n      <td>0</td>\n      <td>...</td>\n      <td>NaN</td>\n      <td>NaN</td>\n      <td>NaN</td>\n      <td>NaN</td>\n      <td>NaN</td>\n      <td>NaN</td>\n      <td>NaN</td>\n      <td>NaN</td>\n      <td>0.0</td>\n      <td>NaN</td>\n    </tr>\n  </tbody>\n</table>\n<p>7 rows × 38 columns</p>\n</div>"
     },
     "execution_count": 145,
     "metadata": {},
     "output_type": "execute_result"
    }
   ],
   "source": [
    "jde_data[jde_data['dtRoastingStart'].isna()]"
   ],
   "metadata": {
    "collapsed": false,
    "ExecuteTime": {
     "end_time": "2024-02-17T23:03:33.547063800Z",
     "start_time": "2024-02-17T23:03:33.518470400Z"
    }
   },
   "id": "6717e155991f7c31",
   "execution_count": 145
  },
  {
   "cell_type": "code",
   "outputs": [],
   "source": [
    "# jde_data[jde_data['ikWh_multiplier1'] == '0,01']"
   ],
   "metadata": {
    "collapsed": false,
    "ExecuteTime": {
     "end_time": "2024-02-17T23:03:34.783003Z",
     "start_time": "2024-02-17T23:03:34.755932200Z"
    }
   },
   "id": "d6b6e787a65329bf",
   "execution_count": 146
  },
  {
   "cell_type": "code",
   "outputs": [
    {
     "data": {
      "text/plain": "      ID_ZLECENIA_PALONA                 DTZAPIS  ILOSC_PALONA  NUMERZASYPU  \\\n0                1206810 2024-01-10 09:06:00.880           0.0            8   \n1                1206809 2024-01-10 08:59:02.527           0.0            9   \n2                1206808 2024-01-10 08:57:40.677           0.0            7   \n3                1206807 2024-01-10 08:49:11.593           0.0            6   \n4                1206806 2024-01-10 08:48:14.330           0.0            8   \n...                  ...                     ...           ...          ...   \n9992             1196817 2023-11-20 03:30:34.757         250.9           14   \n9993             1196816 2023-11-20 03:19:30.917         251.4           13   \n9994             1196815 2023-11-20 03:17:40.000         509.7            1   \n9995             1196814 2023-11-20 03:12:48.087         251.0           12   \n9997             1196812 2023-11-20 03:04:52.260         251.9           11   \n\n      IDZLECENIE  NUMERPIECA  Anulowany  Zagubiona  SUMA_ZIELONEJ  \\\n0         138624        4000          0        NaN            0.0   \n1         138623        3000          0        NaN            0.0   \n2         138624        4000          0        NaN            0.0   \n3         138624        4000          0        NaN          600.1   \n4         138623        3000          0        NaN          400.3   \n...          ...         ...        ...        ...            ...   \n9992      137655        3000          0        NaN          300.0   \n9993      137655        3000          0        NaN          300.0   \n9994      137657        4000          0        NaN          600.5   \n9995      137655        3000          0        NaN          300.0   \n9997      137655        3000          0        NaN          291.1   \n\n      QuantityError  ...  im3_unit_name  ikWh_consumption  im3_consumption  \\\n0                 1  ...            NaN               NaN              NaN   \n1                 1  ...            NaN               NaN              NaN   \n2                 1  ...            NaN               NaN              NaN   \n3                 1  ...             m3               4.0            474.0   \n4                 1  ...             m3              23.0              8.0   \n...             ...  ...            ...               ...              ...   \n9992              0  ...             m3              12.0              9.0   \n9993              0  ...             m3              12.0              9.0   \n9994              0  ...             m3              10.0           1353.0   \n9995              0  ...             m3              13.0              9.0   \n9997              0  ...             m3              12.0              9.0   \n\n      ikWh_counter1_start ikWh_counter1_finish  ikWh_multiplier1  \\\n0                     NaN                  NaN               NaN   \n1                     NaN                  NaN               NaN   \n2                     NaN                  NaN               NaN   \n3              10921971.0           10922040.0              0,01   \n4                     NaN                  NaN               NaN   \n...                   ...                  ...               ...   \n9992                  NaN                  NaN               NaN   \n9993                  NaN                  NaN               NaN   \n9994            9741267.0            9741407.0              0,01   \n9995                  NaN                  NaN               NaN   \n9997                  NaN                  NaN               NaN   \n\n      ikWh_unit_name1  ikWh_consumption1  ikWh_total_consumption  \\\n0                 NaN                NaN                    0.00   \n1                 NaN                NaN                    0.00   \n2                 NaN                NaN                    0.00   \n3                 kWh               0.69                    4.69   \n4                 NaN                NaN                   23.00   \n...               ...                ...                     ...   \n9992              NaN                NaN                   12.00   \n9993              NaN                NaN                   12.00   \n9994              kWh               1.40                   11.40   \n9995              NaN                NaN                   13.00   \n9997              NaN                NaN                   12.00   \n\n     lTriggerCounter  \n0                NaN  \n1                NaN  \n2                NaN  \n3                NaN  \n4                NaN  \n...              ...  \n9992           769.0  \n9993           767.0  \n9994          7145.0  \n9995           765.0  \n9997           763.0  \n\n[5961 rows x 38 columns]",
      "text/html": "<div>\n<style scoped>\n    .dataframe tbody tr th:only-of-type {\n        vertical-align: middle;\n    }\n\n    .dataframe tbody tr th {\n        vertical-align: top;\n    }\n\n    .dataframe thead th {\n        text-align: right;\n    }\n</style>\n<table border=\"1\" class=\"dataframe\">\n  <thead>\n    <tr style=\"text-align: right;\">\n      <th></th>\n      <th>ID_ZLECENIA_PALONA</th>\n      <th>DTZAPIS</th>\n      <th>ILOSC_PALONA</th>\n      <th>NUMERZASYPU</th>\n      <th>IDZLECENIE</th>\n      <th>NUMERPIECA</th>\n      <th>Anulowany</th>\n      <th>Zagubiona</th>\n      <th>SUMA_ZIELONEJ</th>\n      <th>QuantityError</th>\n      <th>...</th>\n      <th>im3_unit_name</th>\n      <th>ikWh_consumption</th>\n      <th>im3_consumption</th>\n      <th>ikWh_counter1_start</th>\n      <th>ikWh_counter1_finish</th>\n      <th>ikWh_multiplier1</th>\n      <th>ikWh_unit_name1</th>\n      <th>ikWh_consumption1</th>\n      <th>ikWh_total_consumption</th>\n      <th>lTriggerCounter</th>\n    </tr>\n  </thead>\n  <tbody>\n    <tr>\n      <th>0</th>\n      <td>1206810</td>\n      <td>2024-01-10 09:06:00.880</td>\n      <td>0.0</td>\n      <td>8</td>\n      <td>138624</td>\n      <td>4000</td>\n      <td>0</td>\n      <td>NaN</td>\n      <td>0.0</td>\n      <td>1</td>\n      <td>...</td>\n      <td>NaN</td>\n      <td>NaN</td>\n      <td>NaN</td>\n      <td>NaN</td>\n      <td>NaN</td>\n      <td>NaN</td>\n      <td>NaN</td>\n      <td>NaN</td>\n      <td>0.00</td>\n      <td>NaN</td>\n    </tr>\n    <tr>\n      <th>1</th>\n      <td>1206809</td>\n      <td>2024-01-10 08:59:02.527</td>\n      <td>0.0</td>\n      <td>9</td>\n      <td>138623</td>\n      <td>3000</td>\n      <td>0</td>\n      <td>NaN</td>\n      <td>0.0</td>\n      <td>1</td>\n      <td>...</td>\n      <td>NaN</td>\n      <td>NaN</td>\n      <td>NaN</td>\n      <td>NaN</td>\n      <td>NaN</td>\n      <td>NaN</td>\n      <td>NaN</td>\n      <td>NaN</td>\n      <td>0.00</td>\n      <td>NaN</td>\n    </tr>\n    <tr>\n      <th>2</th>\n      <td>1206808</td>\n      <td>2024-01-10 08:57:40.677</td>\n      <td>0.0</td>\n      <td>7</td>\n      <td>138624</td>\n      <td>4000</td>\n      <td>0</td>\n      <td>NaN</td>\n      <td>0.0</td>\n      <td>1</td>\n      <td>...</td>\n      <td>NaN</td>\n      <td>NaN</td>\n      <td>NaN</td>\n      <td>NaN</td>\n      <td>NaN</td>\n      <td>NaN</td>\n      <td>NaN</td>\n      <td>NaN</td>\n      <td>0.00</td>\n      <td>NaN</td>\n    </tr>\n    <tr>\n      <th>3</th>\n      <td>1206807</td>\n      <td>2024-01-10 08:49:11.593</td>\n      <td>0.0</td>\n      <td>6</td>\n      <td>138624</td>\n      <td>4000</td>\n      <td>0</td>\n      <td>NaN</td>\n      <td>600.1</td>\n      <td>1</td>\n      <td>...</td>\n      <td>m3</td>\n      <td>4.0</td>\n      <td>474.0</td>\n      <td>10921971.0</td>\n      <td>10922040.0</td>\n      <td>0,01</td>\n      <td>kWh</td>\n      <td>0.69</td>\n      <td>4.69</td>\n      <td>NaN</td>\n    </tr>\n    <tr>\n      <th>4</th>\n      <td>1206806</td>\n      <td>2024-01-10 08:48:14.330</td>\n      <td>0.0</td>\n      <td>8</td>\n      <td>138623</td>\n      <td>3000</td>\n      <td>0</td>\n      <td>NaN</td>\n      <td>400.3</td>\n      <td>1</td>\n      <td>...</td>\n      <td>m3</td>\n      <td>23.0</td>\n      <td>8.0</td>\n      <td>NaN</td>\n      <td>NaN</td>\n      <td>NaN</td>\n      <td>NaN</td>\n      <td>NaN</td>\n      <td>23.00</td>\n      <td>NaN</td>\n    </tr>\n    <tr>\n      <th>...</th>\n      <td>...</td>\n      <td>...</td>\n      <td>...</td>\n      <td>...</td>\n      <td>...</td>\n      <td>...</td>\n      <td>...</td>\n      <td>...</td>\n      <td>...</td>\n      <td>...</td>\n      <td>...</td>\n      <td>...</td>\n      <td>...</td>\n      <td>...</td>\n      <td>...</td>\n      <td>...</td>\n      <td>...</td>\n      <td>...</td>\n      <td>...</td>\n      <td>...</td>\n      <td>...</td>\n    </tr>\n    <tr>\n      <th>9992</th>\n      <td>1196817</td>\n      <td>2023-11-20 03:30:34.757</td>\n      <td>250.9</td>\n      <td>14</td>\n      <td>137655</td>\n      <td>3000</td>\n      <td>0</td>\n      <td>NaN</td>\n      <td>300.0</td>\n      <td>0</td>\n      <td>...</td>\n      <td>m3</td>\n      <td>12.0</td>\n      <td>9.0</td>\n      <td>NaN</td>\n      <td>NaN</td>\n      <td>NaN</td>\n      <td>NaN</td>\n      <td>NaN</td>\n      <td>12.00</td>\n      <td>769.0</td>\n    </tr>\n    <tr>\n      <th>9993</th>\n      <td>1196816</td>\n      <td>2023-11-20 03:19:30.917</td>\n      <td>251.4</td>\n      <td>13</td>\n      <td>137655</td>\n      <td>3000</td>\n      <td>0</td>\n      <td>NaN</td>\n      <td>300.0</td>\n      <td>0</td>\n      <td>...</td>\n      <td>m3</td>\n      <td>12.0</td>\n      <td>9.0</td>\n      <td>NaN</td>\n      <td>NaN</td>\n      <td>NaN</td>\n      <td>NaN</td>\n      <td>NaN</td>\n      <td>12.00</td>\n      <td>767.0</td>\n    </tr>\n    <tr>\n      <th>9994</th>\n      <td>1196815</td>\n      <td>2023-11-20 03:17:40.000</td>\n      <td>509.7</td>\n      <td>1</td>\n      <td>137657</td>\n      <td>4000</td>\n      <td>0</td>\n      <td>NaN</td>\n      <td>600.5</td>\n      <td>0</td>\n      <td>...</td>\n      <td>m3</td>\n      <td>10.0</td>\n      <td>1353.0</td>\n      <td>9741267.0</td>\n      <td>9741407.0</td>\n      <td>0,01</td>\n      <td>kWh</td>\n      <td>1.40</td>\n      <td>11.40</td>\n      <td>7145.0</td>\n    </tr>\n    <tr>\n      <th>9995</th>\n      <td>1196814</td>\n      <td>2023-11-20 03:12:48.087</td>\n      <td>251.0</td>\n      <td>12</td>\n      <td>137655</td>\n      <td>3000</td>\n      <td>0</td>\n      <td>NaN</td>\n      <td>300.0</td>\n      <td>0</td>\n      <td>...</td>\n      <td>m3</td>\n      <td>13.0</td>\n      <td>9.0</td>\n      <td>NaN</td>\n      <td>NaN</td>\n      <td>NaN</td>\n      <td>NaN</td>\n      <td>NaN</td>\n      <td>13.00</td>\n      <td>765.0</td>\n    </tr>\n    <tr>\n      <th>9997</th>\n      <td>1196812</td>\n      <td>2023-11-20 03:04:52.260</td>\n      <td>251.9</td>\n      <td>11</td>\n      <td>137655</td>\n      <td>3000</td>\n      <td>0</td>\n      <td>NaN</td>\n      <td>291.1</td>\n      <td>0</td>\n      <td>...</td>\n      <td>m3</td>\n      <td>12.0</td>\n      <td>9.0</td>\n      <td>NaN</td>\n      <td>NaN</td>\n      <td>NaN</td>\n      <td>NaN</td>\n      <td>NaN</td>\n      <td>12.00</td>\n      <td>763.0</td>\n    </tr>\n  </tbody>\n</table>\n<p>5961 rows × 38 columns</p>\n</div>"
     },
     "execution_count": 147,
     "metadata": {},
     "output_type": "execute_result"
    }
   ],
   "source": [
    "jde_data.loc[((jde_data['ikWh_counter1_finish'] - jde_data['ikWh_counter1_start']) * .01 != jde_data['ikWh_consumption1'])]"
   ],
   "metadata": {
    "collapsed": false,
    "ExecuteTime": {
     "end_time": "2024-02-17T23:03:36.165660300Z",
     "start_time": "2024-02-17T23:03:36.133933100Z"
    }
   },
   "id": "123024e3ef31c2ae",
   "execution_count": 147
  },
  {
   "cell_type": "code",
   "outputs": [],
   "source": [
    "jde_data.loc[jde_data['ikWh_counter_start'].isna(), 'ikWh_counter1_start'] = 0\n",
    "jde_data.loc[jde_data['ikWh_counter1_finish'].isna(), 'ikWh_counter1_finish'] = 0\n",
    "jde_data.loc[jde_data['ikWh_consumption1'].isna(), 'ikWh_consumption1'] = 0"
   ],
   "metadata": {
    "collapsed": false,
    "ExecuteTime": {
     "end_time": "2024-02-17T23:03:37.081772200Z",
     "start_time": "2024-02-17T23:03:37.044691800Z"
    }
   },
   "id": "7e509f7118a24bc5",
   "execution_count": 148
  },
  {
   "cell_type": "code",
   "outputs": [
    {
     "data": {
      "text/plain": "      ID_ZLECENIA_PALONA                 DTZAPIS  ILOSC_PALONA  NUMERZASYPU  \\\n0                1206810 2024-01-10 09:06:00.880           0.0            8   \n1                1206809 2024-01-10 08:59:02.527           0.0            9   \n2                1206808 2024-01-10 08:57:40.677           0.0            7   \n3                1206807 2024-01-10 08:49:11.593           0.0            6   \n4                1206806 2024-01-10 08:48:14.330           0.0            8   \n...                  ...                     ...           ...          ...   \n9995             1196814 2023-11-20 03:12:48.087         251.0           12   \n9996             1196813 2023-11-20 03:09:00.397         505.1            7   \n9997             1196812 2023-11-20 03:04:52.260         251.9           11   \n9998             1196811 2023-11-20 03:00:06.253         505.9            6   \n9999             1196810 2023-11-20 02:51:39.743         508.1            5   \n\n      IDZLECENIE  NUMERPIECA  Anulowany  Zagubiona  SUMA_ZIELONEJ  \\\n0         138624        4000          0        NaN            0.0   \n1         138623        3000          0        NaN            0.0   \n2         138624        4000          0        NaN            0.0   \n3         138624        4000          0        NaN          600.1   \n4         138623        3000          0        NaN          400.3   \n...          ...         ...        ...        ...            ...   \n9995      137655        3000          0        NaN          300.0   \n9996      137656        4000          0        NaN          600.1   \n9997      137655        3000          0        NaN          291.1   \n9998      137656        4000          0        NaN          600.0   \n9999      137656        4000          0        NaN          600.2   \n\n      QuantityError  ...  im3_unit_name  ikWh_consumption  im3_consumption  \\\n0                 1  ...            NaN               NaN              NaN   \n1                 1  ...            NaN               NaN              NaN   \n2                 1  ...            NaN               NaN              NaN   \n3                 1  ...             m3               4.0            474.0   \n4                 1  ...             m3              23.0              8.0   \n...             ...  ...            ...               ...              ...   \n9995              0  ...             m3              13.0              9.0   \n9996              0  ...             m3              11.0           1301.0   \n9997              0  ...             m3              12.0              9.0   \n9998              0  ...             m3              11.0           1307.0   \n9999              0  ...             m3              12.0           1292.0   \n\n      ikWh_counter1_start ikWh_counter1_finish  ikWh_multiplier1  \\\n0                     0.0                  0.0               NaN   \n1                     0.0                  0.0               NaN   \n2                     0.0                  0.0               NaN   \n3              10921971.0           10922040.0              0,01   \n4                     NaN                  0.0               NaN   \n...                   ...                  ...               ...   \n9995                  NaN                  0.0               NaN   \n9996            9740934.0            9741095.0              0,01   \n9997                  NaN                  0.0               NaN   \n9998            9740751.0            9740900.0              0,01   \n9999            9740431.0            9740653.0              0,01   \n\n      ikWh_unit_name1  ikWh_consumption1  ikWh_total_consumption  \\\n0                 NaN               0.00                    0.00   \n1                 NaN               0.00                    0.00   \n2                 NaN               0.00                    0.00   \n3                 kWh               0.69                    4.69   \n4                 NaN               0.00                   23.00   \n...               ...                ...                     ...   \n9995              NaN               0.00                   13.00   \n9996              kWh               1.61                   12.61   \n9997              NaN               0.00                   12.00   \n9998              kWh               1.49                   12.49   \n9999              kWh               2.22                   14.22   \n\n     lTriggerCounter  \n0                NaN  \n1                NaN  \n2                NaN  \n3                NaN  \n4                NaN  \n...              ...  \n9995           765.0  \n9996          7144.0  \n9997           763.0  \n9998          7143.0  \n9999          7142.0  \n\n[9995 rows x 38 columns]",
      "text/html": "<div>\n<style scoped>\n    .dataframe tbody tr th:only-of-type {\n        vertical-align: middle;\n    }\n\n    .dataframe tbody tr th {\n        vertical-align: top;\n    }\n\n    .dataframe thead th {\n        text-align: right;\n    }\n</style>\n<table border=\"1\" class=\"dataframe\">\n  <thead>\n    <tr style=\"text-align: right;\">\n      <th></th>\n      <th>ID_ZLECENIA_PALONA</th>\n      <th>DTZAPIS</th>\n      <th>ILOSC_PALONA</th>\n      <th>NUMERZASYPU</th>\n      <th>IDZLECENIE</th>\n      <th>NUMERPIECA</th>\n      <th>Anulowany</th>\n      <th>Zagubiona</th>\n      <th>SUMA_ZIELONEJ</th>\n      <th>QuantityError</th>\n      <th>...</th>\n      <th>im3_unit_name</th>\n      <th>ikWh_consumption</th>\n      <th>im3_consumption</th>\n      <th>ikWh_counter1_start</th>\n      <th>ikWh_counter1_finish</th>\n      <th>ikWh_multiplier1</th>\n      <th>ikWh_unit_name1</th>\n      <th>ikWh_consumption1</th>\n      <th>ikWh_total_consumption</th>\n      <th>lTriggerCounter</th>\n    </tr>\n  </thead>\n  <tbody>\n    <tr>\n      <th>0</th>\n      <td>1206810</td>\n      <td>2024-01-10 09:06:00.880</td>\n      <td>0.0</td>\n      <td>8</td>\n      <td>138624</td>\n      <td>4000</td>\n      <td>0</td>\n      <td>NaN</td>\n      <td>0.0</td>\n      <td>1</td>\n      <td>...</td>\n      <td>NaN</td>\n      <td>NaN</td>\n      <td>NaN</td>\n      <td>0.0</td>\n      <td>0.0</td>\n      <td>NaN</td>\n      <td>NaN</td>\n      <td>0.00</td>\n      <td>0.00</td>\n      <td>NaN</td>\n    </tr>\n    <tr>\n      <th>1</th>\n      <td>1206809</td>\n      <td>2024-01-10 08:59:02.527</td>\n      <td>0.0</td>\n      <td>9</td>\n      <td>138623</td>\n      <td>3000</td>\n      <td>0</td>\n      <td>NaN</td>\n      <td>0.0</td>\n      <td>1</td>\n      <td>...</td>\n      <td>NaN</td>\n      <td>NaN</td>\n      <td>NaN</td>\n      <td>0.0</td>\n      <td>0.0</td>\n      <td>NaN</td>\n      <td>NaN</td>\n      <td>0.00</td>\n      <td>0.00</td>\n      <td>NaN</td>\n    </tr>\n    <tr>\n      <th>2</th>\n      <td>1206808</td>\n      <td>2024-01-10 08:57:40.677</td>\n      <td>0.0</td>\n      <td>7</td>\n      <td>138624</td>\n      <td>4000</td>\n      <td>0</td>\n      <td>NaN</td>\n      <td>0.0</td>\n      <td>1</td>\n      <td>...</td>\n      <td>NaN</td>\n      <td>NaN</td>\n      <td>NaN</td>\n      <td>0.0</td>\n      <td>0.0</td>\n      <td>NaN</td>\n      <td>NaN</td>\n      <td>0.00</td>\n      <td>0.00</td>\n      <td>NaN</td>\n    </tr>\n    <tr>\n      <th>3</th>\n      <td>1206807</td>\n      <td>2024-01-10 08:49:11.593</td>\n      <td>0.0</td>\n      <td>6</td>\n      <td>138624</td>\n      <td>4000</td>\n      <td>0</td>\n      <td>NaN</td>\n      <td>600.1</td>\n      <td>1</td>\n      <td>...</td>\n      <td>m3</td>\n      <td>4.0</td>\n      <td>474.0</td>\n      <td>10921971.0</td>\n      <td>10922040.0</td>\n      <td>0,01</td>\n      <td>kWh</td>\n      <td>0.69</td>\n      <td>4.69</td>\n      <td>NaN</td>\n    </tr>\n    <tr>\n      <th>4</th>\n      <td>1206806</td>\n      <td>2024-01-10 08:48:14.330</td>\n      <td>0.0</td>\n      <td>8</td>\n      <td>138623</td>\n      <td>3000</td>\n      <td>0</td>\n      <td>NaN</td>\n      <td>400.3</td>\n      <td>1</td>\n      <td>...</td>\n      <td>m3</td>\n      <td>23.0</td>\n      <td>8.0</td>\n      <td>NaN</td>\n      <td>0.0</td>\n      <td>NaN</td>\n      <td>NaN</td>\n      <td>0.00</td>\n      <td>23.00</td>\n      <td>NaN</td>\n    </tr>\n    <tr>\n      <th>...</th>\n      <td>...</td>\n      <td>...</td>\n      <td>...</td>\n      <td>...</td>\n      <td>...</td>\n      <td>...</td>\n      <td>...</td>\n      <td>...</td>\n      <td>...</td>\n      <td>...</td>\n      <td>...</td>\n      <td>...</td>\n      <td>...</td>\n      <td>...</td>\n      <td>...</td>\n      <td>...</td>\n      <td>...</td>\n      <td>...</td>\n      <td>...</td>\n      <td>...</td>\n      <td>...</td>\n    </tr>\n    <tr>\n      <th>9995</th>\n      <td>1196814</td>\n      <td>2023-11-20 03:12:48.087</td>\n      <td>251.0</td>\n      <td>12</td>\n      <td>137655</td>\n      <td>3000</td>\n      <td>0</td>\n      <td>NaN</td>\n      <td>300.0</td>\n      <td>0</td>\n      <td>...</td>\n      <td>m3</td>\n      <td>13.0</td>\n      <td>9.0</td>\n      <td>NaN</td>\n      <td>0.0</td>\n      <td>NaN</td>\n      <td>NaN</td>\n      <td>0.00</td>\n      <td>13.00</td>\n      <td>765.0</td>\n    </tr>\n    <tr>\n      <th>9996</th>\n      <td>1196813</td>\n      <td>2023-11-20 03:09:00.397</td>\n      <td>505.1</td>\n      <td>7</td>\n      <td>137656</td>\n      <td>4000</td>\n      <td>0</td>\n      <td>NaN</td>\n      <td>600.1</td>\n      <td>0</td>\n      <td>...</td>\n      <td>m3</td>\n      <td>11.0</td>\n      <td>1301.0</td>\n      <td>9740934.0</td>\n      <td>9741095.0</td>\n      <td>0,01</td>\n      <td>kWh</td>\n      <td>1.61</td>\n      <td>12.61</td>\n      <td>7144.0</td>\n    </tr>\n    <tr>\n      <th>9997</th>\n      <td>1196812</td>\n      <td>2023-11-20 03:04:52.260</td>\n      <td>251.9</td>\n      <td>11</td>\n      <td>137655</td>\n      <td>3000</td>\n      <td>0</td>\n      <td>NaN</td>\n      <td>291.1</td>\n      <td>0</td>\n      <td>...</td>\n      <td>m3</td>\n      <td>12.0</td>\n      <td>9.0</td>\n      <td>NaN</td>\n      <td>0.0</td>\n      <td>NaN</td>\n      <td>NaN</td>\n      <td>0.00</td>\n      <td>12.00</td>\n      <td>763.0</td>\n    </tr>\n    <tr>\n      <th>9998</th>\n      <td>1196811</td>\n      <td>2023-11-20 03:00:06.253</td>\n      <td>505.9</td>\n      <td>6</td>\n      <td>137656</td>\n      <td>4000</td>\n      <td>0</td>\n      <td>NaN</td>\n      <td>600.0</td>\n      <td>0</td>\n      <td>...</td>\n      <td>m3</td>\n      <td>11.0</td>\n      <td>1307.0</td>\n      <td>9740751.0</td>\n      <td>9740900.0</td>\n      <td>0,01</td>\n      <td>kWh</td>\n      <td>1.49</td>\n      <td>12.49</td>\n      <td>7143.0</td>\n    </tr>\n    <tr>\n      <th>9999</th>\n      <td>1196810</td>\n      <td>2023-11-20 02:51:39.743</td>\n      <td>508.1</td>\n      <td>5</td>\n      <td>137656</td>\n      <td>4000</td>\n      <td>0</td>\n      <td>NaN</td>\n      <td>600.2</td>\n      <td>0</td>\n      <td>...</td>\n      <td>m3</td>\n      <td>12.0</td>\n      <td>1292.0</td>\n      <td>9740431.0</td>\n      <td>9740653.0</td>\n      <td>0,01</td>\n      <td>kWh</td>\n      <td>2.22</td>\n      <td>14.22</td>\n      <td>7142.0</td>\n    </tr>\n  </tbody>\n</table>\n<p>9995 rows × 38 columns</p>\n</div>"
     },
     "execution_count": 149,
     "metadata": {},
     "output_type": "execute_result"
    }
   ],
   "source": [
    "jde_data"
   ],
   "metadata": {
    "collapsed": false,
    "ExecuteTime": {
     "end_time": "2024-02-17T23:03:38.631040300Z",
     "start_time": "2024-02-17T23:03:38.590728900Z"
    }
   },
   "id": "3fba0ae9836c93b8",
   "execution_count": 149
  },
  {
   "cell_type": "code",
   "outputs": [],
   "source": [
    "# jde_data['Dlugosc procesu prazenia'] = 0"
   ],
   "metadata": {
    "collapsed": false,
    "ExecuteTime": {
     "end_time": "2024-02-17T23:03:42.635411700Z",
     "start_time": "2024-02-17T23:03:42.571467400Z"
    }
   },
   "id": "bc6e3113bf6e3314",
   "execution_count": 150
  },
  {
   "cell_type": "code",
   "outputs": [
    {
     "name": "stderr",
     "output_type": "stream",
     "text": [
      "C:\\Users\\modeb\\AppData\\Local\\Temp\\ipykernel_12736\\2059104406.py:1: SettingWithCopyWarning: \n",
      "A value is trying to be set on a copy of a slice from a DataFrame.\n",
      "Try using .loc[row_indexer,col_indexer] = value instead\n",
      "\n",
      "See the caveats in the documentation: https://pandas.pydata.org/pandas-docs/stable/user_guide/indexing.html#returning-a-view-versus-a-copy\n",
      "  jde_data.loc[:, 'Dlugosc procesu prazenia'] = jde_data['dtRoastingFinish'] - jde_data['dtRoastingStart']\n"
     ]
    }
   ],
   "source": [
    "jde_data.loc[:, 'Dlugosc procesu prazenia'] = jde_data['dtRoastingFinish'] - jde_data['dtRoastingStart']"
   ],
   "metadata": {
    "collapsed": false,
    "ExecuteTime": {
     "end_time": "2024-02-17T23:03:44.768508800Z",
     "start_time": "2024-02-17T23:03:44.742570100Z"
    }
   },
   "id": "9950ce18e12981b5",
   "execution_count": 151
  },
  {
   "cell_type": "code",
   "outputs": [],
   "source": [
    "columns_to_drop.append('dtRoastingStart')\n",
    "columns_to_drop.append('dtRoastingFinish')\n",
    "columns_to_drop.append('ikWh_counter_start')\n",
    "columns_to_drop.append('ikWh_counter_finish')\n",
    "columns_to_drop.append('im3_counter_start')\n",
    "columns_to_drop.append('im3_counter_finish')\n",
    "columns_to_drop.append('ikWh_consumption')\n",
    "columns_to_drop.append('ikWh_counter1_start')\n",
    "columns_to_drop.append('ikWh_counter1_finish')\n",
    "columns_to_drop.append('ikWh_consumption1')"
   ],
   "metadata": {
    "collapsed": false,
    "ExecuteTime": {
     "end_time": "2024-02-17T23:09:08.734426800Z",
     "start_time": "2024-02-17T23:09:08.681568400Z"
    }
   },
   "id": "27fe43aa9cdd8736",
   "execution_count": 157
  },
  {
   "cell_type": "code",
   "outputs": [
    {
     "data": {
      "text/plain": "      ID_ZLECENIA_PALONA                 DTZAPIS  ILOSC_PALONA  NUMERZASYPU  \\\n0                1206810 2024-01-10 09:06:00.880           0.0            8   \n1                1206809 2024-01-10 08:59:02.527           0.0            9   \n2                1206808 2024-01-10 08:57:40.677           0.0            7   \n3                1206807 2024-01-10 08:49:11.593           0.0            6   \n4                1206806 2024-01-10 08:48:14.330           0.0            8   \n...                  ...                     ...           ...          ...   \n9995             1196814 2023-11-20 03:12:48.087         251.0           12   \n9996             1196813 2023-11-20 03:09:00.397         505.1            7   \n9997             1196812 2023-11-20 03:04:52.260         251.9           11   \n9998             1196811 2023-11-20 03:00:06.253         505.9            6   \n9999             1196810 2023-11-20 02:51:39.743         508.1            5   \n\n      IDZLECENIE  NUMERPIECA  Anulowany  Zagubiona  SUMA_ZIELONEJ  \\\n0         138624        4000          0        NaN            0.0   \n1         138623        3000          0        NaN            0.0   \n2         138624        4000          0        NaN            0.0   \n3         138624        4000          0        NaN          600.1   \n4         138623        3000          0        NaN          400.3   \n...          ...         ...        ...        ...            ...   \n9995      137655        3000          0        NaN          300.0   \n9996      137656        4000          0        NaN          600.1   \n9997      137655        3000          0        NaN          291.1   \n9998      137656        4000          0        NaN          600.0   \n9999      137656        4000          0        NaN          600.2   \n\n      QuantityError  ...  ikWh_consumption  im3_consumption  \\\n0                 1  ...               NaN              NaN   \n1                 1  ...               NaN              NaN   \n2                 1  ...               NaN              NaN   \n3                 1  ...               4.0            474.0   \n4                 1  ...              23.0              8.0   \n...             ...  ...               ...              ...   \n9995              0  ...              13.0              9.0   \n9996              0  ...              11.0           1301.0   \n9997              0  ...              12.0              9.0   \n9998              0  ...              11.0           1307.0   \n9999              0  ...              12.0           1292.0   \n\n      ikWh_counter1_start  ikWh_counter1_finish ikWh_multiplier1  \\\n0                     0.0                   0.0              NaN   \n1                     0.0                   0.0              NaN   \n2                     0.0                   0.0              NaN   \n3              10921971.0            10922040.0             0,01   \n4                     NaN                   0.0              NaN   \n...                   ...                   ...              ...   \n9995                  NaN                   0.0              NaN   \n9996            9740934.0             9741095.0             0,01   \n9997                  NaN                   0.0              NaN   \n9998            9740751.0             9740900.0             0,01   \n9999            9740431.0             9740653.0             0,01   \n\n      ikWh_unit_name1  ikWh_consumption1  ikWh_total_consumption  \\\n0                 NaN               0.00                    0.00   \n1                 NaN               0.00                    0.00   \n2                 NaN               0.00                    0.00   \n3                 kWh               0.69                    4.69   \n4                 NaN               0.00                   23.00   \n...               ...                ...                     ...   \n9995              NaN               0.00                   13.00   \n9996              kWh               1.61                   12.61   \n9997              NaN               0.00                   12.00   \n9998              kWh               1.49                   12.49   \n9999              kWh               2.22                   14.22   \n\n      lTriggerCounter Dlugosc procesu prazenia  \n0                 NaN                      NaT  \n1                 NaN                      NaT  \n2                 NaN                      NaT  \n3                 NaN   0 days 00:02:15.580000  \n4                 NaN   0 days 00:09:12.663000  \n...               ...                      ...  \n9995            765.0   0 days 00:05:52.870000  \n9996           7144.0   0 days 00:08:16.200000  \n9997            763.0   0 days 00:05:40.360000  \n9998           7143.0   0 days 00:07:48.523000  \n9999           7142.0   0 days 00:08:31.937000  \n\n[9995 rows x 39 columns]",
      "text/html": "<div>\n<style scoped>\n    .dataframe tbody tr th:only-of-type {\n        vertical-align: middle;\n    }\n\n    .dataframe tbody tr th {\n        vertical-align: top;\n    }\n\n    .dataframe thead th {\n        text-align: right;\n    }\n</style>\n<table border=\"1\" class=\"dataframe\">\n  <thead>\n    <tr style=\"text-align: right;\">\n      <th></th>\n      <th>ID_ZLECENIA_PALONA</th>\n      <th>DTZAPIS</th>\n      <th>ILOSC_PALONA</th>\n      <th>NUMERZASYPU</th>\n      <th>IDZLECENIE</th>\n      <th>NUMERPIECA</th>\n      <th>Anulowany</th>\n      <th>Zagubiona</th>\n      <th>SUMA_ZIELONEJ</th>\n      <th>QuantityError</th>\n      <th>...</th>\n      <th>ikWh_consumption</th>\n      <th>im3_consumption</th>\n      <th>ikWh_counter1_start</th>\n      <th>ikWh_counter1_finish</th>\n      <th>ikWh_multiplier1</th>\n      <th>ikWh_unit_name1</th>\n      <th>ikWh_consumption1</th>\n      <th>ikWh_total_consumption</th>\n      <th>lTriggerCounter</th>\n      <th>Dlugosc procesu prazenia</th>\n    </tr>\n  </thead>\n  <tbody>\n    <tr>\n      <th>0</th>\n      <td>1206810</td>\n      <td>2024-01-10 09:06:00.880</td>\n      <td>0.0</td>\n      <td>8</td>\n      <td>138624</td>\n      <td>4000</td>\n      <td>0</td>\n      <td>NaN</td>\n      <td>0.0</td>\n      <td>1</td>\n      <td>...</td>\n      <td>NaN</td>\n      <td>NaN</td>\n      <td>0.0</td>\n      <td>0.0</td>\n      <td>NaN</td>\n      <td>NaN</td>\n      <td>0.00</td>\n      <td>0.00</td>\n      <td>NaN</td>\n      <td>NaT</td>\n    </tr>\n    <tr>\n      <th>1</th>\n      <td>1206809</td>\n      <td>2024-01-10 08:59:02.527</td>\n      <td>0.0</td>\n      <td>9</td>\n      <td>138623</td>\n      <td>3000</td>\n      <td>0</td>\n      <td>NaN</td>\n      <td>0.0</td>\n      <td>1</td>\n      <td>...</td>\n      <td>NaN</td>\n      <td>NaN</td>\n      <td>0.0</td>\n      <td>0.0</td>\n      <td>NaN</td>\n      <td>NaN</td>\n      <td>0.00</td>\n      <td>0.00</td>\n      <td>NaN</td>\n      <td>NaT</td>\n    </tr>\n    <tr>\n      <th>2</th>\n      <td>1206808</td>\n      <td>2024-01-10 08:57:40.677</td>\n      <td>0.0</td>\n      <td>7</td>\n      <td>138624</td>\n      <td>4000</td>\n      <td>0</td>\n      <td>NaN</td>\n      <td>0.0</td>\n      <td>1</td>\n      <td>...</td>\n      <td>NaN</td>\n      <td>NaN</td>\n      <td>0.0</td>\n      <td>0.0</td>\n      <td>NaN</td>\n      <td>NaN</td>\n      <td>0.00</td>\n      <td>0.00</td>\n      <td>NaN</td>\n      <td>NaT</td>\n    </tr>\n    <tr>\n      <th>3</th>\n      <td>1206807</td>\n      <td>2024-01-10 08:49:11.593</td>\n      <td>0.0</td>\n      <td>6</td>\n      <td>138624</td>\n      <td>4000</td>\n      <td>0</td>\n      <td>NaN</td>\n      <td>600.1</td>\n      <td>1</td>\n      <td>...</td>\n      <td>4.0</td>\n      <td>474.0</td>\n      <td>10921971.0</td>\n      <td>10922040.0</td>\n      <td>0,01</td>\n      <td>kWh</td>\n      <td>0.69</td>\n      <td>4.69</td>\n      <td>NaN</td>\n      <td>0 days 00:02:15.580000</td>\n    </tr>\n    <tr>\n      <th>4</th>\n      <td>1206806</td>\n      <td>2024-01-10 08:48:14.330</td>\n      <td>0.0</td>\n      <td>8</td>\n      <td>138623</td>\n      <td>3000</td>\n      <td>0</td>\n      <td>NaN</td>\n      <td>400.3</td>\n      <td>1</td>\n      <td>...</td>\n      <td>23.0</td>\n      <td>8.0</td>\n      <td>NaN</td>\n      <td>0.0</td>\n      <td>NaN</td>\n      <td>NaN</td>\n      <td>0.00</td>\n      <td>23.00</td>\n      <td>NaN</td>\n      <td>0 days 00:09:12.663000</td>\n    </tr>\n    <tr>\n      <th>...</th>\n      <td>...</td>\n      <td>...</td>\n      <td>...</td>\n      <td>...</td>\n      <td>...</td>\n      <td>...</td>\n      <td>...</td>\n      <td>...</td>\n      <td>...</td>\n      <td>...</td>\n      <td>...</td>\n      <td>...</td>\n      <td>...</td>\n      <td>...</td>\n      <td>...</td>\n      <td>...</td>\n      <td>...</td>\n      <td>...</td>\n      <td>...</td>\n      <td>...</td>\n      <td>...</td>\n    </tr>\n    <tr>\n      <th>9995</th>\n      <td>1196814</td>\n      <td>2023-11-20 03:12:48.087</td>\n      <td>251.0</td>\n      <td>12</td>\n      <td>137655</td>\n      <td>3000</td>\n      <td>0</td>\n      <td>NaN</td>\n      <td>300.0</td>\n      <td>0</td>\n      <td>...</td>\n      <td>13.0</td>\n      <td>9.0</td>\n      <td>NaN</td>\n      <td>0.0</td>\n      <td>NaN</td>\n      <td>NaN</td>\n      <td>0.00</td>\n      <td>13.00</td>\n      <td>765.0</td>\n      <td>0 days 00:05:52.870000</td>\n    </tr>\n    <tr>\n      <th>9996</th>\n      <td>1196813</td>\n      <td>2023-11-20 03:09:00.397</td>\n      <td>505.1</td>\n      <td>7</td>\n      <td>137656</td>\n      <td>4000</td>\n      <td>0</td>\n      <td>NaN</td>\n      <td>600.1</td>\n      <td>0</td>\n      <td>...</td>\n      <td>11.0</td>\n      <td>1301.0</td>\n      <td>9740934.0</td>\n      <td>9741095.0</td>\n      <td>0,01</td>\n      <td>kWh</td>\n      <td>1.61</td>\n      <td>12.61</td>\n      <td>7144.0</td>\n      <td>0 days 00:08:16.200000</td>\n    </tr>\n    <tr>\n      <th>9997</th>\n      <td>1196812</td>\n      <td>2023-11-20 03:04:52.260</td>\n      <td>251.9</td>\n      <td>11</td>\n      <td>137655</td>\n      <td>3000</td>\n      <td>0</td>\n      <td>NaN</td>\n      <td>291.1</td>\n      <td>0</td>\n      <td>...</td>\n      <td>12.0</td>\n      <td>9.0</td>\n      <td>NaN</td>\n      <td>0.0</td>\n      <td>NaN</td>\n      <td>NaN</td>\n      <td>0.00</td>\n      <td>12.00</td>\n      <td>763.0</td>\n      <td>0 days 00:05:40.360000</td>\n    </tr>\n    <tr>\n      <th>9998</th>\n      <td>1196811</td>\n      <td>2023-11-20 03:00:06.253</td>\n      <td>505.9</td>\n      <td>6</td>\n      <td>137656</td>\n      <td>4000</td>\n      <td>0</td>\n      <td>NaN</td>\n      <td>600.0</td>\n      <td>0</td>\n      <td>...</td>\n      <td>11.0</td>\n      <td>1307.0</td>\n      <td>9740751.0</td>\n      <td>9740900.0</td>\n      <td>0,01</td>\n      <td>kWh</td>\n      <td>1.49</td>\n      <td>12.49</td>\n      <td>7143.0</td>\n      <td>0 days 00:07:48.523000</td>\n    </tr>\n    <tr>\n      <th>9999</th>\n      <td>1196810</td>\n      <td>2023-11-20 02:51:39.743</td>\n      <td>508.1</td>\n      <td>5</td>\n      <td>137656</td>\n      <td>4000</td>\n      <td>0</td>\n      <td>NaN</td>\n      <td>600.2</td>\n      <td>0</td>\n      <td>...</td>\n      <td>12.0</td>\n      <td>1292.0</td>\n      <td>9740431.0</td>\n      <td>9740653.0</td>\n      <td>0,01</td>\n      <td>kWh</td>\n      <td>2.22</td>\n      <td>14.22</td>\n      <td>7142.0</td>\n      <td>0 days 00:08:31.937000</td>\n    </tr>\n  </tbody>\n</table>\n<p>9995 rows × 39 columns</p>\n</div>"
     },
     "execution_count": 158,
     "metadata": {},
     "output_type": "execute_result"
    }
   ],
   "source": [
    "jde_data"
   ],
   "metadata": {
    "collapsed": false,
    "ExecuteTime": {
     "end_time": "2024-02-17T23:09:13.459328900Z",
     "start_time": "2024-02-17T23:09:13.395762700Z"
    }
   },
   "id": "45184497b7b12eec",
   "execution_count": 158
  },
  {
   "cell_type": "code",
   "outputs": [
    {
     "name": "stderr",
     "output_type": "stream",
     "text": [
      "C:\\Users\\modeb\\AppData\\Local\\Temp\\ipykernel_12736\\278801080.py:1: SettingWithCopyWarning: \n",
      "A value is trying to be set on a copy of a slice from a DataFrame\n",
      "\n",
      "See the caveats in the documentation: https://pandas.pydata.org/pandas-docs/stable/user_guide/indexing.html#returning-a-view-versus-a-copy\n",
      "  jde_data.drop(columns_to_drop, axis=1, inplace=True)\n"
     ]
    }
   ],
   "source": [
    "jde_data.drop(columns_to_drop, axis=1, inplace=True)"
   ],
   "metadata": {
    "collapsed": false,
    "ExecuteTime": {
     "end_time": "2024-02-17T23:09:20.540166100Z",
     "start_time": "2024-02-17T23:09:20.515489900Z"
    }
   },
   "id": "2cc0a8541fc21ba3",
   "execution_count": 159
  },
  {
   "cell_type": "code",
   "outputs": [
    {
     "data": {
      "text/plain": "      ID_ZLECENIA_PALONA                 DTZAPIS  ILOSC_PALONA  NUMERZASYPU  \\\n0                1206810 2024-01-10 09:06:00.880           0.0            8   \n1                1206809 2024-01-10 08:59:02.527           0.0            9   \n2                1206808 2024-01-10 08:57:40.677           0.0            7   \n469              1206341 2024-01-08 08:19:50.917           0.0            5   \n2161             1204648 2023-12-27 07:15:29.790         345.0            4   \n2296             1204513 2023-12-22 12:02:09.280         343.0            3   \n3902             1202907 2023-12-15 20:27:59.223         345.0           23   \n\n      IDZLECENIE  NUMERPIECA  SUMA_ZIELONEJ  PREV_ILOSC_PALONA  \\\n0         138624        4000            0.0                0.0   \n1         138623        3000            0.0                0.0   \n2         138624        4000            0.0                0.0   \n469       138574        3000            0.0                0.0   \n2161      138408        3000          400.3              345.0   \n2296      138395        3000          400.3              343.0   \n3902      138229        3000          401.4              345.0   \n\n      ZbiornikKawyPalonej  im3_consumption  ikWh_total_consumption  \\\n0                     639              NaN                     0.0   \n1                     654              NaN                     0.0   \n2                     639              NaN                     0.0   \n469                   614              NaN                     0.0   \n2161                  613              NaN                     0.0   \n2296                  650              NaN                     0.0   \n3902                  616              NaN                     0.0   \n\n     Dlugosc procesu prazenia  \n0                         NaT  \n1                         NaT  \n2                         NaT  \n469                       NaT  \n2161                      NaT  \n2296                      NaT  \n3902                      NaT  ",
      "text/html": "<div>\n<style scoped>\n    .dataframe tbody tr th:only-of-type {\n        vertical-align: middle;\n    }\n\n    .dataframe tbody tr th {\n        vertical-align: top;\n    }\n\n    .dataframe thead th {\n        text-align: right;\n    }\n</style>\n<table border=\"1\" class=\"dataframe\">\n  <thead>\n    <tr style=\"text-align: right;\">\n      <th></th>\n      <th>ID_ZLECENIA_PALONA</th>\n      <th>DTZAPIS</th>\n      <th>ILOSC_PALONA</th>\n      <th>NUMERZASYPU</th>\n      <th>IDZLECENIE</th>\n      <th>NUMERPIECA</th>\n      <th>SUMA_ZIELONEJ</th>\n      <th>PREV_ILOSC_PALONA</th>\n      <th>ZbiornikKawyPalonej</th>\n      <th>im3_consumption</th>\n      <th>ikWh_total_consumption</th>\n      <th>Dlugosc procesu prazenia</th>\n    </tr>\n  </thead>\n  <tbody>\n    <tr>\n      <th>0</th>\n      <td>1206810</td>\n      <td>2024-01-10 09:06:00.880</td>\n      <td>0.0</td>\n      <td>8</td>\n      <td>138624</td>\n      <td>4000</td>\n      <td>0.0</td>\n      <td>0.0</td>\n      <td>639</td>\n      <td>NaN</td>\n      <td>0.0</td>\n      <td>NaT</td>\n    </tr>\n    <tr>\n      <th>1</th>\n      <td>1206809</td>\n      <td>2024-01-10 08:59:02.527</td>\n      <td>0.0</td>\n      <td>9</td>\n      <td>138623</td>\n      <td>3000</td>\n      <td>0.0</td>\n      <td>0.0</td>\n      <td>654</td>\n      <td>NaN</td>\n      <td>0.0</td>\n      <td>NaT</td>\n    </tr>\n    <tr>\n      <th>2</th>\n      <td>1206808</td>\n      <td>2024-01-10 08:57:40.677</td>\n      <td>0.0</td>\n      <td>7</td>\n      <td>138624</td>\n      <td>4000</td>\n      <td>0.0</td>\n      <td>0.0</td>\n      <td>639</td>\n      <td>NaN</td>\n      <td>0.0</td>\n      <td>NaT</td>\n    </tr>\n    <tr>\n      <th>469</th>\n      <td>1206341</td>\n      <td>2024-01-08 08:19:50.917</td>\n      <td>0.0</td>\n      <td>5</td>\n      <td>138574</td>\n      <td>3000</td>\n      <td>0.0</td>\n      <td>0.0</td>\n      <td>614</td>\n      <td>NaN</td>\n      <td>0.0</td>\n      <td>NaT</td>\n    </tr>\n    <tr>\n      <th>2161</th>\n      <td>1204648</td>\n      <td>2023-12-27 07:15:29.790</td>\n      <td>345.0</td>\n      <td>4</td>\n      <td>138408</td>\n      <td>3000</td>\n      <td>400.3</td>\n      <td>345.0</td>\n      <td>613</td>\n      <td>NaN</td>\n      <td>0.0</td>\n      <td>NaT</td>\n    </tr>\n    <tr>\n      <th>2296</th>\n      <td>1204513</td>\n      <td>2023-12-22 12:02:09.280</td>\n      <td>343.0</td>\n      <td>3</td>\n      <td>138395</td>\n      <td>3000</td>\n      <td>400.3</td>\n      <td>343.0</td>\n      <td>650</td>\n      <td>NaN</td>\n      <td>0.0</td>\n      <td>NaT</td>\n    </tr>\n    <tr>\n      <th>3902</th>\n      <td>1202907</td>\n      <td>2023-12-15 20:27:59.223</td>\n      <td>345.0</td>\n      <td>23</td>\n      <td>138229</td>\n      <td>3000</td>\n      <td>401.4</td>\n      <td>345.0</td>\n      <td>616</td>\n      <td>NaN</td>\n      <td>0.0</td>\n      <td>NaT</td>\n    </tr>\n  </tbody>\n</table>\n</div>"
     },
     "execution_count": 161,
     "metadata": {},
     "output_type": "execute_result"
    }
   ],
   "source": [
    "jde_data[jde_data['ikWh_total_consumption'] == 0]"
   ],
   "metadata": {
    "collapsed": false,
    "ExecuteTime": {
     "end_time": "2024-02-17T23:13:12.324261Z",
     "start_time": "2024-02-17T23:13:12.280277500Z"
    }
   },
   "id": "28176dc7fae0d6a0",
   "execution_count": 161
  },
  {
   "cell_type": "code",
   "outputs": [
    {
     "data": {
      "text/plain": "      ID_ZLECENIA_PALONA                 DTZAPIS  ILOSC_PALONA  NUMERZASYPU  \\\n0                1206810 2024-01-10 09:06:00.880           0.0            8   \n1                1206809 2024-01-10 08:59:02.527           0.0            9   \n2                1206808 2024-01-10 08:57:40.677           0.0            7   \n3                1206807 2024-01-10 08:49:11.593           0.0            6   \n4                1206806 2024-01-10 08:48:14.330           0.0            8   \n...                  ...                     ...           ...          ...   \n9995             1196814 2023-11-20 03:12:48.087         251.0           12   \n9996             1196813 2023-11-20 03:09:00.397         505.1            7   \n9997             1196812 2023-11-20 03:04:52.260         251.9           11   \n9998             1196811 2023-11-20 03:00:06.253         505.9            6   \n9999             1196810 2023-11-20 02:51:39.743         508.1            5   \n\n      IDZLECENIE  NUMERPIECA  SUMA_ZIELONEJ  PREV_ILOSC_PALONA  \\\n0         138624        4000            0.0                0.0   \n1         138623        3000            0.0                0.0   \n2         138624        4000            0.0                0.0   \n3         138624        4000          600.1                0.0   \n4         138623        3000          400.3                0.0   \n...          ...         ...            ...                ...   \n9995      137655        3000          300.0              251.0   \n9996      137656        4000          600.1              505.1   \n9997      137655        3000          291.1              251.9   \n9998      137656        4000          600.0              505.9   \n9999      137656        4000          600.2              508.1   \n\n      ZbiornikKawyPalonej  im3_consumption  ikWh_total_consumption  \\\n0                     639              NaN                    0.00   \n1                     654              NaN                    0.00   \n2                     639              NaN                    0.00   \n3                     639            474.0                    4.69   \n4                     654              8.0                   23.00   \n...                   ...              ...                     ...   \n9995                  625              9.0                   13.00   \n9996                  652           1301.0                   12.61   \n9997                  625              9.0                   12.00   \n9998                  652           1307.0                   12.49   \n9999                  649           1292.0                   14.22   \n\n     Dlugosc procesu prazenia  \n0                         NaT  \n1                         NaT  \n2                         NaT  \n3      0 days 00:02:15.580000  \n4      0 days 00:09:12.663000  \n...                       ...  \n9995   0 days 00:05:52.870000  \n9996   0 days 00:08:16.200000  \n9997   0 days 00:05:40.360000  \n9998   0 days 00:07:48.523000  \n9999   0 days 00:08:31.937000  \n\n[9995 rows x 12 columns]",
      "text/html": "<div>\n<style scoped>\n    .dataframe tbody tr th:only-of-type {\n        vertical-align: middle;\n    }\n\n    .dataframe tbody tr th {\n        vertical-align: top;\n    }\n\n    .dataframe thead th {\n        text-align: right;\n    }\n</style>\n<table border=\"1\" class=\"dataframe\">\n  <thead>\n    <tr style=\"text-align: right;\">\n      <th></th>\n      <th>ID_ZLECENIA_PALONA</th>\n      <th>DTZAPIS</th>\n      <th>ILOSC_PALONA</th>\n      <th>NUMERZASYPU</th>\n      <th>IDZLECENIE</th>\n      <th>NUMERPIECA</th>\n      <th>SUMA_ZIELONEJ</th>\n      <th>PREV_ILOSC_PALONA</th>\n      <th>ZbiornikKawyPalonej</th>\n      <th>im3_consumption</th>\n      <th>ikWh_total_consumption</th>\n      <th>Dlugosc procesu prazenia</th>\n    </tr>\n  </thead>\n  <tbody>\n    <tr>\n      <th>0</th>\n      <td>1206810</td>\n      <td>2024-01-10 09:06:00.880</td>\n      <td>0.0</td>\n      <td>8</td>\n      <td>138624</td>\n      <td>4000</td>\n      <td>0.0</td>\n      <td>0.0</td>\n      <td>639</td>\n      <td>NaN</td>\n      <td>0.00</td>\n      <td>NaT</td>\n    </tr>\n    <tr>\n      <th>1</th>\n      <td>1206809</td>\n      <td>2024-01-10 08:59:02.527</td>\n      <td>0.0</td>\n      <td>9</td>\n      <td>138623</td>\n      <td>3000</td>\n      <td>0.0</td>\n      <td>0.0</td>\n      <td>654</td>\n      <td>NaN</td>\n      <td>0.00</td>\n      <td>NaT</td>\n    </tr>\n    <tr>\n      <th>2</th>\n      <td>1206808</td>\n      <td>2024-01-10 08:57:40.677</td>\n      <td>0.0</td>\n      <td>7</td>\n      <td>138624</td>\n      <td>4000</td>\n      <td>0.0</td>\n      <td>0.0</td>\n      <td>639</td>\n      <td>NaN</td>\n      <td>0.00</td>\n      <td>NaT</td>\n    </tr>\n    <tr>\n      <th>3</th>\n      <td>1206807</td>\n      <td>2024-01-10 08:49:11.593</td>\n      <td>0.0</td>\n      <td>6</td>\n      <td>138624</td>\n      <td>4000</td>\n      <td>600.1</td>\n      <td>0.0</td>\n      <td>639</td>\n      <td>474.0</td>\n      <td>4.69</td>\n      <td>0 days 00:02:15.580000</td>\n    </tr>\n    <tr>\n      <th>4</th>\n      <td>1206806</td>\n      <td>2024-01-10 08:48:14.330</td>\n      <td>0.0</td>\n      <td>8</td>\n      <td>138623</td>\n      <td>3000</td>\n      <td>400.3</td>\n      <td>0.0</td>\n      <td>654</td>\n      <td>8.0</td>\n      <td>23.00</td>\n      <td>0 days 00:09:12.663000</td>\n    </tr>\n    <tr>\n      <th>...</th>\n      <td>...</td>\n      <td>...</td>\n      <td>...</td>\n      <td>...</td>\n      <td>...</td>\n      <td>...</td>\n      <td>...</td>\n      <td>...</td>\n      <td>...</td>\n      <td>...</td>\n      <td>...</td>\n      <td>...</td>\n    </tr>\n    <tr>\n      <th>9995</th>\n      <td>1196814</td>\n      <td>2023-11-20 03:12:48.087</td>\n      <td>251.0</td>\n      <td>12</td>\n      <td>137655</td>\n      <td>3000</td>\n      <td>300.0</td>\n      <td>251.0</td>\n      <td>625</td>\n      <td>9.0</td>\n      <td>13.00</td>\n      <td>0 days 00:05:52.870000</td>\n    </tr>\n    <tr>\n      <th>9996</th>\n      <td>1196813</td>\n      <td>2023-11-20 03:09:00.397</td>\n      <td>505.1</td>\n      <td>7</td>\n      <td>137656</td>\n      <td>4000</td>\n      <td>600.1</td>\n      <td>505.1</td>\n      <td>652</td>\n      <td>1301.0</td>\n      <td>12.61</td>\n      <td>0 days 00:08:16.200000</td>\n    </tr>\n    <tr>\n      <th>9997</th>\n      <td>1196812</td>\n      <td>2023-11-20 03:04:52.260</td>\n      <td>251.9</td>\n      <td>11</td>\n      <td>137655</td>\n      <td>3000</td>\n      <td>291.1</td>\n      <td>251.9</td>\n      <td>625</td>\n      <td>9.0</td>\n      <td>12.00</td>\n      <td>0 days 00:05:40.360000</td>\n    </tr>\n    <tr>\n      <th>9998</th>\n      <td>1196811</td>\n      <td>2023-11-20 03:00:06.253</td>\n      <td>505.9</td>\n      <td>6</td>\n      <td>137656</td>\n      <td>4000</td>\n      <td>600.0</td>\n      <td>505.9</td>\n      <td>652</td>\n      <td>1307.0</td>\n      <td>12.49</td>\n      <td>0 days 00:07:48.523000</td>\n    </tr>\n    <tr>\n      <th>9999</th>\n      <td>1196810</td>\n      <td>2023-11-20 02:51:39.743</td>\n      <td>508.1</td>\n      <td>5</td>\n      <td>137656</td>\n      <td>4000</td>\n      <td>600.2</td>\n      <td>508.1</td>\n      <td>649</td>\n      <td>1292.0</td>\n      <td>14.22</td>\n      <td>0 days 00:08:31.937000</td>\n    </tr>\n  </tbody>\n</table>\n<p>9995 rows × 12 columns</p>\n</div>"
     },
     "execution_count": 160,
     "metadata": {},
     "output_type": "execute_result"
    }
   ],
   "source": [
    "jde_data"
   ],
   "metadata": {
    "collapsed": false,
    "ExecuteTime": {
     "end_time": "2024-02-17T23:09:23.679184Z",
     "start_time": "2024-02-17T23:09:23.615870300Z"
    }
   },
   "id": "a3a69cdee07eba0d",
   "execution_count": 160
  },
  {
   "cell_type": "code",
   "outputs": [
    {
     "name": "stderr",
     "output_type": "stream",
     "text": [
      "C:\\Users\\modeb\\AppData\\Local\\Temp\\ipykernel_12736\\2906275935.py:1: SettingWithCopyWarning: \n",
      "A value is trying to be set on a copy of a slice from a DataFrame\n",
      "\n",
      "See the caveats in the documentation: https://pandas.pydata.org/pandas-docs/stable/user_guide/indexing.html#returning-a-view-versus-a-copy\n",
      "  jde_data.rename(\n"
     ]
    }
   ],
   "source": [
    "jde_data.rename(\n",
    "    columns={'ID_ZLECENIA_PALONA': 'ID', 'DTZAPIS': 'Data zapisu', 'ILOSC_PALONA': 'Ilosc uprazonej kawy bez strat [kg]',\n",
    "             'NUMERZASYPU': 'Numer zasypu', 'IDZLECENIE': 'ID zlecenia', 'NUMERPIECA': 'Numer Pieca',\n",
    "             'SUMA_ZIELONEJ': 'Suma kawy wsypanej na poczatku prazenia [kg]',\n",
    "             'ZbiornikKawyPalonej': 'Zbiornik kawy palonej', 'im3_consumption' : 'Zuzycie gazu [m3]', 'ikWh_total_consumption' : 'Zuzycie pradu [kWh]' }, inplace=True)"
   ],
   "metadata": {
    "collapsed": false,
    "ExecuteTime": {
     "end_time": "2024-02-17T23:15:30.531797600Z",
     "start_time": "2024-02-17T23:15:30.462965900Z"
    }
   },
   "id": "825d4ed32b3a6316",
   "execution_count": 162
  },
  {
   "cell_type": "code",
   "outputs": [
    {
     "data": {
      "text/plain": "           ID             Data zapisu  Ilosc uprazonej kawy bez strat [kg]  \\\n0     1206810 2024-01-10 09:06:00.880                                  0.0   \n1     1206809 2024-01-10 08:59:02.527                                  0.0   \n2     1206808 2024-01-10 08:57:40.677                                  0.0   \n3     1206807 2024-01-10 08:49:11.593                                  0.0   \n4     1206806 2024-01-10 08:48:14.330                                  0.0   \n...       ...                     ...                                  ...   \n9995  1196814 2023-11-20 03:12:48.087                                251.0   \n9996  1196813 2023-11-20 03:09:00.397                                505.1   \n9997  1196812 2023-11-20 03:04:52.260                                251.9   \n9998  1196811 2023-11-20 03:00:06.253                                505.9   \n9999  1196810 2023-11-20 02:51:39.743                                508.1   \n\n      Numer zasypu  ID zlecenia  Numer Pieca  \\\n0                8       138624         4000   \n1                9       138623         3000   \n2                7       138624         4000   \n3                6       138624         4000   \n4                8       138623         3000   \n...            ...          ...          ...   \n9995            12       137655         3000   \n9996             7       137656         4000   \n9997            11       137655         3000   \n9998             6       137656         4000   \n9999             5       137656         4000   \n\n      Suma kawy wsypanej na poczatku prazenia [kg]  PREV_ILOSC_PALONA  \\\n0                                              0.0                0.0   \n1                                              0.0                0.0   \n2                                              0.0                0.0   \n3                                            600.1                0.0   \n4                                            400.3                0.0   \n...                                            ...                ...   \n9995                                         300.0              251.0   \n9996                                         600.1              505.1   \n9997                                         291.1              251.9   \n9998                                         600.0              505.9   \n9999                                         600.2              508.1   \n\n      Zbiornik kawy palonej  Zuzycie gazu [m3]  Zuzycie pradu [kWh]  \\\n0                       639                NaN                 0.00   \n1                       654                NaN                 0.00   \n2                       639                NaN                 0.00   \n3                       639              474.0                 4.69   \n4                       654                8.0                23.00   \n...                     ...                ...                  ...   \n9995                    625                9.0                13.00   \n9996                    652             1301.0                12.61   \n9997                    625                9.0                12.00   \n9998                    652             1307.0                12.49   \n9999                    649             1292.0                14.22   \n\n     Dlugosc procesu prazenia  \n0                         NaT  \n1                         NaT  \n2                         NaT  \n3      0 days 00:02:15.580000  \n4      0 days 00:09:12.663000  \n...                       ...  \n9995   0 days 00:05:52.870000  \n9996   0 days 00:08:16.200000  \n9997   0 days 00:05:40.360000  \n9998   0 days 00:07:48.523000  \n9999   0 days 00:08:31.937000  \n\n[9995 rows x 12 columns]",
      "text/html": "<div>\n<style scoped>\n    .dataframe tbody tr th:only-of-type {\n        vertical-align: middle;\n    }\n\n    .dataframe tbody tr th {\n        vertical-align: top;\n    }\n\n    .dataframe thead th {\n        text-align: right;\n    }\n</style>\n<table border=\"1\" class=\"dataframe\">\n  <thead>\n    <tr style=\"text-align: right;\">\n      <th></th>\n      <th>ID</th>\n      <th>Data zapisu</th>\n      <th>Ilosc uprazonej kawy bez strat [kg]</th>\n      <th>Numer zasypu</th>\n      <th>ID zlecenia</th>\n      <th>Numer Pieca</th>\n      <th>Suma kawy wsypanej na poczatku prazenia [kg]</th>\n      <th>PREV_ILOSC_PALONA</th>\n      <th>Zbiornik kawy palonej</th>\n      <th>Zuzycie gazu [m3]</th>\n      <th>Zuzycie pradu [kWh]</th>\n      <th>Dlugosc procesu prazenia</th>\n    </tr>\n  </thead>\n  <tbody>\n    <tr>\n      <th>0</th>\n      <td>1206810</td>\n      <td>2024-01-10 09:06:00.880</td>\n      <td>0.0</td>\n      <td>8</td>\n      <td>138624</td>\n      <td>4000</td>\n      <td>0.0</td>\n      <td>0.0</td>\n      <td>639</td>\n      <td>NaN</td>\n      <td>0.00</td>\n      <td>NaT</td>\n    </tr>\n    <tr>\n      <th>1</th>\n      <td>1206809</td>\n      <td>2024-01-10 08:59:02.527</td>\n      <td>0.0</td>\n      <td>9</td>\n      <td>138623</td>\n      <td>3000</td>\n      <td>0.0</td>\n      <td>0.0</td>\n      <td>654</td>\n      <td>NaN</td>\n      <td>0.00</td>\n      <td>NaT</td>\n    </tr>\n    <tr>\n      <th>2</th>\n      <td>1206808</td>\n      <td>2024-01-10 08:57:40.677</td>\n      <td>0.0</td>\n      <td>7</td>\n      <td>138624</td>\n      <td>4000</td>\n      <td>0.0</td>\n      <td>0.0</td>\n      <td>639</td>\n      <td>NaN</td>\n      <td>0.00</td>\n      <td>NaT</td>\n    </tr>\n    <tr>\n      <th>3</th>\n      <td>1206807</td>\n      <td>2024-01-10 08:49:11.593</td>\n      <td>0.0</td>\n      <td>6</td>\n      <td>138624</td>\n      <td>4000</td>\n      <td>600.1</td>\n      <td>0.0</td>\n      <td>639</td>\n      <td>474.0</td>\n      <td>4.69</td>\n      <td>0 days 00:02:15.580000</td>\n    </tr>\n    <tr>\n      <th>4</th>\n      <td>1206806</td>\n      <td>2024-01-10 08:48:14.330</td>\n      <td>0.0</td>\n      <td>8</td>\n      <td>138623</td>\n      <td>3000</td>\n      <td>400.3</td>\n      <td>0.0</td>\n      <td>654</td>\n      <td>8.0</td>\n      <td>23.00</td>\n      <td>0 days 00:09:12.663000</td>\n    </tr>\n    <tr>\n      <th>...</th>\n      <td>...</td>\n      <td>...</td>\n      <td>...</td>\n      <td>...</td>\n      <td>...</td>\n      <td>...</td>\n      <td>...</td>\n      <td>...</td>\n      <td>...</td>\n      <td>...</td>\n      <td>...</td>\n      <td>...</td>\n    </tr>\n    <tr>\n      <th>9995</th>\n      <td>1196814</td>\n      <td>2023-11-20 03:12:48.087</td>\n      <td>251.0</td>\n      <td>12</td>\n      <td>137655</td>\n      <td>3000</td>\n      <td>300.0</td>\n      <td>251.0</td>\n      <td>625</td>\n      <td>9.0</td>\n      <td>13.00</td>\n      <td>0 days 00:05:52.870000</td>\n    </tr>\n    <tr>\n      <th>9996</th>\n      <td>1196813</td>\n      <td>2023-11-20 03:09:00.397</td>\n      <td>505.1</td>\n      <td>7</td>\n      <td>137656</td>\n      <td>4000</td>\n      <td>600.1</td>\n      <td>505.1</td>\n      <td>652</td>\n      <td>1301.0</td>\n      <td>12.61</td>\n      <td>0 days 00:08:16.200000</td>\n    </tr>\n    <tr>\n      <th>9997</th>\n      <td>1196812</td>\n      <td>2023-11-20 03:04:52.260</td>\n      <td>251.9</td>\n      <td>11</td>\n      <td>137655</td>\n      <td>3000</td>\n      <td>291.1</td>\n      <td>251.9</td>\n      <td>625</td>\n      <td>9.0</td>\n      <td>12.00</td>\n      <td>0 days 00:05:40.360000</td>\n    </tr>\n    <tr>\n      <th>9998</th>\n      <td>1196811</td>\n      <td>2023-11-20 03:00:06.253</td>\n      <td>505.9</td>\n      <td>6</td>\n      <td>137656</td>\n      <td>4000</td>\n      <td>600.0</td>\n      <td>505.9</td>\n      <td>652</td>\n      <td>1307.0</td>\n      <td>12.49</td>\n      <td>0 days 00:07:48.523000</td>\n    </tr>\n    <tr>\n      <th>9999</th>\n      <td>1196810</td>\n      <td>2023-11-20 02:51:39.743</td>\n      <td>508.1</td>\n      <td>5</td>\n      <td>137656</td>\n      <td>4000</td>\n      <td>600.2</td>\n      <td>508.1</td>\n      <td>649</td>\n      <td>1292.0</td>\n      <td>14.22</td>\n      <td>0 days 00:08:31.937000</td>\n    </tr>\n  </tbody>\n</table>\n<p>9995 rows × 12 columns</p>\n</div>"
     },
     "execution_count": 164,
     "metadata": {},
     "output_type": "execute_result"
    }
   ],
   "source": [
    "jde_data"
   ],
   "metadata": {
    "collapsed": false,
    "ExecuteTime": {
     "end_time": "2024-02-17T23:16:30.909834600Z",
     "start_time": "2024-02-17T23:16:30.857944700Z"
    }
   },
   "id": "5281918480dd50b7",
   "execution_count": 164
  },
  {
   "cell_type": "code",
   "outputs": [],
   "source": [
    "jde_data.to_csv('jde_data_cleaned.csv', index=False, sep=';', date_format='%Y-%m-%d %H:%M:%S')"
   ],
   "metadata": {
    "collapsed": false,
    "ExecuteTime": {
     "end_time": "2024-02-17T23:24:22.675456600Z",
     "start_time": "2024-02-17T23:24:22.483101500Z"
    }
   },
   "id": "cdf38ffaf2ca365b",
   "execution_count": 168
  },
  {
   "cell_type": "code",
   "outputs": [],
   "source": [],
   "metadata": {
    "collapsed": false
   },
   "id": "ab6c41c2650e9ab3"
  }
 ],
 "metadata": {
  "kernelspec": {
   "display_name": "Python 3",
   "language": "python",
   "name": "python3"
  },
  "language_info": {
   "codemirror_mode": {
    "name": "ipython",
    "version": 2
   },
   "file_extension": ".py",
   "mimetype": "text/x-python",
   "name": "python",
   "nbconvert_exporter": "python",
   "pygments_lexer": "ipython2",
   "version": "2.7.6"
  }
 },
 "nbformat": 4,
 "nbformat_minor": 5
}
