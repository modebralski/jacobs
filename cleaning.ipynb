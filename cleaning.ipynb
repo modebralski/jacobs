{
 "cells": [
  {
   "cell_type": "code",
   "execution_count": 126,
   "id": "initial_id",
   "metadata": {
    "collapsed": true,
    "ExecuteTime": {
     "end_time": "2024-02-15T17:03:57.568687400Z",
     "start_time": "2024-02-15T17:03:57.556716400Z"
    }
   },
   "outputs": [],
   "source": [
    "import pandas as pd\n",
    "import numpy as np"
   ]
  },
  {
   "cell_type": "code",
   "outputs": [
    {
     "data": {
      "text/plain": "      ID_ZLECENIA_PALONA                  DTZAPIS ILOSC_PALONA  NUMERZASYPU  \\\n0                1206810  2024-01-10 09:06:00.880            0            8   \n1                1206809  2024-01-10 08:59:02.527            0            9   \n2                1206808  2024-01-10 08:57:40.677            0            7   \n3                1206807  2024-01-10 08:49:11.593            0            6   \n4                1206806  2024-01-10 08:48:14.330            0            8   \n...                  ...                      ...          ...          ...   \n9995             1196814  2023-11-20 03:12:48.087          251           12   \n9996             1196813  2023-11-20 03:09:00.397        505,1            7   \n9997             1196812  2023-11-20 03:04:52.260        251,9           11   \n9998             1196811  2023-11-20 03:00:06.253        505,9            6   \n9999             1196810  2023-11-20 02:51:39.743        508,1            5   \n\n      IDZLECENIE  NUMERPIECA  Anulowany  Zagubiona SUMA_ZIELONEJ  \\\n0         138624        4000          0        NaN             0   \n1         138623        3000          0        NaN             0   \n2         138624        4000          0        NaN             0   \n3         138624        4000          0        NaN         600,1   \n4         138623        3000          0        NaN         400,3   \n...          ...         ...        ...        ...           ...   \n9995      137655        3000          0        NaN           300   \n9996      137656        4000          0        NaN         600,1   \n9997      137655        3000          0        NaN         291,1   \n9998      137656        4000          0        NaN           600   \n9999      137656        4000          0        NaN         600,2   \n\n      QuantityError  ... im3_unit_name  ikWh_consumption  im3_consumption  \\\n0                 1  ...           NaN               NaN              NaN   \n1                 1  ...           NaN               NaN              NaN   \n2                 1  ...           NaN               NaN              NaN   \n3                 1  ...            m3               4.0            474.0   \n4                 1  ...            m3              23.0              8.0   \n...             ...  ...           ...               ...              ...   \n9995              0  ...            m3              13.0              9.0   \n9996              0  ...            m3              11.0           1301.0   \n9997              0  ...            m3              12.0              9.0   \n9998              0  ...            m3              11.0           1307.0   \n9999              0  ...            m3              12.0           1292.0   \n\n      ikWh_counter1_start ikWh_counter1_finish  ikWh_multiplier1  \\\n0                     NaN                  NaN               NaN   \n1                     NaN                  NaN               NaN   \n2                     NaN                  NaN               NaN   \n3              10921971.0           10922040.0              0,01   \n4                     NaN                  NaN               NaN   \n...                   ...                  ...               ...   \n9995                  NaN                  NaN               NaN   \n9996            9740934.0            9741095.0              0,01   \n9997                  NaN                  NaN               NaN   \n9998            9740751.0            9740900.0              0,01   \n9999            9740431.0            9740653.0              0,01   \n\n      ikWh_unit_name1  ikWh_consumption1  ikWh_total_consumption  \\\n0                 NaN                NaN                       0   \n1                 NaN                NaN                       0   \n2                 NaN                NaN                       0   \n3                 kWh               0,69                    4,69   \n4                 NaN                NaN                      23   \n...               ...                ...                     ...   \n9995              NaN                NaN                      13   \n9996              kWh               1,61                   12,61   \n9997              NaN                NaN                      12   \n9998              kWh               1,49                   12,49   \n9999              kWh               2,22                   14,22   \n\n     lTriggerCounter  \n0                NaN  \n1                NaN  \n2                NaN  \n3                NaN  \n4                NaN  \n...              ...  \n9995           765.0  \n9996          7144.0  \n9997           763.0  \n9998          7143.0  \n9999          7142.0  \n\n[10000 rows x 38 columns]",
      "text/html": "<div>\n<style scoped>\n    .dataframe tbody tr th:only-of-type {\n        vertical-align: middle;\n    }\n\n    .dataframe tbody tr th {\n        vertical-align: top;\n    }\n\n    .dataframe thead th {\n        text-align: right;\n    }\n</style>\n<table border=\"1\" class=\"dataframe\">\n  <thead>\n    <tr style=\"text-align: right;\">\n      <th></th>\n      <th>ID_ZLECENIA_PALONA</th>\n      <th>DTZAPIS</th>\n      <th>ILOSC_PALONA</th>\n      <th>NUMERZASYPU</th>\n      <th>IDZLECENIE</th>\n      <th>NUMERPIECA</th>\n      <th>Anulowany</th>\n      <th>Zagubiona</th>\n      <th>SUMA_ZIELONEJ</th>\n      <th>QuantityError</th>\n      <th>...</th>\n      <th>im3_unit_name</th>\n      <th>ikWh_consumption</th>\n      <th>im3_consumption</th>\n      <th>ikWh_counter1_start</th>\n      <th>ikWh_counter1_finish</th>\n      <th>ikWh_multiplier1</th>\n      <th>ikWh_unit_name1</th>\n      <th>ikWh_consumption1</th>\n      <th>ikWh_total_consumption</th>\n      <th>lTriggerCounter</th>\n    </tr>\n  </thead>\n  <tbody>\n    <tr>\n      <th>0</th>\n      <td>1206810</td>\n      <td>2024-01-10 09:06:00.880</td>\n      <td>0</td>\n      <td>8</td>\n      <td>138624</td>\n      <td>4000</td>\n      <td>0</td>\n      <td>NaN</td>\n      <td>0</td>\n      <td>1</td>\n      <td>...</td>\n      <td>NaN</td>\n      <td>NaN</td>\n      <td>NaN</td>\n      <td>NaN</td>\n      <td>NaN</td>\n      <td>NaN</td>\n      <td>NaN</td>\n      <td>NaN</td>\n      <td>0</td>\n      <td>NaN</td>\n    </tr>\n    <tr>\n      <th>1</th>\n      <td>1206809</td>\n      <td>2024-01-10 08:59:02.527</td>\n      <td>0</td>\n      <td>9</td>\n      <td>138623</td>\n      <td>3000</td>\n      <td>0</td>\n      <td>NaN</td>\n      <td>0</td>\n      <td>1</td>\n      <td>...</td>\n      <td>NaN</td>\n      <td>NaN</td>\n      <td>NaN</td>\n      <td>NaN</td>\n      <td>NaN</td>\n      <td>NaN</td>\n      <td>NaN</td>\n      <td>NaN</td>\n      <td>0</td>\n      <td>NaN</td>\n    </tr>\n    <tr>\n      <th>2</th>\n      <td>1206808</td>\n      <td>2024-01-10 08:57:40.677</td>\n      <td>0</td>\n      <td>7</td>\n      <td>138624</td>\n      <td>4000</td>\n      <td>0</td>\n      <td>NaN</td>\n      <td>0</td>\n      <td>1</td>\n      <td>...</td>\n      <td>NaN</td>\n      <td>NaN</td>\n      <td>NaN</td>\n      <td>NaN</td>\n      <td>NaN</td>\n      <td>NaN</td>\n      <td>NaN</td>\n      <td>NaN</td>\n      <td>0</td>\n      <td>NaN</td>\n    </tr>\n    <tr>\n      <th>3</th>\n      <td>1206807</td>\n      <td>2024-01-10 08:49:11.593</td>\n      <td>0</td>\n      <td>6</td>\n      <td>138624</td>\n      <td>4000</td>\n      <td>0</td>\n      <td>NaN</td>\n      <td>600,1</td>\n      <td>1</td>\n      <td>...</td>\n      <td>m3</td>\n      <td>4.0</td>\n      <td>474.0</td>\n      <td>10921971.0</td>\n      <td>10922040.0</td>\n      <td>0,01</td>\n      <td>kWh</td>\n      <td>0,69</td>\n      <td>4,69</td>\n      <td>NaN</td>\n    </tr>\n    <tr>\n      <th>4</th>\n      <td>1206806</td>\n      <td>2024-01-10 08:48:14.330</td>\n      <td>0</td>\n      <td>8</td>\n      <td>138623</td>\n      <td>3000</td>\n      <td>0</td>\n      <td>NaN</td>\n      <td>400,3</td>\n      <td>1</td>\n      <td>...</td>\n      <td>m3</td>\n      <td>23.0</td>\n      <td>8.0</td>\n      <td>NaN</td>\n      <td>NaN</td>\n      <td>NaN</td>\n      <td>NaN</td>\n      <td>NaN</td>\n      <td>23</td>\n      <td>NaN</td>\n    </tr>\n    <tr>\n      <th>...</th>\n      <td>...</td>\n      <td>...</td>\n      <td>...</td>\n      <td>...</td>\n      <td>...</td>\n      <td>...</td>\n      <td>...</td>\n      <td>...</td>\n      <td>...</td>\n      <td>...</td>\n      <td>...</td>\n      <td>...</td>\n      <td>...</td>\n      <td>...</td>\n      <td>...</td>\n      <td>...</td>\n      <td>...</td>\n      <td>...</td>\n      <td>...</td>\n      <td>...</td>\n      <td>...</td>\n    </tr>\n    <tr>\n      <th>9995</th>\n      <td>1196814</td>\n      <td>2023-11-20 03:12:48.087</td>\n      <td>251</td>\n      <td>12</td>\n      <td>137655</td>\n      <td>3000</td>\n      <td>0</td>\n      <td>NaN</td>\n      <td>300</td>\n      <td>0</td>\n      <td>...</td>\n      <td>m3</td>\n      <td>13.0</td>\n      <td>9.0</td>\n      <td>NaN</td>\n      <td>NaN</td>\n      <td>NaN</td>\n      <td>NaN</td>\n      <td>NaN</td>\n      <td>13</td>\n      <td>765.0</td>\n    </tr>\n    <tr>\n      <th>9996</th>\n      <td>1196813</td>\n      <td>2023-11-20 03:09:00.397</td>\n      <td>505,1</td>\n      <td>7</td>\n      <td>137656</td>\n      <td>4000</td>\n      <td>0</td>\n      <td>NaN</td>\n      <td>600,1</td>\n      <td>0</td>\n      <td>...</td>\n      <td>m3</td>\n      <td>11.0</td>\n      <td>1301.0</td>\n      <td>9740934.0</td>\n      <td>9741095.0</td>\n      <td>0,01</td>\n      <td>kWh</td>\n      <td>1,61</td>\n      <td>12,61</td>\n      <td>7144.0</td>\n    </tr>\n    <tr>\n      <th>9997</th>\n      <td>1196812</td>\n      <td>2023-11-20 03:04:52.260</td>\n      <td>251,9</td>\n      <td>11</td>\n      <td>137655</td>\n      <td>3000</td>\n      <td>0</td>\n      <td>NaN</td>\n      <td>291,1</td>\n      <td>0</td>\n      <td>...</td>\n      <td>m3</td>\n      <td>12.0</td>\n      <td>9.0</td>\n      <td>NaN</td>\n      <td>NaN</td>\n      <td>NaN</td>\n      <td>NaN</td>\n      <td>NaN</td>\n      <td>12</td>\n      <td>763.0</td>\n    </tr>\n    <tr>\n      <th>9998</th>\n      <td>1196811</td>\n      <td>2023-11-20 03:00:06.253</td>\n      <td>505,9</td>\n      <td>6</td>\n      <td>137656</td>\n      <td>4000</td>\n      <td>0</td>\n      <td>NaN</td>\n      <td>600</td>\n      <td>0</td>\n      <td>...</td>\n      <td>m3</td>\n      <td>11.0</td>\n      <td>1307.0</td>\n      <td>9740751.0</td>\n      <td>9740900.0</td>\n      <td>0,01</td>\n      <td>kWh</td>\n      <td>1,49</td>\n      <td>12,49</td>\n      <td>7143.0</td>\n    </tr>\n    <tr>\n      <th>9999</th>\n      <td>1196810</td>\n      <td>2023-11-20 02:51:39.743</td>\n      <td>508,1</td>\n      <td>5</td>\n      <td>137656</td>\n      <td>4000</td>\n      <td>0</td>\n      <td>NaN</td>\n      <td>600,2</td>\n      <td>0</td>\n      <td>...</td>\n      <td>m3</td>\n      <td>12.0</td>\n      <td>1292.0</td>\n      <td>9740431.0</td>\n      <td>9740653.0</td>\n      <td>0,01</td>\n      <td>kWh</td>\n      <td>2,22</td>\n      <td>14,22</td>\n      <td>7142.0</td>\n    </tr>\n  </tbody>\n</table>\n<p>10000 rows × 38 columns</p>\n</div>"
     },
     "execution_count": 142,
     "metadata": {},
     "output_type": "execute_result"
    }
   ],
   "source": [
    "jde_data = pd.read_csv('jde_data-part1_raw.csv', sep=';', parse_dates=True)\n",
    "jde_data"
   ],
   "metadata": {
    "collapsed": false,
    "ExecuteTime": {
     "end_time": "2024-02-15T19:57:32.674017600Z",
     "start_time": "2024-02-15T19:57:32.587111400Z"
    }
   },
   "id": "4cbeb550f3337268",
   "execution_count": 142
  },
  {
   "cell_type": "code",
   "outputs": [
    {
     "data": {
      "text/plain": "   ID_ZLECENIA_PALONA                  DTZAPIS ILOSC_PALONA  NUMERZASYPU  \\\n0             1206810  2024-01-10 09:06:00.880            0            8   \n1             1206809  2024-01-10 08:59:02.527            0            9   \n2             1206808  2024-01-10 08:57:40.677            0            7   \n3             1206807  2024-01-10 08:49:11.593            0            6   \n4             1206806  2024-01-10 08:48:14.330            0            8   \n\n   IDZLECENIE  NUMERPIECA  Anulowany  Zagubiona SUMA_ZIELONEJ  QuantityError  \\\n0      138624        4000          0        NaN             0              1   \n1      138623        3000          0        NaN             0              1   \n2      138624        4000          0        NaN             0              1   \n3      138624        4000          0        NaN         600,1              1   \n4      138623        3000          0        NaN         400,3              1   \n\n   ... im3_unit_name  ikWh_consumption  im3_consumption  ikWh_counter1_start  \\\n0  ...           NaN               NaN              NaN                  NaN   \n1  ...           NaN               NaN              NaN                  NaN   \n2  ...           NaN               NaN              NaN                  NaN   \n3  ...            m3               4.0            474.0           10921971.0   \n4  ...            m3              23.0              8.0                  NaN   \n\n  ikWh_counter1_finish  ikWh_multiplier1  ikWh_unit_name1  ikWh_consumption1  \\\n0                  NaN               NaN              NaN                NaN   \n1                  NaN               NaN              NaN                NaN   \n2                  NaN               NaN              NaN                NaN   \n3           10922040.0              0,01              kWh               0,69   \n4                  NaN               NaN              NaN                NaN   \n\n   ikWh_total_consumption lTriggerCounter  \n0                       0             NaN  \n1                       0             NaN  \n2                       0             NaN  \n3                    4,69             NaN  \n4                      23             NaN  \n\n[5 rows x 38 columns]",
      "text/html": "<div>\n<style scoped>\n    .dataframe tbody tr th:only-of-type {\n        vertical-align: middle;\n    }\n\n    .dataframe tbody tr th {\n        vertical-align: top;\n    }\n\n    .dataframe thead th {\n        text-align: right;\n    }\n</style>\n<table border=\"1\" class=\"dataframe\">\n  <thead>\n    <tr style=\"text-align: right;\">\n      <th></th>\n      <th>ID_ZLECENIA_PALONA</th>\n      <th>DTZAPIS</th>\n      <th>ILOSC_PALONA</th>\n      <th>NUMERZASYPU</th>\n      <th>IDZLECENIE</th>\n      <th>NUMERPIECA</th>\n      <th>Anulowany</th>\n      <th>Zagubiona</th>\n      <th>SUMA_ZIELONEJ</th>\n      <th>QuantityError</th>\n      <th>...</th>\n      <th>im3_unit_name</th>\n      <th>ikWh_consumption</th>\n      <th>im3_consumption</th>\n      <th>ikWh_counter1_start</th>\n      <th>ikWh_counter1_finish</th>\n      <th>ikWh_multiplier1</th>\n      <th>ikWh_unit_name1</th>\n      <th>ikWh_consumption1</th>\n      <th>ikWh_total_consumption</th>\n      <th>lTriggerCounter</th>\n    </tr>\n  </thead>\n  <tbody>\n    <tr>\n      <th>0</th>\n      <td>1206810</td>\n      <td>2024-01-10 09:06:00.880</td>\n      <td>0</td>\n      <td>8</td>\n      <td>138624</td>\n      <td>4000</td>\n      <td>0</td>\n      <td>NaN</td>\n      <td>0</td>\n      <td>1</td>\n      <td>...</td>\n      <td>NaN</td>\n      <td>NaN</td>\n      <td>NaN</td>\n      <td>NaN</td>\n      <td>NaN</td>\n      <td>NaN</td>\n      <td>NaN</td>\n      <td>NaN</td>\n      <td>0</td>\n      <td>NaN</td>\n    </tr>\n    <tr>\n      <th>1</th>\n      <td>1206809</td>\n      <td>2024-01-10 08:59:02.527</td>\n      <td>0</td>\n      <td>9</td>\n      <td>138623</td>\n      <td>3000</td>\n      <td>0</td>\n      <td>NaN</td>\n      <td>0</td>\n      <td>1</td>\n      <td>...</td>\n      <td>NaN</td>\n      <td>NaN</td>\n      <td>NaN</td>\n      <td>NaN</td>\n      <td>NaN</td>\n      <td>NaN</td>\n      <td>NaN</td>\n      <td>NaN</td>\n      <td>0</td>\n      <td>NaN</td>\n    </tr>\n    <tr>\n      <th>2</th>\n      <td>1206808</td>\n      <td>2024-01-10 08:57:40.677</td>\n      <td>0</td>\n      <td>7</td>\n      <td>138624</td>\n      <td>4000</td>\n      <td>0</td>\n      <td>NaN</td>\n      <td>0</td>\n      <td>1</td>\n      <td>...</td>\n      <td>NaN</td>\n      <td>NaN</td>\n      <td>NaN</td>\n      <td>NaN</td>\n      <td>NaN</td>\n      <td>NaN</td>\n      <td>NaN</td>\n      <td>NaN</td>\n      <td>0</td>\n      <td>NaN</td>\n    </tr>\n    <tr>\n      <th>3</th>\n      <td>1206807</td>\n      <td>2024-01-10 08:49:11.593</td>\n      <td>0</td>\n      <td>6</td>\n      <td>138624</td>\n      <td>4000</td>\n      <td>0</td>\n      <td>NaN</td>\n      <td>600,1</td>\n      <td>1</td>\n      <td>...</td>\n      <td>m3</td>\n      <td>4.0</td>\n      <td>474.0</td>\n      <td>10921971.0</td>\n      <td>10922040.0</td>\n      <td>0,01</td>\n      <td>kWh</td>\n      <td>0,69</td>\n      <td>4,69</td>\n      <td>NaN</td>\n    </tr>\n    <tr>\n      <th>4</th>\n      <td>1206806</td>\n      <td>2024-01-10 08:48:14.330</td>\n      <td>0</td>\n      <td>8</td>\n      <td>138623</td>\n      <td>3000</td>\n      <td>0</td>\n      <td>NaN</td>\n      <td>400,3</td>\n      <td>1</td>\n      <td>...</td>\n      <td>m3</td>\n      <td>23.0</td>\n      <td>8.0</td>\n      <td>NaN</td>\n      <td>NaN</td>\n      <td>NaN</td>\n      <td>NaN</td>\n      <td>NaN</td>\n      <td>23</td>\n      <td>NaN</td>\n    </tr>\n  </tbody>\n</table>\n<p>5 rows × 38 columns</p>\n</div>"
     },
     "execution_count": 143,
     "metadata": {},
     "output_type": "execute_result"
    }
   ],
   "source": [
    "jde_data.head()"
   ],
   "metadata": {
    "collapsed": false,
    "ExecuteTime": {
     "end_time": "2024-02-15T19:57:33.678584100Z",
     "start_time": "2024-02-15T19:57:33.638814700Z"
    }
   },
   "id": "db6ec86e664192a",
   "execution_count": 143
  },
  {
   "cell_type": "code",
   "outputs": [
    {
     "data": {
      "text/plain": "array([ 8,  9,  7,  6,  5,  4,  3,  2,  1, 11, 10, 17, 16, 15, 14, 13, 12,\n       32, 31, 30, 29, 28, 27, 26, 25, 24, 23, 22, 21, 20, 19, 18, 51, 50,\n       49, 48, 47, 46, 45, 44, 43, 42, 41, 40, 39, 38, 37, 36, 35, 34, 33,\n       52, 56, 55, 54, 53], dtype=int64)"
     },
     "execution_count": 144,
     "metadata": {},
     "output_type": "execute_result"
    }
   ],
   "source": [
    "jde_data['NUMERZASYPU'].unique()"
   ],
   "metadata": {
    "collapsed": false,
    "ExecuteTime": {
     "end_time": "2024-02-15T19:57:34.350722500Z",
     "start_time": "2024-02-15T19:57:34.343232800Z"
    }
   },
   "id": "a11bc7d2b3a36f97",
   "execution_count": 144
  },
  {
   "cell_type": "code",
   "outputs": [
    {
     "data": {
      "text/plain": "array([4000, 3000, 2000], dtype=int64)"
     },
     "execution_count": 145,
     "metadata": {},
     "output_type": "execute_result"
    }
   ],
   "source": [
    "jde_data['NUMERPIECA'].unique()"
   ],
   "metadata": {
    "collapsed": false,
    "ExecuteTime": {
     "end_time": "2024-02-15T19:57:35.054063400Z",
     "start_time": "2024-02-15T19:57:35.046728100Z"
    }
   },
   "id": "d12ca9e4c995af83",
   "execution_count": 145
  },
  {
   "cell_type": "code",
   "outputs": [
    {
     "data": {
      "text/plain": "array([0], dtype=int64)"
     },
     "execution_count": 146,
     "metadata": {},
     "output_type": "execute_result"
    }
   ],
   "source": [
    "jde_data['Anulowany'].unique()"
   ],
   "metadata": {
    "collapsed": false,
    "ExecuteTime": {
     "end_time": "2024-02-15T19:57:35.589675500Z",
     "start_time": "2024-02-15T19:57:35.583436700Z"
    }
   },
   "id": "a058031dee2d7e8",
   "execution_count": 146
  },
  {
   "cell_type": "code",
   "outputs": [],
   "source": [
    "jde_data.drop('Anulowany', axis=1, inplace=True)"
   ],
   "metadata": {
    "collapsed": false,
    "ExecuteTime": {
     "end_time": "2024-02-15T19:57:36.106628300Z",
     "start_time": "2024-02-15T19:57:36.100363200Z"
    }
   },
   "id": "9ca0d6180de68497",
   "execution_count": 147
  },
  {
   "cell_type": "code",
   "outputs": [
    {
     "data": {
      "text/plain": "array([nan])"
     },
     "execution_count": 148,
     "metadata": {},
     "output_type": "execute_result"
    }
   ],
   "source": [
    "jde_data['Zagubiona'].unique()"
   ],
   "metadata": {
    "collapsed": false,
    "ExecuteTime": {
     "end_time": "2024-02-15T19:57:36.667433400Z",
     "start_time": "2024-02-15T19:57:36.655161Z"
    }
   },
   "id": "2b551bfc029b415c",
   "execution_count": 148
  },
  {
   "cell_type": "code",
   "outputs": [],
   "source": [
    "jde_data.drop('Zagubiona', axis=1, inplace=True)"
   ],
   "metadata": {
    "collapsed": false,
    "ExecuteTime": {
     "end_time": "2024-02-15T19:57:37.185177300Z",
     "start_time": "2024-02-15T19:57:37.168904600Z"
    }
   },
   "id": "66034a54051c4c9a",
   "execution_count": 149
  },
  {
   "cell_type": "code",
   "outputs": [
    {
     "data": {
      "text/plain": "      ID_ZLECENIA_PALONA                  DTZAPIS ILOSC_PALONA  NUMERZASYPU  \\\n0                1206810  2024-01-10 09:06:00.880            0            8   \n1                1206809  2024-01-10 08:59:02.527            0            9   \n2                1206808  2024-01-10 08:57:40.677            0            7   \n3                1206807  2024-01-10 08:49:11.593            0            6   \n4                1206806  2024-01-10 08:48:14.330            0            8   \n...                  ...                      ...          ...          ...   \n9995             1196814  2023-11-20 03:12:48.087          251           12   \n9996             1196813  2023-11-20 03:09:00.397        505,1            7   \n9997             1196812  2023-11-20 03:04:52.260        251,9           11   \n9998             1196811  2023-11-20 03:00:06.253        505,9            6   \n9999             1196810  2023-11-20 02:51:39.743        508,1            5   \n\n      IDZLECENIE  NUMERPIECA SUMA_ZIELONEJ  QuantityError PREV_ILOSC_PALONA  \\\n0         138624        4000             0              1                 0   \n1         138623        3000             0              1                 0   \n2         138624        4000             0              1                 0   \n3         138624        4000         600,1              1                 0   \n4         138623        3000         400,3              1                 0   \n...          ...         ...           ...            ...               ...   \n9995      137655        3000           300              0               251   \n9996      137656        4000         600,1              0             505,1   \n9997      137655        3000         291,1              0             251,9   \n9998      137656        4000           600              0             505,9   \n9999      137656        4000         600,2              0             508,1   \n\n      Posted  ...  im3_unit_name  ikWh_consumption im3_consumption  \\\n0          0  ...            NaN               NaN             NaN   \n1          0  ...            NaN               NaN             NaN   \n2          0  ...            NaN               NaN             NaN   \n3          0  ...             m3               4.0           474.0   \n4          0  ...             m3              23.0             8.0   \n...      ...  ...            ...               ...             ...   \n9995       1  ...             m3              13.0             9.0   \n9996       1  ...             m3              11.0          1301.0   \n9997       1  ...             m3              12.0             9.0   \n9998       1  ...             m3              11.0          1307.0   \n9999       1  ...             m3              12.0          1292.0   \n\n      ikWh_counter1_start  ikWh_counter1_finish  ikWh_multiplier1  \\\n0                     NaN                   NaN               NaN   \n1                     NaN                   NaN               NaN   \n2                     NaN                   NaN               NaN   \n3              10921971.0            10922040.0              0,01   \n4                     NaN                   NaN               NaN   \n...                   ...                   ...               ...   \n9995                  NaN                   NaN               NaN   \n9996            9740934.0             9741095.0              0,01   \n9997                  NaN                   NaN               NaN   \n9998            9740751.0             9740900.0              0,01   \n9999            9740431.0             9740653.0              0,01   \n\n      ikWh_unit_name1 ikWh_consumption1 ikWh_total_consumption  \\\n0                 NaN               NaN                      0   \n1                 NaN               NaN                      0   \n2                 NaN               NaN                      0   \n3                 kWh              0,69                   4,69   \n4                 NaN               NaN                     23   \n...               ...               ...                    ...   \n9995              NaN               NaN                     13   \n9996              kWh              1,61                  12,61   \n9997              NaN               NaN                     12   \n9998              kWh              1,49                  12,49   \n9999              kWh              2,22                  14,22   \n\n      lTriggerCounter  \n0                 NaN  \n1                 NaN  \n2                 NaN  \n3                 NaN  \n4                 NaN  \n...               ...  \n9995            765.0  \n9996           7144.0  \n9997            763.0  \n9998           7143.0  \n9999           7142.0  \n\n[10000 rows x 36 columns]",
      "text/html": "<div>\n<style scoped>\n    .dataframe tbody tr th:only-of-type {\n        vertical-align: middle;\n    }\n\n    .dataframe tbody tr th {\n        vertical-align: top;\n    }\n\n    .dataframe thead th {\n        text-align: right;\n    }\n</style>\n<table border=\"1\" class=\"dataframe\">\n  <thead>\n    <tr style=\"text-align: right;\">\n      <th></th>\n      <th>ID_ZLECENIA_PALONA</th>\n      <th>DTZAPIS</th>\n      <th>ILOSC_PALONA</th>\n      <th>NUMERZASYPU</th>\n      <th>IDZLECENIE</th>\n      <th>NUMERPIECA</th>\n      <th>SUMA_ZIELONEJ</th>\n      <th>QuantityError</th>\n      <th>PREV_ILOSC_PALONA</th>\n      <th>Posted</th>\n      <th>...</th>\n      <th>im3_unit_name</th>\n      <th>ikWh_consumption</th>\n      <th>im3_consumption</th>\n      <th>ikWh_counter1_start</th>\n      <th>ikWh_counter1_finish</th>\n      <th>ikWh_multiplier1</th>\n      <th>ikWh_unit_name1</th>\n      <th>ikWh_consumption1</th>\n      <th>ikWh_total_consumption</th>\n      <th>lTriggerCounter</th>\n    </tr>\n  </thead>\n  <tbody>\n    <tr>\n      <th>0</th>\n      <td>1206810</td>\n      <td>2024-01-10 09:06:00.880</td>\n      <td>0</td>\n      <td>8</td>\n      <td>138624</td>\n      <td>4000</td>\n      <td>0</td>\n      <td>1</td>\n      <td>0</td>\n      <td>0</td>\n      <td>...</td>\n      <td>NaN</td>\n      <td>NaN</td>\n      <td>NaN</td>\n      <td>NaN</td>\n      <td>NaN</td>\n      <td>NaN</td>\n      <td>NaN</td>\n      <td>NaN</td>\n      <td>0</td>\n      <td>NaN</td>\n    </tr>\n    <tr>\n      <th>1</th>\n      <td>1206809</td>\n      <td>2024-01-10 08:59:02.527</td>\n      <td>0</td>\n      <td>9</td>\n      <td>138623</td>\n      <td>3000</td>\n      <td>0</td>\n      <td>1</td>\n      <td>0</td>\n      <td>0</td>\n      <td>...</td>\n      <td>NaN</td>\n      <td>NaN</td>\n      <td>NaN</td>\n      <td>NaN</td>\n      <td>NaN</td>\n      <td>NaN</td>\n      <td>NaN</td>\n      <td>NaN</td>\n      <td>0</td>\n      <td>NaN</td>\n    </tr>\n    <tr>\n      <th>2</th>\n      <td>1206808</td>\n      <td>2024-01-10 08:57:40.677</td>\n      <td>0</td>\n      <td>7</td>\n      <td>138624</td>\n      <td>4000</td>\n      <td>0</td>\n      <td>1</td>\n      <td>0</td>\n      <td>0</td>\n      <td>...</td>\n      <td>NaN</td>\n      <td>NaN</td>\n      <td>NaN</td>\n      <td>NaN</td>\n      <td>NaN</td>\n      <td>NaN</td>\n      <td>NaN</td>\n      <td>NaN</td>\n      <td>0</td>\n      <td>NaN</td>\n    </tr>\n    <tr>\n      <th>3</th>\n      <td>1206807</td>\n      <td>2024-01-10 08:49:11.593</td>\n      <td>0</td>\n      <td>6</td>\n      <td>138624</td>\n      <td>4000</td>\n      <td>600,1</td>\n      <td>1</td>\n      <td>0</td>\n      <td>0</td>\n      <td>...</td>\n      <td>m3</td>\n      <td>4.0</td>\n      <td>474.0</td>\n      <td>10921971.0</td>\n      <td>10922040.0</td>\n      <td>0,01</td>\n      <td>kWh</td>\n      <td>0,69</td>\n      <td>4,69</td>\n      <td>NaN</td>\n    </tr>\n    <tr>\n      <th>4</th>\n      <td>1206806</td>\n      <td>2024-01-10 08:48:14.330</td>\n      <td>0</td>\n      <td>8</td>\n      <td>138623</td>\n      <td>3000</td>\n      <td>400,3</td>\n      <td>1</td>\n      <td>0</td>\n      <td>0</td>\n      <td>...</td>\n      <td>m3</td>\n      <td>23.0</td>\n      <td>8.0</td>\n      <td>NaN</td>\n      <td>NaN</td>\n      <td>NaN</td>\n      <td>NaN</td>\n      <td>NaN</td>\n      <td>23</td>\n      <td>NaN</td>\n    </tr>\n    <tr>\n      <th>...</th>\n      <td>...</td>\n      <td>...</td>\n      <td>...</td>\n      <td>...</td>\n      <td>...</td>\n      <td>...</td>\n      <td>...</td>\n      <td>...</td>\n      <td>...</td>\n      <td>...</td>\n      <td>...</td>\n      <td>...</td>\n      <td>...</td>\n      <td>...</td>\n      <td>...</td>\n      <td>...</td>\n      <td>...</td>\n      <td>...</td>\n      <td>...</td>\n      <td>...</td>\n      <td>...</td>\n    </tr>\n    <tr>\n      <th>9995</th>\n      <td>1196814</td>\n      <td>2023-11-20 03:12:48.087</td>\n      <td>251</td>\n      <td>12</td>\n      <td>137655</td>\n      <td>3000</td>\n      <td>300</td>\n      <td>0</td>\n      <td>251</td>\n      <td>1</td>\n      <td>...</td>\n      <td>m3</td>\n      <td>13.0</td>\n      <td>9.0</td>\n      <td>NaN</td>\n      <td>NaN</td>\n      <td>NaN</td>\n      <td>NaN</td>\n      <td>NaN</td>\n      <td>13</td>\n      <td>765.0</td>\n    </tr>\n    <tr>\n      <th>9996</th>\n      <td>1196813</td>\n      <td>2023-11-20 03:09:00.397</td>\n      <td>505,1</td>\n      <td>7</td>\n      <td>137656</td>\n      <td>4000</td>\n      <td>600,1</td>\n      <td>0</td>\n      <td>505,1</td>\n      <td>1</td>\n      <td>...</td>\n      <td>m3</td>\n      <td>11.0</td>\n      <td>1301.0</td>\n      <td>9740934.0</td>\n      <td>9741095.0</td>\n      <td>0,01</td>\n      <td>kWh</td>\n      <td>1,61</td>\n      <td>12,61</td>\n      <td>7144.0</td>\n    </tr>\n    <tr>\n      <th>9997</th>\n      <td>1196812</td>\n      <td>2023-11-20 03:04:52.260</td>\n      <td>251,9</td>\n      <td>11</td>\n      <td>137655</td>\n      <td>3000</td>\n      <td>291,1</td>\n      <td>0</td>\n      <td>251,9</td>\n      <td>1</td>\n      <td>...</td>\n      <td>m3</td>\n      <td>12.0</td>\n      <td>9.0</td>\n      <td>NaN</td>\n      <td>NaN</td>\n      <td>NaN</td>\n      <td>NaN</td>\n      <td>NaN</td>\n      <td>12</td>\n      <td>763.0</td>\n    </tr>\n    <tr>\n      <th>9998</th>\n      <td>1196811</td>\n      <td>2023-11-20 03:00:06.253</td>\n      <td>505,9</td>\n      <td>6</td>\n      <td>137656</td>\n      <td>4000</td>\n      <td>600</td>\n      <td>0</td>\n      <td>505,9</td>\n      <td>1</td>\n      <td>...</td>\n      <td>m3</td>\n      <td>11.0</td>\n      <td>1307.0</td>\n      <td>9740751.0</td>\n      <td>9740900.0</td>\n      <td>0,01</td>\n      <td>kWh</td>\n      <td>1,49</td>\n      <td>12,49</td>\n      <td>7143.0</td>\n    </tr>\n    <tr>\n      <th>9999</th>\n      <td>1196810</td>\n      <td>2023-11-20 02:51:39.743</td>\n      <td>508,1</td>\n      <td>5</td>\n      <td>137656</td>\n      <td>4000</td>\n      <td>600,2</td>\n      <td>0</td>\n      <td>508,1</td>\n      <td>1</td>\n      <td>...</td>\n      <td>m3</td>\n      <td>12.0</td>\n      <td>1292.0</td>\n      <td>9740431.0</td>\n      <td>9740653.0</td>\n      <td>0,01</td>\n      <td>kWh</td>\n      <td>2,22</td>\n      <td>14,22</td>\n      <td>7142.0</td>\n    </tr>\n  </tbody>\n</table>\n<p>10000 rows × 36 columns</p>\n</div>"
     },
     "execution_count": 150,
     "metadata": {},
     "output_type": "execute_result"
    }
   ],
   "source": [
    "jde_data"
   ],
   "metadata": {
    "collapsed": false,
    "ExecuteTime": {
     "end_time": "2024-02-15T19:57:37.818864700Z",
     "start_time": "2024-02-15T19:57:37.783253Z"
    }
   },
   "id": "1334d3821c209be1",
   "execution_count": 150
  },
  {
   "cell_type": "code",
   "outputs": [
    {
     "data": {
      "text/plain": "False"
     },
     "execution_count": 151,
     "metadata": {},
     "output_type": "execute_result"
    }
   ],
   "source": [
    "jde_data['ILOSC_PALONA'].equals(jde_data['PREV_ILOSC_PALONA'])"
   ],
   "metadata": {
    "collapsed": false,
    "ExecuteTime": {
     "end_time": "2024-02-15T19:57:38.607237300Z",
     "start_time": "2024-02-15T19:57:38.596474200Z"
    }
   },
   "id": "bfd10ad0fb27b333",
   "execution_count": 151
  },
  {
   "cell_type": "code",
   "outputs": [
    {
     "data": {
      "text/plain": "0       True\n1       True\n2       True\n3       True\n4       True\n        ... \n9995    True\n9996    True\n9997    True\n9998    True\n9999    True\nLength: 10000, dtype: bool"
     },
     "execution_count": 152,
     "metadata": {},
     "output_type": "execute_result"
    }
   ],
   "source": [
    "jde_data['ILOSC_PALONA'].eq(jde_data['PREV_ILOSC_PALONA'])"
   ],
   "metadata": {
    "collapsed": false,
    "ExecuteTime": {
     "end_time": "2024-02-15T19:57:39.181778600Z",
     "start_time": "2024-02-15T19:57:39.174517200Z"
    }
   },
   "id": "45527ab0fcd0ea14",
   "execution_count": 152
  },
  {
   "cell_type": "code",
   "outputs": [
    {
     "data": {
      "text/plain": "      ID_ZLECENIA_PALONA                  DTZAPIS ILOSC_PALONA  NUMERZASYPU  \\\n27               1206783  2024-01-10 05:48:18.430        342,1           11   \n28               1206782  2024-01-10 05:39:07.180          343           10   \n29               1206781  2024-01-10 05:31:45.677          343            9   \n48               1206762  2024-01-10 03:49:24.690        347,8            9   \n54               1206756  2024-01-10 03:23:50.053        348,8            6   \n...                  ...                      ...          ...          ...   \n9628             1197181  2023-11-21 20:05:44.993          338           11   \n9702             1197107  2023-11-21 13:35:07.000          305            1   \n9802             1197007  2023-11-21 02:28:07.180          300           16   \n9886             1196923  2023-11-20 18:08:35.720          299            7   \n9943             1196866  2023-11-20 07:55:31.313          501            5   \n\n      IDZLECENIE  NUMERPIECA SUMA_ZIELONEJ  QuantityError PREV_ILOSC_PALONA  \\\n27        138620        3000         400,4              0               342   \n28        138620        3000           401              0             342,7   \n29        138620        3000         401,3              0             342,8   \n48        138618        3000         400,9              0               348   \n54        138618        3000         402,9              0               349   \n...          ...         ...           ...            ...               ...   \n9628      137692        3000         399,8              0             338,3   \n9702      137684        3000         356,4              0             304,6   \n9802      137673        3000         349,2              0             299,9   \n9886      137667        3000         348,9              0             298,6   \n9943      137660        4000      600,7001              0             501,3   \n\n      Posted  ...  im3_unit_name  ikWh_consumption im3_consumption  \\\n27         0  ...             m3              15.0             8.0   \n28         0  ...             m3              11.0             8.0   \n29         0  ...             m3              15.0             9.0   \n48         0  ...             m3              19.0             9.0   \n54         0  ...             m3              17.0             8.0   \n...      ...  ...            ...               ...             ...   \n9628       0  ...             m3              18.0             9.0   \n9702       0  ...             m3              10.0            10.0   \n9802       0  ...             m3              13.0            10.0   \n9886       0  ...             m3              14.0            10.0   \n9943       0  ...             m3              11.0          1305.0   \n\n      ikWh_counter1_start  ikWh_counter1_finish  ikWh_multiplier1  \\\n27                    NaN                   NaN               NaN   \n28                    NaN                   NaN               NaN   \n29                    NaN                   NaN               NaN   \n48                    NaN                   NaN               NaN   \n54                    NaN                   NaN               NaN   \n...                   ...                   ...               ...   \n9628                  NaN                   NaN               NaN   \n9702                  NaN                   NaN               NaN   \n9802                  NaN                   NaN               NaN   \n9886                  NaN                   NaN               NaN   \n9943            9749195.0             9749343.0              0,01   \n\n      ikWh_unit_name1 ikWh_consumption1 ikWh_total_consumption  \\\n27                NaN               NaN                     15   \n28                NaN               NaN                     11   \n29                NaN               NaN                     15   \n48                NaN               NaN                     19   \n54                NaN               NaN                     17   \n...               ...               ...                    ...   \n9628              NaN               NaN                     18   \n9702              NaN               NaN                     10   \n9802              NaN               NaN                     13   \n9886              NaN               NaN                     14   \n9943              kWh              1,48                  12,48   \n\n      lTriggerCounter  \n27              285.0  \n28              283.0  \n29              281.0  \n48              260.0  \n54              254.0  \n...               ...  \n9628            335.0  \n9702            260.0  \n9802            153.0  \n9886             82.0  \n9943           7173.0  \n\n[139 rows x 36 columns]",
      "text/html": "<div>\n<style scoped>\n    .dataframe tbody tr th:only-of-type {\n        vertical-align: middle;\n    }\n\n    .dataframe tbody tr th {\n        vertical-align: top;\n    }\n\n    .dataframe thead th {\n        text-align: right;\n    }\n</style>\n<table border=\"1\" class=\"dataframe\">\n  <thead>\n    <tr style=\"text-align: right;\">\n      <th></th>\n      <th>ID_ZLECENIA_PALONA</th>\n      <th>DTZAPIS</th>\n      <th>ILOSC_PALONA</th>\n      <th>NUMERZASYPU</th>\n      <th>IDZLECENIE</th>\n      <th>NUMERPIECA</th>\n      <th>SUMA_ZIELONEJ</th>\n      <th>QuantityError</th>\n      <th>PREV_ILOSC_PALONA</th>\n      <th>Posted</th>\n      <th>...</th>\n      <th>im3_unit_name</th>\n      <th>ikWh_consumption</th>\n      <th>im3_consumption</th>\n      <th>ikWh_counter1_start</th>\n      <th>ikWh_counter1_finish</th>\n      <th>ikWh_multiplier1</th>\n      <th>ikWh_unit_name1</th>\n      <th>ikWh_consumption1</th>\n      <th>ikWh_total_consumption</th>\n      <th>lTriggerCounter</th>\n    </tr>\n  </thead>\n  <tbody>\n    <tr>\n      <th>27</th>\n      <td>1206783</td>\n      <td>2024-01-10 05:48:18.430</td>\n      <td>342,1</td>\n      <td>11</td>\n      <td>138620</td>\n      <td>3000</td>\n      <td>400,4</td>\n      <td>0</td>\n      <td>342</td>\n      <td>0</td>\n      <td>...</td>\n      <td>m3</td>\n      <td>15.0</td>\n      <td>8.0</td>\n      <td>NaN</td>\n      <td>NaN</td>\n      <td>NaN</td>\n      <td>NaN</td>\n      <td>NaN</td>\n      <td>15</td>\n      <td>285.0</td>\n    </tr>\n    <tr>\n      <th>28</th>\n      <td>1206782</td>\n      <td>2024-01-10 05:39:07.180</td>\n      <td>343</td>\n      <td>10</td>\n      <td>138620</td>\n      <td>3000</td>\n      <td>401</td>\n      <td>0</td>\n      <td>342,7</td>\n      <td>0</td>\n      <td>...</td>\n      <td>m3</td>\n      <td>11.0</td>\n      <td>8.0</td>\n      <td>NaN</td>\n      <td>NaN</td>\n      <td>NaN</td>\n      <td>NaN</td>\n      <td>NaN</td>\n      <td>11</td>\n      <td>283.0</td>\n    </tr>\n    <tr>\n      <th>29</th>\n      <td>1206781</td>\n      <td>2024-01-10 05:31:45.677</td>\n      <td>343</td>\n      <td>9</td>\n      <td>138620</td>\n      <td>3000</td>\n      <td>401,3</td>\n      <td>0</td>\n      <td>342,8</td>\n      <td>0</td>\n      <td>...</td>\n      <td>m3</td>\n      <td>15.0</td>\n      <td>9.0</td>\n      <td>NaN</td>\n      <td>NaN</td>\n      <td>NaN</td>\n      <td>NaN</td>\n      <td>NaN</td>\n      <td>15</td>\n      <td>281.0</td>\n    </tr>\n    <tr>\n      <th>48</th>\n      <td>1206762</td>\n      <td>2024-01-10 03:49:24.690</td>\n      <td>347,8</td>\n      <td>9</td>\n      <td>138618</td>\n      <td>3000</td>\n      <td>400,9</td>\n      <td>0</td>\n      <td>348</td>\n      <td>0</td>\n      <td>...</td>\n      <td>m3</td>\n      <td>19.0</td>\n      <td>9.0</td>\n      <td>NaN</td>\n      <td>NaN</td>\n      <td>NaN</td>\n      <td>NaN</td>\n      <td>NaN</td>\n      <td>19</td>\n      <td>260.0</td>\n    </tr>\n    <tr>\n      <th>54</th>\n      <td>1206756</td>\n      <td>2024-01-10 03:23:50.053</td>\n      <td>348,8</td>\n      <td>6</td>\n      <td>138618</td>\n      <td>3000</td>\n      <td>402,9</td>\n      <td>0</td>\n      <td>349</td>\n      <td>0</td>\n      <td>...</td>\n      <td>m3</td>\n      <td>17.0</td>\n      <td>8.0</td>\n      <td>NaN</td>\n      <td>NaN</td>\n      <td>NaN</td>\n      <td>NaN</td>\n      <td>NaN</td>\n      <td>17</td>\n      <td>254.0</td>\n    </tr>\n    <tr>\n      <th>...</th>\n      <td>...</td>\n      <td>...</td>\n      <td>...</td>\n      <td>...</td>\n      <td>...</td>\n      <td>...</td>\n      <td>...</td>\n      <td>...</td>\n      <td>...</td>\n      <td>...</td>\n      <td>...</td>\n      <td>...</td>\n      <td>...</td>\n      <td>...</td>\n      <td>...</td>\n      <td>...</td>\n      <td>...</td>\n      <td>...</td>\n      <td>...</td>\n      <td>...</td>\n      <td>...</td>\n    </tr>\n    <tr>\n      <th>9628</th>\n      <td>1197181</td>\n      <td>2023-11-21 20:05:44.993</td>\n      <td>338</td>\n      <td>11</td>\n      <td>137692</td>\n      <td>3000</td>\n      <td>399,8</td>\n      <td>0</td>\n      <td>338,3</td>\n      <td>0</td>\n      <td>...</td>\n      <td>m3</td>\n      <td>18.0</td>\n      <td>9.0</td>\n      <td>NaN</td>\n      <td>NaN</td>\n      <td>NaN</td>\n      <td>NaN</td>\n      <td>NaN</td>\n      <td>18</td>\n      <td>335.0</td>\n    </tr>\n    <tr>\n      <th>9702</th>\n      <td>1197107</td>\n      <td>2023-11-21 13:35:07.000</td>\n      <td>305</td>\n      <td>1</td>\n      <td>137684</td>\n      <td>3000</td>\n      <td>356,4</td>\n      <td>0</td>\n      <td>304,6</td>\n      <td>0</td>\n      <td>...</td>\n      <td>m3</td>\n      <td>10.0</td>\n      <td>10.0</td>\n      <td>NaN</td>\n      <td>NaN</td>\n      <td>NaN</td>\n      <td>NaN</td>\n      <td>NaN</td>\n      <td>10</td>\n      <td>260.0</td>\n    </tr>\n    <tr>\n      <th>9802</th>\n      <td>1197007</td>\n      <td>2023-11-21 02:28:07.180</td>\n      <td>300</td>\n      <td>16</td>\n      <td>137673</td>\n      <td>3000</td>\n      <td>349,2</td>\n      <td>0</td>\n      <td>299,9</td>\n      <td>0</td>\n      <td>...</td>\n      <td>m3</td>\n      <td>13.0</td>\n      <td>10.0</td>\n      <td>NaN</td>\n      <td>NaN</td>\n      <td>NaN</td>\n      <td>NaN</td>\n      <td>NaN</td>\n      <td>13</td>\n      <td>153.0</td>\n    </tr>\n    <tr>\n      <th>9886</th>\n      <td>1196923</td>\n      <td>2023-11-20 18:08:35.720</td>\n      <td>299</td>\n      <td>7</td>\n      <td>137667</td>\n      <td>3000</td>\n      <td>348,9</td>\n      <td>0</td>\n      <td>298,6</td>\n      <td>0</td>\n      <td>...</td>\n      <td>m3</td>\n      <td>14.0</td>\n      <td>10.0</td>\n      <td>NaN</td>\n      <td>NaN</td>\n      <td>NaN</td>\n      <td>NaN</td>\n      <td>NaN</td>\n      <td>14</td>\n      <td>82.0</td>\n    </tr>\n    <tr>\n      <th>9943</th>\n      <td>1196866</td>\n      <td>2023-11-20 07:55:31.313</td>\n      <td>501</td>\n      <td>5</td>\n      <td>137660</td>\n      <td>4000</td>\n      <td>600,7001</td>\n      <td>0</td>\n      <td>501,3</td>\n      <td>0</td>\n      <td>...</td>\n      <td>m3</td>\n      <td>11.0</td>\n      <td>1305.0</td>\n      <td>9749195.0</td>\n      <td>9749343.0</td>\n      <td>0,01</td>\n      <td>kWh</td>\n      <td>1,48</td>\n      <td>12,48</td>\n      <td>7173.0</td>\n    </tr>\n  </tbody>\n</table>\n<p>139 rows × 36 columns</p>\n</div>"
     },
     "execution_count": 153,
     "metadata": {},
     "output_type": "execute_result"
    }
   ],
   "source": [
    "jde_data[jde_data['ILOSC_PALONA'] != jde_data['PREV_ILOSC_PALONA']] "
   ],
   "metadata": {
    "collapsed": false,
    "ExecuteTime": {
     "end_time": "2024-02-15T19:57:39.797919100Z",
     "start_time": "2024-02-15T19:57:39.767627400Z"
    }
   },
   "id": "59b6fe51ae2a7279",
   "execution_count": 153
  },
  {
   "cell_type": "code",
   "outputs": [
    {
     "data": {
      "text/plain": "   ID_ZLECENIA_PALONA                  DTZAPIS ILOSC_PALONA  NUMERZASYPU  \\\n0             1206810  2024-01-10 09:06:00.880            0            8   \n1             1206809  2024-01-10 08:59:02.527            0            9   \n2             1206808  2024-01-10 08:57:40.677            0            7   \n3             1206807  2024-01-10 08:49:11.593            0            6   \n4             1206806  2024-01-10 08:48:14.330            0            8   \n\n   IDZLECENIE  NUMERPIECA SUMA_ZIELONEJ  QuantityError PREV_ILOSC_PALONA  \\\n0      138624        4000             0              1                 0   \n1      138623        3000             0              1                 0   \n2      138624        4000             0              1                 0   \n3      138624        4000         600,1              1                 0   \n4      138623        3000         400,3              1                 0   \n\n   Posted  ...  im3_unit_name  ikWh_consumption im3_consumption  \\\n0       0  ...            NaN               NaN             NaN   \n1       0  ...            NaN               NaN             NaN   \n2       0  ...            NaN               NaN             NaN   \n3       0  ...             m3               4.0           474.0   \n4       0  ...             m3              23.0             8.0   \n\n   ikWh_counter1_start  ikWh_counter1_finish  ikWh_multiplier1  \\\n0                  NaN                   NaN               NaN   \n1                  NaN                   NaN               NaN   \n2                  NaN                   NaN               NaN   \n3           10921971.0            10922040.0              0,01   \n4                  NaN                   NaN               NaN   \n\n   ikWh_unit_name1 ikWh_consumption1 ikWh_total_consumption  lTriggerCounter  \n0              NaN               NaN                      0              NaN  \n1              NaN               NaN                      0              NaN  \n2              NaN               NaN                      0              NaN  \n3              kWh              0,69                   4,69              NaN  \n4              NaN               NaN                     23              NaN  \n\n[5 rows x 36 columns]",
      "text/html": "<div>\n<style scoped>\n    .dataframe tbody tr th:only-of-type {\n        vertical-align: middle;\n    }\n\n    .dataframe tbody tr th {\n        vertical-align: top;\n    }\n\n    .dataframe thead th {\n        text-align: right;\n    }\n</style>\n<table border=\"1\" class=\"dataframe\">\n  <thead>\n    <tr style=\"text-align: right;\">\n      <th></th>\n      <th>ID_ZLECENIA_PALONA</th>\n      <th>DTZAPIS</th>\n      <th>ILOSC_PALONA</th>\n      <th>NUMERZASYPU</th>\n      <th>IDZLECENIE</th>\n      <th>NUMERPIECA</th>\n      <th>SUMA_ZIELONEJ</th>\n      <th>QuantityError</th>\n      <th>PREV_ILOSC_PALONA</th>\n      <th>Posted</th>\n      <th>...</th>\n      <th>im3_unit_name</th>\n      <th>ikWh_consumption</th>\n      <th>im3_consumption</th>\n      <th>ikWh_counter1_start</th>\n      <th>ikWh_counter1_finish</th>\n      <th>ikWh_multiplier1</th>\n      <th>ikWh_unit_name1</th>\n      <th>ikWh_consumption1</th>\n      <th>ikWh_total_consumption</th>\n      <th>lTriggerCounter</th>\n    </tr>\n  </thead>\n  <tbody>\n    <tr>\n      <th>0</th>\n      <td>1206810</td>\n      <td>2024-01-10 09:06:00.880</td>\n      <td>0</td>\n      <td>8</td>\n      <td>138624</td>\n      <td>4000</td>\n      <td>0</td>\n      <td>1</td>\n      <td>0</td>\n      <td>0</td>\n      <td>...</td>\n      <td>NaN</td>\n      <td>NaN</td>\n      <td>NaN</td>\n      <td>NaN</td>\n      <td>NaN</td>\n      <td>NaN</td>\n      <td>NaN</td>\n      <td>NaN</td>\n      <td>0</td>\n      <td>NaN</td>\n    </tr>\n    <tr>\n      <th>1</th>\n      <td>1206809</td>\n      <td>2024-01-10 08:59:02.527</td>\n      <td>0</td>\n      <td>9</td>\n      <td>138623</td>\n      <td>3000</td>\n      <td>0</td>\n      <td>1</td>\n      <td>0</td>\n      <td>0</td>\n      <td>...</td>\n      <td>NaN</td>\n      <td>NaN</td>\n      <td>NaN</td>\n      <td>NaN</td>\n      <td>NaN</td>\n      <td>NaN</td>\n      <td>NaN</td>\n      <td>NaN</td>\n      <td>0</td>\n      <td>NaN</td>\n    </tr>\n    <tr>\n      <th>2</th>\n      <td>1206808</td>\n      <td>2024-01-10 08:57:40.677</td>\n      <td>0</td>\n      <td>7</td>\n      <td>138624</td>\n      <td>4000</td>\n      <td>0</td>\n      <td>1</td>\n      <td>0</td>\n      <td>0</td>\n      <td>...</td>\n      <td>NaN</td>\n      <td>NaN</td>\n      <td>NaN</td>\n      <td>NaN</td>\n      <td>NaN</td>\n      <td>NaN</td>\n      <td>NaN</td>\n      <td>NaN</td>\n      <td>0</td>\n      <td>NaN</td>\n    </tr>\n    <tr>\n      <th>3</th>\n      <td>1206807</td>\n      <td>2024-01-10 08:49:11.593</td>\n      <td>0</td>\n      <td>6</td>\n      <td>138624</td>\n      <td>4000</td>\n      <td>600,1</td>\n      <td>1</td>\n      <td>0</td>\n      <td>0</td>\n      <td>...</td>\n      <td>m3</td>\n      <td>4.0</td>\n      <td>474.0</td>\n      <td>10921971.0</td>\n      <td>10922040.0</td>\n      <td>0,01</td>\n      <td>kWh</td>\n      <td>0,69</td>\n      <td>4,69</td>\n      <td>NaN</td>\n    </tr>\n    <tr>\n      <th>4</th>\n      <td>1206806</td>\n      <td>2024-01-10 08:48:14.330</td>\n      <td>0</td>\n      <td>8</td>\n      <td>138623</td>\n      <td>3000</td>\n      <td>400,3</td>\n      <td>1</td>\n      <td>0</td>\n      <td>0</td>\n      <td>...</td>\n      <td>m3</td>\n      <td>23.0</td>\n      <td>8.0</td>\n      <td>NaN</td>\n      <td>NaN</td>\n      <td>NaN</td>\n      <td>NaN</td>\n      <td>NaN</td>\n      <td>23</td>\n      <td>NaN</td>\n    </tr>\n  </tbody>\n</table>\n<p>5 rows × 36 columns</p>\n</div>"
     },
     "execution_count": 154,
     "metadata": {},
     "output_type": "execute_result"
    }
   ],
   "source": [
    "jde_data.head()"
   ],
   "metadata": {
    "collapsed": false,
    "ExecuteTime": {
     "end_time": "2024-02-15T19:57:40.360585800Z",
     "start_time": "2024-02-15T19:57:40.326476600Z"
    }
   },
   "id": "58454b5e6fcc2b08",
   "execution_count": 154
  },
  {
   "cell_type": "code",
   "outputs": [
    {
     "data": {
      "text/plain": "array([nan,  0.])"
     },
     "execution_count": 155,
     "metadata": {},
     "output_type": "execute_result"
    }
   ],
   "source": [
    "jde_data['LockedByEditor'].unique()"
   ],
   "metadata": {
    "collapsed": false,
    "ExecuteTime": {
     "end_time": "2024-02-15T19:57:41.039062600Z",
     "start_time": "2024-02-15T19:57:41.029835900Z"
    }
   },
   "id": "270ee2beca1dd0ab",
   "execution_count": 155
  },
  {
   "cell_type": "code",
   "outputs": [
    {
     "data": {
      "text/plain": "      ID_ZLECENIA_PALONA                  DTZAPIS ILOSC_PALONA  NUMERZASYPU  \\\n7612             1199197  2023-11-30 06:28:11.693        306,8           19   \n\n      IDZLECENIE  NUMERPIECA SUMA_ZIELONEJ  QuantityError PREV_ILOSC_PALONA  \\\n7612      137892        3000         352,6              0                 0   \n\n      Posted  ...  im3_unit_name  ikWh_consumption im3_consumption  \\\n7612       0  ...             m3              13.0             8.0   \n\n      ikWh_counter1_start  ikWh_counter1_finish  ikWh_multiplier1  \\\n7612                  NaN                   NaN               NaN   \n\n      ikWh_unit_name1 ikWh_consumption1 ikWh_total_consumption  \\\n7612              NaN               NaN                     13   \n\n      lTriggerCounter  \n7612              NaN  \n\n[1 rows x 36 columns]",
      "text/html": "<div>\n<style scoped>\n    .dataframe tbody tr th:only-of-type {\n        vertical-align: middle;\n    }\n\n    .dataframe tbody tr th {\n        vertical-align: top;\n    }\n\n    .dataframe thead th {\n        text-align: right;\n    }\n</style>\n<table border=\"1\" class=\"dataframe\">\n  <thead>\n    <tr style=\"text-align: right;\">\n      <th></th>\n      <th>ID_ZLECENIA_PALONA</th>\n      <th>DTZAPIS</th>\n      <th>ILOSC_PALONA</th>\n      <th>NUMERZASYPU</th>\n      <th>IDZLECENIE</th>\n      <th>NUMERPIECA</th>\n      <th>SUMA_ZIELONEJ</th>\n      <th>QuantityError</th>\n      <th>PREV_ILOSC_PALONA</th>\n      <th>Posted</th>\n      <th>...</th>\n      <th>im3_unit_name</th>\n      <th>ikWh_consumption</th>\n      <th>im3_consumption</th>\n      <th>ikWh_counter1_start</th>\n      <th>ikWh_counter1_finish</th>\n      <th>ikWh_multiplier1</th>\n      <th>ikWh_unit_name1</th>\n      <th>ikWh_consumption1</th>\n      <th>ikWh_total_consumption</th>\n      <th>lTriggerCounter</th>\n    </tr>\n  </thead>\n  <tbody>\n    <tr>\n      <th>7612</th>\n      <td>1199197</td>\n      <td>2023-11-30 06:28:11.693</td>\n      <td>306,8</td>\n      <td>19</td>\n      <td>137892</td>\n      <td>3000</td>\n      <td>352,6</td>\n      <td>0</td>\n      <td>0</td>\n      <td>0</td>\n      <td>...</td>\n      <td>m3</td>\n      <td>13.0</td>\n      <td>8.0</td>\n      <td>NaN</td>\n      <td>NaN</td>\n      <td>NaN</td>\n      <td>NaN</td>\n      <td>NaN</td>\n      <td>13</td>\n      <td>NaN</td>\n    </tr>\n  </tbody>\n</table>\n<p>1 rows × 36 columns</p>\n</div>"
     },
     "execution_count": 156,
     "metadata": {},
     "output_type": "execute_result"
    }
   ],
   "source": [
    "jde_data[jde_data['LockedByEditor'] == 0.0]"
   ],
   "metadata": {
    "collapsed": false,
    "ExecuteTime": {
     "end_time": "2024-02-15T19:57:41.636003500Z",
     "start_time": "2024-02-15T19:57:41.623303200Z"
    }
   },
   "id": "2d056061a89206cc",
   "execution_count": 156
  },
  {
   "cell_type": "code",
   "outputs": [],
   "source": [],
   "metadata": {
    "collapsed": false
   },
   "id": "93aa84851e5618e5"
  }
 ],
 "metadata": {
  "kernelspec": {
   "display_name": "Python 3",
   "language": "python",
   "name": "python3"
  },
  "language_info": {
   "codemirror_mode": {
    "name": "ipython",
    "version": 2
   },
   "file_extension": ".py",
   "mimetype": "text/x-python",
   "name": "python",
   "nbconvert_exporter": "python",
   "pygments_lexer": "ipython2",
   "version": "2.7.6"
  }
 },
 "nbformat": 4,
 "nbformat_minor": 5
}
