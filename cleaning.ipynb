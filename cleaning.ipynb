{
 "cells": [
  {
   "cell_type": "code",
   "execution_count": 255,
   "id": "initial_id",
   "metadata": {
    "collapsed": true,
    "ExecuteTime": {
     "end_time": "2024-02-17T19:47:09.833452800Z",
     "start_time": "2024-02-17T19:47:09.755661100Z"
    }
   },
   "outputs": [],
   "source": [
    "import pandas as pd\n",
    "import numpy as np"
   ]
  },
  {
   "cell_type": "code",
   "outputs": [
    {
     "data": {
      "text/plain": "      ID_ZLECENIA_PALONA                  DTZAPIS ILOSC_PALONA  NUMERZASYPU  \\\n0                1206810  2024-01-10 09:06:00.880            0            8   \n1                1206809  2024-01-10 08:59:02.527            0            9   \n2                1206808  2024-01-10 08:57:40.677            0            7   \n3                1206807  2024-01-10 08:49:11.593            0            6   \n4                1206806  2024-01-10 08:48:14.330            0            8   \n...                  ...                      ...          ...          ...   \n9995             1196814  2023-11-20 03:12:48.087          251           12   \n9996             1196813  2023-11-20 03:09:00.397        505,1            7   \n9997             1196812  2023-11-20 03:04:52.260        251,9           11   \n9998             1196811  2023-11-20 03:00:06.253        505,9            6   \n9999             1196810  2023-11-20 02:51:39.743        508,1            5   \n\n      IDZLECENIE  NUMERPIECA  Anulowany  Zagubiona SUMA_ZIELONEJ  \\\n0         138624        4000          0        NaN             0   \n1         138623        3000          0        NaN             0   \n2         138624        4000          0        NaN             0   \n3         138624        4000          0        NaN         600,1   \n4         138623        3000          0        NaN         400,3   \n...          ...         ...        ...        ...           ...   \n9995      137655        3000          0        NaN           300   \n9996      137656        4000          0        NaN         600,1   \n9997      137655        3000          0        NaN         291,1   \n9998      137656        4000          0        NaN           600   \n9999      137656        4000          0        NaN         600,2   \n\n      QuantityError  ... im3_unit_name  ikWh_consumption  im3_consumption  \\\n0                 1  ...           NaN               NaN              NaN   \n1                 1  ...           NaN               NaN              NaN   \n2                 1  ...           NaN               NaN              NaN   \n3                 1  ...            m3               4.0            474.0   \n4                 1  ...            m3              23.0              8.0   \n...             ...  ...           ...               ...              ...   \n9995              0  ...            m3              13.0              9.0   \n9996              0  ...            m3              11.0           1301.0   \n9997              0  ...            m3              12.0              9.0   \n9998              0  ...            m3              11.0           1307.0   \n9999              0  ...            m3              12.0           1292.0   \n\n      ikWh_counter1_start ikWh_counter1_finish  ikWh_multiplier1  \\\n0                     NaN                  NaN               NaN   \n1                     NaN                  NaN               NaN   \n2                     NaN                  NaN               NaN   \n3              10921971.0           10922040.0              0,01   \n4                     NaN                  NaN               NaN   \n...                   ...                  ...               ...   \n9995                  NaN                  NaN               NaN   \n9996            9740934.0            9741095.0              0,01   \n9997                  NaN                  NaN               NaN   \n9998            9740751.0            9740900.0              0,01   \n9999            9740431.0            9740653.0              0,01   \n\n      ikWh_unit_name1  ikWh_consumption1  ikWh_total_consumption  \\\n0                 NaN                NaN                       0   \n1                 NaN                NaN                       0   \n2                 NaN                NaN                       0   \n3                 kWh               0,69                    4,69   \n4                 NaN                NaN                      23   \n...               ...                ...                     ...   \n9995              NaN                NaN                      13   \n9996              kWh               1,61                   12,61   \n9997              NaN                NaN                      12   \n9998              kWh               1,49                   12,49   \n9999              kWh               2,22                   14,22   \n\n     lTriggerCounter  \n0                NaN  \n1                NaN  \n2                NaN  \n3                NaN  \n4                NaN  \n...              ...  \n9995           765.0  \n9996          7144.0  \n9997           763.0  \n9998          7143.0  \n9999          7142.0  \n\n[10000 rows x 38 columns]",
      "text/html": "<div>\n<style scoped>\n    .dataframe tbody tr th:only-of-type {\n        vertical-align: middle;\n    }\n\n    .dataframe tbody tr th {\n        vertical-align: top;\n    }\n\n    .dataframe thead th {\n        text-align: right;\n    }\n</style>\n<table border=\"1\" class=\"dataframe\">\n  <thead>\n    <tr style=\"text-align: right;\">\n      <th></th>\n      <th>ID_ZLECENIA_PALONA</th>\n      <th>DTZAPIS</th>\n      <th>ILOSC_PALONA</th>\n      <th>NUMERZASYPU</th>\n      <th>IDZLECENIE</th>\n      <th>NUMERPIECA</th>\n      <th>Anulowany</th>\n      <th>Zagubiona</th>\n      <th>SUMA_ZIELONEJ</th>\n      <th>QuantityError</th>\n      <th>...</th>\n      <th>im3_unit_name</th>\n      <th>ikWh_consumption</th>\n      <th>im3_consumption</th>\n      <th>ikWh_counter1_start</th>\n      <th>ikWh_counter1_finish</th>\n      <th>ikWh_multiplier1</th>\n      <th>ikWh_unit_name1</th>\n      <th>ikWh_consumption1</th>\n      <th>ikWh_total_consumption</th>\n      <th>lTriggerCounter</th>\n    </tr>\n  </thead>\n  <tbody>\n    <tr>\n      <th>0</th>\n      <td>1206810</td>\n      <td>2024-01-10 09:06:00.880</td>\n      <td>0</td>\n      <td>8</td>\n      <td>138624</td>\n      <td>4000</td>\n      <td>0</td>\n      <td>NaN</td>\n      <td>0</td>\n      <td>1</td>\n      <td>...</td>\n      <td>NaN</td>\n      <td>NaN</td>\n      <td>NaN</td>\n      <td>NaN</td>\n      <td>NaN</td>\n      <td>NaN</td>\n      <td>NaN</td>\n      <td>NaN</td>\n      <td>0</td>\n      <td>NaN</td>\n    </tr>\n    <tr>\n      <th>1</th>\n      <td>1206809</td>\n      <td>2024-01-10 08:59:02.527</td>\n      <td>0</td>\n      <td>9</td>\n      <td>138623</td>\n      <td>3000</td>\n      <td>0</td>\n      <td>NaN</td>\n      <td>0</td>\n      <td>1</td>\n      <td>...</td>\n      <td>NaN</td>\n      <td>NaN</td>\n      <td>NaN</td>\n      <td>NaN</td>\n      <td>NaN</td>\n      <td>NaN</td>\n      <td>NaN</td>\n      <td>NaN</td>\n      <td>0</td>\n      <td>NaN</td>\n    </tr>\n    <tr>\n      <th>2</th>\n      <td>1206808</td>\n      <td>2024-01-10 08:57:40.677</td>\n      <td>0</td>\n      <td>7</td>\n      <td>138624</td>\n      <td>4000</td>\n      <td>0</td>\n      <td>NaN</td>\n      <td>0</td>\n      <td>1</td>\n      <td>...</td>\n      <td>NaN</td>\n      <td>NaN</td>\n      <td>NaN</td>\n      <td>NaN</td>\n      <td>NaN</td>\n      <td>NaN</td>\n      <td>NaN</td>\n      <td>NaN</td>\n      <td>0</td>\n      <td>NaN</td>\n    </tr>\n    <tr>\n      <th>3</th>\n      <td>1206807</td>\n      <td>2024-01-10 08:49:11.593</td>\n      <td>0</td>\n      <td>6</td>\n      <td>138624</td>\n      <td>4000</td>\n      <td>0</td>\n      <td>NaN</td>\n      <td>600,1</td>\n      <td>1</td>\n      <td>...</td>\n      <td>m3</td>\n      <td>4.0</td>\n      <td>474.0</td>\n      <td>10921971.0</td>\n      <td>10922040.0</td>\n      <td>0,01</td>\n      <td>kWh</td>\n      <td>0,69</td>\n      <td>4,69</td>\n      <td>NaN</td>\n    </tr>\n    <tr>\n      <th>4</th>\n      <td>1206806</td>\n      <td>2024-01-10 08:48:14.330</td>\n      <td>0</td>\n      <td>8</td>\n      <td>138623</td>\n      <td>3000</td>\n      <td>0</td>\n      <td>NaN</td>\n      <td>400,3</td>\n      <td>1</td>\n      <td>...</td>\n      <td>m3</td>\n      <td>23.0</td>\n      <td>8.0</td>\n      <td>NaN</td>\n      <td>NaN</td>\n      <td>NaN</td>\n      <td>NaN</td>\n      <td>NaN</td>\n      <td>23</td>\n      <td>NaN</td>\n    </tr>\n    <tr>\n      <th>...</th>\n      <td>...</td>\n      <td>...</td>\n      <td>...</td>\n      <td>...</td>\n      <td>...</td>\n      <td>...</td>\n      <td>...</td>\n      <td>...</td>\n      <td>...</td>\n      <td>...</td>\n      <td>...</td>\n      <td>...</td>\n      <td>...</td>\n      <td>...</td>\n      <td>...</td>\n      <td>...</td>\n      <td>...</td>\n      <td>...</td>\n      <td>...</td>\n      <td>...</td>\n      <td>...</td>\n    </tr>\n    <tr>\n      <th>9995</th>\n      <td>1196814</td>\n      <td>2023-11-20 03:12:48.087</td>\n      <td>251</td>\n      <td>12</td>\n      <td>137655</td>\n      <td>3000</td>\n      <td>0</td>\n      <td>NaN</td>\n      <td>300</td>\n      <td>0</td>\n      <td>...</td>\n      <td>m3</td>\n      <td>13.0</td>\n      <td>9.0</td>\n      <td>NaN</td>\n      <td>NaN</td>\n      <td>NaN</td>\n      <td>NaN</td>\n      <td>NaN</td>\n      <td>13</td>\n      <td>765.0</td>\n    </tr>\n    <tr>\n      <th>9996</th>\n      <td>1196813</td>\n      <td>2023-11-20 03:09:00.397</td>\n      <td>505,1</td>\n      <td>7</td>\n      <td>137656</td>\n      <td>4000</td>\n      <td>0</td>\n      <td>NaN</td>\n      <td>600,1</td>\n      <td>0</td>\n      <td>...</td>\n      <td>m3</td>\n      <td>11.0</td>\n      <td>1301.0</td>\n      <td>9740934.0</td>\n      <td>9741095.0</td>\n      <td>0,01</td>\n      <td>kWh</td>\n      <td>1,61</td>\n      <td>12,61</td>\n      <td>7144.0</td>\n    </tr>\n    <tr>\n      <th>9997</th>\n      <td>1196812</td>\n      <td>2023-11-20 03:04:52.260</td>\n      <td>251,9</td>\n      <td>11</td>\n      <td>137655</td>\n      <td>3000</td>\n      <td>0</td>\n      <td>NaN</td>\n      <td>291,1</td>\n      <td>0</td>\n      <td>...</td>\n      <td>m3</td>\n      <td>12.0</td>\n      <td>9.0</td>\n      <td>NaN</td>\n      <td>NaN</td>\n      <td>NaN</td>\n      <td>NaN</td>\n      <td>NaN</td>\n      <td>12</td>\n      <td>763.0</td>\n    </tr>\n    <tr>\n      <th>9998</th>\n      <td>1196811</td>\n      <td>2023-11-20 03:00:06.253</td>\n      <td>505,9</td>\n      <td>6</td>\n      <td>137656</td>\n      <td>4000</td>\n      <td>0</td>\n      <td>NaN</td>\n      <td>600</td>\n      <td>0</td>\n      <td>...</td>\n      <td>m3</td>\n      <td>11.0</td>\n      <td>1307.0</td>\n      <td>9740751.0</td>\n      <td>9740900.0</td>\n      <td>0,01</td>\n      <td>kWh</td>\n      <td>1,49</td>\n      <td>12,49</td>\n      <td>7143.0</td>\n    </tr>\n    <tr>\n      <th>9999</th>\n      <td>1196810</td>\n      <td>2023-11-20 02:51:39.743</td>\n      <td>508,1</td>\n      <td>5</td>\n      <td>137656</td>\n      <td>4000</td>\n      <td>0</td>\n      <td>NaN</td>\n      <td>600,2</td>\n      <td>0</td>\n      <td>...</td>\n      <td>m3</td>\n      <td>12.0</td>\n      <td>1292.0</td>\n      <td>9740431.0</td>\n      <td>9740653.0</td>\n      <td>0,01</td>\n      <td>kWh</td>\n      <td>2,22</td>\n      <td>14,22</td>\n      <td>7142.0</td>\n    </tr>\n  </tbody>\n</table>\n<p>10000 rows × 38 columns</p>\n</div>"
     },
     "execution_count": 256,
     "metadata": {},
     "output_type": "execute_result"
    }
   ],
   "source": [
    "jde_data = pd.read_csv('jde_data-part1_raw.csv', sep=';', parse_dates=True)\n",
    "jde_data"
   ],
   "metadata": {
    "collapsed": false,
    "ExecuteTime": {
     "end_time": "2024-02-17T19:47:10.209619900Z",
     "start_time": "2024-02-17T19:47:09.834450300Z"
    }
   },
   "id": "4cbeb550f3337268",
   "execution_count": 256
  },
  {
   "cell_type": "code",
   "outputs": [
    {
     "data": {
      "text/plain": "   ID_ZLECENIA_PALONA                  DTZAPIS ILOSC_PALONA  NUMERZASYPU  \\\n0             1206810  2024-01-10 09:06:00.880            0            8   \n1             1206809  2024-01-10 08:59:02.527            0            9   \n2             1206808  2024-01-10 08:57:40.677            0            7   \n3             1206807  2024-01-10 08:49:11.593            0            6   \n4             1206806  2024-01-10 08:48:14.330            0            8   \n\n   IDZLECENIE  NUMERPIECA  Anulowany  Zagubiona SUMA_ZIELONEJ  QuantityError  \\\n0      138624        4000          0        NaN             0              1   \n1      138623        3000          0        NaN             0              1   \n2      138624        4000          0        NaN             0              1   \n3      138624        4000          0        NaN         600,1              1   \n4      138623        3000          0        NaN         400,3              1   \n\n   ... im3_unit_name  ikWh_consumption  im3_consumption  ikWh_counter1_start  \\\n0  ...           NaN               NaN              NaN                  NaN   \n1  ...           NaN               NaN              NaN                  NaN   \n2  ...           NaN               NaN              NaN                  NaN   \n3  ...            m3               4.0            474.0           10921971.0   \n4  ...            m3              23.0              8.0                  NaN   \n\n  ikWh_counter1_finish  ikWh_multiplier1  ikWh_unit_name1  ikWh_consumption1  \\\n0                  NaN               NaN              NaN                NaN   \n1                  NaN               NaN              NaN                NaN   \n2                  NaN               NaN              NaN                NaN   \n3           10922040.0              0,01              kWh               0,69   \n4                  NaN               NaN              NaN                NaN   \n\n   ikWh_total_consumption lTriggerCounter  \n0                       0             NaN  \n1                       0             NaN  \n2                       0             NaN  \n3                    4,69             NaN  \n4                      23             NaN  \n\n[5 rows x 38 columns]",
      "text/html": "<div>\n<style scoped>\n    .dataframe tbody tr th:only-of-type {\n        vertical-align: middle;\n    }\n\n    .dataframe tbody tr th {\n        vertical-align: top;\n    }\n\n    .dataframe thead th {\n        text-align: right;\n    }\n</style>\n<table border=\"1\" class=\"dataframe\">\n  <thead>\n    <tr style=\"text-align: right;\">\n      <th></th>\n      <th>ID_ZLECENIA_PALONA</th>\n      <th>DTZAPIS</th>\n      <th>ILOSC_PALONA</th>\n      <th>NUMERZASYPU</th>\n      <th>IDZLECENIE</th>\n      <th>NUMERPIECA</th>\n      <th>Anulowany</th>\n      <th>Zagubiona</th>\n      <th>SUMA_ZIELONEJ</th>\n      <th>QuantityError</th>\n      <th>...</th>\n      <th>im3_unit_name</th>\n      <th>ikWh_consumption</th>\n      <th>im3_consumption</th>\n      <th>ikWh_counter1_start</th>\n      <th>ikWh_counter1_finish</th>\n      <th>ikWh_multiplier1</th>\n      <th>ikWh_unit_name1</th>\n      <th>ikWh_consumption1</th>\n      <th>ikWh_total_consumption</th>\n      <th>lTriggerCounter</th>\n    </tr>\n  </thead>\n  <tbody>\n    <tr>\n      <th>0</th>\n      <td>1206810</td>\n      <td>2024-01-10 09:06:00.880</td>\n      <td>0</td>\n      <td>8</td>\n      <td>138624</td>\n      <td>4000</td>\n      <td>0</td>\n      <td>NaN</td>\n      <td>0</td>\n      <td>1</td>\n      <td>...</td>\n      <td>NaN</td>\n      <td>NaN</td>\n      <td>NaN</td>\n      <td>NaN</td>\n      <td>NaN</td>\n      <td>NaN</td>\n      <td>NaN</td>\n      <td>NaN</td>\n      <td>0</td>\n      <td>NaN</td>\n    </tr>\n    <tr>\n      <th>1</th>\n      <td>1206809</td>\n      <td>2024-01-10 08:59:02.527</td>\n      <td>0</td>\n      <td>9</td>\n      <td>138623</td>\n      <td>3000</td>\n      <td>0</td>\n      <td>NaN</td>\n      <td>0</td>\n      <td>1</td>\n      <td>...</td>\n      <td>NaN</td>\n      <td>NaN</td>\n      <td>NaN</td>\n      <td>NaN</td>\n      <td>NaN</td>\n      <td>NaN</td>\n      <td>NaN</td>\n      <td>NaN</td>\n      <td>0</td>\n      <td>NaN</td>\n    </tr>\n    <tr>\n      <th>2</th>\n      <td>1206808</td>\n      <td>2024-01-10 08:57:40.677</td>\n      <td>0</td>\n      <td>7</td>\n      <td>138624</td>\n      <td>4000</td>\n      <td>0</td>\n      <td>NaN</td>\n      <td>0</td>\n      <td>1</td>\n      <td>...</td>\n      <td>NaN</td>\n      <td>NaN</td>\n      <td>NaN</td>\n      <td>NaN</td>\n      <td>NaN</td>\n      <td>NaN</td>\n      <td>NaN</td>\n      <td>NaN</td>\n      <td>0</td>\n      <td>NaN</td>\n    </tr>\n    <tr>\n      <th>3</th>\n      <td>1206807</td>\n      <td>2024-01-10 08:49:11.593</td>\n      <td>0</td>\n      <td>6</td>\n      <td>138624</td>\n      <td>4000</td>\n      <td>0</td>\n      <td>NaN</td>\n      <td>600,1</td>\n      <td>1</td>\n      <td>...</td>\n      <td>m3</td>\n      <td>4.0</td>\n      <td>474.0</td>\n      <td>10921971.0</td>\n      <td>10922040.0</td>\n      <td>0,01</td>\n      <td>kWh</td>\n      <td>0,69</td>\n      <td>4,69</td>\n      <td>NaN</td>\n    </tr>\n    <tr>\n      <th>4</th>\n      <td>1206806</td>\n      <td>2024-01-10 08:48:14.330</td>\n      <td>0</td>\n      <td>8</td>\n      <td>138623</td>\n      <td>3000</td>\n      <td>0</td>\n      <td>NaN</td>\n      <td>400,3</td>\n      <td>1</td>\n      <td>...</td>\n      <td>m3</td>\n      <td>23.0</td>\n      <td>8.0</td>\n      <td>NaN</td>\n      <td>NaN</td>\n      <td>NaN</td>\n      <td>NaN</td>\n      <td>NaN</td>\n      <td>23</td>\n      <td>NaN</td>\n    </tr>\n  </tbody>\n</table>\n<p>5 rows × 38 columns</p>\n</div>"
     },
     "execution_count": 257,
     "metadata": {},
     "output_type": "execute_result"
    }
   ],
   "source": [
    "jde_data.head()"
   ],
   "metadata": {
    "collapsed": false,
    "ExecuteTime": {
     "end_time": "2024-02-17T19:47:10.234200Z",
     "start_time": "2024-02-17T19:47:10.094926700Z"
    }
   },
   "id": "db6ec86e664192a",
   "execution_count": 257
  },
  {
   "cell_type": "code",
   "outputs": [
    {
     "data": {
      "text/plain": "array([ 8,  9,  7,  6,  5,  4,  3,  2,  1, 11, 10, 17, 16, 15, 14, 13, 12,\n       32, 31, 30, 29, 28, 27, 26, 25, 24, 23, 22, 21, 20, 19, 18, 51, 50,\n       49, 48, 47, 46, 45, 44, 43, 42, 41, 40, 39, 38, 37, 36, 35, 34, 33,\n       52, 56, 55, 54, 53], dtype=int64)"
     },
     "execution_count": 258,
     "metadata": {},
     "output_type": "execute_result"
    }
   ],
   "source": [
    "jde_data['NUMERZASYPU'].unique()"
   ],
   "metadata": {
    "collapsed": false,
    "ExecuteTime": {
     "end_time": "2024-02-17T19:47:10.251573700Z",
     "start_time": "2024-02-17T19:47:10.234200Z"
    }
   },
   "id": "a11bc7d2b3a36f97",
   "execution_count": 258
  },
  {
   "cell_type": "code",
   "outputs": [
    {
     "data": {
      "text/plain": "array([4000, 3000, 2000], dtype=int64)"
     },
     "execution_count": 259,
     "metadata": {},
     "output_type": "execute_result"
    }
   ],
   "source": [
    "jde_data['NUMERPIECA'].unique()"
   ],
   "metadata": {
    "collapsed": false,
    "ExecuteTime": {
     "end_time": "2024-02-17T19:47:10.317239800Z",
     "start_time": "2024-02-17T19:47:10.250575700Z"
    }
   },
   "id": "d12ca9e4c995af83",
   "execution_count": 259
  },
  {
   "cell_type": "code",
   "outputs": [
    {
     "data": {
      "text/plain": "array([0], dtype=int64)"
     },
     "execution_count": 260,
     "metadata": {},
     "output_type": "execute_result"
    }
   ],
   "source": [
    "jde_data['Anulowany'].unique()"
   ],
   "metadata": {
    "collapsed": false,
    "ExecuteTime": {
     "end_time": "2024-02-17T19:47:10.376058900Z",
     "start_time": "2024-02-17T19:47:10.296057400Z"
    }
   },
   "id": "a058031dee2d7e8",
   "execution_count": 260
  },
  {
   "cell_type": "code",
   "outputs": [],
   "source": [
    "jde_data.drop('Anulowany', axis=1, inplace=True)"
   ],
   "metadata": {
    "collapsed": false,
    "ExecuteTime": {
     "end_time": "2024-02-17T19:47:10.510995700Z",
     "start_time": "2024-02-17T19:47:10.378055100Z"
    }
   },
   "id": "9ca0d6180de68497",
   "execution_count": 261
  },
  {
   "cell_type": "code",
   "outputs": [
    {
     "data": {
      "text/plain": "array([nan])"
     },
     "execution_count": 262,
     "metadata": {},
     "output_type": "execute_result"
    }
   ],
   "source": [
    "jde_data['Zagubiona'].unique()"
   ],
   "metadata": {
    "collapsed": false,
    "ExecuteTime": {
     "end_time": "2024-02-17T19:47:10.556366900Z",
     "start_time": "2024-02-17T19:47:10.510041200Z"
    }
   },
   "id": "2b551bfc029b415c",
   "execution_count": 262
  },
  {
   "cell_type": "code",
   "outputs": [],
   "source": [
    "jde_data.drop('Zagubiona', axis=1, inplace=True)"
   ],
   "metadata": {
    "collapsed": false,
    "ExecuteTime": {
     "end_time": "2024-02-17T19:47:10.594293Z",
     "start_time": "2024-02-17T19:47:10.545601400Z"
    }
   },
   "id": "66034a54051c4c9a",
   "execution_count": 263
  },
  {
   "cell_type": "code",
   "outputs": [
    {
     "data": {
      "text/plain": "      ID_ZLECENIA_PALONA                  DTZAPIS ILOSC_PALONA  NUMERZASYPU  \\\n0                1206810  2024-01-10 09:06:00.880            0            8   \n1                1206809  2024-01-10 08:59:02.527            0            9   \n2                1206808  2024-01-10 08:57:40.677            0            7   \n3                1206807  2024-01-10 08:49:11.593            0            6   \n4                1206806  2024-01-10 08:48:14.330            0            8   \n...                  ...                      ...          ...          ...   \n9995             1196814  2023-11-20 03:12:48.087          251           12   \n9996             1196813  2023-11-20 03:09:00.397        505,1            7   \n9997             1196812  2023-11-20 03:04:52.260        251,9           11   \n9998             1196811  2023-11-20 03:00:06.253        505,9            6   \n9999             1196810  2023-11-20 02:51:39.743        508,1            5   \n\n      IDZLECENIE  NUMERPIECA SUMA_ZIELONEJ  QuantityError PREV_ILOSC_PALONA  \\\n0         138624        4000             0              1                 0   \n1         138623        3000             0              1                 0   \n2         138624        4000             0              1                 0   \n3         138624        4000         600,1              1                 0   \n4         138623        3000         400,3              1                 0   \n...          ...         ...           ...            ...               ...   \n9995      137655        3000           300              0               251   \n9996      137656        4000         600,1              0             505,1   \n9997      137655        3000         291,1              0             251,9   \n9998      137656        4000           600              0             505,9   \n9999      137656        4000         600,2              0             508,1   \n\n      Posted  ...  im3_unit_name  ikWh_consumption im3_consumption  \\\n0          0  ...            NaN               NaN             NaN   \n1          0  ...            NaN               NaN             NaN   \n2          0  ...            NaN               NaN             NaN   \n3          0  ...             m3               4.0           474.0   \n4          0  ...             m3              23.0             8.0   \n...      ...  ...            ...               ...             ...   \n9995       1  ...             m3              13.0             9.0   \n9996       1  ...             m3              11.0          1301.0   \n9997       1  ...             m3              12.0             9.0   \n9998       1  ...             m3              11.0          1307.0   \n9999       1  ...             m3              12.0          1292.0   \n\n      ikWh_counter1_start  ikWh_counter1_finish  ikWh_multiplier1  \\\n0                     NaN                   NaN               NaN   \n1                     NaN                   NaN               NaN   \n2                     NaN                   NaN               NaN   \n3              10921971.0            10922040.0              0,01   \n4                     NaN                   NaN               NaN   \n...                   ...                   ...               ...   \n9995                  NaN                   NaN               NaN   \n9996            9740934.0             9741095.0              0,01   \n9997                  NaN                   NaN               NaN   \n9998            9740751.0             9740900.0              0,01   \n9999            9740431.0             9740653.0              0,01   \n\n      ikWh_unit_name1 ikWh_consumption1 ikWh_total_consumption  \\\n0                 NaN               NaN                      0   \n1                 NaN               NaN                      0   \n2                 NaN               NaN                      0   \n3                 kWh              0,69                   4,69   \n4                 NaN               NaN                     23   \n...               ...               ...                    ...   \n9995              NaN               NaN                     13   \n9996              kWh              1,61                  12,61   \n9997              NaN               NaN                     12   \n9998              kWh              1,49                  12,49   \n9999              kWh              2,22                  14,22   \n\n      lTriggerCounter  \n0                 NaN  \n1                 NaN  \n2                 NaN  \n3                 NaN  \n4                 NaN  \n...               ...  \n9995            765.0  \n9996           7144.0  \n9997            763.0  \n9998           7143.0  \n9999           7142.0  \n\n[10000 rows x 36 columns]",
      "text/html": "<div>\n<style scoped>\n    .dataframe tbody tr th:only-of-type {\n        vertical-align: middle;\n    }\n\n    .dataframe tbody tr th {\n        vertical-align: top;\n    }\n\n    .dataframe thead th {\n        text-align: right;\n    }\n</style>\n<table border=\"1\" class=\"dataframe\">\n  <thead>\n    <tr style=\"text-align: right;\">\n      <th></th>\n      <th>ID_ZLECENIA_PALONA</th>\n      <th>DTZAPIS</th>\n      <th>ILOSC_PALONA</th>\n      <th>NUMERZASYPU</th>\n      <th>IDZLECENIE</th>\n      <th>NUMERPIECA</th>\n      <th>SUMA_ZIELONEJ</th>\n      <th>QuantityError</th>\n      <th>PREV_ILOSC_PALONA</th>\n      <th>Posted</th>\n      <th>...</th>\n      <th>im3_unit_name</th>\n      <th>ikWh_consumption</th>\n      <th>im3_consumption</th>\n      <th>ikWh_counter1_start</th>\n      <th>ikWh_counter1_finish</th>\n      <th>ikWh_multiplier1</th>\n      <th>ikWh_unit_name1</th>\n      <th>ikWh_consumption1</th>\n      <th>ikWh_total_consumption</th>\n      <th>lTriggerCounter</th>\n    </tr>\n  </thead>\n  <tbody>\n    <tr>\n      <th>0</th>\n      <td>1206810</td>\n      <td>2024-01-10 09:06:00.880</td>\n      <td>0</td>\n      <td>8</td>\n      <td>138624</td>\n      <td>4000</td>\n      <td>0</td>\n      <td>1</td>\n      <td>0</td>\n      <td>0</td>\n      <td>...</td>\n      <td>NaN</td>\n      <td>NaN</td>\n      <td>NaN</td>\n      <td>NaN</td>\n      <td>NaN</td>\n      <td>NaN</td>\n      <td>NaN</td>\n      <td>NaN</td>\n      <td>0</td>\n      <td>NaN</td>\n    </tr>\n    <tr>\n      <th>1</th>\n      <td>1206809</td>\n      <td>2024-01-10 08:59:02.527</td>\n      <td>0</td>\n      <td>9</td>\n      <td>138623</td>\n      <td>3000</td>\n      <td>0</td>\n      <td>1</td>\n      <td>0</td>\n      <td>0</td>\n      <td>...</td>\n      <td>NaN</td>\n      <td>NaN</td>\n      <td>NaN</td>\n      <td>NaN</td>\n      <td>NaN</td>\n      <td>NaN</td>\n      <td>NaN</td>\n      <td>NaN</td>\n      <td>0</td>\n      <td>NaN</td>\n    </tr>\n    <tr>\n      <th>2</th>\n      <td>1206808</td>\n      <td>2024-01-10 08:57:40.677</td>\n      <td>0</td>\n      <td>7</td>\n      <td>138624</td>\n      <td>4000</td>\n      <td>0</td>\n      <td>1</td>\n      <td>0</td>\n      <td>0</td>\n      <td>...</td>\n      <td>NaN</td>\n      <td>NaN</td>\n      <td>NaN</td>\n      <td>NaN</td>\n      <td>NaN</td>\n      <td>NaN</td>\n      <td>NaN</td>\n      <td>NaN</td>\n      <td>0</td>\n      <td>NaN</td>\n    </tr>\n    <tr>\n      <th>3</th>\n      <td>1206807</td>\n      <td>2024-01-10 08:49:11.593</td>\n      <td>0</td>\n      <td>6</td>\n      <td>138624</td>\n      <td>4000</td>\n      <td>600,1</td>\n      <td>1</td>\n      <td>0</td>\n      <td>0</td>\n      <td>...</td>\n      <td>m3</td>\n      <td>4.0</td>\n      <td>474.0</td>\n      <td>10921971.0</td>\n      <td>10922040.0</td>\n      <td>0,01</td>\n      <td>kWh</td>\n      <td>0,69</td>\n      <td>4,69</td>\n      <td>NaN</td>\n    </tr>\n    <tr>\n      <th>4</th>\n      <td>1206806</td>\n      <td>2024-01-10 08:48:14.330</td>\n      <td>0</td>\n      <td>8</td>\n      <td>138623</td>\n      <td>3000</td>\n      <td>400,3</td>\n      <td>1</td>\n      <td>0</td>\n      <td>0</td>\n      <td>...</td>\n      <td>m3</td>\n      <td>23.0</td>\n      <td>8.0</td>\n      <td>NaN</td>\n      <td>NaN</td>\n      <td>NaN</td>\n      <td>NaN</td>\n      <td>NaN</td>\n      <td>23</td>\n      <td>NaN</td>\n    </tr>\n    <tr>\n      <th>...</th>\n      <td>...</td>\n      <td>...</td>\n      <td>...</td>\n      <td>...</td>\n      <td>...</td>\n      <td>...</td>\n      <td>...</td>\n      <td>...</td>\n      <td>...</td>\n      <td>...</td>\n      <td>...</td>\n      <td>...</td>\n      <td>...</td>\n      <td>...</td>\n      <td>...</td>\n      <td>...</td>\n      <td>...</td>\n      <td>...</td>\n      <td>...</td>\n      <td>...</td>\n      <td>...</td>\n    </tr>\n    <tr>\n      <th>9995</th>\n      <td>1196814</td>\n      <td>2023-11-20 03:12:48.087</td>\n      <td>251</td>\n      <td>12</td>\n      <td>137655</td>\n      <td>3000</td>\n      <td>300</td>\n      <td>0</td>\n      <td>251</td>\n      <td>1</td>\n      <td>...</td>\n      <td>m3</td>\n      <td>13.0</td>\n      <td>9.0</td>\n      <td>NaN</td>\n      <td>NaN</td>\n      <td>NaN</td>\n      <td>NaN</td>\n      <td>NaN</td>\n      <td>13</td>\n      <td>765.0</td>\n    </tr>\n    <tr>\n      <th>9996</th>\n      <td>1196813</td>\n      <td>2023-11-20 03:09:00.397</td>\n      <td>505,1</td>\n      <td>7</td>\n      <td>137656</td>\n      <td>4000</td>\n      <td>600,1</td>\n      <td>0</td>\n      <td>505,1</td>\n      <td>1</td>\n      <td>...</td>\n      <td>m3</td>\n      <td>11.0</td>\n      <td>1301.0</td>\n      <td>9740934.0</td>\n      <td>9741095.0</td>\n      <td>0,01</td>\n      <td>kWh</td>\n      <td>1,61</td>\n      <td>12,61</td>\n      <td>7144.0</td>\n    </tr>\n    <tr>\n      <th>9997</th>\n      <td>1196812</td>\n      <td>2023-11-20 03:04:52.260</td>\n      <td>251,9</td>\n      <td>11</td>\n      <td>137655</td>\n      <td>3000</td>\n      <td>291,1</td>\n      <td>0</td>\n      <td>251,9</td>\n      <td>1</td>\n      <td>...</td>\n      <td>m3</td>\n      <td>12.0</td>\n      <td>9.0</td>\n      <td>NaN</td>\n      <td>NaN</td>\n      <td>NaN</td>\n      <td>NaN</td>\n      <td>NaN</td>\n      <td>12</td>\n      <td>763.0</td>\n    </tr>\n    <tr>\n      <th>9998</th>\n      <td>1196811</td>\n      <td>2023-11-20 03:00:06.253</td>\n      <td>505,9</td>\n      <td>6</td>\n      <td>137656</td>\n      <td>4000</td>\n      <td>600</td>\n      <td>0</td>\n      <td>505,9</td>\n      <td>1</td>\n      <td>...</td>\n      <td>m3</td>\n      <td>11.0</td>\n      <td>1307.0</td>\n      <td>9740751.0</td>\n      <td>9740900.0</td>\n      <td>0,01</td>\n      <td>kWh</td>\n      <td>1,49</td>\n      <td>12,49</td>\n      <td>7143.0</td>\n    </tr>\n    <tr>\n      <th>9999</th>\n      <td>1196810</td>\n      <td>2023-11-20 02:51:39.743</td>\n      <td>508,1</td>\n      <td>5</td>\n      <td>137656</td>\n      <td>4000</td>\n      <td>600,2</td>\n      <td>0</td>\n      <td>508,1</td>\n      <td>1</td>\n      <td>...</td>\n      <td>m3</td>\n      <td>12.0</td>\n      <td>1292.0</td>\n      <td>9740431.0</td>\n      <td>9740653.0</td>\n      <td>0,01</td>\n      <td>kWh</td>\n      <td>2,22</td>\n      <td>14,22</td>\n      <td>7142.0</td>\n    </tr>\n  </tbody>\n</table>\n<p>10000 rows × 36 columns</p>\n</div>"
     },
     "execution_count": 264,
     "metadata": {},
     "output_type": "execute_result"
    }
   ],
   "source": [
    "jde_data"
   ],
   "metadata": {
    "collapsed": false,
    "ExecuteTime": {
     "end_time": "2024-02-17T19:47:10.648743700Z",
     "start_time": "2024-02-17T19:47:10.588281100Z"
    }
   },
   "id": "1334d3821c209be1",
   "execution_count": 264
  },
  {
   "cell_type": "code",
   "outputs": [
    {
     "data": {
      "text/plain": "False"
     },
     "execution_count": 265,
     "metadata": {},
     "output_type": "execute_result"
    }
   ],
   "source": [
    "jde_data['ILOSC_PALONA'].equals(jde_data['PREV_ILOSC_PALONA'])"
   ],
   "metadata": {
    "collapsed": false,
    "ExecuteTime": {
     "end_time": "2024-02-17T19:47:10.664059800Z",
     "start_time": "2024-02-17T19:47:10.623636500Z"
    }
   },
   "id": "bfd10ad0fb27b333",
   "execution_count": 265
  },
  {
   "cell_type": "code",
   "outputs": [
    {
     "data": {
      "text/plain": "0       True\n1       True\n2       True\n3       True\n4       True\n        ... \n9995    True\n9996    True\n9997    True\n9998    True\n9999    True\nLength: 10000, dtype: bool"
     },
     "execution_count": 266,
     "metadata": {},
     "output_type": "execute_result"
    }
   ],
   "source": [
    "jde_data['ILOSC_PALONA'].eq(jde_data['PREV_ILOSC_PALONA'])"
   ],
   "metadata": {
    "collapsed": false,
    "ExecuteTime": {
     "end_time": "2024-02-17T19:47:10.682011400Z",
     "start_time": "2024-02-17T19:47:10.657720800Z"
    }
   },
   "id": "45527ab0fcd0ea14",
   "execution_count": 266
  },
  {
   "cell_type": "code",
   "outputs": [
    {
     "data": {
      "text/plain": "      ID_ZLECENIA_PALONA                  DTZAPIS ILOSC_PALONA  NUMERZASYPU  \\\n27               1206783  2024-01-10 05:48:18.430        342,1           11   \n28               1206782  2024-01-10 05:39:07.180          343           10   \n29               1206781  2024-01-10 05:31:45.677          343            9   \n48               1206762  2024-01-10 03:49:24.690        347,8            9   \n54               1206756  2024-01-10 03:23:50.053        348,8            6   \n...                  ...                      ...          ...          ...   \n9628             1197181  2023-11-21 20:05:44.993          338           11   \n9702             1197107  2023-11-21 13:35:07.000          305            1   \n9802             1197007  2023-11-21 02:28:07.180          300           16   \n9886             1196923  2023-11-20 18:08:35.720          299            7   \n9943             1196866  2023-11-20 07:55:31.313          501            5   \n\n      IDZLECENIE  NUMERPIECA SUMA_ZIELONEJ  QuantityError PREV_ILOSC_PALONA  \\\n27        138620        3000         400,4              0               342   \n28        138620        3000           401              0             342,7   \n29        138620        3000         401,3              0             342,8   \n48        138618        3000         400,9              0               348   \n54        138618        3000         402,9              0               349   \n...          ...         ...           ...            ...               ...   \n9628      137692        3000         399,8              0             338,3   \n9702      137684        3000         356,4              0             304,6   \n9802      137673        3000         349,2              0             299,9   \n9886      137667        3000         348,9              0             298,6   \n9943      137660        4000      600,7001              0             501,3   \n\n      Posted  ...  im3_unit_name  ikWh_consumption im3_consumption  \\\n27         0  ...             m3              15.0             8.0   \n28         0  ...             m3              11.0             8.0   \n29         0  ...             m3              15.0             9.0   \n48         0  ...             m3              19.0             9.0   \n54         0  ...             m3              17.0             8.0   \n...      ...  ...            ...               ...             ...   \n9628       0  ...             m3              18.0             9.0   \n9702       0  ...             m3              10.0            10.0   \n9802       0  ...             m3              13.0            10.0   \n9886       0  ...             m3              14.0            10.0   \n9943       0  ...             m3              11.0          1305.0   \n\n      ikWh_counter1_start  ikWh_counter1_finish  ikWh_multiplier1  \\\n27                    NaN                   NaN               NaN   \n28                    NaN                   NaN               NaN   \n29                    NaN                   NaN               NaN   \n48                    NaN                   NaN               NaN   \n54                    NaN                   NaN               NaN   \n...                   ...                   ...               ...   \n9628                  NaN                   NaN               NaN   \n9702                  NaN                   NaN               NaN   \n9802                  NaN                   NaN               NaN   \n9886                  NaN                   NaN               NaN   \n9943            9749195.0             9749343.0              0,01   \n\n      ikWh_unit_name1 ikWh_consumption1 ikWh_total_consumption  \\\n27                NaN               NaN                     15   \n28                NaN               NaN                     11   \n29                NaN               NaN                     15   \n48                NaN               NaN                     19   \n54                NaN               NaN                     17   \n...               ...               ...                    ...   \n9628              NaN               NaN                     18   \n9702              NaN               NaN                     10   \n9802              NaN               NaN                     13   \n9886              NaN               NaN                     14   \n9943              kWh              1,48                  12,48   \n\n      lTriggerCounter  \n27              285.0  \n28              283.0  \n29              281.0  \n48              260.0  \n54              254.0  \n...               ...  \n9628            335.0  \n9702            260.0  \n9802            153.0  \n9886             82.0  \n9943           7173.0  \n\n[139 rows x 36 columns]",
      "text/html": "<div>\n<style scoped>\n    .dataframe tbody tr th:only-of-type {\n        vertical-align: middle;\n    }\n\n    .dataframe tbody tr th {\n        vertical-align: top;\n    }\n\n    .dataframe thead th {\n        text-align: right;\n    }\n</style>\n<table border=\"1\" class=\"dataframe\">\n  <thead>\n    <tr style=\"text-align: right;\">\n      <th></th>\n      <th>ID_ZLECENIA_PALONA</th>\n      <th>DTZAPIS</th>\n      <th>ILOSC_PALONA</th>\n      <th>NUMERZASYPU</th>\n      <th>IDZLECENIE</th>\n      <th>NUMERPIECA</th>\n      <th>SUMA_ZIELONEJ</th>\n      <th>QuantityError</th>\n      <th>PREV_ILOSC_PALONA</th>\n      <th>Posted</th>\n      <th>...</th>\n      <th>im3_unit_name</th>\n      <th>ikWh_consumption</th>\n      <th>im3_consumption</th>\n      <th>ikWh_counter1_start</th>\n      <th>ikWh_counter1_finish</th>\n      <th>ikWh_multiplier1</th>\n      <th>ikWh_unit_name1</th>\n      <th>ikWh_consumption1</th>\n      <th>ikWh_total_consumption</th>\n      <th>lTriggerCounter</th>\n    </tr>\n  </thead>\n  <tbody>\n    <tr>\n      <th>27</th>\n      <td>1206783</td>\n      <td>2024-01-10 05:48:18.430</td>\n      <td>342,1</td>\n      <td>11</td>\n      <td>138620</td>\n      <td>3000</td>\n      <td>400,4</td>\n      <td>0</td>\n      <td>342</td>\n      <td>0</td>\n      <td>...</td>\n      <td>m3</td>\n      <td>15.0</td>\n      <td>8.0</td>\n      <td>NaN</td>\n      <td>NaN</td>\n      <td>NaN</td>\n      <td>NaN</td>\n      <td>NaN</td>\n      <td>15</td>\n      <td>285.0</td>\n    </tr>\n    <tr>\n      <th>28</th>\n      <td>1206782</td>\n      <td>2024-01-10 05:39:07.180</td>\n      <td>343</td>\n      <td>10</td>\n      <td>138620</td>\n      <td>3000</td>\n      <td>401</td>\n      <td>0</td>\n      <td>342,7</td>\n      <td>0</td>\n      <td>...</td>\n      <td>m3</td>\n      <td>11.0</td>\n      <td>8.0</td>\n      <td>NaN</td>\n      <td>NaN</td>\n      <td>NaN</td>\n      <td>NaN</td>\n      <td>NaN</td>\n      <td>11</td>\n      <td>283.0</td>\n    </tr>\n    <tr>\n      <th>29</th>\n      <td>1206781</td>\n      <td>2024-01-10 05:31:45.677</td>\n      <td>343</td>\n      <td>9</td>\n      <td>138620</td>\n      <td>3000</td>\n      <td>401,3</td>\n      <td>0</td>\n      <td>342,8</td>\n      <td>0</td>\n      <td>...</td>\n      <td>m3</td>\n      <td>15.0</td>\n      <td>9.0</td>\n      <td>NaN</td>\n      <td>NaN</td>\n      <td>NaN</td>\n      <td>NaN</td>\n      <td>NaN</td>\n      <td>15</td>\n      <td>281.0</td>\n    </tr>\n    <tr>\n      <th>48</th>\n      <td>1206762</td>\n      <td>2024-01-10 03:49:24.690</td>\n      <td>347,8</td>\n      <td>9</td>\n      <td>138618</td>\n      <td>3000</td>\n      <td>400,9</td>\n      <td>0</td>\n      <td>348</td>\n      <td>0</td>\n      <td>...</td>\n      <td>m3</td>\n      <td>19.0</td>\n      <td>9.0</td>\n      <td>NaN</td>\n      <td>NaN</td>\n      <td>NaN</td>\n      <td>NaN</td>\n      <td>NaN</td>\n      <td>19</td>\n      <td>260.0</td>\n    </tr>\n    <tr>\n      <th>54</th>\n      <td>1206756</td>\n      <td>2024-01-10 03:23:50.053</td>\n      <td>348,8</td>\n      <td>6</td>\n      <td>138618</td>\n      <td>3000</td>\n      <td>402,9</td>\n      <td>0</td>\n      <td>349</td>\n      <td>0</td>\n      <td>...</td>\n      <td>m3</td>\n      <td>17.0</td>\n      <td>8.0</td>\n      <td>NaN</td>\n      <td>NaN</td>\n      <td>NaN</td>\n      <td>NaN</td>\n      <td>NaN</td>\n      <td>17</td>\n      <td>254.0</td>\n    </tr>\n    <tr>\n      <th>...</th>\n      <td>...</td>\n      <td>...</td>\n      <td>...</td>\n      <td>...</td>\n      <td>...</td>\n      <td>...</td>\n      <td>...</td>\n      <td>...</td>\n      <td>...</td>\n      <td>...</td>\n      <td>...</td>\n      <td>...</td>\n      <td>...</td>\n      <td>...</td>\n      <td>...</td>\n      <td>...</td>\n      <td>...</td>\n      <td>...</td>\n      <td>...</td>\n      <td>...</td>\n      <td>...</td>\n    </tr>\n    <tr>\n      <th>9628</th>\n      <td>1197181</td>\n      <td>2023-11-21 20:05:44.993</td>\n      <td>338</td>\n      <td>11</td>\n      <td>137692</td>\n      <td>3000</td>\n      <td>399,8</td>\n      <td>0</td>\n      <td>338,3</td>\n      <td>0</td>\n      <td>...</td>\n      <td>m3</td>\n      <td>18.0</td>\n      <td>9.0</td>\n      <td>NaN</td>\n      <td>NaN</td>\n      <td>NaN</td>\n      <td>NaN</td>\n      <td>NaN</td>\n      <td>18</td>\n      <td>335.0</td>\n    </tr>\n    <tr>\n      <th>9702</th>\n      <td>1197107</td>\n      <td>2023-11-21 13:35:07.000</td>\n      <td>305</td>\n      <td>1</td>\n      <td>137684</td>\n      <td>3000</td>\n      <td>356,4</td>\n      <td>0</td>\n      <td>304,6</td>\n      <td>0</td>\n      <td>...</td>\n      <td>m3</td>\n      <td>10.0</td>\n      <td>10.0</td>\n      <td>NaN</td>\n      <td>NaN</td>\n      <td>NaN</td>\n      <td>NaN</td>\n      <td>NaN</td>\n      <td>10</td>\n      <td>260.0</td>\n    </tr>\n    <tr>\n      <th>9802</th>\n      <td>1197007</td>\n      <td>2023-11-21 02:28:07.180</td>\n      <td>300</td>\n      <td>16</td>\n      <td>137673</td>\n      <td>3000</td>\n      <td>349,2</td>\n      <td>0</td>\n      <td>299,9</td>\n      <td>0</td>\n      <td>...</td>\n      <td>m3</td>\n      <td>13.0</td>\n      <td>10.0</td>\n      <td>NaN</td>\n      <td>NaN</td>\n      <td>NaN</td>\n      <td>NaN</td>\n      <td>NaN</td>\n      <td>13</td>\n      <td>153.0</td>\n    </tr>\n    <tr>\n      <th>9886</th>\n      <td>1196923</td>\n      <td>2023-11-20 18:08:35.720</td>\n      <td>299</td>\n      <td>7</td>\n      <td>137667</td>\n      <td>3000</td>\n      <td>348,9</td>\n      <td>0</td>\n      <td>298,6</td>\n      <td>0</td>\n      <td>...</td>\n      <td>m3</td>\n      <td>14.0</td>\n      <td>10.0</td>\n      <td>NaN</td>\n      <td>NaN</td>\n      <td>NaN</td>\n      <td>NaN</td>\n      <td>NaN</td>\n      <td>14</td>\n      <td>82.0</td>\n    </tr>\n    <tr>\n      <th>9943</th>\n      <td>1196866</td>\n      <td>2023-11-20 07:55:31.313</td>\n      <td>501</td>\n      <td>5</td>\n      <td>137660</td>\n      <td>4000</td>\n      <td>600,7001</td>\n      <td>0</td>\n      <td>501,3</td>\n      <td>0</td>\n      <td>...</td>\n      <td>m3</td>\n      <td>11.0</td>\n      <td>1305.0</td>\n      <td>9749195.0</td>\n      <td>9749343.0</td>\n      <td>0,01</td>\n      <td>kWh</td>\n      <td>1,48</td>\n      <td>12,48</td>\n      <td>7173.0</td>\n    </tr>\n  </tbody>\n</table>\n<p>139 rows × 36 columns</p>\n</div>"
     },
     "execution_count": 267,
     "metadata": {},
     "output_type": "execute_result"
    }
   ],
   "source": [
    "jde_data[jde_data['ILOSC_PALONA'] != jde_data['PREV_ILOSC_PALONA']]"
   ],
   "metadata": {
    "collapsed": false,
    "ExecuteTime": {
     "end_time": "2024-02-17T19:47:10.803598800Z",
     "start_time": "2024-02-17T19:47:10.683009Z"
    }
   },
   "id": "59b6fe51ae2a7279",
   "execution_count": 267
  },
  {
   "cell_type": "code",
   "outputs": [
    {
     "data": {
      "text/plain": "   ID_ZLECENIA_PALONA                  DTZAPIS ILOSC_PALONA  NUMERZASYPU  \\\n0             1206810  2024-01-10 09:06:00.880            0            8   \n1             1206809  2024-01-10 08:59:02.527            0            9   \n2             1206808  2024-01-10 08:57:40.677            0            7   \n3             1206807  2024-01-10 08:49:11.593            0            6   \n4             1206806  2024-01-10 08:48:14.330            0            8   \n\n   IDZLECENIE  NUMERPIECA SUMA_ZIELONEJ  QuantityError PREV_ILOSC_PALONA  \\\n0      138624        4000             0              1                 0   \n1      138623        3000             0              1                 0   \n2      138624        4000             0              1                 0   \n3      138624        4000         600,1              1                 0   \n4      138623        3000         400,3              1                 0   \n\n   Posted  ...  im3_unit_name  ikWh_consumption im3_consumption  \\\n0       0  ...            NaN               NaN             NaN   \n1       0  ...            NaN               NaN             NaN   \n2       0  ...            NaN               NaN             NaN   \n3       0  ...             m3               4.0           474.0   \n4       0  ...             m3              23.0             8.0   \n\n   ikWh_counter1_start  ikWh_counter1_finish  ikWh_multiplier1  \\\n0                  NaN                   NaN               NaN   \n1                  NaN                   NaN               NaN   \n2                  NaN                   NaN               NaN   \n3           10921971.0            10922040.0              0,01   \n4                  NaN                   NaN               NaN   \n\n   ikWh_unit_name1 ikWh_consumption1 ikWh_total_consumption  lTriggerCounter  \n0              NaN               NaN                      0              NaN  \n1              NaN               NaN                      0              NaN  \n2              NaN               NaN                      0              NaN  \n3              kWh              0,69                   4,69              NaN  \n4              NaN               NaN                     23              NaN  \n\n[5 rows x 36 columns]",
      "text/html": "<div>\n<style scoped>\n    .dataframe tbody tr th:only-of-type {\n        vertical-align: middle;\n    }\n\n    .dataframe tbody tr th {\n        vertical-align: top;\n    }\n\n    .dataframe thead th {\n        text-align: right;\n    }\n</style>\n<table border=\"1\" class=\"dataframe\">\n  <thead>\n    <tr style=\"text-align: right;\">\n      <th></th>\n      <th>ID_ZLECENIA_PALONA</th>\n      <th>DTZAPIS</th>\n      <th>ILOSC_PALONA</th>\n      <th>NUMERZASYPU</th>\n      <th>IDZLECENIE</th>\n      <th>NUMERPIECA</th>\n      <th>SUMA_ZIELONEJ</th>\n      <th>QuantityError</th>\n      <th>PREV_ILOSC_PALONA</th>\n      <th>Posted</th>\n      <th>...</th>\n      <th>im3_unit_name</th>\n      <th>ikWh_consumption</th>\n      <th>im3_consumption</th>\n      <th>ikWh_counter1_start</th>\n      <th>ikWh_counter1_finish</th>\n      <th>ikWh_multiplier1</th>\n      <th>ikWh_unit_name1</th>\n      <th>ikWh_consumption1</th>\n      <th>ikWh_total_consumption</th>\n      <th>lTriggerCounter</th>\n    </tr>\n  </thead>\n  <tbody>\n    <tr>\n      <th>0</th>\n      <td>1206810</td>\n      <td>2024-01-10 09:06:00.880</td>\n      <td>0</td>\n      <td>8</td>\n      <td>138624</td>\n      <td>4000</td>\n      <td>0</td>\n      <td>1</td>\n      <td>0</td>\n      <td>0</td>\n      <td>...</td>\n      <td>NaN</td>\n      <td>NaN</td>\n      <td>NaN</td>\n      <td>NaN</td>\n      <td>NaN</td>\n      <td>NaN</td>\n      <td>NaN</td>\n      <td>NaN</td>\n      <td>0</td>\n      <td>NaN</td>\n    </tr>\n    <tr>\n      <th>1</th>\n      <td>1206809</td>\n      <td>2024-01-10 08:59:02.527</td>\n      <td>0</td>\n      <td>9</td>\n      <td>138623</td>\n      <td>3000</td>\n      <td>0</td>\n      <td>1</td>\n      <td>0</td>\n      <td>0</td>\n      <td>...</td>\n      <td>NaN</td>\n      <td>NaN</td>\n      <td>NaN</td>\n      <td>NaN</td>\n      <td>NaN</td>\n      <td>NaN</td>\n      <td>NaN</td>\n      <td>NaN</td>\n      <td>0</td>\n      <td>NaN</td>\n    </tr>\n    <tr>\n      <th>2</th>\n      <td>1206808</td>\n      <td>2024-01-10 08:57:40.677</td>\n      <td>0</td>\n      <td>7</td>\n      <td>138624</td>\n      <td>4000</td>\n      <td>0</td>\n      <td>1</td>\n      <td>0</td>\n      <td>0</td>\n      <td>...</td>\n      <td>NaN</td>\n      <td>NaN</td>\n      <td>NaN</td>\n      <td>NaN</td>\n      <td>NaN</td>\n      <td>NaN</td>\n      <td>NaN</td>\n      <td>NaN</td>\n      <td>0</td>\n      <td>NaN</td>\n    </tr>\n    <tr>\n      <th>3</th>\n      <td>1206807</td>\n      <td>2024-01-10 08:49:11.593</td>\n      <td>0</td>\n      <td>6</td>\n      <td>138624</td>\n      <td>4000</td>\n      <td>600,1</td>\n      <td>1</td>\n      <td>0</td>\n      <td>0</td>\n      <td>...</td>\n      <td>m3</td>\n      <td>4.0</td>\n      <td>474.0</td>\n      <td>10921971.0</td>\n      <td>10922040.0</td>\n      <td>0,01</td>\n      <td>kWh</td>\n      <td>0,69</td>\n      <td>4,69</td>\n      <td>NaN</td>\n    </tr>\n    <tr>\n      <th>4</th>\n      <td>1206806</td>\n      <td>2024-01-10 08:48:14.330</td>\n      <td>0</td>\n      <td>8</td>\n      <td>138623</td>\n      <td>3000</td>\n      <td>400,3</td>\n      <td>1</td>\n      <td>0</td>\n      <td>0</td>\n      <td>...</td>\n      <td>m3</td>\n      <td>23.0</td>\n      <td>8.0</td>\n      <td>NaN</td>\n      <td>NaN</td>\n      <td>NaN</td>\n      <td>NaN</td>\n      <td>NaN</td>\n      <td>23</td>\n      <td>NaN</td>\n    </tr>\n  </tbody>\n</table>\n<p>5 rows × 36 columns</p>\n</div>"
     },
     "execution_count": 268,
     "metadata": {},
     "output_type": "execute_result"
    }
   ],
   "source": [
    "jde_data.head()"
   ],
   "metadata": {
    "collapsed": false,
    "ExecuteTime": {
     "end_time": "2024-02-17T19:47:10.829140300Z",
     "start_time": "2024-02-17T19:47:10.754544800Z"
    }
   },
   "id": "58454b5e6fcc2b08",
   "execution_count": 268
  },
  {
   "cell_type": "code",
   "outputs": [
    {
     "data": {
      "text/plain": "array([nan,  0.])"
     },
     "execution_count": 269,
     "metadata": {},
     "output_type": "execute_result"
    }
   ],
   "source": [
    "jde_data['LockedByEditor'].unique()"
   ],
   "metadata": {
    "collapsed": false,
    "ExecuteTime": {
     "end_time": "2024-02-17T19:47:10.932369600Z",
     "start_time": "2024-02-17T19:47:10.811577500Z"
    }
   },
   "id": "270ee2beca1dd0ab",
   "execution_count": 269
  },
  {
   "cell_type": "code",
   "outputs": [
    {
     "data": {
      "text/plain": "      ID_ZLECENIA_PALONA                  DTZAPIS ILOSC_PALONA  NUMERZASYPU  \\\n7612             1199197  2023-11-30 06:28:11.693        306,8           19   \n\n      IDZLECENIE  NUMERPIECA SUMA_ZIELONEJ  QuantityError PREV_ILOSC_PALONA  \\\n7612      137892        3000         352,6              0                 0   \n\n      Posted  ...  im3_unit_name  ikWh_consumption im3_consumption  \\\n7612       0  ...             m3              13.0             8.0   \n\n      ikWh_counter1_start  ikWh_counter1_finish  ikWh_multiplier1  \\\n7612                  NaN                   NaN               NaN   \n\n      ikWh_unit_name1 ikWh_consumption1 ikWh_total_consumption  \\\n7612              NaN               NaN                     13   \n\n      lTriggerCounter  \n7612              NaN  \n\n[1 rows x 36 columns]",
      "text/html": "<div>\n<style scoped>\n    .dataframe tbody tr th:only-of-type {\n        vertical-align: middle;\n    }\n\n    .dataframe tbody tr th {\n        vertical-align: top;\n    }\n\n    .dataframe thead th {\n        text-align: right;\n    }\n</style>\n<table border=\"1\" class=\"dataframe\">\n  <thead>\n    <tr style=\"text-align: right;\">\n      <th></th>\n      <th>ID_ZLECENIA_PALONA</th>\n      <th>DTZAPIS</th>\n      <th>ILOSC_PALONA</th>\n      <th>NUMERZASYPU</th>\n      <th>IDZLECENIE</th>\n      <th>NUMERPIECA</th>\n      <th>SUMA_ZIELONEJ</th>\n      <th>QuantityError</th>\n      <th>PREV_ILOSC_PALONA</th>\n      <th>Posted</th>\n      <th>...</th>\n      <th>im3_unit_name</th>\n      <th>ikWh_consumption</th>\n      <th>im3_consumption</th>\n      <th>ikWh_counter1_start</th>\n      <th>ikWh_counter1_finish</th>\n      <th>ikWh_multiplier1</th>\n      <th>ikWh_unit_name1</th>\n      <th>ikWh_consumption1</th>\n      <th>ikWh_total_consumption</th>\n      <th>lTriggerCounter</th>\n    </tr>\n  </thead>\n  <tbody>\n    <tr>\n      <th>7612</th>\n      <td>1199197</td>\n      <td>2023-11-30 06:28:11.693</td>\n      <td>306,8</td>\n      <td>19</td>\n      <td>137892</td>\n      <td>3000</td>\n      <td>352,6</td>\n      <td>0</td>\n      <td>0</td>\n      <td>0</td>\n      <td>...</td>\n      <td>m3</td>\n      <td>13.0</td>\n      <td>8.0</td>\n      <td>NaN</td>\n      <td>NaN</td>\n      <td>NaN</td>\n      <td>NaN</td>\n      <td>NaN</td>\n      <td>13</td>\n      <td>NaN</td>\n    </tr>\n  </tbody>\n</table>\n<p>1 rows × 36 columns</p>\n</div>"
     },
     "execution_count": 270,
     "metadata": {},
     "output_type": "execute_result"
    }
   ],
   "source": [
    "jde_data[jde_data['LockedByEditor'] == 0.0]"
   ],
   "metadata": {
    "collapsed": false,
    "ExecuteTime": {
     "end_time": "2024-02-17T19:47:11.052074400Z",
     "start_time": "2024-02-17T19:47:10.932369600Z"
    }
   },
   "id": "2d056061a89206cc",
   "execution_count": 270
  },
  {
   "cell_type": "code",
   "outputs": [],
   "source": [
    "jde_data.drop('LockedByEditor', axis=1, inplace=True)"
   ],
   "metadata": {
    "collapsed": false,
    "ExecuteTime": {
     "end_time": "2024-02-17T19:47:11.186055400Z",
     "start_time": "2024-02-17T19:47:11.023097300Z"
    }
   },
   "id": "d77d3b219c4e636d",
   "execution_count": 271
  },
  {
   "cell_type": "code",
   "outputs": [
    {
     "data": {
      "text/plain": "array([1, 0], dtype=int64)"
     },
     "execution_count": 272,
     "metadata": {},
     "output_type": "execute_result"
    }
   ],
   "source": [
    "jde_data['QuantityError'].unique()"
   ],
   "metadata": {
    "collapsed": false,
    "ExecuteTime": {
     "end_time": "2024-02-17T19:47:11.246407200Z",
     "start_time": "2024-02-17T19:47:11.168763300Z"
    }
   },
   "id": "93aa84851e5618e5",
   "execution_count": 272
  },
  {
   "cell_type": "code",
   "outputs": [
    {
     "data": {
      "text/plain": "   ID_ZLECENIA_PALONA                  DTZAPIS ILOSC_PALONA  NUMERZASYPU  \\\n0             1206810  2024-01-10 09:06:00.880            0            8   \n1             1206809  2024-01-10 08:59:02.527            0            9   \n2             1206808  2024-01-10 08:57:40.677            0            7   \n3             1206807  2024-01-10 08:49:11.593            0            6   \n4             1206806  2024-01-10 08:48:14.330            0            8   \n6             1206804  2024-01-10 08:35:09.410            0            5   \n\n   IDZLECENIE  NUMERPIECA SUMA_ZIELONEJ  QuantityError PREV_ILOSC_PALONA  \\\n0      138624        4000             0              1                 0   \n1      138623        3000             0              1                 0   \n2      138624        4000             0              1                 0   \n3      138624        4000         600,1              1                 0   \n4      138623        3000         400,3              1                 0   \n6      138624        4000         600,2              1                 0   \n\n   Posted  ...  im3_unit_name ikWh_consumption  im3_consumption  \\\n0       0  ...            NaN              NaN              NaN   \n1       0  ...            NaN              NaN              NaN   \n2       0  ...            NaN              NaN              NaN   \n3       0  ...             m3              4.0            474.0   \n4       0  ...             m3             23.0              8.0   \n6       0  ...             m3             11.0           1306.0   \n\n   ikWh_counter1_start  ikWh_counter1_finish  ikWh_multiplier1  \\\n0                  NaN                   NaN               NaN   \n1                  NaN                   NaN               NaN   \n2                  NaN                   NaN               NaN   \n3           10921971.0            10922040.0              0,01   \n4                  NaN                   NaN               NaN   \n6           10921766.0            10921965.0              0,01   \n\n  ikWh_unit_name1 ikWh_consumption1  ikWh_total_consumption  lTriggerCounter  \n0             NaN               NaN                       0              NaN  \n1             NaN               NaN                       0              NaN  \n2             NaN               NaN                       0              NaN  \n3             kWh              0,69                    4,69              NaN  \n4             NaN               NaN                      23              NaN  \n6             kWh              1,99                   12,99              NaN  \n\n[6 rows x 35 columns]",
      "text/html": "<div>\n<style scoped>\n    .dataframe tbody tr th:only-of-type {\n        vertical-align: middle;\n    }\n\n    .dataframe tbody tr th {\n        vertical-align: top;\n    }\n\n    .dataframe thead th {\n        text-align: right;\n    }\n</style>\n<table border=\"1\" class=\"dataframe\">\n  <thead>\n    <tr style=\"text-align: right;\">\n      <th></th>\n      <th>ID_ZLECENIA_PALONA</th>\n      <th>DTZAPIS</th>\n      <th>ILOSC_PALONA</th>\n      <th>NUMERZASYPU</th>\n      <th>IDZLECENIE</th>\n      <th>NUMERPIECA</th>\n      <th>SUMA_ZIELONEJ</th>\n      <th>QuantityError</th>\n      <th>PREV_ILOSC_PALONA</th>\n      <th>Posted</th>\n      <th>...</th>\n      <th>im3_unit_name</th>\n      <th>ikWh_consumption</th>\n      <th>im3_consumption</th>\n      <th>ikWh_counter1_start</th>\n      <th>ikWh_counter1_finish</th>\n      <th>ikWh_multiplier1</th>\n      <th>ikWh_unit_name1</th>\n      <th>ikWh_consumption1</th>\n      <th>ikWh_total_consumption</th>\n      <th>lTriggerCounter</th>\n    </tr>\n  </thead>\n  <tbody>\n    <tr>\n      <th>0</th>\n      <td>1206810</td>\n      <td>2024-01-10 09:06:00.880</td>\n      <td>0</td>\n      <td>8</td>\n      <td>138624</td>\n      <td>4000</td>\n      <td>0</td>\n      <td>1</td>\n      <td>0</td>\n      <td>0</td>\n      <td>...</td>\n      <td>NaN</td>\n      <td>NaN</td>\n      <td>NaN</td>\n      <td>NaN</td>\n      <td>NaN</td>\n      <td>NaN</td>\n      <td>NaN</td>\n      <td>NaN</td>\n      <td>0</td>\n      <td>NaN</td>\n    </tr>\n    <tr>\n      <th>1</th>\n      <td>1206809</td>\n      <td>2024-01-10 08:59:02.527</td>\n      <td>0</td>\n      <td>9</td>\n      <td>138623</td>\n      <td>3000</td>\n      <td>0</td>\n      <td>1</td>\n      <td>0</td>\n      <td>0</td>\n      <td>...</td>\n      <td>NaN</td>\n      <td>NaN</td>\n      <td>NaN</td>\n      <td>NaN</td>\n      <td>NaN</td>\n      <td>NaN</td>\n      <td>NaN</td>\n      <td>NaN</td>\n      <td>0</td>\n      <td>NaN</td>\n    </tr>\n    <tr>\n      <th>2</th>\n      <td>1206808</td>\n      <td>2024-01-10 08:57:40.677</td>\n      <td>0</td>\n      <td>7</td>\n      <td>138624</td>\n      <td>4000</td>\n      <td>0</td>\n      <td>1</td>\n      <td>0</td>\n      <td>0</td>\n      <td>...</td>\n      <td>NaN</td>\n      <td>NaN</td>\n      <td>NaN</td>\n      <td>NaN</td>\n      <td>NaN</td>\n      <td>NaN</td>\n      <td>NaN</td>\n      <td>NaN</td>\n      <td>0</td>\n      <td>NaN</td>\n    </tr>\n    <tr>\n      <th>3</th>\n      <td>1206807</td>\n      <td>2024-01-10 08:49:11.593</td>\n      <td>0</td>\n      <td>6</td>\n      <td>138624</td>\n      <td>4000</td>\n      <td>600,1</td>\n      <td>1</td>\n      <td>0</td>\n      <td>0</td>\n      <td>...</td>\n      <td>m3</td>\n      <td>4.0</td>\n      <td>474.0</td>\n      <td>10921971.0</td>\n      <td>10922040.0</td>\n      <td>0,01</td>\n      <td>kWh</td>\n      <td>0,69</td>\n      <td>4,69</td>\n      <td>NaN</td>\n    </tr>\n    <tr>\n      <th>4</th>\n      <td>1206806</td>\n      <td>2024-01-10 08:48:14.330</td>\n      <td>0</td>\n      <td>8</td>\n      <td>138623</td>\n      <td>3000</td>\n      <td>400,3</td>\n      <td>1</td>\n      <td>0</td>\n      <td>0</td>\n      <td>...</td>\n      <td>m3</td>\n      <td>23.0</td>\n      <td>8.0</td>\n      <td>NaN</td>\n      <td>NaN</td>\n      <td>NaN</td>\n      <td>NaN</td>\n      <td>NaN</td>\n      <td>23</td>\n      <td>NaN</td>\n    </tr>\n    <tr>\n      <th>6</th>\n      <td>1206804</td>\n      <td>2024-01-10 08:35:09.410</td>\n      <td>0</td>\n      <td>5</td>\n      <td>138624</td>\n      <td>4000</td>\n      <td>600,2</td>\n      <td>1</td>\n      <td>0</td>\n      <td>0</td>\n      <td>...</td>\n      <td>m3</td>\n      <td>11.0</td>\n      <td>1306.0</td>\n      <td>10921766.0</td>\n      <td>10921965.0</td>\n      <td>0,01</td>\n      <td>kWh</td>\n      <td>1,99</td>\n      <td>12,99</td>\n      <td>NaN</td>\n    </tr>\n  </tbody>\n</table>\n<p>6 rows × 35 columns</p>\n</div>"
     },
     "execution_count": 273,
     "metadata": {},
     "output_type": "execute_result"
    }
   ],
   "source": [
    "jde_data[jde_data['QuantityError'] == 1]"
   ],
   "metadata": {
    "collapsed": false,
    "ExecuteTime": {
     "end_time": "2024-02-17T19:47:11.338161700Z",
     "start_time": "2024-02-17T19:47:11.222956800Z"
    }
   },
   "id": "ca42c4b7f43ff75d",
   "execution_count": 273
  },
  {
   "cell_type": "code",
   "outputs": [
    {
     "data": {
      "text/plain": "array([0, 1], dtype=int64)"
     },
     "execution_count": 274,
     "metadata": {},
     "output_type": "execute_result"
    }
   ],
   "source": [
    "jde_data['Posted'].unique()"
   ],
   "metadata": {
    "collapsed": false,
    "ExecuteTime": {
     "end_time": "2024-02-17T19:47:11.377820300Z",
     "start_time": "2024-02-17T19:47:11.339159200Z"
    }
   },
   "id": "cd9ccd74fc02d89f",
   "execution_count": 274
  },
  {
   "cell_type": "code",
   "outputs": [
    {
     "data": {
      "text/plain": "      ID_ZLECENIA_PALONA                  DTZAPIS ILOSC_PALONA  NUMERZASYPU  \\\n0                1206810  2024-01-10 09:06:00.880            0            8   \n1                1206809  2024-01-10 08:59:02.527            0            9   \n2                1206808  2024-01-10 08:57:40.677            0            7   \n3                1206807  2024-01-10 08:49:11.593            0            6   \n4                1206806  2024-01-10 08:48:14.330            0            8   \n...                  ...                      ...          ...          ...   \n9769             1197040  2023-11-21 05:11:49.350        511,5            4   \n9771             1197038  2023-11-21 05:05:09.273        511,9            3   \n9802             1197007  2023-11-21 02:28:07.180          300           16   \n9886             1196923  2023-11-20 18:08:35.720          299            7   \n9943             1196866  2023-11-20 07:55:31.313          501            5   \n\n      IDZLECENIE  NUMERPIECA SUMA_ZIELONEJ  QuantityError PREV_ILOSC_PALONA  \\\n0         138624        4000             0              1                 0   \n1         138623        3000             0              1                 0   \n2         138624        4000             0              1                 0   \n3         138624        4000         600,1              1                 0   \n4         138623        3000         400,3              1                 0   \n...          ...         ...           ...            ...               ...   \n9769      137677        4000         600,4              0             511,5   \n9771      137677        4000         600,3              0             511,9   \n9802      137673        3000         349,2              0             299,9   \n9886      137667        3000         348,9              0             298,6   \n9943      137660        4000      600,7001              0             501,3   \n\n      Posted  ...  im3_unit_name ikWh_consumption  im3_consumption  \\\n0          0  ...            NaN              NaN              NaN   \n1          0  ...            NaN              NaN              NaN   \n2          0  ...            NaN              NaN              NaN   \n3          0  ...             m3              4.0            474.0   \n4          0  ...             m3             23.0              8.0   \n...      ...  ...            ...              ...              ...   \n9769       0  ...             m3             10.0           1311.0   \n9771       0  ...             m3              9.0           1322.0   \n9802       0  ...             m3             13.0             10.0   \n9886       0  ...             m3             14.0             10.0   \n9943       0  ...             m3             11.0           1305.0   \n\n      ikWh_counter1_start  ikWh_counter1_finish  ikWh_multiplier1  \\\n0                     NaN                   NaN               NaN   \n1                     NaN                   NaN               NaN   \n2                     NaN                   NaN               NaN   \n3              10921971.0            10922040.0              0,01   \n4                     NaN                   NaN               NaN   \n...                   ...                   ...               ...   \n9769            9773132.0             9773362.0              0,01   \n9771            9772900.0             9773073.0              0,01   \n9802                  NaN                   NaN               NaN   \n9886                  NaN                   NaN               NaN   \n9943            9749195.0             9749343.0              0,01   \n\n     ikWh_unit_name1 ikWh_consumption1  ikWh_total_consumption  \\\n0                NaN               NaN                       0   \n1                NaN               NaN                       0   \n2                NaN               NaN                       0   \n3                kWh              0,69                    4,69   \n4                NaN               NaN                      23   \n...              ...               ...                     ...   \n9769             kWh               2,3                    12,3   \n9771             kWh              1,73                   10,73   \n9802             NaN               NaN                      13   \n9886             NaN               NaN                      14   \n9943             kWh              1,48                   12,48   \n\n      lTriggerCounter  \n0                 NaN  \n1                 NaN  \n2                 NaN  \n3                 NaN  \n4                 NaN  \n...               ...  \n9769           7262.0  \n9771           7260.0  \n9802            153.0  \n9886             82.0  \n9943           7173.0  \n\n[774 rows x 35 columns]",
      "text/html": "<div>\n<style scoped>\n    .dataframe tbody tr th:only-of-type {\n        vertical-align: middle;\n    }\n\n    .dataframe tbody tr th {\n        vertical-align: top;\n    }\n\n    .dataframe thead th {\n        text-align: right;\n    }\n</style>\n<table border=\"1\" class=\"dataframe\">\n  <thead>\n    <tr style=\"text-align: right;\">\n      <th></th>\n      <th>ID_ZLECENIA_PALONA</th>\n      <th>DTZAPIS</th>\n      <th>ILOSC_PALONA</th>\n      <th>NUMERZASYPU</th>\n      <th>IDZLECENIE</th>\n      <th>NUMERPIECA</th>\n      <th>SUMA_ZIELONEJ</th>\n      <th>QuantityError</th>\n      <th>PREV_ILOSC_PALONA</th>\n      <th>Posted</th>\n      <th>...</th>\n      <th>im3_unit_name</th>\n      <th>ikWh_consumption</th>\n      <th>im3_consumption</th>\n      <th>ikWh_counter1_start</th>\n      <th>ikWh_counter1_finish</th>\n      <th>ikWh_multiplier1</th>\n      <th>ikWh_unit_name1</th>\n      <th>ikWh_consumption1</th>\n      <th>ikWh_total_consumption</th>\n      <th>lTriggerCounter</th>\n    </tr>\n  </thead>\n  <tbody>\n    <tr>\n      <th>0</th>\n      <td>1206810</td>\n      <td>2024-01-10 09:06:00.880</td>\n      <td>0</td>\n      <td>8</td>\n      <td>138624</td>\n      <td>4000</td>\n      <td>0</td>\n      <td>1</td>\n      <td>0</td>\n      <td>0</td>\n      <td>...</td>\n      <td>NaN</td>\n      <td>NaN</td>\n      <td>NaN</td>\n      <td>NaN</td>\n      <td>NaN</td>\n      <td>NaN</td>\n      <td>NaN</td>\n      <td>NaN</td>\n      <td>0</td>\n      <td>NaN</td>\n    </tr>\n    <tr>\n      <th>1</th>\n      <td>1206809</td>\n      <td>2024-01-10 08:59:02.527</td>\n      <td>0</td>\n      <td>9</td>\n      <td>138623</td>\n      <td>3000</td>\n      <td>0</td>\n      <td>1</td>\n      <td>0</td>\n      <td>0</td>\n      <td>...</td>\n      <td>NaN</td>\n      <td>NaN</td>\n      <td>NaN</td>\n      <td>NaN</td>\n      <td>NaN</td>\n      <td>NaN</td>\n      <td>NaN</td>\n      <td>NaN</td>\n      <td>0</td>\n      <td>NaN</td>\n    </tr>\n    <tr>\n      <th>2</th>\n      <td>1206808</td>\n      <td>2024-01-10 08:57:40.677</td>\n      <td>0</td>\n      <td>7</td>\n      <td>138624</td>\n      <td>4000</td>\n      <td>0</td>\n      <td>1</td>\n      <td>0</td>\n      <td>0</td>\n      <td>...</td>\n      <td>NaN</td>\n      <td>NaN</td>\n      <td>NaN</td>\n      <td>NaN</td>\n      <td>NaN</td>\n      <td>NaN</td>\n      <td>NaN</td>\n      <td>NaN</td>\n      <td>0</td>\n      <td>NaN</td>\n    </tr>\n    <tr>\n      <th>3</th>\n      <td>1206807</td>\n      <td>2024-01-10 08:49:11.593</td>\n      <td>0</td>\n      <td>6</td>\n      <td>138624</td>\n      <td>4000</td>\n      <td>600,1</td>\n      <td>1</td>\n      <td>0</td>\n      <td>0</td>\n      <td>...</td>\n      <td>m3</td>\n      <td>4.0</td>\n      <td>474.0</td>\n      <td>10921971.0</td>\n      <td>10922040.0</td>\n      <td>0,01</td>\n      <td>kWh</td>\n      <td>0,69</td>\n      <td>4,69</td>\n      <td>NaN</td>\n    </tr>\n    <tr>\n      <th>4</th>\n      <td>1206806</td>\n      <td>2024-01-10 08:48:14.330</td>\n      <td>0</td>\n      <td>8</td>\n      <td>138623</td>\n      <td>3000</td>\n      <td>400,3</td>\n      <td>1</td>\n      <td>0</td>\n      <td>0</td>\n      <td>...</td>\n      <td>m3</td>\n      <td>23.0</td>\n      <td>8.0</td>\n      <td>NaN</td>\n      <td>NaN</td>\n      <td>NaN</td>\n      <td>NaN</td>\n      <td>NaN</td>\n      <td>23</td>\n      <td>NaN</td>\n    </tr>\n    <tr>\n      <th>...</th>\n      <td>...</td>\n      <td>...</td>\n      <td>...</td>\n      <td>...</td>\n      <td>...</td>\n      <td>...</td>\n      <td>...</td>\n      <td>...</td>\n      <td>...</td>\n      <td>...</td>\n      <td>...</td>\n      <td>...</td>\n      <td>...</td>\n      <td>...</td>\n      <td>...</td>\n      <td>...</td>\n      <td>...</td>\n      <td>...</td>\n      <td>...</td>\n      <td>...</td>\n      <td>...</td>\n    </tr>\n    <tr>\n      <th>9769</th>\n      <td>1197040</td>\n      <td>2023-11-21 05:11:49.350</td>\n      <td>511,5</td>\n      <td>4</td>\n      <td>137677</td>\n      <td>4000</td>\n      <td>600,4</td>\n      <td>0</td>\n      <td>511,5</td>\n      <td>0</td>\n      <td>...</td>\n      <td>m3</td>\n      <td>10.0</td>\n      <td>1311.0</td>\n      <td>9773132.0</td>\n      <td>9773362.0</td>\n      <td>0,01</td>\n      <td>kWh</td>\n      <td>2,3</td>\n      <td>12,3</td>\n      <td>7262.0</td>\n    </tr>\n    <tr>\n      <th>9771</th>\n      <td>1197038</td>\n      <td>2023-11-21 05:05:09.273</td>\n      <td>511,9</td>\n      <td>3</td>\n      <td>137677</td>\n      <td>4000</td>\n      <td>600,3</td>\n      <td>0</td>\n      <td>511,9</td>\n      <td>0</td>\n      <td>...</td>\n      <td>m3</td>\n      <td>9.0</td>\n      <td>1322.0</td>\n      <td>9772900.0</td>\n      <td>9773073.0</td>\n      <td>0,01</td>\n      <td>kWh</td>\n      <td>1,73</td>\n      <td>10,73</td>\n      <td>7260.0</td>\n    </tr>\n    <tr>\n      <th>9802</th>\n      <td>1197007</td>\n      <td>2023-11-21 02:28:07.180</td>\n      <td>300</td>\n      <td>16</td>\n      <td>137673</td>\n      <td>3000</td>\n      <td>349,2</td>\n      <td>0</td>\n      <td>299,9</td>\n      <td>0</td>\n      <td>...</td>\n      <td>m3</td>\n      <td>13.0</td>\n      <td>10.0</td>\n      <td>NaN</td>\n      <td>NaN</td>\n      <td>NaN</td>\n      <td>NaN</td>\n      <td>NaN</td>\n      <td>13</td>\n      <td>153.0</td>\n    </tr>\n    <tr>\n      <th>9886</th>\n      <td>1196923</td>\n      <td>2023-11-20 18:08:35.720</td>\n      <td>299</td>\n      <td>7</td>\n      <td>137667</td>\n      <td>3000</td>\n      <td>348,9</td>\n      <td>0</td>\n      <td>298,6</td>\n      <td>0</td>\n      <td>...</td>\n      <td>m3</td>\n      <td>14.0</td>\n      <td>10.0</td>\n      <td>NaN</td>\n      <td>NaN</td>\n      <td>NaN</td>\n      <td>NaN</td>\n      <td>NaN</td>\n      <td>14</td>\n      <td>82.0</td>\n    </tr>\n    <tr>\n      <th>9943</th>\n      <td>1196866</td>\n      <td>2023-11-20 07:55:31.313</td>\n      <td>501</td>\n      <td>5</td>\n      <td>137660</td>\n      <td>4000</td>\n      <td>600,7001</td>\n      <td>0</td>\n      <td>501,3</td>\n      <td>0</td>\n      <td>...</td>\n      <td>m3</td>\n      <td>11.0</td>\n      <td>1305.0</td>\n      <td>9749195.0</td>\n      <td>9749343.0</td>\n      <td>0,01</td>\n      <td>kWh</td>\n      <td>1,48</td>\n      <td>12,48</td>\n      <td>7173.0</td>\n    </tr>\n  </tbody>\n</table>\n<p>774 rows × 35 columns</p>\n</div>"
     },
     "execution_count": 275,
     "metadata": {},
     "output_type": "execute_result"
    }
   ],
   "source": [
    "jde_data[jde_data['Posted'] == 0]"
   ],
   "metadata": {
    "collapsed": false,
    "ExecuteTime": {
     "end_time": "2024-02-17T19:47:11.463630Z",
     "start_time": "2024-02-17T19:47:11.373831200Z"
    }
   },
   "id": "37194407599a47e3",
   "execution_count": 275
  },
  {
   "cell_type": "code",
   "outputs": [],
   "source": [
    "jde_data.drop('dtLastEdited', axis=1, inplace=True)"
   ],
   "metadata": {
    "collapsed": false,
    "ExecuteTime": {
     "end_time": "2024-02-17T19:47:11.526123400Z",
     "start_time": "2024-02-17T19:47:11.424753600Z"
    }
   },
   "id": "eb9f9f2fbca48923",
   "execution_count": 276
  },
  {
   "cell_type": "code",
   "outputs": [
    {
     "data": {
      "text/plain": "      ID_ZLECENIA_PALONA                  DTZAPIS ILOSC_PALONA  NUMERZASYPU  \\\n0                1206810  2024-01-10 09:06:00.880            0            8   \n1                1206809  2024-01-10 08:59:02.527            0            9   \n2                1206808  2024-01-10 08:57:40.677            0            7   \n3                1206807  2024-01-10 08:49:11.593            0            6   \n4                1206806  2024-01-10 08:48:14.330            0            8   \n...                  ...                      ...          ...          ...   \n9995             1196814  2023-11-20 03:12:48.087          251           12   \n9996             1196813  2023-11-20 03:09:00.397        505,1            7   \n9997             1196812  2023-11-20 03:04:52.260        251,9           11   \n9998             1196811  2023-11-20 03:00:06.253        505,9            6   \n9999             1196810  2023-11-20 02:51:39.743        508,1            5   \n\n      IDZLECENIE  NUMERPIECA SUMA_ZIELONEJ  QuantityError PREV_ILOSC_PALONA  \\\n0         138624        4000             0              1                 0   \n1         138623        3000             0              1                 0   \n2         138624        4000             0              1                 0   \n3         138624        4000         600,1              1                 0   \n4         138623        3000         400,3              1                 0   \n...          ...         ...           ...            ...               ...   \n9995      137655        3000           300              0               251   \n9996      137656        4000         600,1              0             505,1   \n9997      137655        3000         291,1              0             251,9   \n9998      137656        4000           600              0             505,9   \n9999      137656        4000         600,2              0             508,1   \n\n      Posted  ...  im3_unit_name  ikWh_consumption  im3_consumption  \\\n0          0  ...            NaN               NaN              NaN   \n1          0  ...            NaN               NaN              NaN   \n2          0  ...            NaN               NaN              NaN   \n3          0  ...             m3               4.0            474.0   \n4          0  ...             m3              23.0              8.0   \n...      ...  ...            ...               ...              ...   \n9995       1  ...             m3              13.0              9.0   \n9996       1  ...             m3              11.0           1301.0   \n9997       1  ...             m3              12.0              9.0   \n9998       1  ...             m3              11.0           1307.0   \n9999       1  ...             m3              12.0           1292.0   \n\n      ikWh_counter1_start  ikWh_counter1_finish ikWh_multiplier1  \\\n0                     NaN                   NaN              NaN   \n1                     NaN                   NaN              NaN   \n2                     NaN                   NaN              NaN   \n3              10921971.0            10922040.0             0,01   \n4                     NaN                   NaN              NaN   \n...                   ...                   ...              ...   \n9995                  NaN                   NaN              NaN   \n9996            9740934.0             9741095.0             0,01   \n9997                  NaN                   NaN              NaN   \n9998            9740751.0             9740900.0             0,01   \n9999            9740431.0             9740653.0             0,01   \n\n     ikWh_unit_name1  ikWh_consumption1  ikWh_total_consumption  \\\n0                NaN                NaN                       0   \n1                NaN                NaN                       0   \n2                NaN                NaN                       0   \n3                kWh               0,69                    4,69   \n4                NaN                NaN                      23   \n...              ...                ...                     ...   \n9995             NaN                NaN                      13   \n9996             kWh               1,61                   12,61   \n9997             NaN                NaN                      12   \n9998             kWh               1,49                   12,49   \n9999             kWh               2,22                   14,22   \n\n      lTriggerCounter  \n0                 NaN  \n1                 NaN  \n2                 NaN  \n3                 NaN  \n4                 NaN  \n...               ...  \n9995            765.0  \n9996           7144.0  \n9997            763.0  \n9998           7143.0  \n9999           7142.0  \n\n[10000 rows x 34 columns]",
      "text/html": "<div>\n<style scoped>\n    .dataframe tbody tr th:only-of-type {\n        vertical-align: middle;\n    }\n\n    .dataframe tbody tr th {\n        vertical-align: top;\n    }\n\n    .dataframe thead th {\n        text-align: right;\n    }\n</style>\n<table border=\"1\" class=\"dataframe\">\n  <thead>\n    <tr style=\"text-align: right;\">\n      <th></th>\n      <th>ID_ZLECENIA_PALONA</th>\n      <th>DTZAPIS</th>\n      <th>ILOSC_PALONA</th>\n      <th>NUMERZASYPU</th>\n      <th>IDZLECENIE</th>\n      <th>NUMERPIECA</th>\n      <th>SUMA_ZIELONEJ</th>\n      <th>QuantityError</th>\n      <th>PREV_ILOSC_PALONA</th>\n      <th>Posted</th>\n      <th>...</th>\n      <th>im3_unit_name</th>\n      <th>ikWh_consumption</th>\n      <th>im3_consumption</th>\n      <th>ikWh_counter1_start</th>\n      <th>ikWh_counter1_finish</th>\n      <th>ikWh_multiplier1</th>\n      <th>ikWh_unit_name1</th>\n      <th>ikWh_consumption1</th>\n      <th>ikWh_total_consumption</th>\n      <th>lTriggerCounter</th>\n    </tr>\n  </thead>\n  <tbody>\n    <tr>\n      <th>0</th>\n      <td>1206810</td>\n      <td>2024-01-10 09:06:00.880</td>\n      <td>0</td>\n      <td>8</td>\n      <td>138624</td>\n      <td>4000</td>\n      <td>0</td>\n      <td>1</td>\n      <td>0</td>\n      <td>0</td>\n      <td>...</td>\n      <td>NaN</td>\n      <td>NaN</td>\n      <td>NaN</td>\n      <td>NaN</td>\n      <td>NaN</td>\n      <td>NaN</td>\n      <td>NaN</td>\n      <td>NaN</td>\n      <td>0</td>\n      <td>NaN</td>\n    </tr>\n    <tr>\n      <th>1</th>\n      <td>1206809</td>\n      <td>2024-01-10 08:59:02.527</td>\n      <td>0</td>\n      <td>9</td>\n      <td>138623</td>\n      <td>3000</td>\n      <td>0</td>\n      <td>1</td>\n      <td>0</td>\n      <td>0</td>\n      <td>...</td>\n      <td>NaN</td>\n      <td>NaN</td>\n      <td>NaN</td>\n      <td>NaN</td>\n      <td>NaN</td>\n      <td>NaN</td>\n      <td>NaN</td>\n      <td>NaN</td>\n      <td>0</td>\n      <td>NaN</td>\n    </tr>\n    <tr>\n      <th>2</th>\n      <td>1206808</td>\n      <td>2024-01-10 08:57:40.677</td>\n      <td>0</td>\n      <td>7</td>\n      <td>138624</td>\n      <td>4000</td>\n      <td>0</td>\n      <td>1</td>\n      <td>0</td>\n      <td>0</td>\n      <td>...</td>\n      <td>NaN</td>\n      <td>NaN</td>\n      <td>NaN</td>\n      <td>NaN</td>\n      <td>NaN</td>\n      <td>NaN</td>\n      <td>NaN</td>\n      <td>NaN</td>\n      <td>0</td>\n      <td>NaN</td>\n    </tr>\n    <tr>\n      <th>3</th>\n      <td>1206807</td>\n      <td>2024-01-10 08:49:11.593</td>\n      <td>0</td>\n      <td>6</td>\n      <td>138624</td>\n      <td>4000</td>\n      <td>600,1</td>\n      <td>1</td>\n      <td>0</td>\n      <td>0</td>\n      <td>...</td>\n      <td>m3</td>\n      <td>4.0</td>\n      <td>474.0</td>\n      <td>10921971.0</td>\n      <td>10922040.0</td>\n      <td>0,01</td>\n      <td>kWh</td>\n      <td>0,69</td>\n      <td>4,69</td>\n      <td>NaN</td>\n    </tr>\n    <tr>\n      <th>4</th>\n      <td>1206806</td>\n      <td>2024-01-10 08:48:14.330</td>\n      <td>0</td>\n      <td>8</td>\n      <td>138623</td>\n      <td>3000</td>\n      <td>400,3</td>\n      <td>1</td>\n      <td>0</td>\n      <td>0</td>\n      <td>...</td>\n      <td>m3</td>\n      <td>23.0</td>\n      <td>8.0</td>\n      <td>NaN</td>\n      <td>NaN</td>\n      <td>NaN</td>\n      <td>NaN</td>\n      <td>NaN</td>\n      <td>23</td>\n      <td>NaN</td>\n    </tr>\n    <tr>\n      <th>...</th>\n      <td>...</td>\n      <td>...</td>\n      <td>...</td>\n      <td>...</td>\n      <td>...</td>\n      <td>...</td>\n      <td>...</td>\n      <td>...</td>\n      <td>...</td>\n      <td>...</td>\n      <td>...</td>\n      <td>...</td>\n      <td>...</td>\n      <td>...</td>\n      <td>...</td>\n      <td>...</td>\n      <td>...</td>\n      <td>...</td>\n      <td>...</td>\n      <td>...</td>\n      <td>...</td>\n    </tr>\n    <tr>\n      <th>9995</th>\n      <td>1196814</td>\n      <td>2023-11-20 03:12:48.087</td>\n      <td>251</td>\n      <td>12</td>\n      <td>137655</td>\n      <td>3000</td>\n      <td>300</td>\n      <td>0</td>\n      <td>251</td>\n      <td>1</td>\n      <td>...</td>\n      <td>m3</td>\n      <td>13.0</td>\n      <td>9.0</td>\n      <td>NaN</td>\n      <td>NaN</td>\n      <td>NaN</td>\n      <td>NaN</td>\n      <td>NaN</td>\n      <td>13</td>\n      <td>765.0</td>\n    </tr>\n    <tr>\n      <th>9996</th>\n      <td>1196813</td>\n      <td>2023-11-20 03:09:00.397</td>\n      <td>505,1</td>\n      <td>7</td>\n      <td>137656</td>\n      <td>4000</td>\n      <td>600,1</td>\n      <td>0</td>\n      <td>505,1</td>\n      <td>1</td>\n      <td>...</td>\n      <td>m3</td>\n      <td>11.0</td>\n      <td>1301.0</td>\n      <td>9740934.0</td>\n      <td>9741095.0</td>\n      <td>0,01</td>\n      <td>kWh</td>\n      <td>1,61</td>\n      <td>12,61</td>\n      <td>7144.0</td>\n    </tr>\n    <tr>\n      <th>9997</th>\n      <td>1196812</td>\n      <td>2023-11-20 03:04:52.260</td>\n      <td>251,9</td>\n      <td>11</td>\n      <td>137655</td>\n      <td>3000</td>\n      <td>291,1</td>\n      <td>0</td>\n      <td>251,9</td>\n      <td>1</td>\n      <td>...</td>\n      <td>m3</td>\n      <td>12.0</td>\n      <td>9.0</td>\n      <td>NaN</td>\n      <td>NaN</td>\n      <td>NaN</td>\n      <td>NaN</td>\n      <td>NaN</td>\n      <td>12</td>\n      <td>763.0</td>\n    </tr>\n    <tr>\n      <th>9998</th>\n      <td>1196811</td>\n      <td>2023-11-20 03:00:06.253</td>\n      <td>505,9</td>\n      <td>6</td>\n      <td>137656</td>\n      <td>4000</td>\n      <td>600</td>\n      <td>0</td>\n      <td>505,9</td>\n      <td>1</td>\n      <td>...</td>\n      <td>m3</td>\n      <td>11.0</td>\n      <td>1307.0</td>\n      <td>9740751.0</td>\n      <td>9740900.0</td>\n      <td>0,01</td>\n      <td>kWh</td>\n      <td>1,49</td>\n      <td>12,49</td>\n      <td>7143.0</td>\n    </tr>\n    <tr>\n      <th>9999</th>\n      <td>1196810</td>\n      <td>2023-11-20 02:51:39.743</td>\n      <td>508,1</td>\n      <td>5</td>\n      <td>137656</td>\n      <td>4000</td>\n      <td>600,2</td>\n      <td>0</td>\n      <td>508,1</td>\n      <td>1</td>\n      <td>...</td>\n      <td>m3</td>\n      <td>12.0</td>\n      <td>1292.0</td>\n      <td>9740431.0</td>\n      <td>9740653.0</td>\n      <td>0,01</td>\n      <td>kWh</td>\n      <td>2,22</td>\n      <td>14,22</td>\n      <td>7142.0</td>\n    </tr>\n  </tbody>\n</table>\n<p>10000 rows × 34 columns</p>\n</div>"
     },
     "execution_count": 277,
     "metadata": {},
     "output_type": "execute_result"
    }
   ],
   "source": [
    "jde_data"
   ],
   "metadata": {
    "collapsed": false,
    "ExecuteTime": {
     "end_time": "2024-02-17T19:47:11.628846500Z",
     "start_time": "2024-02-17T19:47:11.501528900Z"
    }
   },
   "id": "a611f8b1fc01fcc5",
   "execution_count": 277
  },
  {
   "cell_type": "code",
   "outputs": [
    {
     "data": {
      "text/plain": "array([nan,  1.])"
     },
     "execution_count": 278,
     "metadata": {},
     "output_type": "execute_result"
    }
   ],
   "source": [
    "jde_data['ExternalErrorCleaner'].unique()"
   ],
   "metadata": {
    "collapsed": false,
    "ExecuteTime": {
     "end_time": "2024-02-17T19:47:11.700343400Z",
     "start_time": "2024-02-17T19:47:11.630841600Z"
    }
   },
   "id": "87d077e2b6fcdef4",
   "execution_count": 278
  },
  {
   "cell_type": "code",
   "outputs": [
    {
     "data": {
      "text/plain": "      ID_ZLECENIA_PALONA                  DTZAPIS ILOSC_PALONA  NUMERZASYPU  \\\n47               1206763  2024-01-10 03:51:05.300        519,3           10   \n80               1206730  2024-01-10 01:00:30.273          345           32   \n94               1206716  2024-01-09 23:55:07.663        504,6            5   \n112              1206698  2024-01-09 22:37:56.997          346           13   \n120              1206690  2024-01-09 22:03:15.270          348            9   \n...                  ...                      ...          ...          ...   \n9888             1196921  2023-11-20 18:01:44.660          310            6   \n9890             1196919  2023-11-20 17:51:45.303          310            5   \n9917             1196892  2023-11-20 11:20:35.740        427,3            3   \n9977             1196832  2023-11-20 04:42:50.003          343            4   \n9981             1196828  2023-11-20 04:25:17.787        342,7            2   \n\n      IDZLECENIE  NUMERPIECA SUMA_ZIELONEJ  QuantityError PREV_ILOSC_PALONA  \\\n47        138619        4000         599,7              0             519,3   \n80        138612        3000         400,1              0               345   \n94        138615        4000         598,6              0             504,6   \n112       138612        3000         400,2              0               346   \n120       138612        3000         400,8              0               348   \n...          ...         ...           ...            ...               ...   \n9888      137667        3000         348,9              0               310   \n9890      137667        3000         349,9              0               310   \n9917      137662        4000         498,2              0             427,3   \n9977      137658        3000         400,2              0               343   \n9981      137658        3000         399,6              0             342,7   \n\n      Posted  ...  im3_unit_name  ikWh_consumption  im3_consumption  \\\n47         1  ...             m3              10.0           1247.0   \n80         1  ...             m3              16.0              8.0   \n94         1  ...             m3              12.0           1237.0   \n112        1  ...             m3              14.0              8.0   \n120        1  ...             m3              17.0              9.0   \n...      ...  ...            ...               ...              ...   \n9888       1  ...             m3              12.0              9.0   \n9890       1  ...             m3              12.0              9.0   \n9917       1  ...             m3              10.0           1133.0   \n9977       1  ...             m3              16.0             10.0   \n9981       1  ...             m3              15.0             11.0   \n\n      ikWh_counter1_start  ikWh_counter1_finish ikWh_multiplier1  \\\n47             10915660.0            10915792.0             0,01   \n80                    NaN                   NaN              NaN   \n94             10911737.0            10912046.0             0,01   \n112                   NaN                   NaN              NaN   \n120                   NaN                   NaN              NaN   \n...                   ...                   ...              ...   \n9888                  NaN                   NaN              NaN   \n9890                  NaN                   NaN              NaN   \n9917            9752768.0             9752894.0             0,01   \n9977                  NaN                   NaN              NaN   \n9981                  NaN                   NaN              NaN   \n\n     ikWh_unit_name1  ikWh_consumption1  ikWh_total_consumption  \\\n47               kWh               1,32                   11,32   \n80               NaN                NaN                      16   \n94               kWh               3,09                   15,09   \n112              NaN                NaN                      14   \n120              NaN                NaN                      17   \n...              ...                ...                     ...   \n9888             NaN                NaN                      12   \n9890             NaN                NaN                      12   \n9917             kWh               1,26                   11,26   \n9977             NaN                NaN                      16   \n9981             NaN                NaN                      15   \n\n      lTriggerCounter  \n47                NaN  \n80              222.0  \n94             2011.0  \n112             184.0  \n120             176.0  \n...               ...  \n9888             80.0  \n9890             78.0  \n9917           7183.0  \n9977            785.0  \n9981            781.0  \n\n[402 rows x 34 columns]",
      "text/html": "<div>\n<style scoped>\n    .dataframe tbody tr th:only-of-type {\n        vertical-align: middle;\n    }\n\n    .dataframe tbody tr th {\n        vertical-align: top;\n    }\n\n    .dataframe thead th {\n        text-align: right;\n    }\n</style>\n<table border=\"1\" class=\"dataframe\">\n  <thead>\n    <tr style=\"text-align: right;\">\n      <th></th>\n      <th>ID_ZLECENIA_PALONA</th>\n      <th>DTZAPIS</th>\n      <th>ILOSC_PALONA</th>\n      <th>NUMERZASYPU</th>\n      <th>IDZLECENIE</th>\n      <th>NUMERPIECA</th>\n      <th>SUMA_ZIELONEJ</th>\n      <th>QuantityError</th>\n      <th>PREV_ILOSC_PALONA</th>\n      <th>Posted</th>\n      <th>...</th>\n      <th>im3_unit_name</th>\n      <th>ikWh_consumption</th>\n      <th>im3_consumption</th>\n      <th>ikWh_counter1_start</th>\n      <th>ikWh_counter1_finish</th>\n      <th>ikWh_multiplier1</th>\n      <th>ikWh_unit_name1</th>\n      <th>ikWh_consumption1</th>\n      <th>ikWh_total_consumption</th>\n      <th>lTriggerCounter</th>\n    </tr>\n  </thead>\n  <tbody>\n    <tr>\n      <th>47</th>\n      <td>1206763</td>\n      <td>2024-01-10 03:51:05.300</td>\n      <td>519,3</td>\n      <td>10</td>\n      <td>138619</td>\n      <td>4000</td>\n      <td>599,7</td>\n      <td>0</td>\n      <td>519,3</td>\n      <td>1</td>\n      <td>...</td>\n      <td>m3</td>\n      <td>10.0</td>\n      <td>1247.0</td>\n      <td>10915660.0</td>\n      <td>10915792.0</td>\n      <td>0,01</td>\n      <td>kWh</td>\n      <td>1,32</td>\n      <td>11,32</td>\n      <td>NaN</td>\n    </tr>\n    <tr>\n      <th>80</th>\n      <td>1206730</td>\n      <td>2024-01-10 01:00:30.273</td>\n      <td>345</td>\n      <td>32</td>\n      <td>138612</td>\n      <td>3000</td>\n      <td>400,1</td>\n      <td>0</td>\n      <td>345</td>\n      <td>1</td>\n      <td>...</td>\n      <td>m3</td>\n      <td>16.0</td>\n      <td>8.0</td>\n      <td>NaN</td>\n      <td>NaN</td>\n      <td>NaN</td>\n      <td>NaN</td>\n      <td>NaN</td>\n      <td>16</td>\n      <td>222.0</td>\n    </tr>\n    <tr>\n      <th>94</th>\n      <td>1206716</td>\n      <td>2024-01-09 23:55:07.663</td>\n      <td>504,6</td>\n      <td>5</td>\n      <td>138615</td>\n      <td>4000</td>\n      <td>598,6</td>\n      <td>0</td>\n      <td>504,6</td>\n      <td>1</td>\n      <td>...</td>\n      <td>m3</td>\n      <td>12.0</td>\n      <td>1237.0</td>\n      <td>10911737.0</td>\n      <td>10912046.0</td>\n      <td>0,01</td>\n      <td>kWh</td>\n      <td>3,09</td>\n      <td>15,09</td>\n      <td>2011.0</td>\n    </tr>\n    <tr>\n      <th>112</th>\n      <td>1206698</td>\n      <td>2024-01-09 22:37:56.997</td>\n      <td>346</td>\n      <td>13</td>\n      <td>138612</td>\n      <td>3000</td>\n      <td>400,2</td>\n      <td>0</td>\n      <td>346</td>\n      <td>1</td>\n      <td>...</td>\n      <td>m3</td>\n      <td>14.0</td>\n      <td>8.0</td>\n      <td>NaN</td>\n      <td>NaN</td>\n      <td>NaN</td>\n      <td>NaN</td>\n      <td>NaN</td>\n      <td>14</td>\n      <td>184.0</td>\n    </tr>\n    <tr>\n      <th>120</th>\n      <td>1206690</td>\n      <td>2024-01-09 22:03:15.270</td>\n      <td>348</td>\n      <td>9</td>\n      <td>138612</td>\n      <td>3000</td>\n      <td>400,8</td>\n      <td>0</td>\n      <td>348</td>\n      <td>1</td>\n      <td>...</td>\n      <td>m3</td>\n      <td>17.0</td>\n      <td>9.0</td>\n      <td>NaN</td>\n      <td>NaN</td>\n      <td>NaN</td>\n      <td>NaN</td>\n      <td>NaN</td>\n      <td>17</td>\n      <td>176.0</td>\n    </tr>\n    <tr>\n      <th>...</th>\n      <td>...</td>\n      <td>...</td>\n      <td>...</td>\n      <td>...</td>\n      <td>...</td>\n      <td>...</td>\n      <td>...</td>\n      <td>...</td>\n      <td>...</td>\n      <td>...</td>\n      <td>...</td>\n      <td>...</td>\n      <td>...</td>\n      <td>...</td>\n      <td>...</td>\n      <td>...</td>\n      <td>...</td>\n      <td>...</td>\n      <td>...</td>\n      <td>...</td>\n      <td>...</td>\n    </tr>\n    <tr>\n      <th>9888</th>\n      <td>1196921</td>\n      <td>2023-11-20 18:01:44.660</td>\n      <td>310</td>\n      <td>6</td>\n      <td>137667</td>\n      <td>3000</td>\n      <td>348,9</td>\n      <td>0</td>\n      <td>310</td>\n      <td>1</td>\n      <td>...</td>\n      <td>m3</td>\n      <td>12.0</td>\n      <td>9.0</td>\n      <td>NaN</td>\n      <td>NaN</td>\n      <td>NaN</td>\n      <td>NaN</td>\n      <td>NaN</td>\n      <td>12</td>\n      <td>80.0</td>\n    </tr>\n    <tr>\n      <th>9890</th>\n      <td>1196919</td>\n      <td>2023-11-20 17:51:45.303</td>\n      <td>310</td>\n      <td>5</td>\n      <td>137667</td>\n      <td>3000</td>\n      <td>349,9</td>\n      <td>0</td>\n      <td>310</td>\n      <td>1</td>\n      <td>...</td>\n      <td>m3</td>\n      <td>12.0</td>\n      <td>9.0</td>\n      <td>NaN</td>\n      <td>NaN</td>\n      <td>NaN</td>\n      <td>NaN</td>\n      <td>NaN</td>\n      <td>12</td>\n      <td>78.0</td>\n    </tr>\n    <tr>\n      <th>9917</th>\n      <td>1196892</td>\n      <td>2023-11-20 11:20:35.740</td>\n      <td>427,3</td>\n      <td>3</td>\n      <td>137662</td>\n      <td>4000</td>\n      <td>498,2</td>\n      <td>0</td>\n      <td>427,3</td>\n      <td>1</td>\n      <td>...</td>\n      <td>m3</td>\n      <td>10.0</td>\n      <td>1133.0</td>\n      <td>9752768.0</td>\n      <td>9752894.0</td>\n      <td>0,01</td>\n      <td>kWh</td>\n      <td>1,26</td>\n      <td>11,26</td>\n      <td>7183.0</td>\n    </tr>\n    <tr>\n      <th>9977</th>\n      <td>1196832</td>\n      <td>2023-11-20 04:42:50.003</td>\n      <td>343</td>\n      <td>4</td>\n      <td>137658</td>\n      <td>3000</td>\n      <td>400,2</td>\n      <td>0</td>\n      <td>343</td>\n      <td>1</td>\n      <td>...</td>\n      <td>m3</td>\n      <td>16.0</td>\n      <td>10.0</td>\n      <td>NaN</td>\n      <td>NaN</td>\n      <td>NaN</td>\n      <td>NaN</td>\n      <td>NaN</td>\n      <td>16</td>\n      <td>785.0</td>\n    </tr>\n    <tr>\n      <th>9981</th>\n      <td>1196828</td>\n      <td>2023-11-20 04:25:17.787</td>\n      <td>342,7</td>\n      <td>2</td>\n      <td>137658</td>\n      <td>3000</td>\n      <td>399,6</td>\n      <td>0</td>\n      <td>342,7</td>\n      <td>1</td>\n      <td>...</td>\n      <td>m3</td>\n      <td>15.0</td>\n      <td>11.0</td>\n      <td>NaN</td>\n      <td>NaN</td>\n      <td>NaN</td>\n      <td>NaN</td>\n      <td>NaN</td>\n      <td>15</td>\n      <td>781.0</td>\n    </tr>\n  </tbody>\n</table>\n<p>402 rows × 34 columns</p>\n</div>"
     },
     "execution_count": 279,
     "metadata": {},
     "output_type": "execute_result"
    }
   ],
   "source": [
    "jde_data[jde_data['ExternalErrorCleaner'] == 1]"
   ],
   "metadata": {
    "collapsed": false,
    "ExecuteTime": {
     "end_time": "2024-02-17T19:47:11.796086800Z",
     "start_time": "2024-02-17T19:47:11.676717700Z"
    }
   },
   "id": "ea69fc8c868bf338",
   "execution_count": 279
  },
  {
   "cell_type": "code",
   "outputs": [],
   "source": [
    "jde_data.drop('ExternalErrorCleaner', axis=1, inplace=True)"
   ],
   "metadata": {
    "collapsed": false,
    "ExecuteTime": {
     "end_time": "2024-02-17T19:47:11.864833300Z",
     "start_time": "2024-02-17T19:47:11.797084600Z"
    }
   },
   "id": "78a505d2d65e22ca",
   "execution_count": 280
  },
  {
   "cell_type": "code",
   "outputs": [
    {
     "data": {
      "text/plain": "      ID_ZLECENIA_PALONA                  DTZAPIS ILOSC_PALONA  NUMERZASYPU  \\\n0                1206810  2024-01-10 09:06:00.880            0            8   \n1                1206809  2024-01-10 08:59:02.527            0            9   \n2                1206808  2024-01-10 08:57:40.677            0            7   \n3                1206807  2024-01-10 08:49:11.593            0            6   \n4                1206806  2024-01-10 08:48:14.330            0            8   \n...                  ...                      ...          ...          ...   \n9995             1196814  2023-11-20 03:12:48.087          251           12   \n9996             1196813  2023-11-20 03:09:00.397        505,1            7   \n9997             1196812  2023-11-20 03:04:52.260        251,9           11   \n9998             1196811  2023-11-20 03:00:06.253        505,9            6   \n9999             1196810  2023-11-20 02:51:39.743        508,1            5   \n\n      IDZLECENIE  NUMERPIECA SUMA_ZIELONEJ  QuantityError PREV_ILOSC_PALONA  \\\n0         138624        4000             0              1                 0   \n1         138623        3000             0              1                 0   \n2         138624        4000             0              1                 0   \n3         138624        4000         600,1              1                 0   \n4         138623        3000         400,3              1                 0   \n...          ...         ...           ...            ...               ...   \n9995      137655        3000           300              0               251   \n9996      137656        4000         600,1              0             505,1   \n9997      137655        3000         291,1              0             251,9   \n9998      137656        4000           600              0             505,9   \n9999      137656        4000         600,2              0             508,1   \n\n      Posted  ...  im3_unit_name  ikWh_consumption  im3_consumption  \\\n0          0  ...            NaN               NaN              NaN   \n1          0  ...            NaN               NaN              NaN   \n2          0  ...            NaN               NaN              NaN   \n3          0  ...             m3               4.0            474.0   \n4          0  ...             m3              23.0              8.0   \n...      ...  ...            ...               ...              ...   \n9995       1  ...             m3              13.0              9.0   \n9996       1  ...             m3              11.0           1301.0   \n9997       1  ...             m3              12.0              9.0   \n9998       1  ...             m3              11.0           1307.0   \n9999       1  ...             m3              12.0           1292.0   \n\n      ikWh_counter1_start ikWh_counter1_finish ikWh_multiplier1  \\\n0                     NaN                  NaN              NaN   \n1                     NaN                  NaN              NaN   \n2                     NaN                  NaN              NaN   \n3              10921971.0           10922040.0             0,01   \n4                     NaN                  NaN              NaN   \n...                   ...                  ...              ...   \n9995                  NaN                  NaN              NaN   \n9996            9740934.0            9741095.0             0,01   \n9997                  NaN                  NaN              NaN   \n9998            9740751.0            9740900.0             0,01   \n9999            9740431.0            9740653.0             0,01   \n\n      ikWh_unit_name1  ikWh_consumption1  ikWh_total_consumption  \\\n0                 NaN                NaN                       0   \n1                 NaN                NaN                       0   \n2                 NaN                NaN                       0   \n3                 kWh               0,69                    4,69   \n4                 NaN                NaN                      23   \n...               ...                ...                     ...   \n9995              NaN                NaN                      13   \n9996              kWh               1,61                   12,61   \n9997              NaN                NaN                      12   \n9998              kWh               1,49                   12,49   \n9999              kWh               2,22                   14,22   \n\n      lTriggerCounter  \n0                 NaN  \n1                 NaN  \n2                 NaN  \n3                 NaN  \n4                 NaN  \n...               ...  \n9995            765.0  \n9996           7144.0  \n9997            763.0  \n9998           7143.0  \n9999           7142.0  \n\n[10000 rows x 33 columns]",
      "text/html": "<div>\n<style scoped>\n    .dataframe tbody tr th:only-of-type {\n        vertical-align: middle;\n    }\n\n    .dataframe tbody tr th {\n        vertical-align: top;\n    }\n\n    .dataframe thead th {\n        text-align: right;\n    }\n</style>\n<table border=\"1\" class=\"dataframe\">\n  <thead>\n    <tr style=\"text-align: right;\">\n      <th></th>\n      <th>ID_ZLECENIA_PALONA</th>\n      <th>DTZAPIS</th>\n      <th>ILOSC_PALONA</th>\n      <th>NUMERZASYPU</th>\n      <th>IDZLECENIE</th>\n      <th>NUMERPIECA</th>\n      <th>SUMA_ZIELONEJ</th>\n      <th>QuantityError</th>\n      <th>PREV_ILOSC_PALONA</th>\n      <th>Posted</th>\n      <th>...</th>\n      <th>im3_unit_name</th>\n      <th>ikWh_consumption</th>\n      <th>im3_consumption</th>\n      <th>ikWh_counter1_start</th>\n      <th>ikWh_counter1_finish</th>\n      <th>ikWh_multiplier1</th>\n      <th>ikWh_unit_name1</th>\n      <th>ikWh_consumption1</th>\n      <th>ikWh_total_consumption</th>\n      <th>lTriggerCounter</th>\n    </tr>\n  </thead>\n  <tbody>\n    <tr>\n      <th>0</th>\n      <td>1206810</td>\n      <td>2024-01-10 09:06:00.880</td>\n      <td>0</td>\n      <td>8</td>\n      <td>138624</td>\n      <td>4000</td>\n      <td>0</td>\n      <td>1</td>\n      <td>0</td>\n      <td>0</td>\n      <td>...</td>\n      <td>NaN</td>\n      <td>NaN</td>\n      <td>NaN</td>\n      <td>NaN</td>\n      <td>NaN</td>\n      <td>NaN</td>\n      <td>NaN</td>\n      <td>NaN</td>\n      <td>0</td>\n      <td>NaN</td>\n    </tr>\n    <tr>\n      <th>1</th>\n      <td>1206809</td>\n      <td>2024-01-10 08:59:02.527</td>\n      <td>0</td>\n      <td>9</td>\n      <td>138623</td>\n      <td>3000</td>\n      <td>0</td>\n      <td>1</td>\n      <td>0</td>\n      <td>0</td>\n      <td>...</td>\n      <td>NaN</td>\n      <td>NaN</td>\n      <td>NaN</td>\n      <td>NaN</td>\n      <td>NaN</td>\n      <td>NaN</td>\n      <td>NaN</td>\n      <td>NaN</td>\n      <td>0</td>\n      <td>NaN</td>\n    </tr>\n    <tr>\n      <th>2</th>\n      <td>1206808</td>\n      <td>2024-01-10 08:57:40.677</td>\n      <td>0</td>\n      <td>7</td>\n      <td>138624</td>\n      <td>4000</td>\n      <td>0</td>\n      <td>1</td>\n      <td>0</td>\n      <td>0</td>\n      <td>...</td>\n      <td>NaN</td>\n      <td>NaN</td>\n      <td>NaN</td>\n      <td>NaN</td>\n      <td>NaN</td>\n      <td>NaN</td>\n      <td>NaN</td>\n      <td>NaN</td>\n      <td>0</td>\n      <td>NaN</td>\n    </tr>\n    <tr>\n      <th>3</th>\n      <td>1206807</td>\n      <td>2024-01-10 08:49:11.593</td>\n      <td>0</td>\n      <td>6</td>\n      <td>138624</td>\n      <td>4000</td>\n      <td>600,1</td>\n      <td>1</td>\n      <td>0</td>\n      <td>0</td>\n      <td>...</td>\n      <td>m3</td>\n      <td>4.0</td>\n      <td>474.0</td>\n      <td>10921971.0</td>\n      <td>10922040.0</td>\n      <td>0,01</td>\n      <td>kWh</td>\n      <td>0,69</td>\n      <td>4,69</td>\n      <td>NaN</td>\n    </tr>\n    <tr>\n      <th>4</th>\n      <td>1206806</td>\n      <td>2024-01-10 08:48:14.330</td>\n      <td>0</td>\n      <td>8</td>\n      <td>138623</td>\n      <td>3000</td>\n      <td>400,3</td>\n      <td>1</td>\n      <td>0</td>\n      <td>0</td>\n      <td>...</td>\n      <td>m3</td>\n      <td>23.0</td>\n      <td>8.0</td>\n      <td>NaN</td>\n      <td>NaN</td>\n      <td>NaN</td>\n      <td>NaN</td>\n      <td>NaN</td>\n      <td>23</td>\n      <td>NaN</td>\n    </tr>\n    <tr>\n      <th>...</th>\n      <td>...</td>\n      <td>...</td>\n      <td>...</td>\n      <td>...</td>\n      <td>...</td>\n      <td>...</td>\n      <td>...</td>\n      <td>...</td>\n      <td>...</td>\n      <td>...</td>\n      <td>...</td>\n      <td>...</td>\n      <td>...</td>\n      <td>...</td>\n      <td>...</td>\n      <td>...</td>\n      <td>...</td>\n      <td>...</td>\n      <td>...</td>\n      <td>...</td>\n      <td>...</td>\n    </tr>\n    <tr>\n      <th>9995</th>\n      <td>1196814</td>\n      <td>2023-11-20 03:12:48.087</td>\n      <td>251</td>\n      <td>12</td>\n      <td>137655</td>\n      <td>3000</td>\n      <td>300</td>\n      <td>0</td>\n      <td>251</td>\n      <td>1</td>\n      <td>...</td>\n      <td>m3</td>\n      <td>13.0</td>\n      <td>9.0</td>\n      <td>NaN</td>\n      <td>NaN</td>\n      <td>NaN</td>\n      <td>NaN</td>\n      <td>NaN</td>\n      <td>13</td>\n      <td>765.0</td>\n    </tr>\n    <tr>\n      <th>9996</th>\n      <td>1196813</td>\n      <td>2023-11-20 03:09:00.397</td>\n      <td>505,1</td>\n      <td>7</td>\n      <td>137656</td>\n      <td>4000</td>\n      <td>600,1</td>\n      <td>0</td>\n      <td>505,1</td>\n      <td>1</td>\n      <td>...</td>\n      <td>m3</td>\n      <td>11.0</td>\n      <td>1301.0</td>\n      <td>9740934.0</td>\n      <td>9741095.0</td>\n      <td>0,01</td>\n      <td>kWh</td>\n      <td>1,61</td>\n      <td>12,61</td>\n      <td>7144.0</td>\n    </tr>\n    <tr>\n      <th>9997</th>\n      <td>1196812</td>\n      <td>2023-11-20 03:04:52.260</td>\n      <td>251,9</td>\n      <td>11</td>\n      <td>137655</td>\n      <td>3000</td>\n      <td>291,1</td>\n      <td>0</td>\n      <td>251,9</td>\n      <td>1</td>\n      <td>...</td>\n      <td>m3</td>\n      <td>12.0</td>\n      <td>9.0</td>\n      <td>NaN</td>\n      <td>NaN</td>\n      <td>NaN</td>\n      <td>NaN</td>\n      <td>NaN</td>\n      <td>12</td>\n      <td>763.0</td>\n    </tr>\n    <tr>\n      <th>9998</th>\n      <td>1196811</td>\n      <td>2023-11-20 03:00:06.253</td>\n      <td>505,9</td>\n      <td>6</td>\n      <td>137656</td>\n      <td>4000</td>\n      <td>600</td>\n      <td>0</td>\n      <td>505,9</td>\n      <td>1</td>\n      <td>...</td>\n      <td>m3</td>\n      <td>11.0</td>\n      <td>1307.0</td>\n      <td>9740751.0</td>\n      <td>9740900.0</td>\n      <td>0,01</td>\n      <td>kWh</td>\n      <td>1,49</td>\n      <td>12,49</td>\n      <td>7143.0</td>\n    </tr>\n    <tr>\n      <th>9999</th>\n      <td>1196810</td>\n      <td>2023-11-20 02:51:39.743</td>\n      <td>508,1</td>\n      <td>5</td>\n      <td>137656</td>\n      <td>4000</td>\n      <td>600,2</td>\n      <td>0</td>\n      <td>508,1</td>\n      <td>1</td>\n      <td>...</td>\n      <td>m3</td>\n      <td>12.0</td>\n      <td>1292.0</td>\n      <td>9740431.0</td>\n      <td>9740653.0</td>\n      <td>0,01</td>\n      <td>kWh</td>\n      <td>2,22</td>\n      <td>14,22</td>\n      <td>7142.0</td>\n    </tr>\n  </tbody>\n</table>\n<p>10000 rows × 33 columns</p>\n</div>"
     },
     "execution_count": 281,
     "metadata": {},
     "output_type": "execute_result"
    }
   ],
   "source": [
    "jde_data"
   ],
   "metadata": {
    "collapsed": false,
    "ExecuteTime": {
     "end_time": "2024-02-17T19:47:11.962168300Z",
     "start_time": "2024-02-17T19:47:11.862838Z"
    }
   },
   "id": "f89b7cfe42812b78",
   "execution_count": 281
  },
  {
   "cell_type": "code",
   "outputs": [
    {
     "data": {
      "text/plain": "array([nan, 24., 32., 40.,  6., 18., 10.])"
     },
     "execution_count": 282,
     "metadata": {},
     "output_type": "execute_result"
    }
   ],
   "source": [
    "jde_data['READJUSTED_BY'].unique()"
   ],
   "metadata": {
    "collapsed": false,
    "ExecuteTime": {
     "end_time": "2024-02-17T19:47:12.030228500Z",
     "start_time": "2024-02-17T19:47:11.957789500Z"
    }
   },
   "id": "f0f178255c4c06ab",
   "execution_count": 282
  },
  {
   "cell_type": "code",
   "outputs": [],
   "source": [
    "jde_data.drop('READJUSTED_BY', axis=1, inplace=True)"
   ],
   "metadata": {
    "collapsed": false,
    "ExecuteTime": {
     "end_time": "2024-02-17T19:47:12.127966900Z",
     "start_time": "2024-02-17T19:47:12.011037700Z"
    }
   },
   "id": "5384bc515c97edd7",
   "execution_count": 283
  },
  {
   "cell_type": "code",
   "outputs": [
    {
     "data": {
      "text/plain": "      ID_ZLECENIA_PALONA                  DTZAPIS ILOSC_PALONA  NUMERZASYPU  \\\n0                1206810  2024-01-10 09:06:00.880            0            8   \n1                1206809  2024-01-10 08:59:02.527            0            9   \n2                1206808  2024-01-10 08:57:40.677            0            7   \n3                1206807  2024-01-10 08:49:11.593            0            6   \n4                1206806  2024-01-10 08:48:14.330            0            8   \n...                  ...                      ...          ...          ...   \n9995             1196814  2023-11-20 03:12:48.087          251           12   \n9996             1196813  2023-11-20 03:09:00.397        505,1            7   \n9997             1196812  2023-11-20 03:04:52.260        251,9           11   \n9998             1196811  2023-11-20 03:00:06.253        505,9            6   \n9999             1196810  2023-11-20 02:51:39.743        508,1            5   \n\n      IDZLECENIE  NUMERPIECA SUMA_ZIELONEJ  QuantityError PREV_ILOSC_PALONA  \\\n0         138624        4000             0              1                 0   \n1         138623        3000             0              1                 0   \n2         138624        4000             0              1                 0   \n3         138624        4000         600,1              1                 0   \n4         138623        3000         400,3              1                 0   \n...          ...         ...           ...            ...               ...   \n9995      137655        3000           300              0               251   \n9996      137656        4000         600,1              0             505,1   \n9997      137655        3000         291,1              0             251,9   \n9998      137656        4000           600              0             505,9   \n9999      137656        4000         600,2              0             508,1   \n\n      Posted  ...  im3_unit_name  ikWh_consumption  im3_consumption  \\\n0          0  ...            NaN               NaN              NaN   \n1          0  ...            NaN               NaN              NaN   \n2          0  ...            NaN               NaN              NaN   \n3          0  ...             m3               4.0            474.0   \n4          0  ...             m3              23.0              8.0   \n...      ...  ...            ...               ...              ...   \n9995       1  ...             m3              13.0              9.0   \n9996       1  ...             m3              11.0           1301.0   \n9997       1  ...             m3              12.0              9.0   \n9998       1  ...             m3              11.0           1307.0   \n9999       1  ...             m3              12.0           1292.0   \n\n     ikWh_counter1_start ikWh_counter1_finish  ikWh_multiplier1  \\\n0                    NaN                  NaN               NaN   \n1                    NaN                  NaN               NaN   \n2                    NaN                  NaN               NaN   \n3             10921971.0           10922040.0              0,01   \n4                    NaN                  NaN               NaN   \n...                  ...                  ...               ...   \n9995                 NaN                  NaN               NaN   \n9996           9740934.0            9741095.0              0,01   \n9997                 NaN                  NaN               NaN   \n9998           9740751.0            9740900.0              0,01   \n9999           9740431.0            9740653.0              0,01   \n\n      ikWh_unit_name1  ikWh_consumption1  ikWh_total_consumption  \\\n0                 NaN                NaN                       0   \n1                 NaN                NaN                       0   \n2                 NaN                NaN                       0   \n3                 kWh               0,69                    4,69   \n4                 NaN                NaN                      23   \n...               ...                ...                     ...   \n9995              NaN                NaN                      13   \n9996              kWh               1,61                   12,61   \n9997              NaN                NaN                      12   \n9998              kWh               1,49                   12,49   \n9999              kWh               2,22                   14,22   \n\n      lTriggerCounter  \n0                 NaN  \n1                 NaN  \n2                 NaN  \n3                 NaN  \n4                 NaN  \n...               ...  \n9995            765.0  \n9996           7144.0  \n9997            763.0  \n9998           7143.0  \n9999           7142.0  \n\n[10000 rows x 32 columns]",
      "text/html": "<div>\n<style scoped>\n    .dataframe tbody tr th:only-of-type {\n        vertical-align: middle;\n    }\n\n    .dataframe tbody tr th {\n        vertical-align: top;\n    }\n\n    .dataframe thead th {\n        text-align: right;\n    }\n</style>\n<table border=\"1\" class=\"dataframe\">\n  <thead>\n    <tr style=\"text-align: right;\">\n      <th></th>\n      <th>ID_ZLECENIA_PALONA</th>\n      <th>DTZAPIS</th>\n      <th>ILOSC_PALONA</th>\n      <th>NUMERZASYPU</th>\n      <th>IDZLECENIE</th>\n      <th>NUMERPIECA</th>\n      <th>SUMA_ZIELONEJ</th>\n      <th>QuantityError</th>\n      <th>PREV_ILOSC_PALONA</th>\n      <th>Posted</th>\n      <th>...</th>\n      <th>im3_unit_name</th>\n      <th>ikWh_consumption</th>\n      <th>im3_consumption</th>\n      <th>ikWh_counter1_start</th>\n      <th>ikWh_counter1_finish</th>\n      <th>ikWh_multiplier1</th>\n      <th>ikWh_unit_name1</th>\n      <th>ikWh_consumption1</th>\n      <th>ikWh_total_consumption</th>\n      <th>lTriggerCounter</th>\n    </tr>\n  </thead>\n  <tbody>\n    <tr>\n      <th>0</th>\n      <td>1206810</td>\n      <td>2024-01-10 09:06:00.880</td>\n      <td>0</td>\n      <td>8</td>\n      <td>138624</td>\n      <td>4000</td>\n      <td>0</td>\n      <td>1</td>\n      <td>0</td>\n      <td>0</td>\n      <td>...</td>\n      <td>NaN</td>\n      <td>NaN</td>\n      <td>NaN</td>\n      <td>NaN</td>\n      <td>NaN</td>\n      <td>NaN</td>\n      <td>NaN</td>\n      <td>NaN</td>\n      <td>0</td>\n      <td>NaN</td>\n    </tr>\n    <tr>\n      <th>1</th>\n      <td>1206809</td>\n      <td>2024-01-10 08:59:02.527</td>\n      <td>0</td>\n      <td>9</td>\n      <td>138623</td>\n      <td>3000</td>\n      <td>0</td>\n      <td>1</td>\n      <td>0</td>\n      <td>0</td>\n      <td>...</td>\n      <td>NaN</td>\n      <td>NaN</td>\n      <td>NaN</td>\n      <td>NaN</td>\n      <td>NaN</td>\n      <td>NaN</td>\n      <td>NaN</td>\n      <td>NaN</td>\n      <td>0</td>\n      <td>NaN</td>\n    </tr>\n    <tr>\n      <th>2</th>\n      <td>1206808</td>\n      <td>2024-01-10 08:57:40.677</td>\n      <td>0</td>\n      <td>7</td>\n      <td>138624</td>\n      <td>4000</td>\n      <td>0</td>\n      <td>1</td>\n      <td>0</td>\n      <td>0</td>\n      <td>...</td>\n      <td>NaN</td>\n      <td>NaN</td>\n      <td>NaN</td>\n      <td>NaN</td>\n      <td>NaN</td>\n      <td>NaN</td>\n      <td>NaN</td>\n      <td>NaN</td>\n      <td>0</td>\n      <td>NaN</td>\n    </tr>\n    <tr>\n      <th>3</th>\n      <td>1206807</td>\n      <td>2024-01-10 08:49:11.593</td>\n      <td>0</td>\n      <td>6</td>\n      <td>138624</td>\n      <td>4000</td>\n      <td>600,1</td>\n      <td>1</td>\n      <td>0</td>\n      <td>0</td>\n      <td>...</td>\n      <td>m3</td>\n      <td>4.0</td>\n      <td>474.0</td>\n      <td>10921971.0</td>\n      <td>10922040.0</td>\n      <td>0,01</td>\n      <td>kWh</td>\n      <td>0,69</td>\n      <td>4,69</td>\n      <td>NaN</td>\n    </tr>\n    <tr>\n      <th>4</th>\n      <td>1206806</td>\n      <td>2024-01-10 08:48:14.330</td>\n      <td>0</td>\n      <td>8</td>\n      <td>138623</td>\n      <td>3000</td>\n      <td>400,3</td>\n      <td>1</td>\n      <td>0</td>\n      <td>0</td>\n      <td>...</td>\n      <td>m3</td>\n      <td>23.0</td>\n      <td>8.0</td>\n      <td>NaN</td>\n      <td>NaN</td>\n      <td>NaN</td>\n      <td>NaN</td>\n      <td>NaN</td>\n      <td>23</td>\n      <td>NaN</td>\n    </tr>\n    <tr>\n      <th>...</th>\n      <td>...</td>\n      <td>...</td>\n      <td>...</td>\n      <td>...</td>\n      <td>...</td>\n      <td>...</td>\n      <td>...</td>\n      <td>...</td>\n      <td>...</td>\n      <td>...</td>\n      <td>...</td>\n      <td>...</td>\n      <td>...</td>\n      <td>...</td>\n      <td>...</td>\n      <td>...</td>\n      <td>...</td>\n      <td>...</td>\n      <td>...</td>\n      <td>...</td>\n      <td>...</td>\n    </tr>\n    <tr>\n      <th>9995</th>\n      <td>1196814</td>\n      <td>2023-11-20 03:12:48.087</td>\n      <td>251</td>\n      <td>12</td>\n      <td>137655</td>\n      <td>3000</td>\n      <td>300</td>\n      <td>0</td>\n      <td>251</td>\n      <td>1</td>\n      <td>...</td>\n      <td>m3</td>\n      <td>13.0</td>\n      <td>9.0</td>\n      <td>NaN</td>\n      <td>NaN</td>\n      <td>NaN</td>\n      <td>NaN</td>\n      <td>NaN</td>\n      <td>13</td>\n      <td>765.0</td>\n    </tr>\n    <tr>\n      <th>9996</th>\n      <td>1196813</td>\n      <td>2023-11-20 03:09:00.397</td>\n      <td>505,1</td>\n      <td>7</td>\n      <td>137656</td>\n      <td>4000</td>\n      <td>600,1</td>\n      <td>0</td>\n      <td>505,1</td>\n      <td>1</td>\n      <td>...</td>\n      <td>m3</td>\n      <td>11.0</td>\n      <td>1301.0</td>\n      <td>9740934.0</td>\n      <td>9741095.0</td>\n      <td>0,01</td>\n      <td>kWh</td>\n      <td>1,61</td>\n      <td>12,61</td>\n      <td>7144.0</td>\n    </tr>\n    <tr>\n      <th>9997</th>\n      <td>1196812</td>\n      <td>2023-11-20 03:04:52.260</td>\n      <td>251,9</td>\n      <td>11</td>\n      <td>137655</td>\n      <td>3000</td>\n      <td>291,1</td>\n      <td>0</td>\n      <td>251,9</td>\n      <td>1</td>\n      <td>...</td>\n      <td>m3</td>\n      <td>12.0</td>\n      <td>9.0</td>\n      <td>NaN</td>\n      <td>NaN</td>\n      <td>NaN</td>\n      <td>NaN</td>\n      <td>NaN</td>\n      <td>12</td>\n      <td>763.0</td>\n    </tr>\n    <tr>\n      <th>9998</th>\n      <td>1196811</td>\n      <td>2023-11-20 03:00:06.253</td>\n      <td>505,9</td>\n      <td>6</td>\n      <td>137656</td>\n      <td>4000</td>\n      <td>600</td>\n      <td>0</td>\n      <td>505,9</td>\n      <td>1</td>\n      <td>...</td>\n      <td>m3</td>\n      <td>11.0</td>\n      <td>1307.0</td>\n      <td>9740751.0</td>\n      <td>9740900.0</td>\n      <td>0,01</td>\n      <td>kWh</td>\n      <td>1,49</td>\n      <td>12,49</td>\n      <td>7143.0</td>\n    </tr>\n    <tr>\n      <th>9999</th>\n      <td>1196810</td>\n      <td>2023-11-20 02:51:39.743</td>\n      <td>508,1</td>\n      <td>5</td>\n      <td>137656</td>\n      <td>4000</td>\n      <td>600,2</td>\n      <td>0</td>\n      <td>508,1</td>\n      <td>1</td>\n      <td>...</td>\n      <td>m3</td>\n      <td>12.0</td>\n      <td>1292.0</td>\n      <td>9740431.0</td>\n      <td>9740653.0</td>\n      <td>0,01</td>\n      <td>kWh</td>\n      <td>2,22</td>\n      <td>14,22</td>\n      <td>7142.0</td>\n    </tr>\n  </tbody>\n</table>\n<p>10000 rows × 32 columns</p>\n</div>"
     },
     "execution_count": 284,
     "metadata": {},
     "output_type": "execute_result"
    }
   ],
   "source": [
    "jde_data"
   ],
   "metadata": {
    "collapsed": false,
    "ExecuteTime": {
     "end_time": "2024-02-17T19:47:12.225784900Z",
     "start_time": "2024-02-17T19:47:12.129961400Z"
    }
   },
   "id": "d051bd2b79bd096e",
   "execution_count": 284
  },
  {
   "cell_type": "code",
   "outputs": [
    {
     "data": {
      "text/plain": "array([ nan,   3., 204.,   5.,   7.,   1.,   9.,   8.,   6.,   4.,  10.,\n        99., 202., 205.,   2.,  55.,  44.,  88.,  77.,  22., 200.])"
     },
     "execution_count": 285,
     "metadata": {},
     "output_type": "execute_result"
    }
   ],
   "source": [
    "jde_data['TruckNo1'].unique()"
   ],
   "metadata": {
    "collapsed": false,
    "ExecuteTime": {
     "end_time": "2024-02-17T19:47:12.253710700Z",
     "start_time": "2024-02-17T19:47:12.180193100Z"
    }
   },
   "id": "a08b5f8191849600",
   "execution_count": 285
  },
  {
   "cell_type": "code",
   "outputs": [],
   "source": [
    "jde_data.drop('TruckNo1', axis=1, inplace=True)"
   ],
   "metadata": {
    "collapsed": false,
    "ExecuteTime": {
     "end_time": "2024-02-17T19:47:12.322471600Z",
     "start_time": "2024-02-17T19:47:12.256702700Z"
    }
   },
   "id": "ede08cd8a96d2cc5",
   "execution_count": 286
  },
  {
   "cell_type": "code",
   "outputs": [
    {
     "data": {
      "text/plain": "array([nan])"
     },
     "execution_count": 287,
     "metadata": {},
     "output_type": "execute_result"
    }
   ],
   "source": [
    "jde_data['TruckNo2'].unique()"
   ],
   "metadata": {
    "collapsed": false,
    "ExecuteTime": {
     "end_time": "2024-02-17T19:47:12.347398800Z",
     "start_time": "2024-02-17T19:47:12.286536600Z"
    }
   },
   "id": "40ab75c7d434bd5a",
   "execution_count": 287
  },
  {
   "cell_type": "code",
   "outputs": [],
   "source": [
    "jde_data.drop('TruckNo2', axis=1, inplace=True)"
   ],
   "metadata": {
    "collapsed": false,
    "ExecuteTime": {
     "end_time": "2024-02-17T19:47:12.415211200Z",
     "start_time": "2024-02-17T19:47:12.331426900Z"
    }
   },
   "id": "68180e92acb4f6c7",
   "execution_count": 288
  },
  {
   "cell_type": "code",
   "outputs": [
    {
     "data": {
      "text/plain": "      ID_ZLECENIA_PALONA                  DTZAPIS ILOSC_PALONA  NUMERZASYPU  \\\n0                1206810  2024-01-10 09:06:00.880            0            8   \n1                1206809  2024-01-10 08:59:02.527            0            9   \n2                1206808  2024-01-10 08:57:40.677            0            7   \n3                1206807  2024-01-10 08:49:11.593            0            6   \n4                1206806  2024-01-10 08:48:14.330            0            8   \n...                  ...                      ...          ...          ...   \n9995             1196814  2023-11-20 03:12:48.087          251           12   \n9996             1196813  2023-11-20 03:09:00.397        505,1            7   \n9997             1196812  2023-11-20 03:04:52.260        251,9           11   \n9998             1196811  2023-11-20 03:00:06.253        505,9            6   \n9999             1196810  2023-11-20 02:51:39.743        508,1            5   \n\n      IDZLECENIE  NUMERPIECA SUMA_ZIELONEJ  QuantityError PREV_ILOSC_PALONA  \\\n0         138624        4000             0              1                 0   \n1         138623        3000             0              1                 0   \n2         138624        4000             0              1                 0   \n3         138624        4000         600,1              1                 0   \n4         138623        3000         400,3              1                 0   \n...          ...         ...           ...            ...               ...   \n9995      137655        3000           300              0               251   \n9996      137656        4000         600,1              0             505,1   \n9997      137655        3000         291,1              0             251,9   \n9998      137656        4000           600              0             505,9   \n9999      137656        4000         600,2              0             508,1   \n\n      Posted  ...  im3_unit_name ikWh_consumption im3_consumption  \\\n0          0  ...            NaN              NaN             NaN   \n1          0  ...            NaN              NaN             NaN   \n2          0  ...            NaN              NaN             NaN   \n3          0  ...             m3              4.0           474.0   \n4          0  ...             m3             23.0             8.0   \n...      ...  ...            ...              ...             ...   \n9995       1  ...             m3             13.0             9.0   \n9996       1  ...             m3             11.0          1301.0   \n9997       1  ...             m3             12.0             9.0   \n9998       1  ...             m3             11.0          1307.0   \n9999       1  ...             m3             12.0          1292.0   \n\n      ikWh_counter1_start  ikWh_counter1_finish  ikWh_multiplier1  \\\n0                     NaN                   NaN               NaN   \n1                     NaN                   NaN               NaN   \n2                     NaN                   NaN               NaN   \n3              10921971.0            10922040.0              0,01   \n4                     NaN                   NaN               NaN   \n...                   ...                   ...               ...   \n9995                  NaN                   NaN               NaN   \n9996            9740934.0             9741095.0              0,01   \n9997                  NaN                   NaN               NaN   \n9998            9740751.0             9740900.0              0,01   \n9999            9740431.0             9740653.0              0,01   \n\n      ikWh_unit_name1  ikWh_consumption1  ikWh_total_consumption  \\\n0                 NaN                NaN                       0   \n1                 NaN                NaN                       0   \n2                 NaN                NaN                       0   \n3                 kWh               0,69                    4,69   \n4                 NaN                NaN                      23   \n...               ...                ...                     ...   \n9995              NaN                NaN                      13   \n9996              kWh               1,61                   12,61   \n9997              NaN                NaN                      12   \n9998              kWh               1,49                   12,49   \n9999              kWh               2,22                   14,22   \n\n     lTriggerCounter  \n0                NaN  \n1                NaN  \n2                NaN  \n3                NaN  \n4                NaN  \n...              ...  \n9995           765.0  \n9996          7144.0  \n9997           763.0  \n9998          7143.0  \n9999          7142.0  \n\n[10000 rows x 30 columns]",
      "text/html": "<div>\n<style scoped>\n    .dataframe tbody tr th:only-of-type {\n        vertical-align: middle;\n    }\n\n    .dataframe tbody tr th {\n        vertical-align: top;\n    }\n\n    .dataframe thead th {\n        text-align: right;\n    }\n</style>\n<table border=\"1\" class=\"dataframe\">\n  <thead>\n    <tr style=\"text-align: right;\">\n      <th></th>\n      <th>ID_ZLECENIA_PALONA</th>\n      <th>DTZAPIS</th>\n      <th>ILOSC_PALONA</th>\n      <th>NUMERZASYPU</th>\n      <th>IDZLECENIE</th>\n      <th>NUMERPIECA</th>\n      <th>SUMA_ZIELONEJ</th>\n      <th>QuantityError</th>\n      <th>PREV_ILOSC_PALONA</th>\n      <th>Posted</th>\n      <th>...</th>\n      <th>im3_unit_name</th>\n      <th>ikWh_consumption</th>\n      <th>im3_consumption</th>\n      <th>ikWh_counter1_start</th>\n      <th>ikWh_counter1_finish</th>\n      <th>ikWh_multiplier1</th>\n      <th>ikWh_unit_name1</th>\n      <th>ikWh_consumption1</th>\n      <th>ikWh_total_consumption</th>\n      <th>lTriggerCounter</th>\n    </tr>\n  </thead>\n  <tbody>\n    <tr>\n      <th>0</th>\n      <td>1206810</td>\n      <td>2024-01-10 09:06:00.880</td>\n      <td>0</td>\n      <td>8</td>\n      <td>138624</td>\n      <td>4000</td>\n      <td>0</td>\n      <td>1</td>\n      <td>0</td>\n      <td>0</td>\n      <td>...</td>\n      <td>NaN</td>\n      <td>NaN</td>\n      <td>NaN</td>\n      <td>NaN</td>\n      <td>NaN</td>\n      <td>NaN</td>\n      <td>NaN</td>\n      <td>NaN</td>\n      <td>0</td>\n      <td>NaN</td>\n    </tr>\n    <tr>\n      <th>1</th>\n      <td>1206809</td>\n      <td>2024-01-10 08:59:02.527</td>\n      <td>0</td>\n      <td>9</td>\n      <td>138623</td>\n      <td>3000</td>\n      <td>0</td>\n      <td>1</td>\n      <td>0</td>\n      <td>0</td>\n      <td>...</td>\n      <td>NaN</td>\n      <td>NaN</td>\n      <td>NaN</td>\n      <td>NaN</td>\n      <td>NaN</td>\n      <td>NaN</td>\n      <td>NaN</td>\n      <td>NaN</td>\n      <td>0</td>\n      <td>NaN</td>\n    </tr>\n    <tr>\n      <th>2</th>\n      <td>1206808</td>\n      <td>2024-01-10 08:57:40.677</td>\n      <td>0</td>\n      <td>7</td>\n      <td>138624</td>\n      <td>4000</td>\n      <td>0</td>\n      <td>1</td>\n      <td>0</td>\n      <td>0</td>\n      <td>...</td>\n      <td>NaN</td>\n      <td>NaN</td>\n      <td>NaN</td>\n      <td>NaN</td>\n      <td>NaN</td>\n      <td>NaN</td>\n      <td>NaN</td>\n      <td>NaN</td>\n      <td>0</td>\n      <td>NaN</td>\n    </tr>\n    <tr>\n      <th>3</th>\n      <td>1206807</td>\n      <td>2024-01-10 08:49:11.593</td>\n      <td>0</td>\n      <td>6</td>\n      <td>138624</td>\n      <td>4000</td>\n      <td>600,1</td>\n      <td>1</td>\n      <td>0</td>\n      <td>0</td>\n      <td>...</td>\n      <td>m3</td>\n      <td>4.0</td>\n      <td>474.0</td>\n      <td>10921971.0</td>\n      <td>10922040.0</td>\n      <td>0,01</td>\n      <td>kWh</td>\n      <td>0,69</td>\n      <td>4,69</td>\n      <td>NaN</td>\n    </tr>\n    <tr>\n      <th>4</th>\n      <td>1206806</td>\n      <td>2024-01-10 08:48:14.330</td>\n      <td>0</td>\n      <td>8</td>\n      <td>138623</td>\n      <td>3000</td>\n      <td>400,3</td>\n      <td>1</td>\n      <td>0</td>\n      <td>0</td>\n      <td>...</td>\n      <td>m3</td>\n      <td>23.0</td>\n      <td>8.0</td>\n      <td>NaN</td>\n      <td>NaN</td>\n      <td>NaN</td>\n      <td>NaN</td>\n      <td>NaN</td>\n      <td>23</td>\n      <td>NaN</td>\n    </tr>\n    <tr>\n      <th>...</th>\n      <td>...</td>\n      <td>...</td>\n      <td>...</td>\n      <td>...</td>\n      <td>...</td>\n      <td>...</td>\n      <td>...</td>\n      <td>...</td>\n      <td>...</td>\n      <td>...</td>\n      <td>...</td>\n      <td>...</td>\n      <td>...</td>\n      <td>...</td>\n      <td>...</td>\n      <td>...</td>\n      <td>...</td>\n      <td>...</td>\n      <td>...</td>\n      <td>...</td>\n      <td>...</td>\n    </tr>\n    <tr>\n      <th>9995</th>\n      <td>1196814</td>\n      <td>2023-11-20 03:12:48.087</td>\n      <td>251</td>\n      <td>12</td>\n      <td>137655</td>\n      <td>3000</td>\n      <td>300</td>\n      <td>0</td>\n      <td>251</td>\n      <td>1</td>\n      <td>...</td>\n      <td>m3</td>\n      <td>13.0</td>\n      <td>9.0</td>\n      <td>NaN</td>\n      <td>NaN</td>\n      <td>NaN</td>\n      <td>NaN</td>\n      <td>NaN</td>\n      <td>13</td>\n      <td>765.0</td>\n    </tr>\n    <tr>\n      <th>9996</th>\n      <td>1196813</td>\n      <td>2023-11-20 03:09:00.397</td>\n      <td>505,1</td>\n      <td>7</td>\n      <td>137656</td>\n      <td>4000</td>\n      <td>600,1</td>\n      <td>0</td>\n      <td>505,1</td>\n      <td>1</td>\n      <td>...</td>\n      <td>m3</td>\n      <td>11.0</td>\n      <td>1301.0</td>\n      <td>9740934.0</td>\n      <td>9741095.0</td>\n      <td>0,01</td>\n      <td>kWh</td>\n      <td>1,61</td>\n      <td>12,61</td>\n      <td>7144.0</td>\n    </tr>\n    <tr>\n      <th>9997</th>\n      <td>1196812</td>\n      <td>2023-11-20 03:04:52.260</td>\n      <td>251,9</td>\n      <td>11</td>\n      <td>137655</td>\n      <td>3000</td>\n      <td>291,1</td>\n      <td>0</td>\n      <td>251,9</td>\n      <td>1</td>\n      <td>...</td>\n      <td>m3</td>\n      <td>12.0</td>\n      <td>9.0</td>\n      <td>NaN</td>\n      <td>NaN</td>\n      <td>NaN</td>\n      <td>NaN</td>\n      <td>NaN</td>\n      <td>12</td>\n      <td>763.0</td>\n    </tr>\n    <tr>\n      <th>9998</th>\n      <td>1196811</td>\n      <td>2023-11-20 03:00:06.253</td>\n      <td>505,9</td>\n      <td>6</td>\n      <td>137656</td>\n      <td>4000</td>\n      <td>600</td>\n      <td>0</td>\n      <td>505,9</td>\n      <td>1</td>\n      <td>...</td>\n      <td>m3</td>\n      <td>11.0</td>\n      <td>1307.0</td>\n      <td>9740751.0</td>\n      <td>9740900.0</td>\n      <td>0,01</td>\n      <td>kWh</td>\n      <td>1,49</td>\n      <td>12,49</td>\n      <td>7143.0</td>\n    </tr>\n    <tr>\n      <th>9999</th>\n      <td>1196810</td>\n      <td>2023-11-20 02:51:39.743</td>\n      <td>508,1</td>\n      <td>5</td>\n      <td>137656</td>\n      <td>4000</td>\n      <td>600,2</td>\n      <td>0</td>\n      <td>508,1</td>\n      <td>1</td>\n      <td>...</td>\n      <td>m3</td>\n      <td>12.0</td>\n      <td>1292.0</td>\n      <td>9740431.0</td>\n      <td>9740653.0</td>\n      <td>0,01</td>\n      <td>kWh</td>\n      <td>2,22</td>\n      <td>14,22</td>\n      <td>7142.0</td>\n    </tr>\n  </tbody>\n</table>\n<p>10000 rows × 30 columns</p>\n</div>"
     },
     "execution_count": 289,
     "metadata": {},
     "output_type": "execute_result"
    }
   ],
   "source": [
    "jde_data"
   ],
   "metadata": {
    "collapsed": false,
    "ExecuteTime": {
     "end_time": "2024-02-17T19:47:12.513777200Z",
     "start_time": "2024-02-17T19:47:12.399234400Z"
    }
   },
   "id": "2a3bb3e0669bdbb7",
   "execution_count": 289
  },
  {
   "cell_type": "code",
   "outputs": [
    {
     "data": {
      "text/plain": "array([  nan,  313.,  311., ..., 7144., 7143., 7142.])"
     },
     "execution_count": 290,
     "metadata": {},
     "output_type": "execute_result"
    }
   ],
   "source": [
    "jde_data['lTriggerCounter'].unique()"
   ],
   "metadata": {
    "collapsed": false,
    "ExecuteTime": {
     "end_time": "2024-02-17T19:47:12.550678900Z",
     "start_time": "2024-02-17T19:47:12.508456100Z"
    }
   },
   "id": "ece316e2cefc3dab",
   "execution_count": 290
  },
  {
   "cell_type": "code",
   "outputs": [],
   "source": [
    "jde_data.drop('lTriggerCounter', axis=1, inplace=True)"
   ],
   "metadata": {
    "collapsed": false,
    "ExecuteTime": {
     "end_time": "2024-02-17T19:47:12.615504600Z",
     "start_time": "2024-02-17T19:47:12.544694600Z"
    }
   },
   "id": "e06d7cdad2ae4364",
   "execution_count": 291
  },
  {
   "cell_type": "code",
   "outputs": [],
   "source": [
    "jde_data.drop('Posted', axis=1, inplace=True)"
   ],
   "metadata": {
    "collapsed": false,
    "ExecuteTime": {
     "end_time": "2024-02-17T19:47:12.666501700Z",
     "start_time": "2024-02-17T19:47:12.592566100Z"
    }
   },
   "id": "5b8c9cad4ba0fc56",
   "execution_count": 292
  },
  {
   "cell_type": "code",
   "outputs": [],
   "source": [
    "jde_data.drop('QuantityError', axis=1, inplace=True)"
   ],
   "metadata": {
    "collapsed": false,
    "ExecuteTime": {
     "end_time": "2024-02-17T19:47:12.746048800Z",
     "start_time": "2024-02-17T19:47:12.645425300Z"
    }
   },
   "id": "c74445d5afabde01",
   "execution_count": 293
  },
  {
   "cell_type": "code",
   "outputs": [
    {
     "data": {
      "text/plain": "array([nan,  1.])"
     },
     "execution_count": 294,
     "metadata": {},
     "output_type": "execute_result"
    }
   ],
   "source": [
    "jde_data['im3_multiplier'].unique()"
   ],
   "metadata": {
    "collapsed": false,
    "ExecuteTime": {
     "end_time": "2024-02-17T19:47:12.769982400Z",
     "start_time": "2024-02-17T19:47:12.743297600Z"
    }
   },
   "id": "d41089796c15d6ac",
   "execution_count": 294
  },
  {
   "cell_type": "code",
   "outputs": [],
   "source": [
    "jde_data.drop('im3_multiplier', axis=1, inplace=True)"
   ],
   "metadata": {
    "collapsed": false,
    "ExecuteTime": {
     "end_time": "2024-02-17T19:47:12.822999600Z",
     "start_time": "2024-02-17T19:47:12.768985200Z"
    }
   },
   "id": "e6af67632f52fd37",
   "execution_count": 295
  },
  {
   "cell_type": "code",
   "outputs": [
    {
     "data": {
      "text/plain": "array([nan,  1.])"
     },
     "execution_count": 296,
     "metadata": {},
     "output_type": "execute_result"
    }
   ],
   "source": [
    "jde_data['ikWh_multiplier'].unique()"
   ],
   "metadata": {
    "collapsed": false,
    "ExecuteTime": {
     "end_time": "2024-02-17T19:47:12.839954400Z",
     "start_time": "2024-02-17T19:47:12.813201500Z"
    }
   },
   "id": "4e653c3449a81167",
   "execution_count": 296
  },
  {
   "cell_type": "code",
   "outputs": [],
   "source": [
    "jde_data.drop('ikWh_multiplier', axis=1, inplace=True)"
   ],
   "metadata": {
    "collapsed": false,
    "ExecuteTime": {
     "end_time": "2024-02-17T19:47:12.884126200Z",
     "start_time": "2024-02-17T19:47:12.832962400Z"
    }
   },
   "id": "79fea8473fd837bd",
   "execution_count": 297
  },
  {
   "cell_type": "code",
   "outputs": [
    {
     "data": {
      "text/plain": "array([nan, 'kWh'], dtype=object)"
     },
     "execution_count": 298,
     "metadata": {},
     "output_type": "execute_result"
    }
   ],
   "source": [
    "jde_data['ikWh_unit_name'].unique()"
   ],
   "metadata": {
    "collapsed": false,
    "ExecuteTime": {
     "end_time": "2024-02-17T19:47:12.926760800Z",
     "start_time": "2024-02-17T19:47:12.868866500Z"
    }
   },
   "id": "4de17f962940e939",
   "execution_count": 298
  },
  {
   "cell_type": "code",
   "outputs": [],
   "source": [
    "jde_data.drop('ikWh_unit_name', axis=1, inplace=True)"
   ],
   "metadata": {
    "collapsed": false,
    "ExecuteTime": {
     "end_time": "2024-02-17T19:47:12.977094900Z",
     "start_time": "2024-02-17T19:47:12.910033900Z"
    }
   },
   "id": "e5dc828079fc1bd2",
   "execution_count": 299
  },
  {
   "cell_type": "code",
   "outputs": [
    {
     "data": {
      "text/plain": "array([nan, 'm3'], dtype=object)"
     },
     "execution_count": 300,
     "metadata": {},
     "output_type": "execute_result"
    }
   ],
   "source": [
    "jde_data['im3_unit_name'].unique()"
   ],
   "metadata": {
    "collapsed": false,
    "ExecuteTime": {
     "end_time": "2024-02-17T19:47:12.992042300Z",
     "start_time": "2024-02-17T19:47:12.959673200Z"
    }
   },
   "id": "2dc152c5704d4bf7",
   "execution_count": 300
  },
  {
   "cell_type": "code",
   "outputs": [
    {
     "data": {
      "text/plain": "array([nan, '0,01'], dtype=object)"
     },
     "execution_count": 301,
     "metadata": {},
     "output_type": "execute_result"
    }
   ],
   "source": [
    "jde_data['ikWh_multiplier1'].unique()"
   ],
   "metadata": {
    "collapsed": false,
    "ExecuteTime": {
     "end_time": "2024-02-17T19:47:13.033646300Z",
     "start_time": "2024-02-17T19:47:12.993039800Z"
    }
   },
   "id": "afb5aeace3eabc39",
   "execution_count": 301
  },
  {
   "cell_type": "code",
   "outputs": [],
   "source": [
    "jde_data.drop('ikWh_multiplier1', axis=1, inplace=True)"
   ],
   "metadata": {
    "collapsed": false,
    "ExecuteTime": {
     "end_time": "2024-02-17T19:47:13.082773200Z",
     "start_time": "2024-02-17T19:47:13.032647900Z"
    }
   },
   "id": "e03f9a0c984a8375",
   "execution_count": 302
  },
  {
   "cell_type": "code",
   "outputs": [],
   "source": [
    "jde_data.drop('im3_unit_name', axis=1, inplace=True)"
   ],
   "metadata": {
    "collapsed": false,
    "ExecuteTime": {
     "end_time": "2024-02-17T19:47:13.099728800Z",
     "start_time": "2024-02-17T19:47:13.065121300Z"
    }
   },
   "id": "2a574cf56f645912",
   "execution_count": 303
  },
  {
   "cell_type": "code",
   "outputs": [
    {
     "data": {
      "text/plain": "array([nan, 'kWh'], dtype=object)"
     },
     "execution_count": 306,
     "metadata": {},
     "output_type": "execute_result"
    }
   ],
   "source": [
    "jde_data['ikWh_unit_name1'].unique()"
   ],
   "metadata": {
    "collapsed": false,
    "ExecuteTime": {
     "end_time": "2024-02-17T19:49:19.250339500Z",
     "start_time": "2024-02-17T19:49:19.226558600Z"
    }
   },
   "id": "f01b512e317892f",
   "execution_count": 306
  },
  {
   "cell_type": "code",
   "outputs": [],
   "source": [
    "jde_data.drop('ikWh_unit_name1', axis=1, inplace=True)"
   ],
   "metadata": {
    "collapsed": false,
    "ExecuteTime": {
     "end_time": "2024-02-17T19:49:59.435926300Z",
     "start_time": "2024-02-17T19:49:59.412439200Z"
    }
   },
   "id": "a9e7b2e083352fe7",
   "execution_count": 308
  },
  {
   "cell_type": "code",
   "outputs": [],
   "source": [
    "jde_data.rename(\n",
    "    columns={'ID_ZLECENIA_PALONA': 'ID', 'DTZAPIS': 'Data zapisu', 'ILOSC_PALONA': 'Ilosc uprazonej kawy bez strat [kg]',\n",
    "             'NUMERZASYPU': 'Numer zasypu', 'IDZLECENIE': 'ID zlecenia', 'NUMERPIECA': 'Numer Pieca',\n",
    "             'SUMA_ZIELONEJ': 'Suma kawy wsypanej na poczatku prazenia [kg]',\n",
    "             'ZbiornikKawyPalonej': 'Zbiornik kawy palonej', 'dtRoastingStart': 'Rozpoczecie procesu prazenia',\n",
    "             'dtRoastingFinish': 'Zakonczenie procesu prazenia',\n",
    "             'ikWh_counter_start': 'Stan licznika energii: poczatek prazenia [kWh]',\n",
    "             'ikWh_counter_finish': 'Stan licznika energii: koniec prazenia [kWh]',\n",
    "             'im3_counter_start': 'Stan licznika gazu: poczatek prazenia [m3]', 'im3_counter_finish' : 'Stan licznika gazu: koniec prazenia [m3]',  }, inplace=True)"
   ],
   "metadata": {
    "collapsed": false,
    "ExecuteTime": {
     "end_time": "2024-02-17T19:50:01.431337700Z",
     "start_time": "2024-02-17T19:50:01.414205700Z"
    }
   },
   "id": "825d4ed32b3a6316",
   "execution_count": 309
  },
  {
   "cell_type": "code",
   "outputs": [
    {
     "data": {
      "text/plain": "           ID              Data zapisu Ilosc uprazonej kawy bez strat [kg]  \\\n0     1206810  2024-01-10 09:06:00.880                                   0   \n1     1206809  2024-01-10 08:59:02.527                                   0   \n2     1206808  2024-01-10 08:57:40.677                                   0   \n3     1206807  2024-01-10 08:49:11.593                                   0   \n4     1206806  2024-01-10 08:48:14.330                                   0   \n...       ...                      ...                                 ...   \n9995  1196814  2023-11-20 03:12:48.087                                 251   \n9996  1196813  2023-11-20 03:09:00.397                               505,1   \n9997  1196812  2023-11-20 03:04:52.260                               251,9   \n9998  1196811  2023-11-20 03:00:06.253                               505,9   \n9999  1196810  2023-11-20 02:51:39.743                               508,1   \n\n      Numer zasypu  ID zlecenia  Numer Pieca  \\\n0                8       138624         4000   \n1                9       138623         3000   \n2                7       138624         4000   \n3                6       138624         4000   \n4                8       138623         3000   \n...            ...          ...          ...   \n9995            12       137655         3000   \n9996             7       137656         4000   \n9997            11       137655         3000   \n9998             6       137656         4000   \n9999             5       137656         4000   \n\n     Suma kawy wsypanej na poczatku prazenia [kg] PREV_ILOSC_PALONA  \\\n0                                               0                 0   \n1                                               0                 0   \n2                                               0                 0   \n3                                           600,1                 0   \n4                                           400,3                 0   \n...                                           ...               ...   \n9995                                          300               251   \n9996                                        600,1             505,1   \n9997                                        291,1             251,9   \n9998                                          600             505,9   \n9999                                        600,2             508,1   \n\n      Zbiornik kawy palonej Rozpoczecie procesu prazenia  ...  \\\n0                       639                          NaN  ...   \n1                       654                          NaN  ...   \n2                       639                          NaN  ...   \n3                       639      2024-01-10 09:05:27.200  ...   \n4                       654      2024-01-10 08:58:30.220  ...   \n...                     ...                          ...  ...   \n9995                    625      2023-11-20 03:18:51.253  ...   \n9996                    652      2023-11-20 03:32:32.793  ...   \n9997                    625      2023-11-20 03:11:40.280  ...   \n9998                    652      2023-11-20 03:22:33.460  ...   \n9999                    649      2023-11-20 03:08:12.943  ...   \n\n     Stan licznika energii: poczatek prazenia [kWh]  \\\n0                                               NaN   \n1                                               NaN   \n2                                               NaN   \n3                                         3858704.0   \n4                                         1115853.0   \n...                                             ...   \n9995                                      1001316.0   \n9996                                      3790029.0   \n9997                                      1001300.0   \n9998                                      3790016.0   \n9999                                      3789999.0   \n\n      Stan licznika energii: koniec prazenia [kWh]  \\\n0                                              NaN   \n1                                              NaN   \n2                                              NaN   \n3                                        3858708.0   \n4                                        1115876.0   \n...                                            ...   \n9995                                     1001329.0   \n9996                                     3790040.0   \n9997                                     1001312.0   \n9998                                     3790027.0   \n9999                                     3790011.0   \n\n      Stan licznika gazu: poczatek prazenia [m3]  \\\n0                                            NaN   \n1                                            NaN   \n2                                            NaN   \n3                                     15141219.0   \n4                                       502547.0   \n...                                          ...   \n9995                                    448732.0   \n9996                                   9303231.0   \n9997                                    448723.0   \n9998                                   9301924.0   \n9999                                   9300632.0   \n\n      Stan licznika gazu: koniec prazenia [m3]  ikWh_consumption  \\\n0                                          NaN               NaN   \n1                                          NaN               NaN   \n2                                          NaN               NaN   \n3                                   15141693.0               4.0   \n4                                     502555.0              23.0   \n...                                        ...               ...   \n9995                                  448741.0              13.0   \n9996                                 9304532.0              11.0   \n9997                                  448732.0              12.0   \n9998                                 9303231.0              11.0   \n9999                                 9301924.0              12.0   \n\n      im3_consumption  ikWh_counter1_start  ikWh_counter1_finish  \\\n0                 NaN                  NaN                   NaN   \n1                 NaN                  NaN                   NaN   \n2                 NaN                  NaN                   NaN   \n3               474.0           10921971.0            10922040.0   \n4                 8.0                  NaN                   NaN   \n...               ...                  ...                   ...   \n9995              9.0                  NaN                   NaN   \n9996           1301.0            9740934.0             9741095.0   \n9997              9.0                  NaN                   NaN   \n9998           1307.0            9740751.0             9740900.0   \n9999           1292.0            9740431.0             9740653.0   \n\n      ikWh_consumption1 ikWh_total_consumption  \n0                   NaN                      0  \n1                   NaN                      0  \n2                   NaN                      0  \n3                  0,69                   4,69  \n4                   NaN                     23  \n...                 ...                    ...  \n9995                NaN                     13  \n9996               1,61                  12,61  \n9997                NaN                     12  \n9998               1,49                  12,49  \n9999               2,22                  14,22  \n\n[10000 rows x 21 columns]",
      "text/html": "<div>\n<style scoped>\n    .dataframe tbody tr th:only-of-type {\n        vertical-align: middle;\n    }\n\n    .dataframe tbody tr th {\n        vertical-align: top;\n    }\n\n    .dataframe thead th {\n        text-align: right;\n    }\n</style>\n<table border=\"1\" class=\"dataframe\">\n  <thead>\n    <tr style=\"text-align: right;\">\n      <th></th>\n      <th>ID</th>\n      <th>Data zapisu</th>\n      <th>Ilosc uprazonej kawy bez strat [kg]</th>\n      <th>Numer zasypu</th>\n      <th>ID zlecenia</th>\n      <th>Numer Pieca</th>\n      <th>Suma kawy wsypanej na poczatku prazenia [kg]</th>\n      <th>PREV_ILOSC_PALONA</th>\n      <th>Zbiornik kawy palonej</th>\n      <th>Rozpoczecie procesu prazenia</th>\n      <th>...</th>\n      <th>Stan licznika energii: poczatek prazenia [kWh]</th>\n      <th>Stan licznika energii: koniec prazenia [kWh]</th>\n      <th>Stan licznika gazu: poczatek prazenia [m3]</th>\n      <th>Stan licznika gazu: koniec prazenia [m3]</th>\n      <th>ikWh_consumption</th>\n      <th>im3_consumption</th>\n      <th>ikWh_counter1_start</th>\n      <th>ikWh_counter1_finish</th>\n      <th>ikWh_consumption1</th>\n      <th>ikWh_total_consumption</th>\n    </tr>\n  </thead>\n  <tbody>\n    <tr>\n      <th>0</th>\n      <td>1206810</td>\n      <td>2024-01-10 09:06:00.880</td>\n      <td>0</td>\n      <td>8</td>\n      <td>138624</td>\n      <td>4000</td>\n      <td>0</td>\n      <td>0</td>\n      <td>639</td>\n      <td>NaN</td>\n      <td>...</td>\n      <td>NaN</td>\n      <td>NaN</td>\n      <td>NaN</td>\n      <td>NaN</td>\n      <td>NaN</td>\n      <td>NaN</td>\n      <td>NaN</td>\n      <td>NaN</td>\n      <td>NaN</td>\n      <td>0</td>\n    </tr>\n    <tr>\n      <th>1</th>\n      <td>1206809</td>\n      <td>2024-01-10 08:59:02.527</td>\n      <td>0</td>\n      <td>9</td>\n      <td>138623</td>\n      <td>3000</td>\n      <td>0</td>\n      <td>0</td>\n      <td>654</td>\n      <td>NaN</td>\n      <td>...</td>\n      <td>NaN</td>\n      <td>NaN</td>\n      <td>NaN</td>\n      <td>NaN</td>\n      <td>NaN</td>\n      <td>NaN</td>\n      <td>NaN</td>\n      <td>NaN</td>\n      <td>NaN</td>\n      <td>0</td>\n    </tr>\n    <tr>\n      <th>2</th>\n      <td>1206808</td>\n      <td>2024-01-10 08:57:40.677</td>\n      <td>0</td>\n      <td>7</td>\n      <td>138624</td>\n      <td>4000</td>\n      <td>0</td>\n      <td>0</td>\n      <td>639</td>\n      <td>NaN</td>\n      <td>...</td>\n      <td>NaN</td>\n      <td>NaN</td>\n      <td>NaN</td>\n      <td>NaN</td>\n      <td>NaN</td>\n      <td>NaN</td>\n      <td>NaN</td>\n      <td>NaN</td>\n      <td>NaN</td>\n      <td>0</td>\n    </tr>\n    <tr>\n      <th>3</th>\n      <td>1206807</td>\n      <td>2024-01-10 08:49:11.593</td>\n      <td>0</td>\n      <td>6</td>\n      <td>138624</td>\n      <td>4000</td>\n      <td>600,1</td>\n      <td>0</td>\n      <td>639</td>\n      <td>2024-01-10 09:05:27.200</td>\n      <td>...</td>\n      <td>3858704.0</td>\n      <td>3858708.0</td>\n      <td>15141219.0</td>\n      <td>15141693.0</td>\n      <td>4.0</td>\n      <td>474.0</td>\n      <td>10921971.0</td>\n      <td>10922040.0</td>\n      <td>0,69</td>\n      <td>4,69</td>\n    </tr>\n    <tr>\n      <th>4</th>\n      <td>1206806</td>\n      <td>2024-01-10 08:48:14.330</td>\n      <td>0</td>\n      <td>8</td>\n      <td>138623</td>\n      <td>3000</td>\n      <td>400,3</td>\n      <td>0</td>\n      <td>654</td>\n      <td>2024-01-10 08:58:30.220</td>\n      <td>...</td>\n      <td>1115853.0</td>\n      <td>1115876.0</td>\n      <td>502547.0</td>\n      <td>502555.0</td>\n      <td>23.0</td>\n      <td>8.0</td>\n      <td>NaN</td>\n      <td>NaN</td>\n      <td>NaN</td>\n      <td>23</td>\n    </tr>\n    <tr>\n      <th>...</th>\n      <td>...</td>\n      <td>...</td>\n      <td>...</td>\n      <td>...</td>\n      <td>...</td>\n      <td>...</td>\n      <td>...</td>\n      <td>...</td>\n      <td>...</td>\n      <td>...</td>\n      <td>...</td>\n      <td>...</td>\n      <td>...</td>\n      <td>...</td>\n      <td>...</td>\n      <td>...</td>\n      <td>...</td>\n      <td>...</td>\n      <td>...</td>\n      <td>...</td>\n      <td>...</td>\n    </tr>\n    <tr>\n      <th>9995</th>\n      <td>1196814</td>\n      <td>2023-11-20 03:12:48.087</td>\n      <td>251</td>\n      <td>12</td>\n      <td>137655</td>\n      <td>3000</td>\n      <td>300</td>\n      <td>251</td>\n      <td>625</td>\n      <td>2023-11-20 03:18:51.253</td>\n      <td>...</td>\n      <td>1001316.0</td>\n      <td>1001329.0</td>\n      <td>448732.0</td>\n      <td>448741.0</td>\n      <td>13.0</td>\n      <td>9.0</td>\n      <td>NaN</td>\n      <td>NaN</td>\n      <td>NaN</td>\n      <td>13</td>\n    </tr>\n    <tr>\n      <th>9996</th>\n      <td>1196813</td>\n      <td>2023-11-20 03:09:00.397</td>\n      <td>505,1</td>\n      <td>7</td>\n      <td>137656</td>\n      <td>4000</td>\n      <td>600,1</td>\n      <td>505,1</td>\n      <td>652</td>\n      <td>2023-11-20 03:32:32.793</td>\n      <td>...</td>\n      <td>3790029.0</td>\n      <td>3790040.0</td>\n      <td>9303231.0</td>\n      <td>9304532.0</td>\n      <td>11.0</td>\n      <td>1301.0</td>\n      <td>9740934.0</td>\n      <td>9741095.0</td>\n      <td>1,61</td>\n      <td>12,61</td>\n    </tr>\n    <tr>\n      <th>9997</th>\n      <td>1196812</td>\n      <td>2023-11-20 03:04:52.260</td>\n      <td>251,9</td>\n      <td>11</td>\n      <td>137655</td>\n      <td>3000</td>\n      <td>291,1</td>\n      <td>251,9</td>\n      <td>625</td>\n      <td>2023-11-20 03:11:40.280</td>\n      <td>...</td>\n      <td>1001300.0</td>\n      <td>1001312.0</td>\n      <td>448723.0</td>\n      <td>448732.0</td>\n      <td>12.0</td>\n      <td>9.0</td>\n      <td>NaN</td>\n      <td>NaN</td>\n      <td>NaN</td>\n      <td>12</td>\n    </tr>\n    <tr>\n      <th>9998</th>\n      <td>1196811</td>\n      <td>2023-11-20 03:00:06.253</td>\n      <td>505,9</td>\n      <td>6</td>\n      <td>137656</td>\n      <td>4000</td>\n      <td>600</td>\n      <td>505,9</td>\n      <td>652</td>\n      <td>2023-11-20 03:22:33.460</td>\n      <td>...</td>\n      <td>3790016.0</td>\n      <td>3790027.0</td>\n      <td>9301924.0</td>\n      <td>9303231.0</td>\n      <td>11.0</td>\n      <td>1307.0</td>\n      <td>9740751.0</td>\n      <td>9740900.0</td>\n      <td>1,49</td>\n      <td>12,49</td>\n    </tr>\n    <tr>\n      <th>9999</th>\n      <td>1196810</td>\n      <td>2023-11-20 02:51:39.743</td>\n      <td>508,1</td>\n      <td>5</td>\n      <td>137656</td>\n      <td>4000</td>\n      <td>600,2</td>\n      <td>508,1</td>\n      <td>649</td>\n      <td>2023-11-20 03:08:12.943</td>\n      <td>...</td>\n      <td>3789999.0</td>\n      <td>3790011.0</td>\n      <td>9300632.0</td>\n      <td>9301924.0</td>\n      <td>12.0</td>\n      <td>1292.0</td>\n      <td>9740431.0</td>\n      <td>9740653.0</td>\n      <td>2,22</td>\n      <td>14,22</td>\n    </tr>\n  </tbody>\n</table>\n<p>10000 rows × 21 columns</p>\n</div>"
     },
     "execution_count": 310,
     "metadata": {},
     "output_type": "execute_result"
    }
   ],
   "source": [
    "jde_data"
   ],
   "metadata": {
    "collapsed": false,
    "ExecuteTime": {
     "end_time": "2024-02-17T19:50:02.523059300Z",
     "start_time": "2024-02-17T19:50:02.468484600Z"
    }
   },
   "id": "5281918480dd50b7",
   "execution_count": 310
  },
  {
   "cell_type": "code",
   "outputs": [],
   "source": [],
   "metadata": {
    "collapsed": false
   },
   "id": "cdf38ffaf2ca365b"
  }
 ],
 "metadata": {
  "kernelspec": {
   "display_name": "Python 3",
   "language": "python",
   "name": "python3"
  },
  "language_info": {
   "codemirror_mode": {
    "name": "ipython",
    "version": 2
   },
   "file_extension": ".py",
   "mimetype": "text/x-python",
   "name": "python",
   "nbconvert_exporter": "python",
   "pygments_lexer": "ipython2",
   "version": "2.7.6"
  }
 },
 "nbformat": 4,
 "nbformat_minor": 5
}
